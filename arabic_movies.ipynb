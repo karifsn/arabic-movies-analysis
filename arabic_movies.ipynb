{
 "cells": [
  {
   "cell_type": "code",
   "execution_count": 421,
   "metadata": {},
   "outputs": [],
   "source": [
    "import numpy as np \n",
    "import pandas as pd\n",
    "import regex as re\n",
    "import unicodedata as ud\n",
    "import nltk\n",
    "from nltk.stem.isri import ISRIStemmer\n",
    "from nltk.tokenize import wordpunct_tokenize\n",
    "import gensim\n",
    "from gensim.models.doc2vec import Doc2Vec, TaggedDocument\n",
    "from sklearn.model_selection import train_test_split\n",
    "import multiprocessing\n",
    "from tqdm import tqdm\n",
    "from sklearn import utils\n",
    "from sklearn.metrics import accuracy_score, f1_score\n",
    "from sklearn.linear_model import LogisticRegression\n",
    "from sklearn.linear_model import SGDClassifier\n",
    "import matplotlib.pyplot as plt\n",
    "import numpy as np"
   ]
  },
  {
   "cell_type": "markdown",
   "metadata": {},
   "source": [
    "## Movies Datasets"
   ]
  },
  {
   "cell_type": "code",
   "execution_count": 68,
   "metadata": {},
   "outputs": [],
   "source": [
    "forties_df = pd.read_csv('1940s_data/1940s_movies.csv')\n",
    "fifties_df = pd.read_csv('1950s_data/1950s_movies.csv')\n",
    "sixties_df = pd.read_csv('1960s_data/1960s_movies.csv')\n",
    "seventies_df = pd.read_csv('1970s_data/1970s_movies.csv')"
   ]
  },
  {
   "cell_type": "markdown",
   "metadata": {},
   "source": [
    "#### EDA functions"
   ]
  },
  {
   "cell_type": "code",
   "execution_count": 4,
   "metadata": {
    "code_folding": [
     0
    ]
   },
   "outputs": [],
   "source": [
    "def describe_dataframe(df):\n",
    "    \n",
    "    for column in df.columns:\n",
    "        \n",
    "        print('Column Name: ', u'\\u202B' + str(column) + u'\\u202C')\n",
    "        print(df[column].describe())\n",
    "        print('\\n'+'-'*20)"
   ]
  },
  {
   "cell_type": "markdown",
   "metadata": {},
   "source": [
    "#### Cleansing functions"
   ]
  },
  {
   "cell_type": "code",
   "execution_count": 5,
   "metadata": {
    "code_folding": [
     0
    ]
   },
   "outputs": [],
   "source": [
    "def change_empty_entries_to_None(df):\n",
    "    for column in df.columns:\n",
    "        for row_index in range(df.shape[0]):\n",
    "            if '??' in str(df.loc[row_index, column]) or \\\n",
    "            df.loc[row_index, column] == 'nan' or \\\n",
    "            df.loc[row_index, column] == '-' or \\\n",
    "            type(df.loc[row_index, column]) == float:\n",
    "                    df.loc[row_index, column] = None\n",
    "    return df\n",
    "    "
   ]
  },
  {
   "cell_type": "code",
   "execution_count": 6,
   "metadata": {
    "code_folding": [
     0
    ]
   },
   "outputs": [],
   "source": [
    "def unify_date_format(df):\n",
    "    for row in range(df.shape[0]):\n",
    "        \n",
    "        release_day = df.iloc[row, 15]\n",
    "        if len(str(release_day)) == 4:\n",
    "            df.iloc[row,17] = release_day\n",
    "            df.iloc[row,16] = 'يناير'\n",
    "\n",
    "    return df"
   ]
  },
  {
   "cell_type": "code",
   "execution_count": 7,
   "metadata": {
    "code_folding": [
     0
    ]
   },
   "outputs": [],
   "source": [
    "def expand_release_date(df):\n",
    "    # line continuation operators  '\\' used for cleaner code\n",
    "    df[['اليوم', 'الشهر', 'السنة']] = \\\n",
    "    df['تاريخ العرض'].str.split(' ', expand = True)\n",
    "    \n",
    "    return df\n",
    "    "
   ]
  },
  {
   "cell_type": "code",
   "execution_count": 8,
   "metadata": {
    "code_folding": [
     0
    ]
   },
   "outputs": [],
   "source": [
    "def parse_line(line_to_parse):\n",
    "    \n",
    "            parsed_values = line_to_parse.split('||')\n",
    "            movie_name_date = parsed_values[0].strip(')').split('(')\n",
    "            \n",
    "            name = movie_name_date[0]\n",
    "            year = movie_name_date[1]\n",
    "            df_feature = parsed_values[1]\n",
    "            \n",
    "            return name, year, df_feature"
   ]
  },
  {
   "cell_type": "code",
   "execution_count": 9,
   "metadata": {
    "code_folding": [
     0
    ]
   },
   "outputs": [],
   "source": [
    "def add_scraped_features(df, file_path, column_name):\n",
    "    \n",
    "    with open(file_path, 'r') as filehandle:\n",
    "        \n",
    "        for line in filehandle:\n",
    "            \n",
    "            current_line = line[:-1]\n",
    "            name, year, df_feature = parse_line(current_line)\n",
    "            if(not(df_feature == '') \\\n",
    "              or (str(df_feature) == 'nan')):\n",
    "                df.loc[(df['اسم الفيلم'] == name) \\\n",
    "                     & (df['السنة'] == year), column_name] = df_feature     \n",
    "    return df"
   ]
  },
  {
   "cell_type": "code",
   "execution_count": 10,
   "metadata": {
    "code_folding": [
     0
    ]
   },
   "outputs": [],
   "source": [
    "def filter_foregin_movies(df, file_path):\n",
    "    \n",
    "    with open(file_path, 'r') as filehandle:\n",
    "            \n",
    "        for line in filehandle:\n",
    "            \n",
    "            current_line = line[:-1]\n",
    "            name, year, country = parse_line(current_line)\n",
    "           \n",
    "            if(not(('مصر') in country)):   \n",
    "                movie_index = df.loc[(df['اسم الفيلم'] == name) \\\n",
    "                                     & (df['السنة'] == year)].index\n",
    "                df.drop(inplace = True, index = movie_index)\n",
    "    return df"
   ]
  },
  {
   "cell_type": "code",
   "execution_count": 11,
   "metadata": {
    "code_folding": [
     0
    ]
   },
   "outputs": [],
   "source": [
    "def get_avg_short_movie_time(df):\n",
    "    \n",
    "    short_movies_durations = df[' مدة الفيلم (دقيقة)'].loc[ \\\n",
    "                                    df[' تصنيف الفيلم'] == 'ﻗﺼﻴﺮ']\n",
    "    avg_duration = np.average(list(short_movies_durations))\n",
    "    \n",
    "    return avg_duration"
   ]
  },
  {
   "cell_type": "code",
   "execution_count": 12,
   "metadata": {
    "code_folding": [
     0
    ]
   },
   "outputs": [],
   "source": [
    "def get_null_percentage(df):\n",
    "    \n",
    "    total_count = df.shape[0]\n",
    "    for column in df.columns:\n",
    "    \n",
    "        missing_count = df[column].isna().sum()\n",
    "        missing_percentage = (missing_count/total_count)*100\n",
    "        print('>> ' + u'\\u202B' + column + ': '+ str(round(missing_percentage)) + '%')"
   ]
  },
  {
   "cell_type": "code",
   "execution_count": 13,
   "metadata": {},
   "outputs": [],
   "source": [
    "actor_gender_dictionary = pd.read_csv('actor_gender_dictionary.csv')"
   ]
  },
  {
   "cell_type": "code",
   "execution_count": 14,
   "metadata": {},
   "outputs": [
    {
     "data": {
      "text/html": [
       "<div>\n",
       "<style scoped>\n",
       "    .dataframe tbody tr th:only-of-type {\n",
       "        vertical-align: middle;\n",
       "    }\n",
       "\n",
       "    .dataframe tbody tr th {\n",
       "        vertical-align: top;\n",
       "    }\n",
       "\n",
       "    .dataframe thead th {\n",
       "        text-align: right;\n",
       "    }\n",
       "</style>\n",
       "<table border=\"1\" class=\"dataframe\">\n",
       "  <thead>\n",
       "    <tr style=\"text-align: right;\">\n",
       "      <th></th>\n",
       "      <th>Unnamed: 0</th>\n",
       "      <th>name</th>\n",
       "      <th>gender</th>\n",
       "    </tr>\n",
       "  </thead>\n",
       "  <tbody>\n",
       "    <tr>\n",
       "      <th>480</th>\n",
       "      <td>481</td>\n",
       "      <td>سعاد فوزي</td>\n",
       "      <td>أنثى</td>\n",
       "    </tr>\n",
       "  </tbody>\n",
       "</table>\n",
       "</div>"
      ],
      "text/plain": [
       "     Unnamed: 0       name gender\n",
       "480         481  سعاد فوزي   أنثى"
      ]
     },
     "execution_count": 14,
     "metadata": {},
     "output_type": "execute_result"
    }
   ],
   "source": [
    "actor_gender_dictionary.sample()"
   ]
  },
  {
   "cell_type": "code",
   "execution_count": 15,
   "metadata": {},
   "outputs": [],
   "source": [
    "actor_gender_dictionary.drop(columns = ['Unnamed: 0'], inplace= True)"
   ]
  },
  {
   "cell_type": "code",
   "execution_count": 16,
   "metadata": {},
   "outputs": [
    {
     "data": {
      "text/html": [
       "<div>\n",
       "<style scoped>\n",
       "    .dataframe tbody tr th:only-of-type {\n",
       "        vertical-align: middle;\n",
       "    }\n",
       "\n",
       "    .dataframe tbody tr th {\n",
       "        vertical-align: top;\n",
       "    }\n",
       "\n",
       "    .dataframe thead th {\n",
       "        text-align: right;\n",
       "    }\n",
       "</style>\n",
       "<table border=\"1\" class=\"dataframe\">\n",
       "  <thead>\n",
       "    <tr style=\"text-align: right;\">\n",
       "      <th></th>\n",
       "      <th>name</th>\n",
       "      <th>gender</th>\n",
       "    </tr>\n",
       "  </thead>\n",
       "  <tbody>\n",
       "    <tr>\n",
       "      <th>1230</th>\n",
       "      <td>وحيد جلال</td>\n",
       "      <td>ذكر</td>\n",
       "    </tr>\n",
       "  </tbody>\n",
       "</table>\n",
       "</div>"
      ],
      "text/plain": [
       "           name gender\n",
       "1230  وحيد جلال    ذكر"
      ]
     },
     "execution_count": 16,
     "metadata": {},
     "output_type": "execute_result"
    }
   ],
   "source": [
    "actor_gender_dictionary.sample()"
   ]
  },
  {
   "cell_type": "code",
   "execution_count": 17,
   "metadata": {
    "code_folding": [
     0
    ]
   },
   "outputs": [],
   "source": [
    "def seperate_cast_by_gender(movies_df, gender_df = actor_gender_dictionary):\n",
    "    \n",
    "    movies_df['ممثلات'] = None\n",
    "    movies_df['ممثلون'] = None\n",
    "    \n",
    "    for row_index in range(movies_df.shape[0]):\n",
    "        \n",
    "        cast = movies_df.loc[row_index, 'تمثيل']\n",
    "        try:\n",
    "            actresses = []\n",
    "            actors = []\n",
    "            if( ',' in cast):\n",
    "                \n",
    "                cast = cast.split(',')\n",
    "    \n",
    "                for actor in cast:\n",
    "             \n",
    "                    gender = gender_df.loc[gender_df['name'] == actor]['gender']\n",
    "\n",
    "                    if(gender.values == 'ذكر'):\n",
    "                        actors.append(actor)\n",
    "                        \n",
    "                    if(gender.values == 'أنثى'):\n",
    "                        actresses.append(actor)\n",
    "                        \n",
    "                movies_df.at[row_index, 'ممثلات'] = actresses\n",
    "                movies_df.at[row_index, 'ممثلون'] = actors\n",
    "                        \n",
    "        except:\n",
    "                'Unassigned: ' + str(actor) + ' in row: ' + str(row_index)\n",
    "                \n",
    "        finally:\n",
    "                movies_df.at[row_index, 'ممثلات'] = actresses\n",
    "                movies_df.at[row_index, 'ممثلون'] = actors\n",
    "    return movies_df  "
   ]
  },
  {
   "cell_type": "markdown",
   "metadata": {},
   "source": [
    "### *_1940s Movies_*"
   ]
  },
  {
   "cell_type": "markdown",
   "metadata": {},
   "source": [
    "#### EDA"
   ]
  },
  {
   "cell_type": "code",
   "execution_count": 18,
   "metadata": {
    "scrolled": true
   },
   "outputs": [
    {
     "name": "stdout",
     "output_type": "stream",
     "text": [
      "Column Name:  ‫اسم الفيلم‬\n",
      "count             331\n",
      "unique            330\n",
      "top       خاتم سليمان\n",
      "freq                2\n",
      "Name: اسم الفيلم, dtype: object\n",
      "\n",
      "--------------------\n",
      "Column Name:  ‫تاريخ العرض‬\n",
      "count      331\n",
      "unique     216\n",
      "top       1946\n",
      "freq        24\n",
      "Name: تاريخ العرض, dtype: object\n",
      "\n",
      "--------------------\n",
      "Column Name:  ‫التصنيف‬\n",
      "count       127\n",
      "unique        9\n",
      "top       ??ا??\n",
      "freq         46\n",
      "Name: التصنيف, dtype: object\n",
      "\n",
      "--------------------\n",
      "Column Name:  ‫المدة‬\n",
      "count    331.000000\n",
      "mean     106.399698\n",
      "std       11.097976\n",
      "min       70.000000\n",
      "25%      100.000000\n",
      "50%      105.000000\n",
      "75%      110.000000\n",
      "max      152.000000\n",
      "Name: المدة, dtype: float64\n",
      "\n",
      "--------------------\n",
      "Column Name:  ‫ملخص‬\n",
      "count                                                   316\n",
      "unique                                                  316\n",
      "top       تدور قصة العمل حول الدكتور حلمي والذي يقع في ح...\n",
      "freq                                                      1\n",
      "Name: ملخص, dtype: object\n",
      "\n",
      "--------------------\n",
      "Column Name:  ‫تأليف‬\n",
      "count           308\n",
      "unique          206\n",
      "top       يوسف وهبي\n",
      "freq             17\n",
      "Name: تأليف, dtype: object\n",
      "\n",
      "--------------------\n",
      "Column Name:  ‫تمثيل‬\n",
      "count                                                   329\n",
      "unique                                                  329\n",
      "top       محمود إسماعيل,عبدالغني السيد,زوزو حمدي الحكيم,...\n",
      "freq                                                      1\n",
      "Name: تمثيل, dtype: object\n",
      "\n",
      "--------------------\n",
      "Column Name:  ‫إنتاج‬\n",
      "count            244\n",
      "unique           187\n",
      "top       نحّاس فيلم\n",
      "freq               8\n",
      "Name: إنتاج, dtype: object\n",
      "\n",
      "--------------------\n",
      "Column Name:  ‫تصوير‬\n",
      "count               282\n",
      "unique              153\n",
      "top       عبدالحليم نصر\n",
      "freq                 16\n",
      "Name: تصوير, dtype: object\n",
      "\n",
      "--------------------\n",
      "Column Name:  ‫مونتاج‬\n",
      "count            237\n",
      "unique            93\n",
      "top       جلال مصطفى\n",
      "freq              25\n",
      "Name: مونتاج, dtype: object\n",
      "\n",
      "--------------------\n",
      "Column Name:  ‫ديكور‬\n",
      "count                 202\n",
      "unique                121\n",
      "top       أنطوان بوليزويس\n",
      "freq                   12\n",
      "Name: ديكور, dtype: object\n",
      "\n",
      "--------------------\n",
      "Column Name:  ‫ملابس‬\n",
      "count            19\n",
      "unique           12\n",
      "top       قاسم وجدي\n",
      "freq              4\n",
      "Name: ملابس, dtype: object\n",
      "\n",
      "--------------------\n",
      "Column Name:  ‫موسيقى‬\n",
      "count           216\n",
      "unique          187\n",
      "top       محمد فوزي\n",
      "freq              7\n",
      "Name: موسيقى, dtype: object\n",
      "\n",
      "--------------------\n",
      "Column Name:  ‫إخراج‬\n",
      "count              311\n",
      "unique             178\n",
      "top       إبراهيم لاما\n",
      "freq                11\n",
      "Name: إخراج, dtype: object\n",
      "\n",
      "--------------------\n",
      "Column Name:  ‫توزيع‬\n",
      "count                   170\n",
      "unique                   40\n",
      "top       منتخبات بهنا فيلم\n",
      "freq                     67\n",
      "Name: توزيع, dtype: object\n",
      "\n",
      "--------------------\n"
     ]
    }
   ],
   "source": [
    "describe_dataframe(forties_df)"
   ]
  },
  {
   "cell_type": "code",
   "execution_count": 19,
   "metadata": {},
   "outputs": [
    {
     "data": {
      "text/html": [
       "<div>\n",
       "<style scoped>\n",
       "    .dataframe tbody tr th:only-of-type {\n",
       "        vertical-align: middle;\n",
       "    }\n",
       "\n",
       "    .dataframe tbody tr th {\n",
       "        vertical-align: top;\n",
       "    }\n",
       "\n",
       "    .dataframe thead th {\n",
       "        text-align: right;\n",
       "    }\n",
       "</style>\n",
       "<table border=\"1\" class=\"dataframe\">\n",
       "  <thead>\n",
       "    <tr style=\"text-align: right;\">\n",
       "      <th></th>\n",
       "      <th>اسم الفيلم</th>\n",
       "      <th>تاريخ العرض</th>\n",
       "      <th>التصنيف</th>\n",
       "      <th>المدة</th>\n",
       "      <th>ملخص</th>\n",
       "      <th>تأليف</th>\n",
       "      <th>تمثيل</th>\n",
       "      <th>إنتاج</th>\n",
       "      <th>تصوير</th>\n",
       "      <th>مونتاج</th>\n",
       "      <th>ديكور</th>\n",
       "      <th>ملابس</th>\n",
       "      <th>موسيقى</th>\n",
       "      <th>إخراج</th>\n",
       "      <th>توزيع</th>\n",
       "    </tr>\n",
       "  </thead>\n",
       "  <tbody>\n",
       "    <tr>\n",
       "      <th>174</th>\n",
       "      <td>خاتم سليمان</td>\n",
       "      <td>1946</td>\n",
       "      <td>NaN</td>\n",
       "      <td>103.2</td>\n",
       "      <td>NaN</td>\n",
       "      <td>أبو بثينة</td>\n",
       "      <td>أمينة شريف</td>\n",
       "      <td>أفلام حرب</td>\n",
       "      <td>NaN</td>\n",
       "      <td>NaN</td>\n",
       "      <td>NaN</td>\n",
       "      <td>NaN</td>\n",
       "      <td>NaN</td>\n",
       "      <td>فؤاد شبل</td>\n",
       "      <td>NaN</td>\n",
       "    </tr>\n",
       "    <tr>\n",
       "      <th>227</th>\n",
       "      <td>خاتم سليمان</td>\n",
       "      <td>1947</td>\n",
       "      <td>ا????ا??</td>\n",
       "      <td>117.0</td>\n",
       "      <td>تناول الفيلم في إطار من الخيال، قصة المعلم بيو...</td>\n",
       "      <td>حسن رمزي,السيد زيادة</td>\n",
       "      <td>ليلى مراد,يحيى شاهين,زكي رستم,نيللي مظلوم,ثريا...</td>\n",
       "      <td>أفلام النصر (محمد حسن رمزي وشركاه)</td>\n",
       "      <td>مصطفى حسن,وحيد فريد</td>\n",
       "      <td>ألبير نجيب,وفيقة أبو جبل</td>\n",
       "      <td>حبيب خوري</td>\n",
       "      <td>قاسم وجدي</td>\n",
       "      <td>حسين السيد,السيد زيادة,رياض السنباطي,محمد القص...</td>\n",
       "      <td>حسن رمزي,ألبير نجيب,عبدالرحمن شريف</td>\n",
       "      <td>NaN</td>\n",
       "    </tr>\n",
       "  </tbody>\n",
       "</table>\n",
       "</div>"
      ],
      "text/plain": [
       "      اسم الفيلم تاريخ العرض   التصنيف  المدة  \\\n",
       "174  خاتم سليمان        1946       NaN  103.2   \n",
       "227  خاتم سليمان        1947  ا????ا??  117.0   \n",
       "\n",
       "                                                  ملخص                 تأليف  \\\n",
       "174                                                NaN             أبو بثينة   \n",
       "227  تناول الفيلم في إطار من الخيال، قصة المعلم بيو...  حسن رمزي,السيد زيادة   \n",
       "\n",
       "                                                 تمثيل  \\\n",
       "174                                         أمينة شريف   \n",
       "227  ليلى مراد,يحيى شاهين,زكي رستم,نيللي مظلوم,ثريا...   \n",
       "\n",
       "                                  إنتاج                تصوير  \\\n",
       "174                           أفلام حرب                  NaN   \n",
       "227  أفلام النصر (محمد حسن رمزي وشركاه)  مصطفى حسن,وحيد فريد   \n",
       "\n",
       "                       مونتاج      ديكور      ملابس  \\\n",
       "174                       NaN        NaN        NaN   \n",
       "227  ألبير نجيب,وفيقة أبو جبل  حبيب خوري  قاسم وجدي   \n",
       "\n",
       "                                                موسيقى  \\\n",
       "174                                                NaN   \n",
       "227  حسين السيد,السيد زيادة,رياض السنباطي,محمد القص...   \n",
       "\n",
       "                                  إخراج توزيع  \n",
       "174                            فؤاد شبل   NaN  \n",
       "227  حسن رمزي,ألبير نجيب,عبدالرحمن شريف   NaN  "
      ]
     },
     "execution_count": 19,
     "metadata": {},
     "output_type": "execute_result"
    }
   ],
   "source": [
    "forties_df.loc[forties_df['اسم الفيلم'] == 'خاتم سليمان']"
   ]
  },
  {
   "cell_type": "code",
   "execution_count": 20,
   "metadata": {},
   "outputs": [
    {
     "data": {
      "text/plain": [
       "اسم الفيلم      object\n",
       "تاريخ العرض     object\n",
       "التصنيف         object\n",
       "المدة          float64\n",
       "ملخص            object\n",
       "تأليف           object\n",
       "تمثيل           object\n",
       "إنتاج           object\n",
       "تصوير           object\n",
       "مونتاج          object\n",
       "ديكور           object\n",
       "ملابس           object\n",
       "موسيقى          object\n",
       "إخراج           object\n",
       "توزيع           object\n",
       "dtype: object"
      ]
     },
     "execution_count": 20,
     "metadata": {},
     "output_type": "execute_result"
    }
   ],
   "source": [
    "forties_df.dtypes"
   ]
  },
  {
   "cell_type": "code",
   "execution_count": 21,
   "metadata": {
    "collapsed": true
   },
   "outputs": [
    {
     "data": {
      "text/plain": [
       "??ا??       46\n",
       "???????     26\n",
       "??????      25\n",
       "ا????ا??    16\n",
       "?????        7\n",
       "????         2\n",
       "?????ا?      2\n",
       "تاريخي       2\n",
       "???          1\n",
       "Name: التصنيف, dtype: int64"
      ]
     },
     "execution_count": 21,
     "metadata": {},
     "output_type": "execute_result"
    }
   ],
   "source": [
    "forties_df['التصنيف'].value_counts()"
   ]
  },
  {
   "cell_type": "code",
   "execution_count": 22,
   "metadata": {},
   "outputs": [
    {
     "name": "stdout",
     "output_type": "stream",
     "text": [
      ">> ‫اسم الفيلم: 0%\n",
      ">> ‫تاريخ العرض: 0%\n",
      ">> ‫التصنيف: 62%\n",
      ">> ‫المدة: 0%\n",
      ">> ‫ملخص: 5%\n",
      ">> ‫تأليف: 7%\n",
      ">> ‫تمثيل: 1%\n",
      ">> ‫إنتاج: 26%\n",
      ">> ‫تصوير: 15%\n",
      ">> ‫مونتاج: 28%\n",
      ">> ‫ديكور: 39%\n",
      ">> ‫ملابس: 94%\n",
      ">> ‫موسيقى: 35%\n",
      ">> ‫إخراج: 6%\n",
      ">> ‫توزيع: 49%\n"
     ]
    }
   ],
   "source": [
    "get_null_percentage(forties_df)"
   ]
  },
  {
   "cell_type": "markdown",
   "metadata": {},
   "source": [
    "#### Cleansing"
   ]
  },
  {
   "cell_type": "code",
   "execution_count": 23,
   "metadata": {},
   "outputs": [],
   "source": [
    "forties_df = change_empty_entries_to_None(forties_df)"
   ]
  },
  {
   "cell_type": "code",
   "execution_count": 24,
   "metadata": {},
   "outputs": [
    {
     "data": {
      "text/plain": [
       "تاريخي    2\n",
       "Name: التصنيف, dtype: int64"
      ]
     },
     "execution_count": 24,
     "metadata": {},
     "output_type": "execute_result"
    }
   ],
   "source": [
    "forties_df['التصنيف'].value_counts()"
   ]
  },
  {
   "cell_type": "code",
   "execution_count": 25,
   "metadata": {},
   "outputs": [],
   "source": [
    "# forties_df = check_for_non_numeric_types(forties_df, 'المدة')"
   ]
  },
  {
   "cell_type": "code",
   "execution_count": 26,
   "metadata": {},
   "outputs": [],
   "source": [
    "expanded_date_40s = forties_df.copy(deep = True)"
   ]
  },
  {
   "cell_type": "code",
   "execution_count": 27,
   "metadata": {},
   "outputs": [],
   "source": [
    "expanded_date_40s = expand_release_date(forties_df)\n",
    "expanded_date_40s = unify_date_format(expanded_date_40s)"
   ]
  },
  {
   "cell_type": "code",
   "execution_count": 28,
   "metadata": {},
   "outputs": [],
   "source": [
    "expanded_date_40s = expanded_date_40s.drop(columns=['تاريخ العرض','اليوم'])\n",
    "expanded_date_40s['التقييم'] = None"
   ]
  },
  {
   "cell_type": "code",
   "execution_count": 29,
   "metadata": {},
   "outputs": [],
   "source": [
    "foreigns_filtered_40s  = expanded_date_40s.copy(deep = True)"
   ]
  },
  {
   "cell_type": "code",
   "execution_count": 30,
   "metadata": {},
   "outputs": [],
   "source": [
    "foreigns_filtered_40s = filter_foregin_movies(expanded_date_40s \\\n",
    "                                                , '1940s_data/countries_1940s.txt')"
   ]
  },
  {
   "cell_type": "code",
   "execution_count": 31,
   "metadata": {},
   "outputs": [],
   "source": [
    "genre_added_40s = foreigns_filtered_40s.copy(deep = True)"
   ]
  },
  {
   "cell_type": "code",
   "execution_count": 32,
   "metadata": {},
   "outputs": [],
   "source": [
    "genre_added_40s = add_scraped_features(foreigns_filtered_40s \\\n",
    "                                          , '1940s_data/1940s_genres.txt' \\\n",
    "                                         , 'التصنيف')"
   ]
  },
  {
   "cell_type": "code",
   "execution_count": 33,
   "metadata": {},
   "outputs": [
    {
     "data": {
      "text/plain": [
       "ﺩﺭاﻣﺎ                75\n",
       "ﻛﻮﻣﻴﺪﻱ               23\n",
       "موسيقي / استعراضي    13\n",
       "ﺭﻭﻣﺎﻧﺴﻲ              12\n",
       "ﻋﺎﺋﻠﻲ                 2\n",
       "ﺟﺮﻳﻤﺔ                 2\n",
       "ﺗﺸﻮﻳﻖ ﻭﺇﺛﺎﺭﺓ          2\n",
       "ﺣﺮﺏ                   1\n",
       "ﺧﻴﺎﻝ                  1\n",
       "ﻣﻐﺎﻣﺮاﺕ               1\n",
       "Name: التصنيف, dtype: int64"
      ]
     },
     "execution_count": 33,
     "metadata": {},
     "output_type": "execute_result"
    }
   ],
   "source": [
    "genre_added_40s['التصنيف'].value_counts()"
   ]
  },
  {
   "cell_type": "code",
   "execution_count": 34,
   "metadata": {},
   "outputs": [],
   "source": [
    "ratings_added_40s = genre_added_40s.copy(deep = True)"
   ]
  },
  {
   "cell_type": "code",
   "execution_count": 35,
   "metadata": {},
   "outputs": [],
   "source": [
    "ratings_added_40s = add_scraped_features(genre_added_40s \\\n",
    "                                          , '1940s_data/1940s_ratings.txt' \\\n",
    "                                         , 'التقييم')"
   ]
  },
  {
   "cell_type": "code",
   "execution_count": 36,
   "metadata": {},
   "outputs": [],
   "source": [
    "synopsis_added_40s = ratings_added_40s.copy(deep = True)"
   ]
  },
  {
   "cell_type": "code",
   "execution_count": 37,
   "metadata": {
    "scrolled": true
   },
   "outputs": [],
   "source": [
    "synopsis_added_40s = add_scraped_features(ratings_added_40s \\\n",
    "                                          , '1940s_data/1940s_synopses.txt' \\\n",
    "                                         , 'ملخص')"
   ]
  },
  {
   "cell_type": "code",
   "execution_count": 38,
   "metadata": {},
   "outputs": [],
   "source": [
    "synopsis_added_40s = synopsis_added_40s.reset_index(drop=True)"
   ]
  },
  {
   "cell_type": "code",
   "execution_count": 39,
   "metadata": {},
   "outputs": [
    {
     "data": {
      "text/html": [
       "<div>\n",
       "<style scoped>\n",
       "    .dataframe tbody tr th:only-of-type {\n",
       "        vertical-align: middle;\n",
       "    }\n",
       "\n",
       "    .dataframe tbody tr th {\n",
       "        vertical-align: top;\n",
       "    }\n",
       "\n",
       "    .dataframe thead th {\n",
       "        text-align: right;\n",
       "    }\n",
       "</style>\n",
       "<table border=\"1\" class=\"dataframe\">\n",
       "  <thead>\n",
       "    <tr style=\"text-align: right;\">\n",
       "      <th></th>\n",
       "      <th>اسم الفيلم</th>\n",
       "      <th>التصنيف</th>\n",
       "      <th>المدة</th>\n",
       "      <th>ملخص</th>\n",
       "      <th>تأليف</th>\n",
       "      <th>تمثيل</th>\n",
       "      <th>إنتاج</th>\n",
       "      <th>تصوير</th>\n",
       "      <th>مونتاج</th>\n",
       "      <th>ديكور</th>\n",
       "      <th>ملابس</th>\n",
       "      <th>موسيقى</th>\n",
       "      <th>إخراج</th>\n",
       "      <th>توزيع</th>\n",
       "      <th>الشهر</th>\n",
       "      <th>السنة</th>\n",
       "      <th>التقييم</th>\n",
       "    </tr>\n",
       "  </thead>\n",
       "  <tbody>\n",
       "    <tr>\n",
       "      <th>225</th>\n",
       "      <td>خاتم سليمان</td>\n",
       "      <td>ﺩﺭاﻣﺎ</td>\n",
       "      <td>117.0</td>\n",
       "      <td>يتناول الفيلم في إطار من الخيال، قصة المعلم بي...</td>\n",
       "      <td>حسن رمزي,السيد زيادة</td>\n",
       "      <td>ليلى مراد,يحيى شاهين,زكي رستم,نيللي مظلوم,ثريا...</td>\n",
       "      <td>أفلام النصر (محمد حسن رمزي وشركاه)</td>\n",
       "      <td>مصطفى حسن,وحيد فريد</td>\n",
       "      <td>ألبير نجيب,وفيقة أبو جبل</td>\n",
       "      <td>حبيب خوري</td>\n",
       "      <td>قاسم وجدي</td>\n",
       "      <td>حسين السيد,السيد زيادة,رياض السنباطي,محمد القص...</td>\n",
       "      <td>حسن رمزي,ألبير نجيب,عبدالرحمن شريف</td>\n",
       "      <td>None</td>\n",
       "      <td>يناير</td>\n",
       "      <td>1947</td>\n",
       "      <td>5.1</td>\n",
       "    </tr>\n",
       "  </tbody>\n",
       "</table>\n",
       "</div>"
      ],
      "text/plain": [
       "      اسم الفيلم التصنيف  المدة  \\\n",
       "225  خاتم سليمان   ﺩﺭاﻣﺎ  117.0   \n",
       "\n",
       "                                                  ملخص                 تأليف  \\\n",
       "225  يتناول الفيلم في إطار من الخيال، قصة المعلم بي...  حسن رمزي,السيد زيادة   \n",
       "\n",
       "                                                 تمثيل  \\\n",
       "225  ليلى مراد,يحيى شاهين,زكي رستم,نيللي مظلوم,ثريا...   \n",
       "\n",
       "                                  إنتاج                تصوير  \\\n",
       "225  أفلام النصر (محمد حسن رمزي وشركاه)  مصطفى حسن,وحيد فريد   \n",
       "\n",
       "                       مونتاج      ديكور      ملابس  \\\n",
       "225  ألبير نجيب,وفيقة أبو جبل  حبيب خوري  قاسم وجدي   \n",
       "\n",
       "                                                موسيقى  \\\n",
       "225  حسين السيد,السيد زيادة,رياض السنباطي,محمد القص...   \n",
       "\n",
       "                                  إخراج توزيع  الشهر السنة التقييم  \n",
       "225  حسن رمزي,ألبير نجيب,عبدالرحمن شريف  None  يناير  1947     5.1  "
      ]
     },
     "execution_count": 39,
     "metadata": {},
     "output_type": "execute_result"
    }
   ],
   "source": [
    "synopsis_added_40s.sample()"
   ]
  },
  {
   "cell_type": "code",
   "execution_count": 40,
   "metadata": {},
   "outputs": [
    {
     "name": "stdout",
     "output_type": "stream",
     "text": [
      ">> ‫اسم الفيلم: 0%\n",
      ">> ‫التصنيف: 60%\n",
      ">> ‫المدة: 0%\n",
      ">> ‫ملخص: 2%\n",
      ">> ‫تأليف: 7%\n",
      ">> ‫تمثيل: 1%\n",
      ">> ‫إنتاج: 26%\n",
      ">> ‫تصوير: 14%\n",
      ">> ‫مونتاج: 28%\n",
      ">> ‫ديكور: 39%\n",
      ">> ‫ملابس: 94%\n",
      ">> ‫موسيقى: 35%\n",
      ">> ‫إخراج: 6%\n",
      ">> ‫توزيع: 48%\n",
      ">> ‫الشهر: 0%\n",
      ">> ‫السنة: 0%\n",
      ">> ‫التقييم: 5%\n"
     ]
    }
   ],
   "source": [
    "get_null_percentage(synopsis_added_40s)"
   ]
  },
  {
   "cell_type": "code",
   "execution_count": 41,
   "metadata": {},
   "outputs": [],
   "source": [
    "synopsis_added_40s['التقييم'] = synopsis_added_40s['التقييم'].astype(float)"
   ]
  },
  {
   "cell_type": "code",
   "execution_count": 42,
   "metadata": {
    "collapsed": true
   },
   "outputs": [
    {
     "name": "stderr",
     "output_type": "stream",
     "text": [
      "/Users/karefsn/Development/anaconda3/lib/python3.7/site-packages/ipykernel_launcher.py:20: DeprecationWarning: The truth value of an empty array is ambiguous. Returning False, but in future this will result in an error. Use `array.size > 0` to check that an array is not empty.\n",
      "/Users/karefsn/Development/anaconda3/lib/python3.7/site-packages/ipykernel_launcher.py:23: DeprecationWarning: The truth value of an empty array is ambiguous. Returning False, but in future this will result in an error. Use `array.size > 0` to check that an array is not empty.\n"
     ]
    }
   ],
   "source": [
    "cast_seperated_40s = seperate_cast_by_gender(synopsis_added_40s)"
   ]
  },
  {
   "cell_type": "code",
   "execution_count": 43,
   "metadata": {},
   "outputs": [],
   "source": [
    "cast_seperated_40s.drop(inplace = True, columns = ['تمثيل'])"
   ]
  },
  {
   "cell_type": "code",
   "execution_count": 44,
   "metadata": {},
   "outputs": [
    {
     "data": {
      "text/html": [
       "<div>\n",
       "<style scoped>\n",
       "    .dataframe tbody tr th:only-of-type {\n",
       "        vertical-align: middle;\n",
       "    }\n",
       "\n",
       "    .dataframe tbody tr th {\n",
       "        vertical-align: top;\n",
       "    }\n",
       "\n",
       "    .dataframe thead th {\n",
       "        text-align: right;\n",
       "    }\n",
       "</style>\n",
       "<table border=\"1\" class=\"dataframe\">\n",
       "  <thead>\n",
       "    <tr style=\"text-align: right;\">\n",
       "      <th></th>\n",
       "      <th>اسم الفيلم</th>\n",
       "      <th>التصنيف</th>\n",
       "      <th>المدة</th>\n",
       "      <th>ملخص</th>\n",
       "      <th>تأليف</th>\n",
       "      <th>إنتاج</th>\n",
       "      <th>تصوير</th>\n",
       "      <th>مونتاج</th>\n",
       "      <th>ديكور</th>\n",
       "      <th>ملابس</th>\n",
       "      <th>موسيقى</th>\n",
       "      <th>إخراج</th>\n",
       "      <th>توزيع</th>\n",
       "      <th>الشهر</th>\n",
       "      <th>السنة</th>\n",
       "      <th>التقييم</th>\n",
       "      <th>ممثلات</th>\n",
       "      <th>ممثلون</th>\n",
       "    </tr>\n",
       "  </thead>\n",
       "  <tbody>\n",
       "    <tr>\n",
       "      <th>313</th>\n",
       "      <td>شارع البهلوان</td>\n",
       "      <td>ﺩﺭاﻣﺎ</td>\n",
       "      <td>99.0</td>\n",
       "      <td>(سعيد) متزوج من (أمينة) ويغار عليها غيرة حمقاء...</td>\n",
       "      <td>عبدالحليم مرسى,صلاح أبو سيف,علي الزرقاني</td>\n",
       "      <td>أفلام جبرائيل تلحمي,جبرائيل تلحمي,السعيد صادق</td>\n",
       "      <td>وديد سري,مصطفى حسن</td>\n",
       "      <td>صلاح عز الدين,اميل بحرى</td>\n",
       "      <td>ستوديو مصر,عثمان حسين,أنطوان بوليزويس,نجيب خوري</td>\n",
       "      <td>None</td>\n",
       "      <td>فتحي قورة,محمد حسن الشجاعي</td>\n",
       "      <td>صلاح أبو سيف,إبراهيم المنياوى,محمود فريد,حمادة...</td>\n",
       "      <td>أفلام النيل (جبرائيل تلحمى)</td>\n",
       "      <td>ديسمبر</td>\n",
       "      <td>1949</td>\n",
       "      <td>6.5</td>\n",
       "      <td>[كاميليا, لولا صدقي, زينات صدقي, حسنة سليمان, ...</td>\n",
       "      <td>[كمال الشناوي, حسن فايق, إسماعيل يس, عبدالحميد...</td>\n",
       "    </tr>\n",
       "  </tbody>\n",
       "</table>\n",
       "</div>"
      ],
      "text/plain": [
       "        اسم الفيلم التصنيف  المدة  \\\n",
       "313  شارع البهلوان   ﺩﺭاﻣﺎ   99.0   \n",
       "\n",
       "                                                  ملخص  \\\n",
       "313  (سعيد) متزوج من (أمينة) ويغار عليها غيرة حمقاء...   \n",
       "\n",
       "                                        تأليف  \\\n",
       "313  عبدالحليم مرسى,صلاح أبو سيف,علي الزرقاني   \n",
       "\n",
       "                                             إنتاج               تصوير  \\\n",
       "313  أفلام جبرائيل تلحمي,جبرائيل تلحمي,السعيد صادق  وديد سري,مصطفى حسن   \n",
       "\n",
       "                      مونتاج                                            ديكور  \\\n",
       "313  صلاح عز الدين,اميل بحرى  ستوديو مصر,عثمان حسين,أنطوان بوليزويس,نجيب خوري   \n",
       "\n",
       "    ملابس                      موسيقى  \\\n",
       "313  None  فتحي قورة,محمد حسن الشجاعي   \n",
       "\n",
       "                                                 إخراج  \\\n",
       "313  صلاح أبو سيف,إبراهيم المنياوى,محمود فريد,حمادة...   \n",
       "\n",
       "                           توزيع   الشهر السنة  التقييم  \\\n",
       "313  أفلام النيل (جبرائيل تلحمى)  ديسمبر  1949      6.5   \n",
       "\n",
       "                                                ممثلات  \\\n",
       "313  [كاميليا, لولا صدقي, زينات صدقي, حسنة سليمان, ...   \n",
       "\n",
       "                                                ممثلون  \n",
       "313  [كمال الشناوي, حسن فايق, إسماعيل يس, عبدالحميد...  "
      ]
     },
     "execution_count": 44,
     "metadata": {},
     "output_type": "execute_result"
    }
   ],
   "source": [
    "cast_seperated_40s.sample()"
   ]
  },
  {
   "cell_type": "code",
   "execution_count": 45,
   "metadata": {},
   "outputs": [],
   "source": [
    "cast_seperated_40s.drop(columns = ['توزيع', 'ملابس', 'ديكور', 'مونتاج', \\\n",
    "                         'تصوير', 'موسيقى', 'إنتاج'], inplace = True)"
   ]
  },
  {
   "cell_type": "code",
   "execution_count": 46,
   "metadata": {},
   "outputs": [],
   "source": [
    "movies_40s_df = cast_seperated_40s[['اسم الفيلم', 'الشهر', 'السنة', 'التصنيف',\\\n",
    "                                    'التقييم', 'المدة', 'ملخص', 'ممثلات', 'ممثلون',\n",
    "                                    'تأليف', 'إخراج']]"
   ]
  },
  {
   "cell_type": "code",
   "execution_count": 47,
   "metadata": {},
   "outputs": [
    {
     "data": {
      "text/html": [
       "<div>\n",
       "<style scoped>\n",
       "    .dataframe tbody tr th:only-of-type {\n",
       "        vertical-align: middle;\n",
       "    }\n",
       "\n",
       "    .dataframe tbody tr th {\n",
       "        vertical-align: top;\n",
       "    }\n",
       "\n",
       "    .dataframe thead th {\n",
       "        text-align: right;\n",
       "    }\n",
       "</style>\n",
       "<table border=\"1\" class=\"dataframe\">\n",
       "  <thead>\n",
       "    <tr style=\"text-align: right;\">\n",
       "      <th></th>\n",
       "      <th>اسم الفيلم</th>\n",
       "      <th>الشهر</th>\n",
       "      <th>السنة</th>\n",
       "      <th>التصنيف</th>\n",
       "      <th>التقييم</th>\n",
       "      <th>المدة</th>\n",
       "      <th>ملخص</th>\n",
       "      <th>ممثلات</th>\n",
       "      <th>ممثلون</th>\n",
       "      <th>تأليف</th>\n",
       "      <th>إخراج</th>\n",
       "    </tr>\n",
       "  </thead>\n",
       "  <tbody>\n",
       "    <tr>\n",
       "      <th>119</th>\n",
       "      <td>فيلم بين نارين</td>\n",
       "      <td>يناير</td>\n",
       "      <td>1945</td>\n",
       "      <td>None</td>\n",
       "      <td>NaN</td>\n",
       "      <td>105.7</td>\n",
       "      <td>None</td>\n",
       "      <td>[]</td>\n",
       "      <td>[]</td>\n",
       "      <td>None</td>\n",
       "      <td>يحيى نجاتي</td>\n",
       "    </tr>\n",
       "  </tbody>\n",
       "</table>\n",
       "</div>"
      ],
      "text/plain": [
       "         اسم الفيلم  الشهر السنة التصنيف  التقييم  المدة  ملخص ممثلات ممثلون  \\\n",
       "119  فيلم بين نارين  يناير  1945    None      NaN  105.7  None     []     []   \n",
       "\n",
       "    تأليف       إخراج  \n",
       "119  None  يحيى نجاتي  "
      ]
     },
     "execution_count": 47,
     "metadata": {},
     "output_type": "execute_result"
    }
   ],
   "source": [
    "movies_40s_df.sample()"
   ]
  },
  {
   "cell_type": "markdown",
   "metadata": {},
   "source": [
    "### *_1950s Movies_*"
   ]
  },
  {
   "cell_type": "code",
   "execution_count": 70,
   "metadata": {
    "scrolled": true
   },
   "outputs": [
    {
     "data": {
      "text/html": [
       "<div>\n",
       "<style scoped>\n",
       "    .dataframe tbody tr th:only-of-type {\n",
       "        vertical-align: middle;\n",
       "    }\n",
       "\n",
       "    .dataframe tbody tr th {\n",
       "        vertical-align: top;\n",
       "    }\n",
       "\n",
       "    .dataframe thead th {\n",
       "        text-align: right;\n",
       "    }\n",
       "</style>\n",
       "<table border=\"1\" class=\"dataframe\">\n",
       "  <thead>\n",
       "    <tr style=\"text-align: right;\">\n",
       "      <th></th>\n",
       "      <th>اسم الفيلم</th>\n",
       "      <th>تاريخ العرض</th>\n",
       "      <th>التصنيف</th>\n",
       "      <th>المدة</th>\n",
       "      <th>ملخص</th>\n",
       "      <th>تأليف</th>\n",
       "      <th>تمثيل</th>\n",
       "      <th>إنتاج</th>\n",
       "      <th>تصوير</th>\n",
       "      <th>مونتاج</th>\n",
       "      <th>ديكور</th>\n",
       "      <th>ملابس</th>\n",
       "      <th>موسيقى</th>\n",
       "      <th>إخراج</th>\n",
       "      <th>توزيع</th>\n",
       "    </tr>\n",
       "  </thead>\n",
       "  <tbody>\n",
       "    <tr>\n",
       "      <th>168</th>\n",
       "      <td>طريق السعادة</td>\n",
       "      <td>16 مارس 1953</td>\n",
       "      <td>None</td>\n",
       "      <td>100.0</td>\n",
       "      <td>يقع الموظف الصغير (علي) في مشاكل، بسبب طموح اب...</td>\n",
       "      <td>السيد زيادة,كامل الحفناوي</td>\n",
       "      <td>كمال الشناوي,ماجدة,زهرة العلا,فريد شوقي,شكري س...</td>\n",
       "      <td>ستوديو الأهرام (ستوديوهات الأهرام),أفلام الحرية</td>\n",
       "      <td>محمود نصر</td>\n",
       "      <td>مارسيل صالح,أحمد إسماعيل</td>\n",
       "      <td>دنجل (عجمي عبدالرحمن)</td>\n",
       "      <td>None</td>\n",
       "      <td>None</td>\n",
       "      <td>كامل الحفناوي,إبراهيم السيد</td>\n",
       "      <td>None</td>\n",
       "    </tr>\n",
       "    <tr>\n",
       "      <th>32</th>\n",
       "      <td>ياسمين</td>\n",
       "      <td>11 ديسمبر 1950</td>\n",
       "      <td>None</td>\n",
       "      <td>122.0</td>\n",
       "      <td>رب أسرة لا يحب خلف البنات تنجب زوجته ابنة أخرى...</td>\n",
       "      <td>أبو السعود الإبياري,أنور وجدي</td>\n",
       "      <td>أنور وجدي,مديحة يسري,زكي رستم,فيروز,عبدالعزيز ...</td>\n",
       "      <td>الأفلام المتحدة (أنور وجدي وشركاه)</td>\n",
       "      <td>عبدالحليم نصر,محمود بكر,حسن داهش</td>\n",
       "      <td>كمال الشيخ,عبدالمنعم توفيق,زينب عويس</td>\n",
       "      <td>أنطوان بوليزويس,عثمان حسين,نجيب خوري</td>\n",
       "      <td>None</td>\n",
       "      <td>أبو السعود الإبياري,منير مراد,محمد البكار,محمو...</td>\n",
       "      <td>أنور وجدي,حسن الصيفي,منير مراد</td>\n",
       "      <td>عبد الفتاح هريدي</td>\n",
       "    </tr>\n",
       "    <tr>\n",
       "      <th>264</th>\n",
       "      <td>تحيا الرجالة</td>\n",
       "      <td>16 اكتوبر 1954</td>\n",
       "      <td>None</td>\n",
       "      <td>105.0</td>\n",
       "      <td>تدور الأحداث حول الشقيقتين (نوجة) و(بطة) اللتي...</td>\n",
       "      <td>كامل الحفناوي,السيد بدير</td>\n",
       "      <td>شريفة ماهر,كارم محمود,سميحة توفيق,محمود شكوكو,...</td>\n",
       "      <td>ستوديو جيزة,إميل يزبك,إيهاب حسن</td>\n",
       "      <td>زكريا منصور,عبدالمنعم بهنسي,حسن خليل,عبدالحليم...</td>\n",
       "      <td>أحمد إسماعيل,فكري رستم,مارسيل صالح</td>\n",
       "      <td>روبرت شارفنبرج,عباس حلمي,عبدالباسط البنان,عبدا...</td>\n",
       "      <td>أحمد الكسار</td>\n",
       "      <td>كارم محمود,عبدالغني الشيخ,كمال منصور,حسن أبو ع...</td>\n",
       "      <td>كامل الحفناوي</td>\n",
       "      <td>منتخبات بهنا فيلم</td>\n",
       "    </tr>\n",
       "    <tr>\n",
       "      <th>15</th>\n",
       "      <td>آه من الرجالة</td>\n",
       "      <td>2 يونيو 1950</td>\n",
       "      <td>None</td>\n",
       "      <td>110.0</td>\n",
       "      <td>ميمى وفيفى وسوسو، ثلاث فتيات رشيقات، تعرضن لتج...</td>\n",
       "      <td>أبو السعود الإبياري,حلمي رفلة</td>\n",
       "      <td>محمد فوزي,مديحة يسري,سميحة توفيق,زينات صدقي,إس...</td>\n",
       "      <td>None</td>\n",
       "      <td>برونو سالفي,زكريا منصور</td>\n",
       "      <td>إحسان فرغل</td>\n",
       "      <td>حسن حسن,عباس حلمي,ستوديوهات (حدائق) شبرا,حسن ح...</td>\n",
       "      <td>None</td>\n",
       "      <td>محمد فوزي</td>\n",
       "      <td>حلمي رفلة,عاطف سالم,سعد عرفة</td>\n",
       "      <td>لينشتنر</td>\n",
       "    </tr>\n",
       "    <tr>\n",
       "      <th>442</th>\n",
       "      <td>إسماعيل يس طرزان</td>\n",
       "      <td>25 مايو 1958</td>\n",
       "      <td>None</td>\n",
       "      <td>105.0</td>\n",
       "      <td>تدور الأحداث حول شخص ثري يتوفى تاركاً ثروة ضخم...</td>\n",
       "      <td>أبو السعود الإبياري</td>\n",
       "      <td>إسماعيل يس,فيروز,عبدالسلام النابلسي,حسن فايق,إ...</td>\n",
       "      <td>ابراهيم والى,حسن الصيفي</td>\n",
       "      <td>اسعد عزيز,عادل عبدالعظيم,محمد عبدالعظيم</td>\n",
       "      <td>جلال مصطفى,مارسيل صالح</td>\n",
       "      <td>عبدالمنعم على</td>\n",
       "      <td>None</td>\n",
       "      <td>عطية شرارة</td>\n",
       "      <td>نيازي مصطفى,محمد عمارة,محمود الصيفي,السعيد صادق</td>\n",
       "      <td>أفلام نهضة الشرق (بول مراديان)</td>\n",
       "    </tr>\n",
       "    <tr>\n",
       "      <th>54</th>\n",
       "      <td>أولاد الشوارع</td>\n",
       "      <td>19 فبراير 1951</td>\n",
       "      <td>None</td>\n",
       "      <td>115.0</td>\n",
       "      <td>تدور أحداث الفيلم حول الضابط فايز المتزوج وله ...</td>\n",
       "      <td>يوسف وهبي</td>\n",
       "      <td>يوسف وهبي,مديحة يسري,زوزو ماضي,سراج منير,فاخر ...</td>\n",
       "      <td>ستوديو مصر</td>\n",
       "      <td>مصطفى حسن</td>\n",
       "      <td>ماري شماس</td>\n",
       "      <td>أنطوان بوليزويس</td>\n",
       "      <td>None</td>\n",
       "      <td>إبراهيم حجايج</td>\n",
       "      <td>يوسف وهبي</td>\n",
       "      <td>None</td>\n",
       "    </tr>\n",
       "    <tr>\n",
       "      <th>411</th>\n",
       "      <td>إسماعيل يس في الأسطول</td>\n",
       "      <td>11 نوفمبر 1957</td>\n",
       "      <td>None</td>\n",
       "      <td>95.0</td>\n",
       "      <td>تدور أحداث الفيلم حول شاب يقع في حب ابنة عمه و...</td>\n",
       "      <td>حسن توفيق,السيد بدير</td>\n",
       "      <td>إسماعيل يس,زهرة العلا,أحمد رمزي,محمود المليجي,...</td>\n",
       "      <td>ممفيس فيلم,خليل دياب,جمال الليثي,رمسيس نجيب,ال...</td>\n",
       "      <td>عبدالعزيز فهمي,محمود فهمي,عبدالله ياقوت</td>\n",
       "      <td>عطية عبده,جميل عبدالعزيز,انجا وميلا</td>\n",
       "      <td>أنطوان بوليزويس,عثمان حسين</td>\n",
       "      <td>None</td>\n",
       "      <td>منير مراد</td>\n",
       "      <td>فطين عبدالوهاب,عبدالعزيز جاد,صالح فوزي</td>\n",
       "      <td>الشركة العربية للسينما</td>\n",
       "    </tr>\n",
       "    <tr>\n",
       "      <th>89</th>\n",
       "      <td>ابن الحلال</td>\n",
       "      <td>26 نوفمبر 1951</td>\n",
       "      <td>None</td>\n",
       "      <td>108.6</td>\n",
       "      <td>محمود رجب يمتلك ألفى فدان، مما يجعل شقيقه حسن ...</td>\n",
       "      <td>علي الزرقاني,سيف الدين شوكت</td>\n",
       "      <td>تحية كاريوكا,محمود المليجي,فاتن حمامة,محسن سرح...</td>\n",
       "      <td>ستوديوهات (حدائق) شبرا,ممفيس فيلم</td>\n",
       "      <td>فيرى فاركاش (فرانسوا فاركاش)</td>\n",
       "      <td>كمال أبو العلا</td>\n",
       "      <td>ولي الدين سامح,سيد شاهين</td>\n",
       "      <td>None</td>\n",
       "      <td>محمد عبدالمطلب</td>\n",
       "      <td>سيف الدين شوكت,إلياس متى</td>\n",
       "      <td>شارل ليفشتز</td>\n",
       "    </tr>\n",
       "    <tr>\n",
       "      <th>299</th>\n",
       "      <td>كابتن مصر</td>\n",
       "      <td>28 فبراير 1955</td>\n",
       "      <td>None</td>\n",
       "      <td>105.0</td>\n",
       "      <td>تدور الأحداث حول شاب يعشق كرة القدم، ويسعى لأن...</td>\n",
       "      <td>كمال محمد</td>\n",
       "      <td>محمد الكحلاوي,إسماعيل يس,زهرة العلا,هدى شمس ال...</td>\n",
       "      <td>كمال الكحلاوى,أفلام القبيلة</td>\n",
       "      <td>مصطفى حسن,احمد عطية</td>\n",
       "      <td>حسن حلمي (حسنوف),مارسيل صالح</td>\n",
       "      <td>عباس حلمي,بكر نصر</td>\n",
       "      <td>None</td>\n",
       "      <td>محمد الكحلاوي</td>\n",
       "      <td>بهاء الدين شرف,يوسف سلامة,محمد مفتاح</td>\n",
       "      <td>أفلام القبيلة</td>\n",
       "    </tr>\n",
       "    <tr>\n",
       "      <th>3</th>\n",
       "      <td>شاطئ الغرام</td>\n",
       "      <td>20 فبراير 1950</td>\n",
       "      <td>None</td>\n",
       "      <td>120.0</td>\n",
       "      <td>عادل شاب ثري يحيا في ترف ويصاحب الراقصات، على ...</td>\n",
       "      <td>هنري بركات,علي الزرقاني,يوسف عيسى</td>\n",
       "      <td>ليلى مراد,حسين صدقي,تحية كاريوكا,ميمي شكيب,محس...</td>\n",
       "      <td>عبدالحليم نصر,سينما ستوديومصر,روفائيل جبور,اتح...</td>\n",
       "      <td>حسن داهش,عبدالحليم نصر,عبدالله ياقوت</td>\n",
       "      <td>كمال الشيخ,فتحى قاسم,زينب عويس</td>\n",
       "      <td>أنطوان بوليزويس,عثمان حسين,نجيب خوري,مصطفى عبد...</td>\n",
       "      <td>None</td>\n",
       "      <td>محمد القصبجي,مأمون الشناوي,صالح جودت,أحمد صدقي...</td>\n",
       "      <td>هنري بركات,يوسف معلوف,حسن داهش,سعد عرفة,علي وجدي</td>\n",
       "      <td>منتخبات بهنا فيلم</td>\n",
       "    </tr>\n",
       "  </tbody>\n",
       "</table>\n",
       "</div>"
      ],
      "text/plain": [
       "                اسم الفيلم     تاريخ العرض التصنيف  المدة  \\\n",
       "168           طريق السعادة    16 مارس 1953    None  100.0   \n",
       "32                  ياسمين  11 ديسمبر 1950    None  122.0   \n",
       "264           تحيا الرجالة  16 اكتوبر 1954    None  105.0   \n",
       "15           آه من الرجالة    2 يونيو 1950    None  110.0   \n",
       "442       إسماعيل يس طرزان    25 مايو 1958    None  105.0   \n",
       "54           أولاد الشوارع  19 فبراير 1951    None  115.0   \n",
       "411  إسماعيل يس في الأسطول  11 نوفمبر 1957    None   95.0   \n",
       "89              ابن الحلال  26 نوفمبر 1951    None  108.6   \n",
       "299              كابتن مصر  28 فبراير 1955    None  105.0   \n",
       "3              شاطئ الغرام  20 فبراير 1950    None  120.0   \n",
       "\n",
       "                                                  ملخص  \\\n",
       "168  يقع الموظف الصغير (علي) في مشاكل، بسبب طموح اب...   \n",
       "32   رب أسرة لا يحب خلف البنات تنجب زوجته ابنة أخرى...   \n",
       "264  تدور الأحداث حول الشقيقتين (نوجة) و(بطة) اللتي...   \n",
       "15   ميمى وفيفى وسوسو، ثلاث فتيات رشيقات، تعرضن لتج...   \n",
       "442  تدور الأحداث حول شخص ثري يتوفى تاركاً ثروة ضخم...   \n",
       "54   تدور أحداث الفيلم حول الضابط فايز المتزوج وله ...   \n",
       "411  تدور أحداث الفيلم حول شاب يقع في حب ابنة عمه و...   \n",
       "89   محمود رجب يمتلك ألفى فدان، مما يجعل شقيقه حسن ...   \n",
       "299  تدور الأحداث حول شاب يعشق كرة القدم، ويسعى لأن...   \n",
       "3    عادل شاب ثري يحيا في ترف ويصاحب الراقصات، على ...   \n",
       "\n",
       "                                 تأليف  \\\n",
       "168          السيد زيادة,كامل الحفناوي   \n",
       "32       أبو السعود الإبياري,أنور وجدي   \n",
       "264           كامل الحفناوي,السيد بدير   \n",
       "15       أبو السعود الإبياري,حلمي رفلة   \n",
       "442                أبو السعود الإبياري   \n",
       "54                           يوسف وهبي   \n",
       "411               حسن توفيق,السيد بدير   \n",
       "89         علي الزرقاني,سيف الدين شوكت   \n",
       "299                          كمال محمد   \n",
       "3    هنري بركات,علي الزرقاني,يوسف عيسى   \n",
       "\n",
       "                                                 تمثيل  \\\n",
       "168  كمال الشناوي,ماجدة,زهرة العلا,فريد شوقي,شكري س...   \n",
       "32   أنور وجدي,مديحة يسري,زكي رستم,فيروز,عبدالعزيز ...   \n",
       "264  شريفة ماهر,كارم محمود,سميحة توفيق,محمود شكوكو,...   \n",
       "15   محمد فوزي,مديحة يسري,سميحة توفيق,زينات صدقي,إس...   \n",
       "442  إسماعيل يس,فيروز,عبدالسلام النابلسي,حسن فايق,إ...   \n",
       "54   يوسف وهبي,مديحة يسري,زوزو ماضي,سراج منير,فاخر ...   \n",
       "411  إسماعيل يس,زهرة العلا,أحمد رمزي,محمود المليجي,...   \n",
       "89   تحية كاريوكا,محمود المليجي,فاتن حمامة,محسن سرح...   \n",
       "299  محمد الكحلاوي,إسماعيل يس,زهرة العلا,هدى شمس ال...   \n",
       "3    ليلى مراد,حسين صدقي,تحية كاريوكا,ميمي شكيب,محس...   \n",
       "\n",
       "                                                 إنتاج  \\\n",
       "168    ستوديو الأهرام (ستوديوهات الأهرام),أفلام الحرية   \n",
       "32                  الأفلام المتحدة (أنور وجدي وشركاه)   \n",
       "264                    ستوديو جيزة,إميل يزبك,إيهاب حسن   \n",
       "15                                                None   \n",
       "442                            ابراهيم والى,حسن الصيفي   \n",
       "54                                          ستوديو مصر   \n",
       "411  ممفيس فيلم,خليل دياب,جمال الليثي,رمسيس نجيب,ال...   \n",
       "89                   ستوديوهات (حدائق) شبرا,ممفيس فيلم   \n",
       "299                        كمال الكحلاوى,أفلام القبيلة   \n",
       "3    عبدالحليم نصر,سينما ستوديومصر,روفائيل جبور,اتح...   \n",
       "\n",
       "                                                 تصوير  \\\n",
       "168                                          محمود نصر   \n",
       "32                    عبدالحليم نصر,محمود بكر,حسن داهش   \n",
       "264  زكريا منصور,عبدالمنعم بهنسي,حسن خليل,عبدالحليم...   \n",
       "15                             برونو سالفي,زكريا منصور   \n",
       "442            اسعد عزيز,عادل عبدالعظيم,محمد عبدالعظيم   \n",
       "54                                           مصطفى حسن   \n",
       "411            عبدالعزيز فهمي,محمود فهمي,عبدالله ياقوت   \n",
       "89                        فيرى فاركاش (فرانسوا فاركاش)   \n",
       "299                                مصطفى حسن,احمد عطية   \n",
       "3                 حسن داهش,عبدالحليم نصر,عبدالله ياقوت   \n",
       "\n",
       "                                   مونتاج  \\\n",
       "168              مارسيل صالح,أحمد إسماعيل   \n",
       "32   كمال الشيخ,عبدالمنعم توفيق,زينب عويس   \n",
       "264    أحمد إسماعيل,فكري رستم,مارسيل صالح   \n",
       "15                             إحسان فرغل   \n",
       "442                جلال مصطفى,مارسيل صالح   \n",
       "54                              ماري شماس   \n",
       "411   عطية عبده,جميل عبدالعزيز,انجا وميلا   \n",
       "89                         كمال أبو العلا   \n",
       "299          حسن حلمي (حسنوف),مارسيل صالح   \n",
       "3          كمال الشيخ,فتحى قاسم,زينب عويس   \n",
       "\n",
       "                                                 ديكور        ملابس  \\\n",
       "168                              دنجل (عجمي عبدالرحمن)         None   \n",
       "32                أنطوان بوليزويس,عثمان حسين,نجيب خوري         None   \n",
       "264  روبرت شارفنبرج,عباس حلمي,عبدالباسط البنان,عبدا...  أحمد الكسار   \n",
       "15   حسن حسن,عباس حلمي,ستوديوهات (حدائق) شبرا,حسن ح...         None   \n",
       "442                                      عبدالمنعم على         None   \n",
       "54                                     أنطوان بوليزويس         None   \n",
       "411                         أنطوان بوليزويس,عثمان حسين         None   \n",
       "89                            ولي الدين سامح,سيد شاهين         None   \n",
       "299                                  عباس حلمي,بكر نصر         None   \n",
       "3    أنطوان بوليزويس,عثمان حسين,نجيب خوري,مصطفى عبد...         None   \n",
       "\n",
       "                                                موسيقى  \\\n",
       "168                                               None   \n",
       "32   أبو السعود الإبياري,منير مراد,محمد البكار,محمو...   \n",
       "264  كارم محمود,عبدالغني الشيخ,كمال منصور,حسن أبو ع...   \n",
       "15                                           محمد فوزي   \n",
       "442                                         عطية شرارة   \n",
       "54                                       إبراهيم حجايج   \n",
       "411                                          منير مراد   \n",
       "89                                      محمد عبدالمطلب   \n",
       "299                                      محمد الكحلاوي   \n",
       "3    محمد القصبجي,مأمون الشناوي,صالح جودت,أحمد صدقي...   \n",
       "\n",
       "                                                إخراج  \\\n",
       "168                       كامل الحفناوي,إبراهيم السيد   \n",
       "32                     أنور وجدي,حسن الصيفي,منير مراد   \n",
       "264                                     كامل الحفناوي   \n",
       "15                       حلمي رفلة,عاطف سالم,سعد عرفة   \n",
       "442   نيازي مصطفى,محمد عمارة,محمود الصيفي,السعيد صادق   \n",
       "54                                          يوسف وهبي   \n",
       "411            فطين عبدالوهاب,عبدالعزيز جاد,صالح فوزي   \n",
       "89                           سيف الدين شوكت,إلياس متى   \n",
       "299              بهاء الدين شرف,يوسف سلامة,محمد مفتاح   \n",
       "3    هنري بركات,يوسف معلوف,حسن داهش,سعد عرفة,علي وجدي   \n",
       "\n",
       "                              توزيع  \n",
       "168                            None  \n",
       "32                 عبد الفتاح هريدي  \n",
       "264               منتخبات بهنا فيلم  \n",
       "15                          لينشتنر  \n",
       "442  أفلام نهضة الشرق (بول مراديان)  \n",
       "54                             None  \n",
       "411          الشركة العربية للسينما  \n",
       "89                      شارل ليفشتز  \n",
       "299                   أفلام القبيلة  \n",
       "3                 منتخبات بهنا فيلم  "
      ]
     },
     "execution_count": 70,
     "metadata": {},
     "output_type": "execute_result"
    }
   ],
   "source": [
    "fifties_df.sample(10)"
   ]
  },
  {
   "cell_type": "code",
   "execution_count": 71,
   "metadata": {
    "collapsed": true
   },
   "outputs": [
    {
     "name": "stdout",
     "output_type": "stream",
     "text": [
      "Column Name:  ‫اسم الفيلم‬\n",
      "count              534\n",
      "unique             533\n",
      "top       هل أقتل زوجى\n",
      "freq                 2\n",
      "Name: اسم الفيلم, dtype: object\n",
      "\n",
      "--------------------\n",
      "Column Name:  ‫تاريخ العرض‬\n",
      "count      534\n",
      "unique     368\n",
      "top       1953\n",
      "freq        14\n",
      "Name: تاريخ العرض, dtype: object\n",
      "\n",
      "--------------------\n",
      "Column Name:  ‫التصنيف‬\n",
      "count         10\n",
      "unique         1\n",
      "top       تاريخي\n",
      "freq          10\n",
      "Name: التصنيف, dtype: object\n",
      "\n",
      "--------------------\n",
      "Column Name:  ‫المدة‬\n",
      "count    534.000000\n",
      "mean     108.119663\n",
      "std       13.207141\n",
      "min       53.000000\n",
      "25%      100.000000\n",
      "50%      108.350000\n",
      "75%      115.000000\n",
      "max      170.000000\n",
      "Name: المدة, dtype: float64\n",
      "\n",
      "--------------------\n",
      "Column Name:  ‫ملخص‬\n",
      "count                                                   513\n",
      "unique                                                  513\n",
      "top        في صحراء السويس تقع أرملة لعوب تملك أحد المقا...\n",
      "freq                                                      1\n",
      "Name: ملخص, dtype: object\n",
      "\n",
      "--------------------\n",
      "Column Name:  ‫تأليف‬\n",
      "count                     516\n",
      "unique                    341\n",
      "top       أبو السعود الإبياري\n",
      "freq                       28\n",
      "Name: تأليف, dtype: object\n",
      "\n",
      "--------------------\n",
      "Column Name:  ‫تمثيل‬\n",
      "count                                                   532\n",
      "unique                                                  532\n",
      "top       فريد شوقي,عبدالنبي محمد,علي كامل,عبدالحميد زكي...\n",
      "freq                                                      1\n",
      "Name: تمثيل, dtype: object\n",
      "\n",
      "--------------------\n",
      "Column Name:  ‫إنتاج‬\n",
      "count            466\n",
      "unique           400\n",
      "top       ستوديو مصر\n",
      "freq               5\n",
      "Name: إنتاج, dtype: object\n",
      "\n",
      "--------------------\n",
      "Column Name:  ‫تصوير‬\n",
      "count             486\n",
      "unique            370\n",
      "top       برونو سالفي\n",
      "freq               12\n",
      "Name: تصوير, dtype: object\n",
      "\n",
      "--------------------\n",
      "Column Name:  ‫مونتاج‬\n",
      "count                465\n",
      "unique               295\n",
      "top       كمال أبو العلا\n",
      "freq                  15\n",
      "Name: مونتاج, dtype: object\n",
      "\n",
      "--------------------\n",
      "Column Name:  ‫ديكور‬\n",
      "count           458\n",
      "unique          270\n",
      "top       عباس حلمي\n",
      "freq             23\n",
      "Name: ديكور, dtype: object\n",
      "\n",
      "--------------------\n",
      "Column Name:  ‫ملابس‬\n",
      "count              85\n",
      "unique             44\n",
      "top       أحمد الكسار\n",
      "freq               14\n",
      "Name: ملابس, dtype: object\n",
      "\n",
      "--------------------\n",
      "Column Name:  ‫موسيقى‬\n",
      "count              372\n",
      "unique             304\n",
      "top       فؤاد الظاهري\n",
      "freq                19\n",
      "Name: موسيقى, dtype: object\n",
      "\n",
      "--------------------\n",
      "Column Name:  ‫إخراج‬\n",
      "count                     529\n",
      "unique                    374\n",
      "top       حلمي رفلة,عاطف سالم\n",
      "freq                       16\n",
      "Name: إخراج, dtype: object\n",
      "\n",
      "--------------------\n",
      "Column Name:  ‫توزيع‬\n",
      "count                   245\n",
      "unique                   59\n",
      "top       منتخبات بهنا فيلم\n",
      "freq                     57\n",
      "Name: توزيع, dtype: object\n",
      "\n",
      "--------------------\n"
     ]
    }
   ],
   "source": [
    "describe_dataframe(fifties_df)"
   ]
  },
  {
   "cell_type": "code",
   "execution_count": null,
   "metadata": {},
   "outputs": [],
   "source": [
    "fifties_df = change_empty_entries_to_None(fifties_df)"
   ]
  },
  {
   "cell_type": "code",
   "execution_count": 74,
   "metadata": {},
   "outputs": [
    {
     "data": {
      "text/plain": [
       "تاريخي    10\n",
       "Name: التصنيف, dtype: int64"
      ]
     },
     "execution_count": 74,
     "metadata": {},
     "output_type": "execute_result"
    }
   ],
   "source": [
    "fifties_df['التصنيف'].value_counts()"
   ]
  },
  {
   "cell_type": "code",
   "execution_count": 75,
   "metadata": {},
   "outputs": [
    {
     "data": {
      "text/html": [
       "<div>\n",
       "<style scoped>\n",
       "    .dataframe tbody tr th:only-of-type {\n",
       "        vertical-align: middle;\n",
       "    }\n",
       "\n",
       "    .dataframe tbody tr th {\n",
       "        vertical-align: top;\n",
       "    }\n",
       "\n",
       "    .dataframe thead th {\n",
       "        text-align: right;\n",
       "    }\n",
       "</style>\n",
       "<table border=\"1\" class=\"dataframe\">\n",
       "  <thead>\n",
       "    <tr style=\"text-align: right;\">\n",
       "      <th></th>\n",
       "      <th>اسم الفيلم</th>\n",
       "      <th>تاريخ العرض</th>\n",
       "      <th>التصنيف</th>\n",
       "      <th>المدة</th>\n",
       "      <th>ملخص</th>\n",
       "      <th>تأليف</th>\n",
       "      <th>تمثيل</th>\n",
       "      <th>إنتاج</th>\n",
       "      <th>تصوير</th>\n",
       "      <th>مونتاج</th>\n",
       "      <th>ديكور</th>\n",
       "      <th>ملابس</th>\n",
       "      <th>موسيقى</th>\n",
       "      <th>إخراج</th>\n",
       "      <th>توزيع</th>\n",
       "    </tr>\n",
       "  </thead>\n",
       "  <tbody>\n",
       "    <tr>\n",
       "      <th>441</th>\n",
       "      <td>هل أقتل زوجى</td>\n",
       "      <td>5 مايو 1958</td>\n",
       "      <td>None</td>\n",
       "      <td>87.0</td>\n",
       "      <td>تبدأ أحداث الفيلم بجو هادئ مرح فى أسرة مكونة م...</td>\n",
       "      <td>محمد كامل حسن المحامي</td>\n",
       "      <td>محسن سرحان,سميرة أحمد,توفيق الدقن,سهير البابلي...</td>\n",
       "      <td>وليم رزق,حسن موافى,فرغل البارودي,حسام الدين مصطفى</td>\n",
       "      <td>البير رياض,كليليو (ك. ستشفللي)</td>\n",
       "      <td>حسن حلمي (حسنوف)</td>\n",
       "      <td>أنطوان بوليزويس,عبدالمنعم على</td>\n",
       "      <td>None</td>\n",
       "      <td>None</td>\n",
       "      <td>حسام الدين مصطفى,سيمون صالح,مصطفى سمهان,إبراهي...</td>\n",
       "      <td>None</td>\n",
       "    </tr>\n",
       "  </tbody>\n",
       "</table>\n",
       "</div>"
      ],
      "text/plain": [
       "       اسم الفيلم  تاريخ العرض التصنيف  المدة  \\\n",
       "441  هل أقتل زوجى  5 مايو 1958    None   87.0   \n",
       "\n",
       "                                                  ملخص                  تأليف  \\\n",
       "441  تبدأ أحداث الفيلم بجو هادئ مرح فى أسرة مكونة م...  محمد كامل حسن المحامي   \n",
       "\n",
       "                                                 تمثيل  \\\n",
       "441  محسن سرحان,سميرة أحمد,توفيق الدقن,سهير البابلي...   \n",
       "\n",
       "                                                 إنتاج  \\\n",
       "441  وليم رزق,حسن موافى,فرغل البارودي,حسام الدين مصطفى   \n",
       "\n",
       "                              تصوير            مونتاج  \\\n",
       "441  البير رياض,كليليو (ك. ستشفللي)  حسن حلمي (حسنوف)   \n",
       "\n",
       "                             ديكور ملابس موسيقى  \\\n",
       "441  أنطوان بوليزويس,عبدالمنعم على  None   None   \n",
       "\n",
       "                                                 إخراج توزيع  \n",
       "441  حسام الدين مصطفى,سيمون صالح,مصطفى سمهان,إبراهي...  None  "
      ]
     },
     "execution_count": 75,
     "metadata": {},
     "output_type": "execute_result"
    }
   ],
   "source": [
    "fifties_df[fifties_df.duplicated(subset = ['اسم الفيلم'])]"
   ]
  },
  {
   "cell_type": "code",
   "execution_count": 76,
   "metadata": {
    "collapsed": true
   },
   "outputs": [
    {
     "data": {
      "text/html": [
       "<div>\n",
       "<style scoped>\n",
       "    .dataframe tbody tr th:only-of-type {\n",
       "        vertical-align: middle;\n",
       "    }\n",
       "\n",
       "    .dataframe tbody tr th {\n",
       "        vertical-align: top;\n",
       "    }\n",
       "\n",
       "    .dataframe thead th {\n",
       "        text-align: right;\n",
       "    }\n",
       "</style>\n",
       "<table border=\"1\" class=\"dataframe\">\n",
       "  <thead>\n",
       "    <tr style=\"text-align: right;\">\n",
       "      <th></th>\n",
       "      <th>اسم الفيلم</th>\n",
       "      <th>تاريخ العرض</th>\n",
       "      <th>التصنيف</th>\n",
       "      <th>المدة</th>\n",
       "      <th>ملخص</th>\n",
       "      <th>تأليف</th>\n",
       "      <th>تمثيل</th>\n",
       "      <th>إنتاج</th>\n",
       "      <th>تصوير</th>\n",
       "      <th>مونتاج</th>\n",
       "      <th>ديكور</th>\n",
       "      <th>ملابس</th>\n",
       "      <th>موسيقى</th>\n",
       "      <th>إخراج</th>\n",
       "      <th>توزيع</th>\n",
       "    </tr>\n",
       "  </thead>\n",
       "  <tbody>\n",
       "    <tr>\n",
       "      <th>378</th>\n",
       "      <td>هل أقتل زوجى</td>\n",
       "      <td>1956</td>\n",
       "      <td>None</td>\n",
       "      <td>108.1</td>\n",
       "      <td>None</td>\n",
       "      <td>None</td>\n",
       "      <td>None</td>\n",
       "      <td>None</td>\n",
       "      <td>None</td>\n",
       "      <td>None</td>\n",
       "      <td>None</td>\n",
       "      <td>None</td>\n",
       "      <td>None</td>\n",
       "      <td>None</td>\n",
       "      <td>None</td>\n",
       "    </tr>\n",
       "    <tr>\n",
       "      <th>441</th>\n",
       "      <td>هل أقتل زوجى</td>\n",
       "      <td>5 مايو 1958</td>\n",
       "      <td>None</td>\n",
       "      <td>87.0</td>\n",
       "      <td>تبدأ أحداث الفيلم بجو هادئ مرح فى أسرة مكونة م...</td>\n",
       "      <td>محمد كامل حسن المحامي</td>\n",
       "      <td>محسن سرحان,سميرة أحمد,توفيق الدقن,سهير البابلي...</td>\n",
       "      <td>وليم رزق,حسن موافى,فرغل البارودي,حسام الدين مصطفى</td>\n",
       "      <td>البير رياض,كليليو (ك. ستشفللي)</td>\n",
       "      <td>حسن حلمي (حسنوف)</td>\n",
       "      <td>أنطوان بوليزويس,عبدالمنعم على</td>\n",
       "      <td>None</td>\n",
       "      <td>None</td>\n",
       "      <td>حسام الدين مصطفى,سيمون صالح,مصطفى سمهان,إبراهي...</td>\n",
       "      <td>None</td>\n",
       "    </tr>\n",
       "  </tbody>\n",
       "</table>\n",
       "</div>"
      ],
      "text/plain": [
       "       اسم الفيلم  تاريخ العرض التصنيف  المدة  \\\n",
       "378  هل أقتل زوجى         1956    None  108.1   \n",
       "441  هل أقتل زوجى  5 مايو 1958    None   87.0   \n",
       "\n",
       "                                                  ملخص                  تأليف  \\\n",
       "378                                               None                   None   \n",
       "441  تبدأ أحداث الفيلم بجو هادئ مرح فى أسرة مكونة م...  محمد كامل حسن المحامي   \n",
       "\n",
       "                                                 تمثيل  \\\n",
       "378                                               None   \n",
       "441  محسن سرحان,سميرة أحمد,توفيق الدقن,سهير البابلي...   \n",
       "\n",
       "                                                 إنتاج  \\\n",
       "378                                               None   \n",
       "441  وليم رزق,حسن موافى,فرغل البارودي,حسام الدين مصطفى   \n",
       "\n",
       "                              تصوير            مونتاج  \\\n",
       "378                            None              None   \n",
       "441  البير رياض,كليليو (ك. ستشفللي)  حسن حلمي (حسنوف)   \n",
       "\n",
       "                             ديكور ملابس موسيقى  \\\n",
       "378                           None  None   None   \n",
       "441  أنطوان بوليزويس,عبدالمنعم على  None   None   \n",
       "\n",
       "                                                 إخراج توزيع  \n",
       "378                                               None  None  \n",
       "441  حسام الدين مصطفى,سيمون صالح,مصطفى سمهان,إبراهي...  None  "
      ]
     },
     "execution_count": 76,
     "metadata": {},
     "output_type": "execute_result"
    }
   ],
   "source": [
    "fifties_df.loc[fifties_df['اسم الفيلم'] == 'هل أقتل زوجى']"
   ]
  },
  {
   "cell_type": "code",
   "execution_count": 77,
   "metadata": {},
   "outputs": [],
   "source": [
    "expanded_date_50s = fifties_df.copy(deep = True)"
   ]
  },
  {
   "cell_type": "code",
   "execution_count": 78,
   "metadata": {},
   "outputs": [],
   "source": [
    "expanded_date_50s = expand_release_date(fifties_df)\n",
    "expanded_date_50s = unify_date_format(expanded_date_50s)"
   ]
  },
  {
   "cell_type": "code",
   "execution_count": 79,
   "metadata": {},
   "outputs": [],
   "source": [
    "expanded_date_50s.drop(columns=['تاريخ العرض','اليوم'], inplace = True)\n",
    "expanded_date_50s['التقييم'] = None"
   ]
  },
  {
   "cell_type": "code",
   "execution_count": 80,
   "metadata": {},
   "outputs": [],
   "source": [
    "foreign_filtered_50s = expanded_date_50s.copy(deep = True)"
   ]
  },
  {
   "cell_type": "code",
   "execution_count": 81,
   "metadata": {
    "code_folding": [
     0
    ]
   },
   "outputs": [],
   "source": [
    "foreign_filtered_50s = filter_foregin_movies(expanded_date_50s\n",
    "                                               , '1950s_data/countries_1950s.txt')"
   ]
  },
  {
   "cell_type": "code",
   "execution_count": 82,
   "metadata": {},
   "outputs": [],
   "source": [
    "ratings_added_50s = foreign_filtered_50s.copy(deep = True)"
   ]
  },
  {
   "cell_type": "code",
   "execution_count": 83,
   "metadata": {
    "code_folding": [
     0
    ]
   },
   "outputs": [],
   "source": [
    "ratings_added_50s = add_scraped_features(foreign_filtered_50s \\\n",
    "                                           , '1950s_data/1950s_ratings.txt'\n",
    "                                           , 'التقييم')"
   ]
  },
  {
   "cell_type": "code",
   "execution_count": 84,
   "metadata": {},
   "outputs": [],
   "source": [
    "genres_added_50s = ratings_added_50s.copy(deep = True)"
   ]
  },
  {
   "cell_type": "code",
   "execution_count": 85,
   "metadata": {
    "code_folding": [
     0
    ]
   },
   "outputs": [],
   "source": [
    "genres_added_50s = add_scraped_features(ratings_added_50s \\\n",
    "                                           , '1950s_data/1950s_genres.txt'\n",
    "                                           , 'التصنيف')"
   ]
  },
  {
   "cell_type": "code",
   "execution_count": 86,
   "metadata": {},
   "outputs": [],
   "source": [
    "synopsis_added_50s = genres_added_50s.copy(deep = True)"
   ]
  },
  {
   "cell_type": "code",
   "execution_count": 87,
   "metadata": {
    "code_folding": [
     0
    ]
   },
   "outputs": [],
   "source": [
    "synopsis_added_50s = add_scraped_features(genres_added_50s \\\n",
    "                                          , '1950s_data/1950s_synopses.txt' \\\n",
    "                                         , 'ملخص')"
   ]
  },
  {
   "cell_type": "code",
   "execution_count": 88,
   "metadata": {},
   "outputs": [
    {
     "data": {
      "text/plain": [
       "ﺩﺭاﻣﺎ                192\n",
       "ﻛﻮﻣﻴﺪﻱ                60\n",
       "ﺭﻭﻣﺎﻧﺴﻲ               44\n",
       "موسيقي / استعراضي     31\n",
       "ﺗﺸﻮﻳﻖ ﻭﺇﺛﺎﺭﺓ          14\n",
       "تاريخي                 9\n",
       "ﺟﺮﻳﻤﺔ                  8\n",
       "ﺣﺮﻛﺔ                   6\n",
       "ﻋﺎﺋﻠﻲ                  3\n",
       "ﺧﻴﺎﻝ ﻋﻠﻤﻲ              3\n",
       "ﺣﺮﺏ                    2\n",
       "ﻏﻤﻮﺽ                   2\n",
       "ﻣﻐﺎﻣﺮاﺕ                1\n",
       "ﺭﻋﺐ                    1\n",
       "ﺧﻴﺎﻝ                   1\n",
       "Name: التصنيف, dtype: int64"
      ]
     },
     "execution_count": 88,
     "metadata": {},
     "output_type": "execute_result"
    }
   ],
   "source": [
    "synopsis_added_50s['التصنيف'].value_counts()"
   ]
  },
  {
   "cell_type": "code",
   "execution_count": 89,
   "metadata": {
    "scrolled": true
   },
   "outputs": [],
   "source": [
    "synopsis_added_50s = synopsis_added_50s.reset_index(drop=True)"
   ]
  },
  {
   "cell_type": "code",
   "execution_count": 90,
   "metadata": {},
   "outputs": [
    {
     "data": {
      "text/html": [
       "<div>\n",
       "<style scoped>\n",
       "    .dataframe tbody tr th:only-of-type {\n",
       "        vertical-align: middle;\n",
       "    }\n",
       "\n",
       "    .dataframe tbody tr th {\n",
       "        vertical-align: top;\n",
       "    }\n",
       "\n",
       "    .dataframe thead th {\n",
       "        text-align: right;\n",
       "    }\n",
       "</style>\n",
       "<table border=\"1\" class=\"dataframe\">\n",
       "  <thead>\n",
       "    <tr style=\"text-align: right;\">\n",
       "      <th></th>\n",
       "      <th>اسم الفيلم</th>\n",
       "      <th>التصنيف</th>\n",
       "      <th>المدة</th>\n",
       "      <th>ملخص</th>\n",
       "      <th>تأليف</th>\n",
       "      <th>تمثيل</th>\n",
       "      <th>إنتاج</th>\n",
       "      <th>تصوير</th>\n",
       "      <th>مونتاج</th>\n",
       "      <th>ديكور</th>\n",
       "      <th>ملابس</th>\n",
       "      <th>موسيقى</th>\n",
       "      <th>إخراج</th>\n",
       "      <th>توزيع</th>\n",
       "      <th>الشهر</th>\n",
       "      <th>السنة</th>\n",
       "      <th>التقييم</th>\n",
       "    </tr>\n",
       "  </thead>\n",
       "  <tbody>\n",
       "    <tr>\n",
       "      <th>26</th>\n",
       "      <td>أيام شبابي</td>\n",
       "      <td>ﺟﺮﻳﻤﺔ</td>\n",
       "      <td>115.0</td>\n",
       "      <td>شاب ثري يعتدى على شرف فتاة ويتركها بعد أن أنجب...</td>\n",
       "      <td>صالح جودت,جمال مدكور</td>\n",
       "      <td>كمال الشناوي,تحية كاريوكا,شادية,محمود المليجي,...</td>\n",
       "      <td>أرمان بوهالوفيتش</td>\n",
       "      <td>عبدالعزيز فهمي,محمود فهمي</td>\n",
       "      <td>إحسان فرغل</td>\n",
       "      <td>حسن حامد,حسين الشريف (حسين شريف),عباس حلمي,ستو...</td>\n",
       "      <td>None</td>\n",
       "      <td>شارل فوسكلو,إيليا ايسائيا,شريف سرى,فتحي قورة,أ...</td>\n",
       "      <td>جمال مدكور,عبدالرؤوف الشافعي</td>\n",
       "      <td>شارل ليفشتز</td>\n",
       "      <td>نوفمبر</td>\n",
       "      <td>1950</td>\n",
       "      <td>6.2</td>\n",
       "    </tr>\n",
       "  </tbody>\n",
       "</table>\n",
       "</div>"
      ],
      "text/plain": [
       "    اسم الفيلم التصنيف  المدة  \\\n",
       "26  أيام شبابي   ﺟﺮﻳﻤﺔ  115.0   \n",
       "\n",
       "                                                 ملخص                 تأليف  \\\n",
       "26  شاب ثري يعتدى على شرف فتاة ويتركها بعد أن أنجب...  صالح جودت,جمال مدكور   \n",
       "\n",
       "                                                تمثيل             إنتاج  \\\n",
       "26  كمال الشناوي,تحية كاريوكا,شادية,محمود المليجي,...  أرمان بوهالوفيتش   \n",
       "\n",
       "                        تصوير      مونتاج  \\\n",
       "26  عبدالعزيز فهمي,محمود فهمي  إحسان فرغل   \n",
       "\n",
       "                                                ديكور ملابس  \\\n",
       "26  حسن حامد,حسين الشريف (حسين شريف),عباس حلمي,ستو...  None   \n",
       "\n",
       "                                               موسيقى  \\\n",
       "26  شارل فوسكلو,إيليا ايسائيا,شريف سرى,فتحي قورة,أ...   \n",
       "\n",
       "                           إخراج        توزيع   الشهر السنة التقييم  \n",
       "26  جمال مدكور,عبدالرؤوف الشافعي  شارل ليفشتز  نوفمبر  1950     6.2  "
      ]
     },
     "execution_count": 90,
     "metadata": {},
     "output_type": "execute_result"
    }
   ],
   "source": [
    "synopsis_added_50s.sample()"
   ]
  },
  {
   "cell_type": "code",
   "execution_count": 91,
   "metadata": {
    "scrolled": true
   },
   "outputs": [
    {
     "name": "stdout",
     "output_type": "stream",
     "text": [
      ">> ‫اسم الفيلم: 0%\n",
      ">> ‫التصنيف: 29%\n",
      ">> ‫المدة: 0%\n",
      ">> ‫ملخص: 1%\n",
      ">> ‫تأليف: 3%\n",
      ">> ‫تمثيل: 0%\n",
      ">> ‫إنتاج: 12%\n",
      ">> ‫تصوير: 9%\n",
      ">> ‫مونتاج: 13%\n",
      ">> ‫ديكور: 14%\n",
      ">> ‫ملابس: 84%\n",
      ">> ‫موسيقى: 30%\n",
      ">> ‫إخراج: 1%\n",
      ">> ‫توزيع: 54%\n",
      ">> ‫الشهر: 0%\n",
      ">> ‫السنة: 0%\n",
      ">> ‫التقييم: 6%\n"
     ]
    }
   ],
   "source": [
    "get_null_percentage(synopsis_added_50s)"
   ]
  },
  {
   "cell_type": "code",
   "execution_count": 92,
   "metadata": {},
   "outputs": [],
   "source": [
    "synopsis_added_50s['التقييم'] = synopsis_added_50s['التقييم'].astype(float)"
   ]
  },
  {
   "cell_type": "code",
   "execution_count": 93,
   "metadata": {},
   "outputs": [],
   "source": [
    "synopsis_added_50s = synopsis_added_50s.reset_index(drop = True)"
   ]
  },
  {
   "cell_type": "code",
   "execution_count": 94,
   "metadata": {
    "collapsed": true
   },
   "outputs": [
    {
     "name": "stderr",
     "output_type": "stream",
     "text": [
      "/Users/karefsn/Development/anaconda3/lib/python3.7/site-packages/ipykernel_launcher.py:20: DeprecationWarning: The truth value of an empty array is ambiguous. Returning False, but in future this will result in an error. Use `array.size > 0` to check that an array is not empty.\n",
      "/Users/karefsn/Development/anaconda3/lib/python3.7/site-packages/ipykernel_launcher.py:23: DeprecationWarning: The truth value of an empty array is ambiguous. Returning False, but in future this will result in an error. Use `array.size > 0` to check that an array is not empty.\n"
     ]
    }
   ],
   "source": [
    "cast_seperated_50s = seperate_cast_by_gender(synopsis_added_50s)"
   ]
  },
  {
   "cell_type": "code",
   "execution_count": 95,
   "metadata": {},
   "outputs": [],
   "source": [
    "cast_seperated_50s.drop(inplace = True, columns = ['تمثيل'])"
   ]
  },
  {
   "cell_type": "code",
   "execution_count": 96,
   "metadata": {
    "collapsed": true
   },
   "outputs": [
    {
     "data": {
      "text/html": [
       "<div>\n",
       "<style scoped>\n",
       "    .dataframe tbody tr th:only-of-type {\n",
       "        vertical-align: middle;\n",
       "    }\n",
       "\n",
       "    .dataframe tbody tr th {\n",
       "        vertical-align: top;\n",
       "    }\n",
       "\n",
       "    .dataframe thead th {\n",
       "        text-align: right;\n",
       "    }\n",
       "</style>\n",
       "<table border=\"1\" class=\"dataframe\">\n",
       "  <thead>\n",
       "    <tr style=\"text-align: right;\">\n",
       "      <th></th>\n",
       "      <th>اسم الفيلم</th>\n",
       "      <th>التصنيف</th>\n",
       "      <th>المدة</th>\n",
       "      <th>ملخص</th>\n",
       "      <th>تأليف</th>\n",
       "      <th>إنتاج</th>\n",
       "      <th>تصوير</th>\n",
       "      <th>مونتاج</th>\n",
       "      <th>ديكور</th>\n",
       "      <th>ملابس</th>\n",
       "      <th>موسيقى</th>\n",
       "      <th>إخراج</th>\n",
       "      <th>توزيع</th>\n",
       "      <th>الشهر</th>\n",
       "      <th>السنة</th>\n",
       "      <th>التقييم</th>\n",
       "      <th>ممثلات</th>\n",
       "      <th>ممثلون</th>\n",
       "    </tr>\n",
       "  </thead>\n",
       "  <tbody>\n",
       "    <tr>\n",
       "      <th>367</th>\n",
       "      <td>القلب له أحكام</td>\n",
       "      <td>ﺭﻭﻣﺎﻧﺴﻲ</td>\n",
       "      <td>95.0</td>\n",
       "      <td>تقع الفتاة الفقيرة طالبة كلية الطب في حب زميله...</td>\n",
       "      <td>السيد بدير,حسن توفيق,علي الزرقاني</td>\n",
       "      <td>حلمي حليم</td>\n",
       "      <td>أحمد خورشيد,وديع مدور</td>\n",
       "      <td>فتحى قاسم,انجا وميلا</td>\n",
       "      <td>أنطوان بوليزويس</td>\n",
       "      <td>None</td>\n",
       "      <td>None</td>\n",
       "      <td>حلمي حليم,طلبة رضوان</td>\n",
       "      <td>None</td>\n",
       "      <td>نوفمبر</td>\n",
       "      <td>1956</td>\n",
       "      <td>7.2</td>\n",
       "      <td>[فاتن حمامة, زينات صدقي, زوزو نبيل, سميحة أيوب...</td>\n",
       "      <td>[أحمد رمزي, عبدالسلام النابلسي, عبدالفتاح القص...</td>\n",
       "    </tr>\n",
       "  </tbody>\n",
       "</table>\n",
       "</div>"
      ],
      "text/plain": [
       "         اسم الفيلم  التصنيف  المدة  \\\n",
       "367  القلب له أحكام  ﺭﻭﻣﺎﻧﺴﻲ   95.0   \n",
       "\n",
       "                                                  ملخص  \\\n",
       "367  تقع الفتاة الفقيرة طالبة كلية الطب في حب زميله...   \n",
       "\n",
       "                                 تأليف      إنتاج                  تصوير  \\\n",
       "367  السيد بدير,حسن توفيق,علي الزرقاني  حلمي حليم  أحمد خورشيد,وديع مدور   \n",
       "\n",
       "                   مونتاج            ديكور ملابس موسيقى                 إخراج  \\\n",
       "367  فتحى قاسم,انجا وميلا  أنطوان بوليزويس  None   None  حلمي حليم,طلبة رضوان   \n",
       "\n",
       "    توزيع   الشهر السنة  التقييم  \\\n",
       "367  None  نوفمبر  1956      7.2   \n",
       "\n",
       "                                                ممثلات  \\\n",
       "367  [فاتن حمامة, زينات صدقي, زوزو نبيل, سميحة أيوب...   \n",
       "\n",
       "                                                ممثلون  \n",
       "367  [أحمد رمزي, عبدالسلام النابلسي, عبدالفتاح القص...  "
      ]
     },
     "execution_count": 96,
     "metadata": {},
     "output_type": "execute_result"
    }
   ],
   "source": [
    "cast_seperated_50s.sample()"
   ]
  },
  {
   "cell_type": "code",
   "execution_count": 97,
   "metadata": {},
   "outputs": [],
   "source": [
    "cast_seperated_50s.drop(columns = ['توزيع', 'ملابس', 'ديكور', 'مونتاج', \\\n",
    "                         'تصوير', 'موسيقى', 'إنتاج'], inplace = True)"
   ]
  },
  {
   "cell_type": "code",
   "execution_count": 98,
   "metadata": {},
   "outputs": [],
   "source": [
    "movies_50s_df = cast_seperated_50s[['اسم الفيلم', 'الشهر', 'السنة', 'التصنيف',\\\n",
    "                                    'التقييم', 'المدة', 'ملخص', 'ممثلات', 'ممثلون',\n",
    "                                    'تأليف', 'إخراج']]"
   ]
  },
  {
   "cell_type": "code",
   "execution_count": 99,
   "metadata": {
    "collapsed": true
   },
   "outputs": [
    {
     "data": {
      "text/html": [
       "<div>\n",
       "<style scoped>\n",
       "    .dataframe tbody tr th:only-of-type {\n",
       "        vertical-align: middle;\n",
       "    }\n",
       "\n",
       "    .dataframe tbody tr th {\n",
       "        vertical-align: top;\n",
       "    }\n",
       "\n",
       "    .dataframe thead th {\n",
       "        text-align: right;\n",
       "    }\n",
       "</style>\n",
       "<table border=\"1\" class=\"dataframe\">\n",
       "  <thead>\n",
       "    <tr style=\"text-align: right;\">\n",
       "      <th></th>\n",
       "      <th>اسم الفيلم</th>\n",
       "      <th>الشهر</th>\n",
       "      <th>السنة</th>\n",
       "      <th>التصنيف</th>\n",
       "      <th>التقييم</th>\n",
       "      <th>المدة</th>\n",
       "      <th>ملخص</th>\n",
       "      <th>ممثلات</th>\n",
       "      <th>ممثلون</th>\n",
       "      <th>تأليف</th>\n",
       "      <th>إخراج</th>\n",
       "    </tr>\n",
       "  </thead>\n",
       "  <tbody>\n",
       "    <tr>\n",
       "      <th>137</th>\n",
       "      <td>شم النسيم</td>\n",
       "      <td>نوفمبر</td>\n",
       "      <td>1952</td>\n",
       "      <td>None</td>\n",
       "      <td>5.8</td>\n",
       "      <td>100.0</td>\n",
       "      <td>يروي الفيلم مظاهر عيد شم النسيم وذلك من خلال ا...</td>\n",
       "      <td>[سميرة أحمد, زينات صدقي, رفيعة الشال, برلنتي ع...</td>\n",
       "      <td>[محمود شكوكو, حسن فايق, محمود عزمي, محمد توفيق...</td>\n",
       "      <td>السيد بدير</td>\n",
       "      <td>فرنيتشو,حمادة عبدالوهاب</td>\n",
       "    </tr>\n",
       "  </tbody>\n",
       "</table>\n",
       "</div>"
      ],
      "text/plain": [
       "    اسم الفيلم   الشهر السنة التصنيف  التقييم  المدة  \\\n",
       "137  شم النسيم  نوفمبر  1952    None      5.8  100.0   \n",
       "\n",
       "                                                  ملخص  \\\n",
       "137  يروي الفيلم مظاهر عيد شم النسيم وذلك من خلال ا...   \n",
       "\n",
       "                                                ممثلات  \\\n",
       "137  [سميرة أحمد, زينات صدقي, رفيعة الشال, برلنتي ع...   \n",
       "\n",
       "                                                ممثلون       تأليف  \\\n",
       "137  [محمود شكوكو, حسن فايق, محمود عزمي, محمد توفيق...  السيد بدير   \n",
       "\n",
       "                       إخراج  \n",
       "137  فرنيتشو,حمادة عبدالوهاب  "
      ]
     },
     "execution_count": 99,
     "metadata": {},
     "output_type": "execute_result"
    }
   ],
   "source": [
    "movies_50s_df.sample()"
   ]
  },
  {
   "cell_type": "markdown",
   "metadata": {},
   "source": [
    "### *_1960s Movies_*"
   ]
  },
  {
   "cell_type": "code",
   "execution_count": 100,
   "metadata": {
    "collapsed": true
   },
   "outputs": [
    {
     "data": {
      "text/html": [
       "<div>\n",
       "<style scoped>\n",
       "    .dataframe tbody tr th:only-of-type {\n",
       "        vertical-align: middle;\n",
       "    }\n",
       "\n",
       "    .dataframe tbody tr th {\n",
       "        vertical-align: top;\n",
       "    }\n",
       "\n",
       "    .dataframe thead th {\n",
       "        text-align: right;\n",
       "    }\n",
       "</style>\n",
       "<table border=\"1\" class=\"dataframe\">\n",
       "  <thead>\n",
       "    <tr style=\"text-align: right;\">\n",
       "      <th></th>\n",
       "      <th>اسم الفيلم</th>\n",
       "      <th>تاريخ العرض</th>\n",
       "      <th>التصنيف</th>\n",
       "      <th>المدة</th>\n",
       "      <th>ملخص</th>\n",
       "      <th>تأليف</th>\n",
       "      <th>تمثيل</th>\n",
       "      <th>إنتاج</th>\n",
       "      <th>تصوير</th>\n",
       "      <th>مونتاج</th>\n",
       "      <th>ديكور</th>\n",
       "      <th>ملابس</th>\n",
       "      <th>موسيقى</th>\n",
       "      <th>إخراج</th>\n",
       "      <th>توزيع</th>\n",
       "    </tr>\n",
       "  </thead>\n",
       "  <tbody>\n",
       "    <tr>\n",
       "      <th>117</th>\n",
       "      <td>بلا عودة</td>\n",
       "      <td>31 يناير 1961</td>\n",
       "      <td>ﺟﺮﻳﻤﺔ</td>\n",
       "      <td>120.0</td>\n",
       "      <td>تقع الفتاة الفقيرة (مريم فخر الدين) في فخ عصاب...</td>\n",
       "      <td>فتحي زكي,عبدالفتاح مصطفى,ريمون نصور</td>\n",
       "      <td>مريم فخر الدين,رشدي أباظة,زوزو ماضي,إستيفان رو...</td>\n",
       "      <td>ممفيس فيلم,كريكور تشاكماكجيان,سيد علي</td>\n",
       "      <td>مسعود عيسى,عبدالله ياقوت,مكرم سالم</td>\n",
       "      <td>عطية عبده,ميشيل الياس,كمال فهمي</td>\n",
       "      <td>ماهر عبدالنور,عجمي عبدالرحمن</td>\n",
       "      <td>أحمد الكسار</td>\n",
       "      <td>NaN</td>\n",
       "      <td>ريمون نصور,فؤاد شافعي,اسحق هرمينا</td>\n",
       "      <td>أفلام الشرق الأوسط (وجدى عنايت)</td>\n",
       "    </tr>\n",
       "    <tr>\n",
       "      <th>514</th>\n",
       "      <td>فندق الأحلام</td>\n",
       "      <td>1968</td>\n",
       "      <td>NaN</td>\n",
       "      <td>100.0</td>\n",
       "      <td>صديقان، يعملان حارسان على إحدى  الفيللات الفخم...</td>\n",
       "      <td>أنور عبدالملك,فاروق عجرمة,شكرالله نعمه</td>\n",
       "      <td>دريد لحام,نهاد قلعي,ميشلين ضو,فريال كريم,عمر ذ...</td>\n",
       "      <td>ستوديو سيريا فيلم,أفلام إلياس حداد,شكرالله نعمه</td>\n",
       "      <td>محمد الرواس,غسان هارون</td>\n",
       "      <td>NaN</td>\n",
       "      <td>ستوديوهات هارون</td>\n",
       "      <td>NaN</td>\n",
       "      <td>ميشيل طعمه,إلياس الرحباني,صباح,دريد لحام</td>\n",
       "      <td>ألبير نجيب,زكي صالح,يوسف شرف الدين</td>\n",
       "      <td>إلياس الحلو</td>\n",
       "    </tr>\n",
       "    <tr>\n",
       "      <th>32</th>\n",
       "      <td>وداعا يا حب</td>\n",
       "      <td>25 ابريل 1960</td>\n",
       "      <td>اﺳﺘﻌﺮاﺿﻲ</td>\n",
       "      <td>135.0</td>\n",
       "      <td>يعثر المطرب الشاب (شريف) على سلسلة ذهبية أمام ...</td>\n",
       "      <td>فتحي أبو الفضل</td>\n",
       "      <td>مريم فخر الدين,محرم فؤاد,آمال فريد,نجوى فؤاد,خ...</td>\n",
       "      <td>ماجد فيلم,حسن موافى,وليم رزق</td>\n",
       "      <td>محمد عبدالعظيم,عادل عبدالعظيم,محمد زقلط,إبراهي...</td>\n",
       "      <td>عطية عبده,جميل عبدالعزيز,انجا وميلا</td>\n",
       "      <td>عبدالحميد السخاوي,عباس حلمي,عبدالمنعم على</td>\n",
       "      <td>NaN</td>\n",
       "      <td>مأمون الشناوي,عطية شرارة,منير مراد,بليغ حمدي,م...</td>\n",
       "      <td>حسام الدين مصطفى,طلعت علام</td>\n",
       "      <td>أفلام الشرق الأوسط (وجدى عنايت)</td>\n",
       "    </tr>\n",
       "    <tr>\n",
       "      <th>26</th>\n",
       "      <td>وطني وحبي</td>\n",
       "      <td>14 ابريل 1960</td>\n",
       "      <td>NaN</td>\n",
       "      <td>120.0</td>\n",
       "      <td>وحيد ضابط مصرى يشغل مركزًا كبيرًا فى القيادة ا...</td>\n",
       "      <td>فؤاد القصاص,محمد مصطفى سامي,حسين صدقي</td>\n",
       "      <td>حسين صدقي,عمر الحريري,حسن البارودي,صلاح منصور,...</td>\n",
       "      <td>فاروق المعتم,أفلام مصر الحديثة \"حسين صدقي\"</td>\n",
       "      <td>عادل عبدالعظيم,محمد عبدالعظيم</td>\n",
       "      <td>أحمد إسماعيل</td>\n",
       "      <td>روبرت شارفنبرج,عبدالمنعم على,ستوديو الأهرام (س...</td>\n",
       "      <td>NaN</td>\n",
       "      <td>NaN</td>\n",
       "      <td>حسين صدقي</td>\n",
       "      <td>NaN</td>\n",
       "    </tr>\n",
       "    <tr>\n",
       "      <th>295</th>\n",
       "      <td>المراهقان</td>\n",
       "      <td>20 ابريل 1964</td>\n",
       "      <td>ﻛﻮﻣﻴﺪﻱ</td>\n",
       "      <td>108.0</td>\n",
       "      <td>دراما اجتماعية كوميدية عن شخصين في الخمسين من ...</td>\n",
       "      <td>سيف الدين شوكت,محمد أبو يوسف</td>\n",
       "      <td>سعاد حسني,يوسف فخر الدين,عبدالقادر حسين,عبدالع...</td>\n",
       "      <td>عبدالمسيح,حلمي رفلة</td>\n",
       "      <td>NaN</td>\n",
       "      <td>حسين عفيفي</td>\n",
       "      <td>أنطوان بوليزويس</td>\n",
       "      <td>NaN</td>\n",
       "      <td>فؤاد الظاهري</td>\n",
       "      <td>سيف الدين شوكت,طلعت علام</td>\n",
       "      <td>NaN</td>\n",
       "    </tr>\n",
       "  </tbody>\n",
       "</table>\n",
       "</div>"
      ],
      "text/plain": [
       "       اسم الفيلم    تاريخ العرض   التصنيف  المدة  \\\n",
       "117      بلا عودة  31 يناير 1961     ﺟﺮﻳﻤﺔ  120.0   \n",
       "514  فندق الأحلام           1968       NaN  100.0   \n",
       "32    وداعا يا حب  25 ابريل 1960  اﺳﺘﻌﺮاﺿﻲ  135.0   \n",
       "26      وطني وحبي  14 ابريل 1960       NaN  120.0   \n",
       "295     المراهقان  20 ابريل 1964    ﻛﻮﻣﻴﺪﻱ  108.0   \n",
       "\n",
       "                                                  ملخص  \\\n",
       "117  تقع الفتاة الفقيرة (مريم فخر الدين) في فخ عصاب...   \n",
       "514  صديقان، يعملان حارسان على إحدى  الفيللات الفخم...   \n",
       "32   يعثر المطرب الشاب (شريف) على سلسلة ذهبية أمام ...   \n",
       "26   وحيد ضابط مصرى يشغل مركزًا كبيرًا فى القيادة ا...   \n",
       "295  دراما اجتماعية كوميدية عن شخصين في الخمسين من ...   \n",
       "\n",
       "                                      تأليف  \\\n",
       "117     فتحي زكي,عبدالفتاح مصطفى,ريمون نصور   \n",
       "514  أنور عبدالملك,فاروق عجرمة,شكرالله نعمه   \n",
       "32                           فتحي أبو الفضل   \n",
       "26    فؤاد القصاص,محمد مصطفى سامي,حسين صدقي   \n",
       "295            سيف الدين شوكت,محمد أبو يوسف   \n",
       "\n",
       "                                                 تمثيل  \\\n",
       "117  مريم فخر الدين,رشدي أباظة,زوزو ماضي,إستيفان رو...   \n",
       "514  دريد لحام,نهاد قلعي,ميشلين ضو,فريال كريم,عمر ذ...   \n",
       "32   مريم فخر الدين,محرم فؤاد,آمال فريد,نجوى فؤاد,خ...   \n",
       "26   حسين صدقي,عمر الحريري,حسن البارودي,صلاح منصور,...   \n",
       "295  سعاد حسني,يوسف فخر الدين,عبدالقادر حسين,عبدالع...   \n",
       "\n",
       "                                               إنتاج  \\\n",
       "117            ممفيس فيلم,كريكور تشاكماكجيان,سيد علي   \n",
       "514  ستوديو سيريا فيلم,أفلام إلياس حداد,شكرالله نعمه   \n",
       "32                      ماجد فيلم,حسن موافى,وليم رزق   \n",
       "26        فاروق المعتم,أفلام مصر الحديثة \"حسين صدقي\"   \n",
       "295                              عبدالمسيح,حلمي رفلة   \n",
       "\n",
       "                                                 تصوير  \\\n",
       "117                 مسعود عيسى,عبدالله ياقوت,مكرم سالم   \n",
       "514                             محمد الرواس,غسان هارون   \n",
       "32   محمد عبدالعظيم,عادل عبدالعظيم,محمد زقلط,إبراهي...   \n",
       "26                       عادل عبدالعظيم,محمد عبدالعظيم   \n",
       "295                                                NaN   \n",
       "\n",
       "                                  مونتاج  \\\n",
       "117      عطية عبده,ميشيل الياس,كمال فهمي   \n",
       "514                                  NaN   \n",
       "32   عطية عبده,جميل عبدالعزيز,انجا وميلا   \n",
       "26                          أحمد إسماعيل   \n",
       "295                           حسين عفيفي   \n",
       "\n",
       "                                                 ديكور        ملابس  \\\n",
       "117                       ماهر عبدالنور,عجمي عبدالرحمن  أحمد الكسار   \n",
       "514                                    ستوديوهات هارون          NaN   \n",
       "32           عبدالحميد السخاوي,عباس حلمي,عبدالمنعم على          NaN   \n",
       "26   روبرت شارفنبرج,عبدالمنعم على,ستوديو الأهرام (س...          NaN   \n",
       "295                                    أنطوان بوليزويس          NaN   \n",
       "\n",
       "                                                موسيقى  \\\n",
       "117                                                NaN   \n",
       "514           ميشيل طعمه,إلياس الرحباني,صباح,دريد لحام   \n",
       "32   مأمون الشناوي,عطية شرارة,منير مراد,بليغ حمدي,م...   \n",
       "26                                                 NaN   \n",
       "295                                       فؤاد الظاهري   \n",
       "\n",
       "                                  إخراج                            توزيع  \n",
       "117   ريمون نصور,فؤاد شافعي,اسحق هرمينا  أفلام الشرق الأوسط (وجدى عنايت)  \n",
       "514  ألبير نجيب,زكي صالح,يوسف شرف الدين                      إلياس الحلو  \n",
       "32           حسام الدين مصطفى,طلعت علام  أفلام الشرق الأوسط (وجدى عنايت)  \n",
       "26                            حسين صدقي                              NaN  \n",
       "295            سيف الدين شوكت,طلعت علام                              NaN  "
      ]
     },
     "execution_count": 100,
     "metadata": {},
     "output_type": "execute_result"
    }
   ],
   "source": [
    "sixties_df.sample(5)"
   ]
  },
  {
   "cell_type": "code",
   "execution_count": 101,
   "metadata": {
    "collapsed": true
   },
   "outputs": [
    {
     "name": "stdout",
     "output_type": "stream",
     "text": [
      "Column Name:  ‫اسم الفيلم‬\n",
      "count         651\n",
      "unique        646\n",
      "top       المتمرد\n",
      "freq            4\n",
      "Name: اسم الفيلم, dtype: object\n",
      "\n",
      "--------------------\n",
      "Column Name:  ‫تاريخ العرض‬\n",
      "count      651\n",
      "unique     324\n",
      "top       1968\n",
      "freq        42\n",
      "Name: تاريخ العرض, dtype: object\n",
      "\n",
      "--------------------\n",
      "Column Name:  ‫التصنيف‬\n",
      "count       359\n",
      "unique       15\n",
      "top       ﺩﺭاﻣﺎ\n",
      "freq        115\n",
      "Name: التصنيف, dtype: object\n",
      "\n",
      "--------------------\n",
      "Column Name:  ‫المدة‬\n",
      "count    651.000000\n",
      "mean     102.518280\n",
      "std       13.958636\n",
      "min       30.000000\n",
      "25%       95.000000\n",
      "50%      101.000000\n",
      "75%      105.400000\n",
      "max      195.000000\n",
      "Name: المدة, dtype: float64\n",
      "\n",
      "--------------------\n",
      "Column Name:  ‫ملخص‬\n",
      "count                                                   560\n",
      "unique                                                  557\n",
      "top       عام 1867 فى تونس، فى حى المزاريق، ينهب رجال ال...\n",
      "freq                                                      4\n",
      "Name: ملخص, dtype: object\n",
      "\n",
      "--------------------\n",
      "Column Name:  ‫تأليف‬\n",
      "count            575\n",
      "unique           481\n",
      "top       محمد سلمان\n",
      "freq              10\n",
      "Name: تأليف, dtype: object\n",
      "\n",
      "--------------------\n",
      "Column Name:  ‫تمثيل‬\n",
      "count            632\n",
      "unique           616\n",
      "top       أحمد مشتهى\n",
      "freq              10\n",
      "Name: تمثيل, dtype: object\n",
      "\n",
      "--------------------\n",
      "Column Name:  ‫إنتاج‬\n",
      "count               490\n",
      "unique              448\n",
      "top       كامل الحفناوي\n",
      "freq                  5\n",
      "Name: إنتاج, dtype: object\n",
      "\n",
      "--------------------\n",
      "Column Name:  ‫تصوير‬\n",
      "count             530\n",
      "unique            356\n",
      "top       برونو سالفي\n",
      "freq               12\n",
      "Name: تصوير, dtype: object\n",
      "\n",
      "--------------------\n",
      "Column Name:  ‫مونتاج‬\n",
      "count                468\n",
      "unique               330\n",
      "top       عبدالعزيز فخري\n",
      "freq                  13\n",
      "Name: مونتاج, dtype: object\n",
      "\n",
      "--------------------\n",
      "Column Name:  ‫ديكور‬\n",
      "count                    398\n",
      "unique                   291\n",
      "top       حلمي عزب,نجيب خوري\n",
      "freq                      18\n",
      "Name: ديكور, dtype: object\n",
      "\n",
      "--------------------\n",
      "Column Name:  ‫ملابس‬\n",
      "count              82\n",
      "unique             45\n",
      "top       فوزية حجازي\n",
      "freq                9\n",
      "Name: ملابس, dtype: object\n",
      "\n",
      "--------------------\n",
      "Column Name:  ‫موسيقى‬\n",
      "count              335\n",
      "unique             218\n",
      "top       فؤاد الظاهري\n",
      "freq                32\n",
      "Name: موسيقى, dtype: object\n",
      "\n",
      "--------------------\n",
      "Column Name:  ‫إخراج‬\n",
      "count                      604\n",
      "unique                     452\n",
      "top       حسن الصيفي,جمال عمار\n",
      "freq                         9\n",
      "Name: إخراج, dtype: object\n",
      "\n",
      "--------------------\n",
      "Column Name:  ‫توزيع‬\n",
      "count                                     278\n",
      "unique                                    102\n",
      "top       دولار فيلم (إسماعيل الكردي وأولاده)\n",
      "freq                                       28\n",
      "Name: توزيع, dtype: object\n",
      "\n",
      "--------------------\n"
     ]
    }
   ],
   "source": [
    "describe_dataframe(sixties_df)"
   ]
  },
  {
   "cell_type": "code",
   "execution_count": 102,
   "metadata": {
    "collapsed": true
   },
   "outputs": [
    {
     "data": {
      "text/plain": [
       "ﺩﺭاﻣﺎ           115\n",
       "ﺭﻭﻣﺎﻧﺴﻲ          87\n",
       "ﻛﻮﻣﻴﺪﻱ           76\n",
       "ﺟﺮﻳﻤﺔ            21\n",
       "اﺳﺘﻌﺮاﺿﻲ         18\n",
       "ﺣﺮﻛﺔ             11\n",
       "تاريخي            9\n",
       "ﺗﺸﻮﻳﻖ ﻭﺇﺛﺎﺭﺓ      6\n",
       "ﺳﻴﺮﺓ ﺫاﺗﻴﺔ        5\n",
       "ﻏﻤﻮﺽ              3\n",
       "ﻣﻐﺎﻣﺮاﺕ           3\n",
       "ﺧﻴﺎﻝ ﻋﻠﻤﻲ         2\n",
       "ﻋﺎﺋﻠﻲ             1\n",
       "ﻭﺛﺎﺋﻘﻲ            1\n",
       "ﻗﺼﻴﺮ              1\n",
       "Name: التصنيف, dtype: int64"
      ]
     },
     "execution_count": 102,
     "metadata": {},
     "output_type": "execute_result"
    }
   ],
   "source": [
    "sixties_df['التصنيف'].value_counts()"
   ]
  },
  {
   "cell_type": "code",
   "execution_count": 103,
   "metadata": {
    "collapsed": true
   },
   "outputs": [
    {
     "data": {
      "text/plain": [
       "اسم الفيلم      object\n",
       "تاريخ العرض     object\n",
       "التصنيف         object\n",
       "المدة          float64\n",
       "ملخص            object\n",
       "تأليف           object\n",
       "تمثيل           object\n",
       "إنتاج           object\n",
       "تصوير           object\n",
       "مونتاج          object\n",
       "ديكور           object\n",
       "ملابس           object\n",
       "موسيقى          object\n",
       "إخراج           object\n",
       "توزيع           object\n",
       "dtype: object"
      ]
     },
     "execution_count": 103,
     "metadata": {},
     "output_type": "execute_result"
    }
   ],
   "source": [
    "sixties_df.dtypes"
   ]
  },
  {
   "cell_type": "code",
   "execution_count": 104,
   "metadata": {
    "collapsed": true
   },
   "outputs": [
    {
     "data": {
      "text/html": [
       "<div>\n",
       "<style scoped>\n",
       "    .dataframe tbody tr th:only-of-type {\n",
       "        vertical-align: middle;\n",
       "    }\n",
       "\n",
       "    .dataframe tbody tr th {\n",
       "        vertical-align: top;\n",
       "    }\n",
       "\n",
       "    .dataframe thead th {\n",
       "        text-align: right;\n",
       "    }\n",
       "</style>\n",
       "<table border=\"1\" class=\"dataframe\">\n",
       "  <thead>\n",
       "    <tr style=\"text-align: right;\">\n",
       "      <th></th>\n",
       "      <th>اسم الفيلم</th>\n",
       "      <th>تاريخ العرض</th>\n",
       "      <th>التصنيف</th>\n",
       "      <th>المدة</th>\n",
       "      <th>ملخص</th>\n",
       "      <th>تأليف</th>\n",
       "      <th>تمثيل</th>\n",
       "      <th>إنتاج</th>\n",
       "      <th>تصوير</th>\n",
       "      <th>مونتاج</th>\n",
       "      <th>ديكور</th>\n",
       "      <th>ملابس</th>\n",
       "      <th>موسيقى</th>\n",
       "      <th>إخراج</th>\n",
       "      <th>توزيع</th>\n",
       "    </tr>\n",
       "  </thead>\n",
       "  <tbody>\n",
       "    <tr>\n",
       "      <th>518</th>\n",
       "      <td>المتمرد</td>\n",
       "      <td>1968</td>\n",
       "      <td>NaN</td>\n",
       "      <td>100.0</td>\n",
       "      <td>عام 1867 فى تونس، فى حى المزاريق، ينهب رجال ال...</td>\n",
       "      <td>محمد المرزوقى,عمار الخليفي</td>\n",
       "      <td>سميرة أحمد,طاهر وهب,حطاب الذيب,حسيبة رشدي,الطا...</td>\n",
       "      <td>تونس,عمار الخليفي</td>\n",
       "      <td>عز الدين بن عمار</td>\n",
       "      <td>فوزية طابع,عمار الخليفي</td>\n",
       "      <td>محمد السهيلى</td>\n",
       "      <td>NaN</td>\n",
       "      <td>NaN</td>\n",
       "      <td>مصطفى بن إبراهيم,عمار الخليفي</td>\n",
       "      <td>NaN</td>\n",
       "    </tr>\n",
       "    <tr>\n",
       "      <th>525</th>\n",
       "      <td>المتمرد</td>\n",
       "      <td>1968</td>\n",
       "      <td>NaN</td>\n",
       "      <td>100.0</td>\n",
       "      <td>عام 1867 فى تونس، فى حى المزاريق، ينهب رجال ال...</td>\n",
       "      <td>محمد المرزوقى,عمار الخليفي</td>\n",
       "      <td>سميرة أحمد,طاهر وهب,حطاب الذيب,حسيبة رشدي,الطا...</td>\n",
       "      <td>تونس,عمار الخليفي</td>\n",
       "      <td>عز الدين بن عمار</td>\n",
       "      <td>فوزية طابع,عمار الخليفي</td>\n",
       "      <td>محمد السهيلى</td>\n",
       "      <td>NaN</td>\n",
       "      <td>NaN</td>\n",
       "      <td>مصطفى بن إبراهيم,عمار الخليفي</td>\n",
       "      <td>NaN</td>\n",
       "    </tr>\n",
       "    <tr>\n",
       "      <th>532</th>\n",
       "      <td>المتمرد</td>\n",
       "      <td>1968</td>\n",
       "      <td>NaN</td>\n",
       "      <td>100.0</td>\n",
       "      <td>عام 1867 فى تونس، فى حى المزاريق، ينهب رجال ال...</td>\n",
       "      <td>محمد المرزوقى,عمار الخليفي</td>\n",
       "      <td>سميرة أحمد,طاهر وهب,حطاب الذيب,حسيبة رشدي,الطا...</td>\n",
       "      <td>تونس,عمار الخليفي</td>\n",
       "      <td>عز الدين بن عمار</td>\n",
       "      <td>فوزية طابع,عمار الخليفي</td>\n",
       "      <td>محمد السهيلى</td>\n",
       "      <td>NaN</td>\n",
       "      <td>NaN</td>\n",
       "      <td>مصطفى بن إبراهيم,عمار الخليفي</td>\n",
       "      <td>NaN</td>\n",
       "    </tr>\n",
       "  </tbody>\n",
       "</table>\n",
       "</div>"
      ],
      "text/plain": [
       "    اسم الفيلم تاريخ العرض التصنيف  المدة  \\\n",
       "518    المتمرد        1968     NaN  100.0   \n",
       "525    المتمرد        1968     NaN  100.0   \n",
       "532    المتمرد        1968     NaN  100.0   \n",
       "\n",
       "                                                  ملخص  \\\n",
       "518  عام 1867 فى تونس، فى حى المزاريق، ينهب رجال ال...   \n",
       "525  عام 1867 فى تونس، فى حى المزاريق، ينهب رجال ال...   \n",
       "532  عام 1867 فى تونس، فى حى المزاريق، ينهب رجال ال...   \n",
       "\n",
       "                          تأليف  \\\n",
       "518  محمد المرزوقى,عمار الخليفي   \n",
       "525  محمد المرزوقى,عمار الخليفي   \n",
       "532  محمد المرزوقى,عمار الخليفي   \n",
       "\n",
       "                                                 تمثيل              إنتاج  \\\n",
       "518  سميرة أحمد,طاهر وهب,حطاب الذيب,حسيبة رشدي,الطا...  تونس,عمار الخليفي   \n",
       "525  سميرة أحمد,طاهر وهب,حطاب الذيب,حسيبة رشدي,الطا...  تونس,عمار الخليفي   \n",
       "532  سميرة أحمد,طاهر وهب,حطاب الذيب,حسيبة رشدي,الطا...  تونس,عمار الخليفي   \n",
       "\n",
       "                تصوير                   مونتاج         ديكور ملابس موسيقى  \\\n",
       "518  عز الدين بن عمار  فوزية طابع,عمار الخليفي  محمد السهيلى   NaN    NaN   \n",
       "525  عز الدين بن عمار  فوزية طابع,عمار الخليفي  محمد السهيلى   NaN    NaN   \n",
       "532  عز الدين بن عمار  فوزية طابع,عمار الخليفي  محمد السهيلى   NaN    NaN   \n",
       "\n",
       "                             إخراج توزيع  \n",
       "518  مصطفى بن إبراهيم,عمار الخليفي   NaN  \n",
       "525  مصطفى بن إبراهيم,عمار الخليفي   NaN  \n",
       "532  مصطفى بن إبراهيم,عمار الخليفي   NaN  "
      ]
     },
     "execution_count": 104,
     "metadata": {},
     "output_type": "execute_result"
    }
   ],
   "source": [
    "sixties_df[sixties_df.duplicated(subset = ['اسم الفيلم', 'تمثيل'])]"
   ]
  },
  {
   "cell_type": "markdown",
   "metadata": {},
   "source": [
    "_**Cleansing**_"
   ]
  },
  {
   "cell_type": "code",
   "execution_count": 105,
   "metadata": {},
   "outputs": [],
   "source": [
    "sixties_df = change_empty_entries_to_None(sixties_df)"
   ]
  },
  {
   "cell_type": "code",
   "execution_count": 106,
   "metadata": {},
   "outputs": [],
   "source": [
    "sixties_df.drop_duplicates(subset = ['اسم الفيلم', 'تمثيل']\n",
    "                          , inplace= True, keep = 'last')"
   ]
  },
  {
   "cell_type": "code",
   "execution_count": 107,
   "metadata": {
    "scrolled": true
   },
   "outputs": [],
   "source": [
    "sixties_df.drop(inplace = True, index = \\\n",
    "               sixties_df.loc[sixties_df['التصنيف'] == 'ﻭﺛﺎﺋﻘﻲ'].index)"
   ]
  },
  {
   "cell_type": "code",
   "execution_count": 108,
   "metadata": {},
   "outputs": [],
   "source": [
    "sixties_df = sixties_df.reset_index(drop = True)"
   ]
  },
  {
   "cell_type": "code",
   "execution_count": 109,
   "metadata": {},
   "outputs": [],
   "source": [
    "date_expanded_60s = sixties_df.copy(deep = True)"
   ]
  },
  {
   "cell_type": "code",
   "execution_count": 110,
   "metadata": {},
   "outputs": [],
   "source": [
    "date_expanded_60s = expand_release_date(sixties_df)\n",
    "date_expanded_60s = unify_date_format(date_expanded_60s)"
   ]
  },
  {
   "cell_type": "code",
   "execution_count": 111,
   "metadata": {},
   "outputs": [],
   "source": [
    "date_expanded_60s.drop(columns=['تاريخ العرض', 'اليوم'], inplace= True)"
   ]
  },
  {
   "cell_type": "code",
   "execution_count": 112,
   "metadata": {},
   "outputs": [],
   "source": [
    "# sixties_df.to_csv('1960s_data/1960s_no_duplicates.csv')"
   ]
  },
  {
   "cell_type": "code",
   "execution_count": 113,
   "metadata": {},
   "outputs": [],
   "source": [
    "date_expanded_60s['التقييم'] = None"
   ]
  },
  {
   "cell_type": "code",
   "execution_count": 114,
   "metadata": {},
   "outputs": [],
   "source": [
    "# date_expanded_1960s_df.to_csv('1960s_data/date_expanded_1960s.csv')"
   ]
  },
  {
   "cell_type": "code",
   "execution_count": 115,
   "metadata": {},
   "outputs": [],
   "source": [
    "date_expanded_60s['التقييم'] = date_expanded_60s['التقييم'].astype(float)"
   ]
  },
  {
   "cell_type": "markdown",
   "metadata": {},
   "source": [
    "_**Filling Missing Values**_"
   ]
  },
  {
   "cell_type": "markdown",
   "metadata": {},
   "source": [
    "* **Add Webscraped Ratings**"
   ]
  },
  {
   "cell_type": "code",
   "execution_count": 116,
   "metadata": {},
   "outputs": [],
   "source": [
    "foreigns_filtered_60s = date_expanded_60s.copy(deep = True)"
   ]
  },
  {
   "cell_type": "code",
   "execution_count": 117,
   "metadata": {},
   "outputs": [],
   "source": [
    "foreigns_filtered_60s = filter_foregin_movies(date_expanded_60s \\\n",
    "                                                , '1960s_data/1960s_countries.txt')"
   ]
  },
  {
   "cell_type": "code",
   "execution_count": 118,
   "metadata": {},
   "outputs": [],
   "source": [
    "ratings_added_60s = foreigns_filtered_60s.copy(deep = True)"
   ]
  },
  {
   "cell_type": "code",
   "execution_count": 119,
   "metadata": {},
   "outputs": [],
   "source": [
    "ratings_added_60s = add_scraped_features(foreigns_filtered_60s \\\n",
    "                                    , '1960s_data/1960s_ratings.txt' \\\n",
    "                                    , 'التقييم')"
   ]
  },
  {
   "cell_type": "code",
   "execution_count": 120,
   "metadata": {},
   "outputs": [],
   "source": [
    "genre_added_60s = ratings_added_60s.copy(deep = True)"
   ]
  },
  {
   "cell_type": "code",
   "execution_count": 121,
   "metadata": {
    "scrolled": true
   },
   "outputs": [],
   "source": [
    "# ratings_added_60s_df.to_csv('1960s_data/ratings_added_df_60s.csv')"
   ]
  },
  {
   "cell_type": "code",
   "execution_count": 122,
   "metadata": {},
   "outputs": [],
   "source": [
    "genre_added_60s = add_scraped_features(ratings_added_60s \\\n",
    "                                          , '1960s_data/1960s_genres.txt' \\\n",
    "                                         , 'التصنيف')"
   ]
  },
  {
   "cell_type": "code",
   "execution_count": 123,
   "metadata": {},
   "outputs": [],
   "source": [
    "# genre_added_60s_df.to_csv('1960s_data/genre_added_60s_df.csv')"
   ]
  },
  {
   "cell_type": "code",
   "execution_count": 124,
   "metadata": {},
   "outputs": [
    {
     "data": {
      "text/plain": [
       "ﺩﺭاﻣﺎ                171\n",
       "ﻛﻮﻣﻴﺪﻱ                59\n",
       "ﺭﻭﻣﺎﻧﺴﻲ               46\n",
       "ﺗﺸﻮﻳﻖ ﻭﺇﺛﺎﺭﺓ          18\n",
       "موسيقي / استعراضي     13\n",
       "ﺟﺮﻳﻤﺔ                 12\n",
       "ﺣﺮﻛﺔ                   7\n",
       "ﻣﻐﺎﻣﺮاﺕ                4\n",
       "ﺧﻴﺎﻝ                   4\n",
       "ﺳﻴﺮﺓ ﺫاﺗﻴﺔ             4\n",
       "ﻋﺎﺋﻠﻲ                  4\n",
       "ﺧﻴﺎﻝ ﻋﻠﻤﻲ              2\n",
       "تاريخي                 2\n",
       "ﻗﺼﻴﺮ                   1\n",
       "ﻏﻤﻮﺽ                   1\n",
       "Name: التصنيف, dtype: int64"
      ]
     },
     "execution_count": 124,
     "metadata": {},
     "output_type": "execute_result"
    }
   ],
   "source": [
    "genre_added_60s['التصنيف'].value_counts()"
   ]
  },
  {
   "cell_type": "code",
   "execution_count": 125,
   "metadata": {},
   "outputs": [],
   "source": [
    "synopsis_added_60s = genre_added_60s.copy(deep = True)"
   ]
  },
  {
   "cell_type": "code",
   "execution_count": 126,
   "metadata": {},
   "outputs": [],
   "source": [
    "synopsis_added_60s = add_scraped_features(genre_added_60s \\\n",
    "                                          , '1960s_data/1960s_synopses.txt' \\\n",
    "                                         , genre_added_60s.columns[3])"
   ]
  },
  {
   "cell_type": "code",
   "execution_count": 127,
   "metadata": {},
   "outputs": [],
   "source": [
    "synopsis_added_60s = synopsis_added_60s.reset_index(drop=True)"
   ]
  },
  {
   "cell_type": "code",
   "execution_count": 128,
   "metadata": {},
   "outputs": [
    {
     "name": "stderr",
     "output_type": "stream",
     "text": [
      "/Users/karefsn/Development/anaconda3/lib/python3.7/site-packages/ipykernel_launcher.py:20: DeprecationWarning: The truth value of an empty array is ambiguous. Returning False, but in future this will result in an error. Use `array.size > 0` to check that an array is not empty.\n",
      "/Users/karefsn/Development/anaconda3/lib/python3.7/site-packages/ipykernel_launcher.py:23: DeprecationWarning: The truth value of an empty array is ambiguous. Returning False, but in future this will result in an error. Use `array.size > 0` to check that an array is not empty.\n"
     ]
    },
    {
     "data": {
      "text/html": [
       "<div>\n",
       "<style scoped>\n",
       "    .dataframe tbody tr th:only-of-type {\n",
       "        vertical-align: middle;\n",
       "    }\n",
       "\n",
       "    .dataframe tbody tr th {\n",
       "        vertical-align: top;\n",
       "    }\n",
       "\n",
       "    .dataframe thead th {\n",
       "        text-align: right;\n",
       "    }\n",
       "</style>\n",
       "<table border=\"1\" class=\"dataframe\">\n",
       "  <thead>\n",
       "    <tr style=\"text-align: right;\">\n",
       "      <th></th>\n",
       "      <th>اسم الفيلم</th>\n",
       "      <th>التصنيف</th>\n",
       "      <th>المدة</th>\n",
       "      <th>ملخص</th>\n",
       "      <th>تأليف</th>\n",
       "      <th>إنتاج</th>\n",
       "      <th>تصوير</th>\n",
       "      <th>مونتاج</th>\n",
       "      <th>ديكور</th>\n",
       "      <th>ملابس</th>\n",
       "      <th>موسيقى</th>\n",
       "      <th>إخراج</th>\n",
       "      <th>توزيع</th>\n",
       "      <th>الشهر</th>\n",
       "      <th>السنة</th>\n",
       "      <th>التقييم</th>\n",
       "      <th>ممثلات</th>\n",
       "      <th>ممثلون</th>\n",
       "    </tr>\n",
       "  </thead>\n",
       "  <tbody>\n",
       "    <tr>\n",
       "      <th>81</th>\n",
       "      <td>لماذا أعيش</td>\n",
       "      <td>ﺗﺸﻮﻳﻖ ﻭﺇﺛﺎﺭﺓ</td>\n",
       "      <td>90.0</td>\n",
       "      <td>مصطفى شاب من أصل طيب، يتولى رعاية أسرته الفقير...</td>\n",
       "      <td>عبدالغني قمر</td>\n",
       "      <td>ابراهيم والى,عاطف رزق,كمال صلاح الدين</td>\n",
       "      <td>محمود فهمي</td>\n",
       "      <td>مصطفى مختار</td>\n",
       "      <td>حلمي عزب</td>\n",
       "      <td>None</td>\n",
       "      <td>فؤاد الظاهري</td>\n",
       "      <td>إبراهيم عمارة,محمد عمارة,بندق</td>\n",
       "      <td>أفلام إدوار خياط (ا. خيّاط)</td>\n",
       "      <td>يناير</td>\n",
       "      <td>1961</td>\n",
       "      <td>7.6</td>\n",
       "      <td>[سعاد حسني, زوزو نبيل, نجوى فؤاد, كوثر رمزي]</td>\n",
       "      <td>[شكري سرحان, محسن سرحان, كمال صلاح الدين, عبدا...</td>\n",
       "    </tr>\n",
       "  </tbody>\n",
       "</table>\n",
       "</div>"
      ],
      "text/plain": [
       "    اسم الفيلم       التصنيف  المدة  \\\n",
       "81  لماذا أعيش  ﺗﺸﻮﻳﻖ ﻭﺇﺛﺎﺭﺓ   90.0   \n",
       "\n",
       "                                                 ملخص         تأليف  \\\n",
       "81  مصطفى شاب من أصل طيب، يتولى رعاية أسرته الفقير...  عبدالغني قمر   \n",
       "\n",
       "                                    إنتاج       تصوير       مونتاج     ديكور  \\\n",
       "81  ابراهيم والى,عاطف رزق,كمال صلاح الدين  محمود فهمي  مصطفى مختار  حلمي عزب   \n",
       "\n",
       "   ملابس        موسيقى                          إخراج  \\\n",
       "81  None  فؤاد الظاهري  إبراهيم عمارة,محمد عمارة,بندق   \n",
       "\n",
       "                          توزيع  الشهر السنة التقييم  \\\n",
       "81  أفلام إدوار خياط (ا. خيّاط)  يناير  1961     7.6   \n",
       "\n",
       "                                          ممثلات  \\\n",
       "81  [سعاد حسني, زوزو نبيل, نجوى فؤاد, كوثر رمزي]   \n",
       "\n",
       "                                               ممثلون  \n",
       "81  [شكري سرحان, محسن سرحان, كمال صلاح الدين, عبدا...  "
      ]
     },
     "execution_count": 128,
     "metadata": {},
     "output_type": "execute_result"
    }
   ],
   "source": [
    "cast_seperated_60s = seperate_cast_by_gender(synopsis_added_60s)\n",
    "\n",
    "cast_seperated_60s.drop(inplace = True, columns = ['تمثيل'])\n",
    "cast_seperated_60s.sample()"
   ]
  },
  {
   "cell_type": "code",
   "execution_count": 129,
   "metadata": {},
   "outputs": [
    {
     "name": "stdout",
     "output_type": "stream",
     "text": [
      ">> ‫اسم الفيلم: 0%\n",
      ">> ‫التصنيف: 35%\n",
      ">> ‫المدة: 0%\n",
      ">> ‫ملخص: 7%\n",
      ">> ‫تأليف: 9%\n",
      ">> ‫إنتاج: 21%\n",
      ">> ‫تصوير: 15%\n",
      ">> ‫مونتاج: 23%\n",
      ">> ‫ديكور: 30%\n",
      ">> ‫ملابس: 86%\n",
      ">> ‫موسيقى: 45%\n",
      ">> ‫إخراج: 6%\n",
      ">> ‫توزيع: 52%\n",
      ">> ‫الشهر: 0%\n",
      ">> ‫السنة: 0%\n",
      ">> ‫التقييم: 10%\n",
      ">> ‫ممثلات: 0%\n",
      ">> ‫ممثلون: 0%\n"
     ]
    }
   ],
   "source": [
    "get_null_percentage(cast_seperated_60s)"
   ]
  },
  {
   "cell_type": "code",
   "execution_count": 130,
   "metadata": {},
   "outputs": [],
   "source": [
    "cast_seperated_60s.drop(columns = ['توزيع', 'ملابس', 'ديكور', 'مونتاج', \\\n",
    "                         'تصوير', 'موسيقى', 'إنتاج'], inplace = True)"
   ]
  },
  {
   "cell_type": "code",
   "execution_count": 131,
   "metadata": {},
   "outputs": [],
   "source": [
    "movies_60s_df = cast_seperated_60s[['اسم الفيلم', 'الشهر', 'السنة', 'التصنيف',\\\n",
    "                                    'التقييم', 'المدة', 'ملخص', 'ممثلات', 'ممثلون',\n",
    "                                    'تأليف', 'إخراج']]"
   ]
  },
  {
   "cell_type": "code",
   "execution_count": 132,
   "metadata": {},
   "outputs": [
    {
     "data": {
      "text/html": [
       "<div>\n",
       "<style scoped>\n",
       "    .dataframe tbody tr th:only-of-type {\n",
       "        vertical-align: middle;\n",
       "    }\n",
       "\n",
       "    .dataframe tbody tr th {\n",
       "        vertical-align: top;\n",
       "    }\n",
       "\n",
       "    .dataframe thead th {\n",
       "        text-align: right;\n",
       "    }\n",
       "</style>\n",
       "<table border=\"1\" class=\"dataframe\">\n",
       "  <thead>\n",
       "    <tr style=\"text-align: right;\">\n",
       "      <th></th>\n",
       "      <th>اسم الفيلم</th>\n",
       "      <th>الشهر</th>\n",
       "      <th>السنة</th>\n",
       "      <th>التصنيف</th>\n",
       "      <th>التقييم</th>\n",
       "      <th>المدة</th>\n",
       "      <th>ملخص</th>\n",
       "      <th>ممثلات</th>\n",
       "      <th>ممثلون</th>\n",
       "      <th>تأليف</th>\n",
       "      <th>إخراج</th>\n",
       "    </tr>\n",
       "  </thead>\n",
       "  <tbody>\n",
       "    <tr>\n",
       "      <th>171</th>\n",
       "      <td>دنيا البنات</td>\n",
       "      <td>يناير</td>\n",
       "      <td>1962</td>\n",
       "      <td>None</td>\n",
       "      <td>5.9</td>\n",
       "      <td>88.0</td>\n",
       "      <td>أسرة مكونه من تسعة أبناء،الأب موظفٌ بسيط تزوجت...</td>\n",
       "      <td>[ماجدة, شويكار, زينات صدقي, زيزي مصطفى, سلوى س...</td>\n",
       "      <td>[رشدي أباظة, محمد سلطان, سعيد أبو بكر, عبدالخا...</td>\n",
       "      <td>سعد عرفة</td>\n",
       "      <td>سعد عرفة,سيمون صالح,عبدالمجيد سالم</td>\n",
       "    </tr>\n",
       "  </tbody>\n",
       "</table>\n",
       "</div>"
      ],
      "text/plain": [
       "      اسم الفيلم  الشهر السنة التصنيف التقييم  المدة  \\\n",
       "171  دنيا البنات  يناير  1962    None     5.9   88.0   \n",
       "\n",
       "                                                  ملخص  \\\n",
       "171  أسرة مكونه من تسعة أبناء،الأب موظفٌ بسيط تزوجت...   \n",
       "\n",
       "                                                ممثلات  \\\n",
       "171  [ماجدة, شويكار, زينات صدقي, زيزي مصطفى, سلوى س...   \n",
       "\n",
       "                                                ممثلون     تأليف  \\\n",
       "171  [رشدي أباظة, محمد سلطان, سعيد أبو بكر, عبدالخا...  سعد عرفة   \n",
       "\n",
       "                                  إخراج  \n",
       "171  سعد عرفة,سيمون صالح,عبدالمجيد سالم  "
      ]
     },
     "execution_count": 132,
     "metadata": {},
     "output_type": "execute_result"
    }
   ],
   "source": [
    "movies_60s_df.sample()"
   ]
  },
  {
   "cell_type": "markdown",
   "metadata": {},
   "source": [
    "### *_1970s Movies_*"
   ]
  },
  {
   "cell_type": "markdown",
   "metadata": {},
   "source": [
    "_**EDA**_"
   ]
  },
  {
   "cell_type": "code",
   "execution_count": 133,
   "metadata": {
    "collapsed": true
   },
   "outputs": [
    {
     "name": "stdout",
     "output_type": "stream",
     "text": [
      "Column Name:  ‫اسم الفيلم‬\n",
      "count                       793\n",
      "unique                      781\n",
      "top       الحسناء و قاهر الفضاء\n",
      "freq                          4\n",
      "Name: اسم الفيلم, dtype: object\n",
      "\n",
      "--------------------\n",
      "Column Name:  ‫تاريخ العرض‬\n",
      "count      793\n",
      "unique     285\n",
      "top       1972\n",
      "freq        53\n",
      "Name: تاريخ العرض, dtype: object\n",
      "\n",
      "--------------------\n",
      "Column Name:  ‫التصنيف‬\n",
      "count       341\n",
      "unique       18\n",
      "top       ﺩﺭاﻣﺎ\n",
      "freq        140\n",
      "Name: التصنيف, dtype: object\n",
      "\n",
      "--------------------\n",
      "Column Name:  ‫المدة‬\n",
      "count     793\n",
      "unique     89\n",
      "top       100\n",
      "freq       93\n",
      "Name: المدة, dtype: object\n",
      "\n",
      "--------------------\n",
      "Column Name:  ‫ملخص‬\n",
      "count                                                   649\n",
      "unique                                                  649\n",
      "top       تطارد الشرطة سبع الليل تاجر المخدرات، فيقوم بإ...\n",
      "freq                                                      1\n",
      "Name: ملخص, dtype: object\n",
      "\n",
      "--------------------\n",
      "Column Name:  ‫تأليف‬\n",
      "count          684\n",
      "unique         491\n",
      "top       فيصل ندا\n",
      "freq            26\n",
      "Name: تأليف, dtype: object\n",
      "\n",
      "--------------------\n",
      "Column Name:  ‫تمثيل‬\n",
      "count            741\n",
      "unique           725\n",
      "top       عمر الشريف\n",
      "freq               7\n",
      "Name: تمثيل, dtype: object\n",
      "\n",
      "--------------------\n",
      "Column Name:  ‫إنتاج‬\n",
      "count                               614\n",
      "unique                              556\n",
      "top       المؤسسة العامة للسينما (دمشق)\n",
      "freq                                  8\n",
      "Name: إنتاج, dtype: object\n",
      "\n",
      "--------------------\n",
      "Column Name:  ‫تصوير‬\n",
      "count                        601\n",
      "unique                       371\n",
      "top       علي خير الله,عادل أسعد\n",
      "freq                          25\n",
      "Name: تصوير, dtype: object\n",
      "\n",
      "--------------------\n",
      "Column Name:  ‫مونتاج‬\n",
      "count             566\n",
      "unique            341\n",
      "top       مروان عكاوي\n",
      "freq               29\n",
      "Name: مونتاج, dtype: object\n",
      "\n",
      "--------------------\n",
      "Column Name:  ‫ديكور‬\n",
      "count           410\n",
      "unique          304\n",
      "top       نهاد بهجت\n",
      "freq             18\n",
      "Name: ديكور, dtype: object\n",
      "\n",
      "--------------------\n",
      "Column Name:  ‫ملابس‬\n",
      "count              90\n",
      "unique             64\n",
      "top       فوزية حجازي\n",
      "freq                6\n",
      "Name: ملابس, dtype: object\n",
      "\n",
      "--------------------\n",
      "Column Name:  ‫موسيقى‬\n",
      "count              469\n",
      "unique             262\n",
      "top       فؤاد الظاهري\n",
      "freq                51\n",
      "Name: موسيقى, dtype: object\n",
      "\n",
      "--------------------\n",
      "Column Name:  ‫إخراج‬\n",
      "count                                            717\n",
      "unique                                           530\n",
      "top       حسام الدين مصطفى,أحمد السبعاوي,نجيب إسكندر\n",
      "freq                                              16\n",
      "Name: إخراج, dtype: object\n",
      "\n",
      "--------------------\n",
      "Column Name:  ‫توزيع‬\n",
      "count                                                   421\n",
      "unique                                                  191\n",
      "top       المؤسسة المصرية العامة للسينما والتلفزيون (وال...\n",
      "freq                                                     70\n",
      "Name: توزيع, dtype: object\n",
      "\n",
      "--------------------\n"
     ]
    }
   ],
   "source": [
    "describe_dataframe(seventies_df)"
   ]
  },
  {
   "cell_type": "code",
   "execution_count": 134,
   "metadata": {
    "collapsed": true
   },
   "outputs": [
    {
     "data": {
      "text/plain": [
       "144"
      ]
     },
     "execution_count": 134,
     "metadata": {},
     "output_type": "execute_result"
    }
   ],
   "source": [
    "seventies_df['ملخص'].isnull().sum()"
   ]
  },
  {
   "cell_type": "code",
   "execution_count": 135,
   "metadata": {
    "collapsed": true
   },
   "outputs": [
    {
     "data": {
      "text/plain": [
       "ﺩﺭاﻣﺎ           140\n",
       "ﺭﻭﻣﺎﻧﺴﻲ          60\n",
       "ﻛﻮﻣﻴﺪﻱ           56\n",
       "ﺟﺮﻳﻤﺔ            22\n",
       "اﺳﺘﻌﺮاﺿﻲ         15\n",
       "تاريخي            8\n",
       "ﺣﺮﻛﺔ              8\n",
       "ﻗﺼﻴﺮ              5\n",
       "ﺗﺸﻮﻳﻖ ﻭﺇﺛﺎﺭﺓ      5\n",
       "ﻣﻐﺎﻣﺮاﺕ           4\n",
       "ﺳﻴﺮﺓ ﺫاﺗﻴﺔ        4\n",
       "ﻭﺛﺎﺋﻘﻲ            3\n",
       "ﻏﻤﻮﺽ              3\n",
       "ﺣﺮﺏ               3\n",
       "ﺭﻳﺎﺿﻲ             2\n",
       "ﺭﺳﻮﻡ ﻣﺘﺤﺮﻛﺔ       1\n",
       "ﺧﻴﺎﻝ ﻋﻠﻤﻲ         1\n",
       "ﻋﺎﺋﻠﻲ             1\n",
       "Name: التصنيف, dtype: int64"
      ]
     },
     "execution_count": 135,
     "metadata": {},
     "output_type": "execute_result"
    }
   ],
   "source": [
    "seventies_df['التصنيف'].value_counts()"
   ]
  },
  {
   "cell_type": "code",
   "execution_count": 136,
   "metadata": {
    "collapsed": true
   },
   "outputs": [
    {
     "data": {
      "text/html": [
       "<div>\n",
       "<style scoped>\n",
       "    .dataframe tbody tr th:only-of-type {\n",
       "        vertical-align: middle;\n",
       "    }\n",
       "\n",
       "    .dataframe tbody tr th {\n",
       "        vertical-align: top;\n",
       "    }\n",
       "\n",
       "    .dataframe thead th {\n",
       "        text-align: right;\n",
       "    }\n",
       "</style>\n",
       "<table border=\"1\" class=\"dataframe\">\n",
       "  <thead>\n",
       "    <tr style=\"text-align: right;\">\n",
       "      <th></th>\n",
       "      <th>اسم الفيلم</th>\n",
       "      <th>تاريخ العرض</th>\n",
       "      <th>التصنيف</th>\n",
       "      <th>المدة</th>\n",
       "      <th>ملخص</th>\n",
       "      <th>تأليف</th>\n",
       "      <th>تمثيل</th>\n",
       "      <th>إنتاج</th>\n",
       "      <th>تصوير</th>\n",
       "      <th>مونتاج</th>\n",
       "      <th>ديكور</th>\n",
       "      <th>ملابس</th>\n",
       "      <th>موسيقى</th>\n",
       "      <th>إخراج</th>\n",
       "      <th>توزيع</th>\n",
       "    </tr>\n",
       "  </thead>\n",
       "  <tbody>\n",
       "    <tr>\n",
       "      <th>154</th>\n",
       "      <td>فرح زهران</td>\n",
       "      <td>1972</td>\n",
       "      <td>NaN</td>\n",
       "      <td>100.5</td>\n",
       "      <td>NaN</td>\n",
       "      <td>محسن زايد</td>\n",
       "      <td>عبدالعزيز مخيون,إنعام الجريتلي,ممدوح زايد</td>\n",
       "      <td>NaN</td>\n",
       "      <td>NaN</td>\n",
       "      <td>NaN</td>\n",
       "      <td>NaN</td>\n",
       "      <td>NaN</td>\n",
       "      <td>NaN</td>\n",
       "      <td>محسن زايد</td>\n",
       "      <td>NaN</td>\n",
       "    </tr>\n",
       "    <tr>\n",
       "      <th>164</th>\n",
       "      <td>فرح زهران</td>\n",
       "      <td>1972</td>\n",
       "      <td>NaN</td>\n",
       "      <td>100.5</td>\n",
       "      <td>NaN</td>\n",
       "      <td>محسن زايد</td>\n",
       "      <td>عبدالعزيز مخيون,إنعام الجريتلي,ممدوح زايد</td>\n",
       "      <td>NaN</td>\n",
       "      <td>NaN</td>\n",
       "      <td>NaN</td>\n",
       "      <td>NaN</td>\n",
       "      <td>NaN</td>\n",
       "      <td>NaN</td>\n",
       "      <td>محسن زايد</td>\n",
       "      <td>NaN</td>\n",
       "    </tr>\n",
       "    <tr>\n",
       "      <th>172</th>\n",
       "      <td>فرح زهران</td>\n",
       "      <td>1972</td>\n",
       "      <td>NaN</td>\n",
       "      <td>100.5</td>\n",
       "      <td>NaN</td>\n",
       "      <td>محسن زايد</td>\n",
       "      <td>عبدالعزيز مخيون,إنعام الجريتلي,ممدوح زايد</td>\n",
       "      <td>NaN</td>\n",
       "      <td>NaN</td>\n",
       "      <td>NaN</td>\n",
       "      <td>NaN</td>\n",
       "      <td>NaN</td>\n",
       "      <td>NaN</td>\n",
       "      <td>محسن زايد</td>\n",
       "      <td>NaN</td>\n",
       "    </tr>\n",
       "    <tr>\n",
       "      <th>306</th>\n",
       "      <td>مخطوبتين بالوراثة</td>\n",
       "      <td>1974</td>\n",
       "      <td>NaN</td>\n",
       "      <td>108.3</td>\n",
       "      <td>NaN</td>\n",
       "      <td>NaN</td>\n",
       "      <td>NaN</td>\n",
       "      <td>NaN</td>\n",
       "      <td>NaN</td>\n",
       "      <td>NaN</td>\n",
       "      <td>NaN</td>\n",
       "      <td>NaN</td>\n",
       "      <td>NaN</td>\n",
       "      <td>NaN</td>\n",
       "      <td>NaN</td>\n",
       "    </tr>\n",
       "    <tr>\n",
       "      <th>403</th>\n",
       "      <td>الحسناء و قاهر الفضاء</td>\n",
       "      <td>1975</td>\n",
       "      <td>NaN</td>\n",
       "      <td>95</td>\n",
       "      <td>NaN</td>\n",
       "      <td>محمد جومر,سهيل كنعان</td>\n",
       "      <td>محمود جبر,إغراء,أديب قدورة,نجاح حفيظ,أنور البا...</td>\n",
       "      <td>سميراميس فيلم,دمشق</td>\n",
       "      <td>محمد الرواس</td>\n",
       "      <td>مروان عكاوي</td>\n",
       "      <td>NaN</td>\n",
       "      <td>NaN</td>\n",
       "      <td>هنري</td>\n",
       "      <td>سهيل كنعان</td>\n",
       "      <td>NaN</td>\n",
       "    </tr>\n",
       "    <tr>\n",
       "      <th>414</th>\n",
       "      <td>الحسناء و قاهر الفضاء</td>\n",
       "      <td>1975</td>\n",
       "      <td>NaN</td>\n",
       "      <td>95</td>\n",
       "      <td>NaN</td>\n",
       "      <td>محمد جومر,سهيل كنعان</td>\n",
       "      <td>محمود جبر,إغراء,أديب قدورة,نجاح حفيظ,أنور البا...</td>\n",
       "      <td>سميراميس فيلم,دمشق</td>\n",
       "      <td>محمد الرواس</td>\n",
       "      <td>مروان عكاوي</td>\n",
       "      <td>NaN</td>\n",
       "      <td>NaN</td>\n",
       "      <td>هنري</td>\n",
       "      <td>سهيل كنعان</td>\n",
       "      <td>NaN</td>\n",
       "    </tr>\n",
       "    <tr>\n",
       "      <th>421</th>\n",
       "      <td>الحسناء و قاهر الفضاء</td>\n",
       "      <td>1975</td>\n",
       "      <td>NaN</td>\n",
       "      <td>95</td>\n",
       "      <td>NaN</td>\n",
       "      <td>محمد جومر,سهيل كنعان</td>\n",
       "      <td>محمود جبر,إغراء,أديب قدورة,نجاح حفيظ,أنور البا...</td>\n",
       "      <td>سميراميس فيلم,دمشق</td>\n",
       "      <td>محمد الرواس</td>\n",
       "      <td>مروان عكاوي</td>\n",
       "      <td>NaN</td>\n",
       "      <td>NaN</td>\n",
       "      <td>هنري</td>\n",
       "      <td>سهيل كنعان</td>\n",
       "      <td>NaN</td>\n",
       "    </tr>\n",
       "  </tbody>\n",
       "</table>\n",
       "</div>"
      ],
      "text/plain": [
       "                اسم الفيلم تاريخ العرض التصنيف  المدة ملخص  \\\n",
       "154              فرح زهران        1972     NaN  100.5  NaN   \n",
       "164              فرح زهران        1972     NaN  100.5  NaN   \n",
       "172              فرح زهران        1972     NaN  100.5  NaN   \n",
       "306      مخطوبتين بالوراثة        1974     NaN  108.3  NaN   \n",
       "403  الحسناء و قاهر الفضاء        1975     NaN     95  NaN   \n",
       "414  الحسناء و قاهر الفضاء        1975     NaN     95  NaN   \n",
       "421  الحسناء و قاهر الفضاء        1975     NaN     95  NaN   \n",
       "\n",
       "                    تأليف                                              تمثيل  \\\n",
       "154             محسن زايد        عبدالعزيز مخيون,إنعام الجريتلي,ممدوح زايد     \n",
       "164             محسن زايد        عبدالعزيز مخيون,إنعام الجريتلي,ممدوح زايد     \n",
       "172             محسن زايد        عبدالعزيز مخيون,إنعام الجريتلي,ممدوح زايد     \n",
       "306                   NaN                                                NaN   \n",
       "403  محمد جومر,سهيل كنعان  محمود جبر,إغراء,أديب قدورة,نجاح حفيظ,أنور البا...   \n",
       "414  محمد جومر,سهيل كنعان  محمود جبر,إغراء,أديب قدورة,نجاح حفيظ,أنور البا...   \n",
       "421  محمد جومر,سهيل كنعان  محمود جبر,إغراء,أديب قدورة,نجاح حفيظ,أنور البا...   \n",
       "\n",
       "                  إنتاج        تصوير       مونتاج ديكور ملابس موسيقى  \\\n",
       "154                 NaN          NaN          NaN   NaN   NaN    NaN   \n",
       "164                 NaN          NaN          NaN   NaN   NaN    NaN   \n",
       "172                 NaN          NaN          NaN   NaN   NaN    NaN   \n",
       "306                 NaN          NaN          NaN   NaN   NaN    NaN   \n",
       "403  سميراميس فيلم,دمشق  محمد الرواس  مروان عكاوي   NaN   NaN   هنري   \n",
       "414  سميراميس فيلم,دمشق  محمد الرواس  مروان عكاوي   NaN   NaN   هنري   \n",
       "421  سميراميس فيلم,دمشق  محمد الرواس  مروان عكاوي   NaN   NaN   هنري   \n",
       "\n",
       "          إخراج توزيع  \n",
       "154   محسن زايد   NaN  \n",
       "164   محسن زايد   NaN  \n",
       "172   محسن زايد   NaN  \n",
       "306         NaN   NaN  \n",
       "403  سهيل كنعان   NaN  \n",
       "414  سهيل كنعان   NaN  \n",
       "421  سهيل كنعان   NaN  "
      ]
     },
     "execution_count": 136,
     "metadata": {},
     "output_type": "execute_result"
    }
   ],
   "source": [
    "seventies_df[seventies_df.duplicated(subset = ['اسم الفيلم', 'تمثيل'])]"
   ]
  },
  {
   "cell_type": "code",
   "execution_count": 137,
   "metadata": {
    "scrolled": true
   },
   "outputs": [],
   "source": [
    "seventies_df = change_empty_entries_to_None(seventies_df)"
   ]
  },
  {
   "cell_type": "markdown",
   "metadata": {},
   "source": [
    "_**Cleansing**_"
   ]
  },
  {
   "cell_type": "code",
   "execution_count": 138,
   "metadata": {},
   "outputs": [],
   "source": [
    "seventies_df.drop_duplicates(subset = ['اسم الفيلم', 'تمثيل'] \\\n",
    "                             , inplace= True, keep = 'last')"
   ]
  },
  {
   "cell_type": "code",
   "execution_count": 139,
   "metadata": {},
   "outputs": [],
   "source": [
    "seventies_df = seventies_df.reset_index(drop = True)"
   ]
  },
  {
   "cell_type": "markdown",
   "metadata": {},
   "source": [
    "_**Filling Missing Values**_"
   ]
  },
  {
   "cell_type": "markdown",
   "metadata": {},
   "source": [
    "* **Add Webscraped Ratings**"
   ]
  },
  {
   "cell_type": "code",
   "execution_count": 140,
   "metadata": {},
   "outputs": [],
   "source": [
    "date_expanded_70s = seventies_df.copy(deep = True)"
   ]
  },
  {
   "cell_type": "code",
   "execution_count": 141,
   "metadata": {},
   "outputs": [],
   "source": [
    "date_expanded_70s = expand_release_date(seventies_df)\n",
    "date_expanded_70s = unify_date_format(date_expanded_70s)"
   ]
  },
  {
   "cell_type": "code",
   "execution_count": 142,
   "metadata": {},
   "outputs": [],
   "source": [
    "date_expanded_70s = date_expanded_70s.drop(columns=['تاريخ العرض', 'اليوم'])\n",
    "date_expanded_70s['التقييم'] = None"
   ]
  },
  {
   "cell_type": "code",
   "execution_count": 143,
   "metadata": {},
   "outputs": [],
   "source": [
    "foreign_filtered_70s = date_expanded_70s.copy(deep = True)"
   ]
  },
  {
   "cell_type": "code",
   "execution_count": 144,
   "metadata": {},
   "outputs": [],
   "source": [
    "foreign_filtered_70s = \\\n",
    "    filter_foregin_movies(date_expanded_70s, '1970s_data/1970s_countries.txt')"
   ]
  },
  {
   "cell_type": "code",
   "execution_count": 145,
   "metadata": {},
   "outputs": [],
   "source": [
    "ratings_added_70s = foreign_filtered_70s.copy(deep = True)"
   ]
  },
  {
   "cell_type": "code",
   "execution_count": 146,
   "metadata": {},
   "outputs": [],
   "source": [
    "ratings_added_70s = add_scraped_features(foreign_filtered_70s \\\n",
    "                                    , '1970s_data/1970s_ratings.txt' \\\n",
    "                                    , 'التقييم')"
   ]
  },
  {
   "cell_type": "code",
   "execution_count": 147,
   "metadata": {},
   "outputs": [],
   "source": [
    "genre_added_70s = ratings_added_70s.copy(deep = True)"
   ]
  },
  {
   "cell_type": "code",
   "execution_count": 148,
   "metadata": {},
   "outputs": [],
   "source": [
    "genre_added_70s = add_scraped_features(ratings_added_70s \\\n",
    "                                          , '1970s_data/1970s_genres.txt'\n",
    "                                         ,'التصنيف')"
   ]
  },
  {
   "cell_type": "code",
   "execution_count": 149,
   "metadata": {},
   "outputs": [],
   "source": [
    "synopsis_added_70s = genre_added_70s.copy(deep = True)"
   ]
  },
  {
   "cell_type": "code",
   "execution_count": 150,
   "metadata": {},
   "outputs": [],
   "source": [
    "synopsis_added_70s = add_scraped_features(genre_added_70s \\\n",
    "                                          , '1970s_data/1970s_synopses.txt' \\\n",
    "                                         , 'ملخص')"
   ]
  },
  {
   "cell_type": "code",
   "execution_count": 151,
   "metadata": {},
   "outputs": [],
   "source": [
    "# foreigns_filtered_df_70s.to_csv('1970s_data/foreigns_filtered_70s.csv')"
   ]
  },
  {
   "cell_type": "code",
   "execution_count": 152,
   "metadata": {},
   "outputs": [],
   "source": [
    "synopsis_added_70s = synopsis_added_70s.reset_index(drop=True)"
   ]
  },
  {
   "cell_type": "code",
   "execution_count": 153,
   "metadata": {
    "collapsed": true
   },
   "outputs": [
    {
     "data": {
      "text/plain": [
       "ﺩﺭاﻣﺎ                192\n",
       "ﻛﻮﻣﻴﺪﻱ                47\n",
       "ﺭﻭﻣﺎﻧﺴﻲ               27\n",
       "ﺗﺸﻮﻳﻖ ﻭﺇﺛﺎﺭﺓ          21\n",
       "موسيقي / استعراضي     16\n",
       "ﺟﺮﻳﻤﺔ                 12\n",
       "ﺣﺮﻛﺔ                   6\n",
       "ﻣﻐﺎﻣﺮاﺕ                4\n",
       "ﺳﻴﺮﺓ ﺫاﺗﻴﺔ             3\n",
       "ﻏﻤﻮﺽ                   3\n",
       "تاريخي                 3\n",
       "ﻭﺛﺎﺋﻘﻲ                 2\n",
       "ﻗﺼﻴﺮ                   2\n",
       "ﺧﻴﺎﻝ                   1\n",
       "ﻋﺎﺋﻠﻲ                  1\n",
       "Name: التصنيف, dtype: int64"
      ]
     },
     "execution_count": 153,
     "metadata": {},
     "output_type": "execute_result"
    }
   ],
   "source": [
    "synopsis_added_70s['التصنيف'].value_counts()"
   ]
  },
  {
   "cell_type": "code",
   "execution_count": 154,
   "metadata": {},
   "outputs": [],
   "source": [
    "synopsis_added_70s.drop(inplace = True, index = \\\n",
    "            synopsis_added_70s.loc[synopsis_added_70s['التصنيف'] == 'ﻭﺛﺎﺋﻘﻲ'].index)"
   ]
  },
  {
   "cell_type": "code",
   "execution_count": 155,
   "metadata": {},
   "outputs": [],
   "source": [
    "synopsis_added_70s = synopsis_added_70s.reset_index(drop =True)\n",
    "synopsis_added_70s  = change_empty_entries_to_None(synopsis_added_70s)"
   ]
  },
  {
   "cell_type": "code",
   "execution_count": 156,
   "metadata": {},
   "outputs": [],
   "source": [
    "synopsis_added_70s = synopsis_added_70s.reset_index(drop=True)"
   ]
  },
  {
   "cell_type": "code",
   "execution_count": 157,
   "metadata": {
    "collapsed": true
   },
   "outputs": [
    {
     "data": {
      "text/html": [
       "<div>\n",
       "<style scoped>\n",
       "    .dataframe tbody tr th:only-of-type {\n",
       "        vertical-align: middle;\n",
       "    }\n",
       "\n",
       "    .dataframe tbody tr th {\n",
       "        vertical-align: top;\n",
       "    }\n",
       "\n",
       "    .dataframe thead th {\n",
       "        text-align: right;\n",
       "    }\n",
       "</style>\n",
       "<table border=\"1\" class=\"dataframe\">\n",
       "  <thead>\n",
       "    <tr style=\"text-align: right;\">\n",
       "      <th></th>\n",
       "      <th>اسم الفيلم</th>\n",
       "      <th>التصنيف</th>\n",
       "      <th>المدة</th>\n",
       "      <th>ملخص</th>\n",
       "      <th>تأليف</th>\n",
       "      <th>تمثيل</th>\n",
       "      <th>إنتاج</th>\n",
       "      <th>تصوير</th>\n",
       "      <th>مونتاج</th>\n",
       "      <th>ديكور</th>\n",
       "      <th>ملابس</th>\n",
       "      <th>موسيقى</th>\n",
       "      <th>إخراج</th>\n",
       "      <th>توزيع</th>\n",
       "      <th>الشهر</th>\n",
       "      <th>السنة</th>\n",
       "      <th>التقييم</th>\n",
       "    </tr>\n",
       "  </thead>\n",
       "  <tbody>\n",
       "    <tr>\n",
       "      <th>66</th>\n",
       "      <td>صبيحة</td>\n",
       "      <td>None</td>\n",
       "      <td>97.0</td>\n",
       "      <td>تهرب صبيحة من بلدتها بعدما تعرضت لاعتداء من أح...</td>\n",
       "      <td>يوسف وهبي,نبيل غلام</td>\n",
       "      <td>ناهد يسري,جلال الشرقاوي,يوسف وهبي</td>\n",
       "      <td>None</td>\n",
       "      <td>None</td>\n",
       "      <td>None</td>\n",
       "      <td>None</td>\n",
       "      <td>None</td>\n",
       "      <td>None</td>\n",
       "      <td>حسن حافظ</td>\n",
       "      <td>None</td>\n",
       "      <td>يناير</td>\n",
       "      <td>1971</td>\n",
       "      <td>0</td>\n",
       "    </tr>\n",
       "  </tbody>\n",
       "</table>\n",
       "</div>"
      ],
      "text/plain": [
       "   اسم الفيلم التصنيف المدة  \\\n",
       "66      صبيحة    None  97.0   \n",
       "\n",
       "                                                 ملخص                تأليف  \\\n",
       "66  تهرب صبيحة من بلدتها بعدما تعرضت لاعتداء من أح...  يوسف وهبي,نبيل غلام   \n",
       "\n",
       "                                تمثيل إنتاج تصوير مونتاج ديكور ملابس موسيقى  \\\n",
       "66  ناهد يسري,جلال الشرقاوي,يوسف وهبي  None  None   None  None  None   None   \n",
       "\n",
       "       إخراج توزيع  الشهر السنة التقييم  \n",
       "66  حسن حافظ  None  يناير  1971       0  "
      ]
     },
     "execution_count": 157,
     "metadata": {},
     "output_type": "execute_result"
    }
   ],
   "source": [
    "synopsis_added_70s.sample()"
   ]
  },
  {
   "cell_type": "code",
   "execution_count": 158,
   "metadata": {},
   "outputs": [],
   "source": [
    "synopsis_added_70s['التقييم'] = synopsis_added_70s['التقييم'].astype(float)"
   ]
  },
  {
   "cell_type": "code",
   "execution_count": 159,
   "metadata": {},
   "outputs": [],
   "source": [
    "synopsis_added_70s = change_empty_entries_to_None(synopsis_added_70s)"
   ]
  },
  {
   "cell_type": "code",
   "execution_count": 160,
   "metadata": {},
   "outputs": [
    {
     "name": "stderr",
     "output_type": "stream",
     "text": [
      "/Users/karefsn/Development/anaconda3/lib/python3.7/site-packages/ipykernel_launcher.py:20: DeprecationWarning: The truth value of an empty array is ambiguous. Returning False, but in future this will result in an error. Use `array.size > 0` to check that an array is not empty.\n",
      "/Users/karefsn/Development/anaconda3/lib/python3.7/site-packages/ipykernel_launcher.py:23: DeprecationWarning: The truth value of an empty array is ambiguous. Returning False, but in future this will result in an error. Use `array.size > 0` to check that an array is not empty.\n"
     ]
    },
    {
     "data": {
      "text/html": [
       "<div>\n",
       "<style scoped>\n",
       "    .dataframe tbody tr th:only-of-type {\n",
       "        vertical-align: middle;\n",
       "    }\n",
       "\n",
       "    .dataframe tbody tr th {\n",
       "        vertical-align: top;\n",
       "    }\n",
       "\n",
       "    .dataframe thead th {\n",
       "        text-align: right;\n",
       "    }\n",
       "</style>\n",
       "<table border=\"1\" class=\"dataframe\">\n",
       "  <thead>\n",
       "    <tr style=\"text-align: right;\">\n",
       "      <th></th>\n",
       "      <th>اسم الفيلم</th>\n",
       "      <th>التصنيف</th>\n",
       "      <th>المدة</th>\n",
       "      <th>ملخص</th>\n",
       "      <th>تأليف</th>\n",
       "      <th>إنتاج</th>\n",
       "      <th>تصوير</th>\n",
       "      <th>مونتاج</th>\n",
       "      <th>ديكور</th>\n",
       "      <th>ملابس</th>\n",
       "      <th>موسيقى</th>\n",
       "      <th>إخراج</th>\n",
       "      <th>توزيع</th>\n",
       "      <th>الشهر</th>\n",
       "      <th>السنة</th>\n",
       "      <th>التقييم</th>\n",
       "      <th>ممثلات</th>\n",
       "      <th>ممثلون</th>\n",
       "    </tr>\n",
       "  </thead>\n",
       "  <tbody>\n",
       "    <tr>\n",
       "      <th>141</th>\n",
       "      <td>مكان للحب</td>\n",
       "      <td>ﺩﺭاﻣﺎ</td>\n",
       "      <td>120</td>\n",
       "      <td>تقرر سعاد أن تنتقل من مدينة السويس إلى مدينة ا...</td>\n",
       "      <td>مصطفى كامل,سعيد مرزوق</td>\n",
       "      <td>None</td>\n",
       "      <td>None</td>\n",
       "      <td>None</td>\n",
       "      <td>None</td>\n",
       "      <td>None</td>\n",
       "      <td>None</td>\n",
       "      <td>سعيد مرزوق</td>\n",
       "      <td>None</td>\n",
       "      <td>يوليو</td>\n",
       "      <td>1972</td>\n",
       "      <td>4.3</td>\n",
       "      <td>[فيفي عبده, زيزي مصطفى, سعاد حسني]</td>\n",
       "      <td>[أسامة عباس, عادل نصيف, حسن حسين, أحمد أباظة, ...</td>\n",
       "    </tr>\n",
       "  </tbody>\n",
       "</table>\n",
       "</div>"
      ],
      "text/plain": [
       "    اسم الفيلم التصنيف المدة  \\\n",
       "141  مكان للحب   ﺩﺭاﻣﺎ   120   \n",
       "\n",
       "                                                  ملخص                  تأليف  \\\n",
       "141  تقرر سعاد أن تنتقل من مدينة السويس إلى مدينة ا...  مصطفى كامل,سعيد مرزوق   \n",
       "\n",
       "    إنتاج تصوير مونتاج ديكور ملابس موسيقى       إخراج توزيع  الشهر السنة  \\\n",
       "141  None  None   None  None  None   None  سعيد مرزوق  None  يوليو  1972   \n",
       "\n",
       "     التقييم                              ممثلات  \\\n",
       "141      4.3  [فيفي عبده, زيزي مصطفى, سعاد حسني]   \n",
       "\n",
       "                                                ممثلون  \n",
       "141  [أسامة عباس, عادل نصيف, حسن حسين, أحمد أباظة, ...  "
      ]
     },
     "execution_count": 160,
     "metadata": {},
     "output_type": "execute_result"
    }
   ],
   "source": [
    "cast_seperated_70s = seperate_cast_by_gender(synopsis_added_70s)\n",
    "\n",
    "cast_seperated_70s.drop(inplace = True, columns = ['تمثيل'])\n",
    "cast_seperated_70s.sample()"
   ]
  },
  {
   "cell_type": "code",
   "execution_count": 161,
   "metadata": {
    "code_folding": [
     0
    ]
   },
   "outputs": [],
   "source": [
    "cast_seperated_70s.drop(columns = ['توزيع', 'ملابس', 'ديكور', 'مونتاج', \\\n",
    "                         'تصوير', 'موسيقى', 'إنتاج'], inplace = True)"
   ]
  },
  {
   "cell_type": "code",
   "execution_count": 162,
   "metadata": {},
   "outputs": [
    {
     "data": {
      "text/html": [
       "<div>\n",
       "<style scoped>\n",
       "    .dataframe tbody tr th:only-of-type {\n",
       "        vertical-align: middle;\n",
       "    }\n",
       "\n",
       "    .dataframe tbody tr th {\n",
       "        vertical-align: top;\n",
       "    }\n",
       "\n",
       "    .dataframe thead th {\n",
       "        text-align: right;\n",
       "    }\n",
       "</style>\n",
       "<table border=\"1\" class=\"dataframe\">\n",
       "  <thead>\n",
       "    <tr style=\"text-align: right;\">\n",
       "      <th></th>\n",
       "      <th>اسم الفيلم</th>\n",
       "      <th>التصنيف</th>\n",
       "      <th>المدة</th>\n",
       "      <th>ملخص</th>\n",
       "      <th>تأليف</th>\n",
       "      <th>إخراج</th>\n",
       "      <th>الشهر</th>\n",
       "      <th>السنة</th>\n",
       "      <th>التقييم</th>\n",
       "      <th>ممثلات</th>\n",
       "      <th>ممثلون</th>\n",
       "    </tr>\n",
       "  </thead>\n",
       "  <tbody>\n",
       "    <tr>\n",
       "      <th>346</th>\n",
       "      <td>الحب تحت المطر</td>\n",
       "      <td>None</td>\n",
       "      <td>120</td>\n",
       "      <td>يتعرف المخرج السينمائي عادل على مرزوق ويعرض عل...</td>\n",
       "      <td>نجيب محفوظ,ممدوح الليثي</td>\n",
       "      <td>أحمد رمزي,صلاح نظمي,حسين كمال,حسن إبراهيم</td>\n",
       "      <td>اكتوبر</td>\n",
       "      <td>1975</td>\n",
       "      <td>5.9</td>\n",
       "      <td>[ميرفت أمين, ماجدة الخطيب, حياة قنديل, منى جبر...</td>\n",
       "      <td>[أحمد رمزي, عادل أدهم, عماد حمدي, محمود قابيل,...</td>\n",
       "    </tr>\n",
       "  </tbody>\n",
       "</table>\n",
       "</div>"
      ],
      "text/plain": [
       "         اسم الفيلم التصنيف المدة  \\\n",
       "346  الحب تحت المطر    None   120   \n",
       "\n",
       "                                                  ملخص  \\\n",
       "346  يتعرف المخرج السينمائي عادل على مرزوق ويعرض عل...   \n",
       "\n",
       "                       تأليف                                      إخراج  \\\n",
       "346  نجيب محفوظ,ممدوح الليثي  أحمد رمزي,صلاح نظمي,حسين كمال,حسن إبراهيم   \n",
       "\n",
       "      الشهر السنة  التقييم                                             ممثلات  \\\n",
       "346  اكتوبر  1975      5.9  [ميرفت أمين, ماجدة الخطيب, حياة قنديل, منى جبر...   \n",
       "\n",
       "                                                ممثلون  \n",
       "346  [أحمد رمزي, عادل أدهم, عماد حمدي, محمود قابيل,...  "
      ]
     },
     "execution_count": 162,
     "metadata": {},
     "output_type": "execute_result"
    }
   ],
   "source": [
    "cast_seperated_70s.sample()"
   ]
  },
  {
   "cell_type": "code",
   "execution_count": 163,
   "metadata": {
    "code_folding": [
     0
    ]
   },
   "outputs": [],
   "source": [
    "movies_70s_df = cast_seperated_70s[['اسم الفيلم', 'الشهر', 'السنة', 'التصنيف',\\\n",
    "                                    'التقييم', 'المدة', 'ملخص', 'ممثلات', 'ممثلون',\n",
    "                                    'تأليف', 'إخراج']]"
   ]
  },
  {
   "cell_type": "code",
   "execution_count": 164,
   "metadata": {
    "collapsed": true
   },
   "outputs": [
    {
     "data": {
      "text/html": [
       "<div>\n",
       "<style scoped>\n",
       "    .dataframe tbody tr th:only-of-type {\n",
       "        vertical-align: middle;\n",
       "    }\n",
       "\n",
       "    .dataframe tbody tr th {\n",
       "        vertical-align: top;\n",
       "    }\n",
       "\n",
       "    .dataframe thead th {\n",
       "        text-align: right;\n",
       "    }\n",
       "</style>\n",
       "<table border=\"1\" class=\"dataframe\">\n",
       "  <thead>\n",
       "    <tr style=\"text-align: right;\">\n",
       "      <th></th>\n",
       "      <th>اسم الفيلم</th>\n",
       "      <th>الشهر</th>\n",
       "      <th>السنة</th>\n",
       "      <th>التصنيف</th>\n",
       "      <th>التقييم</th>\n",
       "      <th>المدة</th>\n",
       "      <th>ملخص</th>\n",
       "      <th>ممثلات</th>\n",
       "      <th>ممثلون</th>\n",
       "      <th>تأليف</th>\n",
       "      <th>إخراج</th>\n",
       "    </tr>\n",
       "  </thead>\n",
       "  <tbody>\n",
       "    <tr>\n",
       "      <th>423</th>\n",
       "      <td>سري جداً</td>\n",
       "      <td>يناير</td>\n",
       "      <td>1977</td>\n",
       "      <td>None</td>\n",
       "      <td>4.8</td>\n",
       "      <td>73</td>\n",
       "      <td>يتهم هشام بعملية اغتيال وتجسس، فيحاول ضابط الش...</td>\n",
       "      <td>[نبيلة عبيد, عزة كمال, أميرة, بثينة نصار]</td>\n",
       "      <td>[سمير صبري, إبراهيم خان, محمود المليجي, صلاح ن...</td>\n",
       "      <td>سعيد عبدالغني</td>\n",
       "      <td>عادل صادق,سمير علام,محمد محمود حسن,حسن حافظ</td>\n",
       "    </tr>\n",
       "  </tbody>\n",
       "</table>\n",
       "</div>"
      ],
      "text/plain": [
       "    اسم الفيلم  الشهر السنة التصنيف  التقييم المدة  \\\n",
       "423   سري جداً  يناير  1977    None      4.8    73   \n",
       "\n",
       "                                                  ملخص  \\\n",
       "423  يتهم هشام بعملية اغتيال وتجسس، فيحاول ضابط الش...   \n",
       "\n",
       "                                        ممثلات  \\\n",
       "423  [نبيلة عبيد, عزة كمال, أميرة, بثينة نصار]   \n",
       "\n",
       "                                                ممثلون          تأليف  \\\n",
       "423  [سمير صبري, إبراهيم خان, محمود المليجي, صلاح ن...  سعيد عبدالغني   \n",
       "\n",
       "                                           إخراج  \n",
       "423  عادل صادق,سمير علام,محمد محمود حسن,حسن حافظ  "
      ]
     },
     "execution_count": 164,
     "metadata": {},
     "output_type": "execute_result"
    }
   ],
   "source": [
    "movies_70s_df.sample()"
   ]
  },
  {
   "cell_type": "markdown",
   "metadata": {},
   "source": [
    "### *_Merging  Datasets_*"
   ]
  },
  {
   "cell_type": "code",
   "execution_count": 165,
   "metadata": {},
   "outputs": [],
   "source": [
    "dataframes = [movies_40s_df \\\n",
    "              , movies_50s_df\\\n",
    "              , movies_60s_df\\\n",
    "              , movies_70s_df]"
   ]
  },
  {
   "cell_type": "code",
   "execution_count": 166,
   "metadata": {},
   "outputs": [],
   "source": [
    "movies_df = pd.concat(dataframes, sort = False)\n",
    "movies_df = movies_df.reset_index(drop = True)"
   ]
  },
  {
   "cell_type": "code",
   "execution_count": 167,
   "metadata": {
    "collapsed": true
   },
   "outputs": [
    {
     "name": "stdout",
     "output_type": "stream",
     "text": [
      "Column Name:  ‫اسم الفيلم‬\n",
      "count     1980\n",
      "unique    1956\n",
      "top       دنيا\n",
      "freq         2\n",
      "Name: اسم الفيلم, dtype: object\n",
      "\n",
      "--------------------\n",
      "Column Name:  ‫الشهر‬\n",
      "count      1980\n",
      "unique       12\n",
      "top       يناير\n",
      "freq        710\n",
      "Name: الشهر, dtype: object\n",
      "\n",
      "--------------------\n",
      "Column Name:  ‫السنة‬\n",
      "count     1980\n",
      "unique      40\n",
      "top       1978\n",
      "freq        78\n",
      "Name: السنة, dtype: object\n",
      "\n",
      "--------------------\n",
      "Column Name:  ‫التصنيف‬\n",
      "count      1195\n",
      "unique       17\n",
      "top       ﺩﺭاﻣﺎ\n",
      "freq        630\n",
      "Name: التصنيف, dtype: object\n",
      "\n",
      "--------------------\n",
      "Column Name:  ‫التقييم‬\n",
      "count     1815.0\n",
      "unique     105.0\n",
      "top          0.0\n",
      "freq        99.0\n",
      "Name: التقييم, dtype: float64\n",
      "\n",
      "--------------------\n",
      "Column Name:  ‫المدة‬\n",
      "count     1971.0\n",
      "unique     179.0\n",
      "top        100.0\n",
      "freq       149.0\n",
      "Name: المدة, dtype: float64\n",
      "\n",
      "--------------------\n",
      "Column Name:  ‫ملخص‬\n",
      "count       1878\n",
      "unique      1871\n",
      "top             \n",
      "freq           3\n",
      "Name: ملخص, dtype: object\n",
      "\n",
      "--------------------\n",
      "Column Name:  ‫ممثلات‬\n",
      "count     1980\n",
      "unique    1877\n",
      "top         []\n",
      "freq        94\n",
      "Name: ممثلات, dtype: object\n",
      "\n",
      "--------------------\n",
      "Column Name:  ‫ممثلون‬\n",
      "count     1980\n",
      "unique    1891\n",
      "top         []\n",
      "freq        86\n",
      "Name: ممثلون, dtype: object\n",
      "\n",
      "--------------------\n",
      "Column Name:  ‫تأليف‬\n",
      "count                    1845\n",
      "unique                   1226\n",
      "top       أبو السعود الإبياري\n",
      "freq                       47\n",
      "Name: تأليف, dtype: object\n",
      "\n",
      "--------------------\n",
      "Column Name:  ‫إخراج‬\n",
      "count                    1885\n",
      "unique                   1221\n",
      "top       حلمي رفلة,عاطف سالم\n",
      "freq                       20\n",
      "Name: إخراج, dtype: object\n",
      "\n",
      "--------------------\n"
     ]
    }
   ],
   "source": [
    "describe_dataframe(movies_df)"
   ]
  },
  {
   "cell_type": "code",
   "execution_count": 168,
   "metadata": {
    "collapsed": true
   },
   "outputs": [
    {
     "name": "stdout",
     "output_type": "stream",
     "text": [
      ">> ‫اسم الفيلم: 0%\n",
      ">> ‫الشهر: 0%\n",
      ">> ‫السنة: 0%\n",
      ">> ‫التصنيف: 40%\n",
      ">> ‫التقييم: 8%\n",
      ">> ‫المدة: 0%\n",
      ">> ‫ملخص: 5%\n",
      ">> ‫ممثلات: 0%\n",
      ">> ‫ممثلون: 0%\n",
      ">> ‫تأليف: 7%\n",
      ">> ‫إخراج: 5%\n"
     ]
    }
   ],
   "source": [
    "get_null_percentage(movies_df)"
   ]
  },
  {
   "cell_type": "code",
   "execution_count": 169,
   "metadata": {
    "collapsed": true
   },
   "outputs": [
    {
     "data": {
      "text/plain": [
       "اسم الفيلم    object\n",
       "الشهر         object\n",
       "السنة         object\n",
       "التصنيف       object\n",
       "التقييم       object\n",
       "المدة         object\n",
       "ملخص          object\n",
       "ممثلات        object\n",
       "ممثلون        object\n",
       "تأليف         object\n",
       "إخراج         object\n",
       "dtype: object"
      ]
     },
     "execution_count": 169,
     "metadata": {},
     "output_type": "execute_result"
    }
   ],
   "source": [
    "movies_df.dtypes"
   ]
  },
  {
   "cell_type": "code",
   "execution_count": 170,
   "metadata": {},
   "outputs": [],
   "source": [
    "movies_df['المدة'] = movies_df['المدة'].astype(float)\n",
    "movies_df['التقييم'] = movies_df['التقييم'].astype(float)"
   ]
  },
  {
   "cell_type": "markdown",
   "metadata": {},
   "source": [
    "#### Further Cleansing"
   ]
  },
  {
   "cell_type": "code",
   "execution_count": 171,
   "metadata": {},
   "outputs": [],
   "source": [
    "movies_df['المدة'] = movies_df['المدة'].fillna(float(0))\n",
    "movies_df['التقييم'] = movies_df['التقييم'].fillna(float(0))"
   ]
  },
  {
   "cell_type": "code",
   "execution_count": 172,
   "metadata": {},
   "outputs": [],
   "source": [
    "movies_df = movies_df.dropna(axis=0, subset=['ملخص'])"
   ]
  },
  {
   "cell_type": "code",
   "execution_count": 173,
   "metadata": {
    "collapsed": true
   },
   "outputs": [
    {
     "name": "stdout",
     "output_type": "stream",
     "text": [
      ">> ‫اسم الفيلم: 0%\n",
      ">> ‫الشهر: 0%\n",
      ">> ‫السنة: 0%\n",
      ">> ‫التصنيف: 37%\n",
      ">> ‫التقييم: 0%\n",
      ">> ‫المدة: 0%\n",
      ">> ‫ملخص: 0%\n",
      ">> ‫ممثلات: 0%\n",
      ">> ‫ممثلون: 0%\n",
      ">> ‫تأليف: 3%\n",
      ">> ‫إخراج: 2%\n"
     ]
    }
   ],
   "source": [
    "get_null_percentage(movies_df)"
   ]
  },
  {
   "cell_type": "markdown",
   "metadata": {},
   "source": [
    "## Doc2Vec on Synopsis  to Classify Movie Genre"
   ]
  },
  {
   "cell_type": "markdown",
   "metadata": {},
   "source": [
    "#### Doc2Vec Preprocessing Functions"
   ]
  },
  {
   "cell_type": "code",
   "execution_count": 174,
   "metadata": {
    "code_folding": [
     0
    ]
   },
   "outputs": [],
   "source": [
    "def remove_names(synopsis, actors, actresses):  \n",
    "    \n",
    "    if(type(actors) == list):\n",
    "        for actor in actors:\n",
    "            if(actor in synopsis):\n",
    "                synopsis = synopsis.replace(actor, '')\n",
    "    if(type(actresses) == list):\n",
    "        for actress in actresses:\n",
    "            if(actress in synopsis):\n",
    "                synopsis = synopsis.replace(actress, '')\n",
    "            \n",
    "    return synopsis"
   ]
  },
  {
   "cell_type": "code",
   "execution_count": 175,
   "metadata": {
    "code_folding": [
     0
    ]
   },
   "outputs": [],
   "source": [
    "def stem_synopsis(synopsis, stemmer):\n",
    "    stemmed_synopsis = ''\n",
    "    for word in synopsis.split():\n",
    "        stemmed_word = stemmer.stem(word)\n",
    "        if(stemmed_word != word):\n",
    "            stemmed_synopsis += stemmed_word + ' '\n",
    "        \n",
    "    return stemmed_synopsis          "
   ]
  },
  {
   "cell_type": "code",
   "execution_count": 183,
   "metadata": {
    "code_folding": [
     0
    ]
   },
   "outputs": [],
   "source": [
    "def remove_arabic_punctuation(synopsis):\n",
    "    \n",
    "    cleaned_synopsis = \\\n",
    "    ''.join(char for char in synopsis if not ud.category(char).startswith('P'))\n",
    "    \n",
    "    return cleaned_synopsis"
   ]
  },
  {
   "cell_type": "code",
   "execution_count": 184,
   "metadata": {
    "code_folding": [
     0
    ]
   },
   "outputs": [],
   "source": [
    "def remove_stop_words(synopsis, stop_words):  \n",
    "\n",
    "    for word in synopsis.split():\n",
    "        if word in stop_words:\n",
    "            synopsis = synopsis.replace(word, '')\n",
    "            \n",
    "    return synopsis"
   ]
  },
  {
   "cell_type": "code",
   "execution_count": 205,
   "metadata": {
    "code_folding": [
     0
    ]
   },
   "outputs": [],
   "source": [
    "def remove_non_words(synopsis):\n",
    "    synopsis = re.sub(r'(\\d+)|[^\\w\\s]','',synopsis)\n",
    "    synopsis = re.sub(r'\\([^)]*\\)', '', synopsis)\n",
    "    return synopsis"
   ]
  },
  {
   "cell_type": "code",
   "execution_count": 186,
   "metadata": {
    "code_folding": [
     0
    ]
   },
   "outputs": [],
   "source": [
    "def tokenize_synopsis(synopsis):\n",
    "    tokens = []\n",
    "    words = wordpunct_tokenize(synopsis)\n",
    "    tokens.extend(words)\n",
    "    return tokens"
   ]
  },
  {
   "cell_type": "code",
   "execution_count": 187,
   "metadata": {
    "code_folding": [
     0
    ]
   },
   "outputs": [],
   "source": [
    "def preprocess_synopses(dataset):\n",
    "    \n",
    "    stop_words = set(nltk.corpus.stopwords.words(\"arabic\"))\n",
    "    stop_words.add('على')\n",
    "    stop_words.add('ان')\n",
    "    \n",
    "    stemmer = ISRIStemmer()\n",
    "\n",
    "    for row_index in range(dataset.shape[0]):\n",
    "        \n",
    "        synopsis = dataset.loc[row_index, 'ملخص']\n",
    "        actors = dataset.loc[row_index, 'ممثلون']\n",
    "        actresses = dataset.loc[row_index, 'ممثلات']\n",
    "        synopsis = remove_names(synopsis, actors, actresses)\n",
    "        synopsis = remove_arabic_punctuation(synopsis)\n",
    "        synopsis = remove_non_words(synopsis)\n",
    "        synopsis = remove_stop_words(synopsis, stop_words)\n",
    "        stemmed_synopsis = stem_synopsis(synopsis, stemmer)\n",
    "        tokenized_synopsis = tokenize_synopsis(stemmed_synopsis)\n",
    "    \n",
    "        try:\n",
    "            dataset.at[row_index, 'ملخص'] = tokenized_synopsis\n",
    "        except:\n",
    "            print('error occured at row: ' + str(row_index))\n",
    "                  \n",
    "    return dataset"
   ]
  },
  {
   "cell_type": "markdown",
   "metadata": {},
   "source": [
    "#### Create & Preprocess Dataset"
   ]
  },
  {
   "cell_type": "code",
   "execution_count": 393,
   "metadata": {},
   "outputs": [],
   "source": [
    "movies_dataset = movies_df.copy(deep = True)\n",
    "movies_dataset = movies_dataset.reset_index(drop = True)"
   ]
  },
  {
   "cell_type": "code",
   "execution_count": 394,
   "metadata": {},
   "outputs": [],
   "source": [
    "movies_dataset = preprocess_synopses(movies_dataset)"
   ]
  },
  {
   "cell_type": "code",
   "execution_count": 395,
   "metadata": {},
   "outputs": [],
   "source": [
    "targets = movies_dataset.loc[movies_dataset['التصنيف'].isnull()]"
   ]
  },
  {
   "cell_type": "code",
   "execution_count": 396,
   "metadata": {},
   "outputs": [],
   "source": [
    "movies_dataset.dropna(subset=['التصنيف'], inplace=True)"
   ]
  },
  {
   "cell_type": "code",
   "execution_count": 397,
   "metadata": {},
   "outputs": [],
   "source": [
    "movies_dataset = movies_dataset.reset_index(drop = True)"
   ]
  },
  {
   "cell_type": "markdown",
   "metadata": {},
   "source": [
    "#### Reduce Genre Dimensionalites"
   ]
  },
  {
   "cell_type": "code",
   "execution_count": 398,
   "metadata": {
    "collapsed": true
   },
   "outputs": [
    {
     "data": {
      "text/plain": [
       "ﺩﺭاﻣﺎ                627\n",
       "ﻛﻮﻣﻴﺪﻱ               189\n",
       "ﺭﻭﻣﺎﻧﺴﻲ              129\n",
       "موسيقي / استعراضي     72\n",
       "ﺗﺸﻮﻳﻖ ﻭﺇﺛﺎﺭﺓ          55\n",
       "ﺟﺮﻳﻤﺔ                 33\n",
       "ﺣﺮﻛﺔ                  19\n",
       "تاريخي                14\n",
       "ﻋﺎﺋﻠﻲ                 10\n",
       "ﻣﻐﺎﻣﺮاﺕ               10\n",
       "ﺳﻴﺮﺓ ﺫاﺗﻴﺔ             7\n",
       "ﺧﻴﺎﻝ                   7\n",
       "ﻏﻤﻮﺽ                   6\n",
       "ﺧﻴﺎﻝ ﻋﻠﻤﻲ              5\n",
       "ﺣﺮﺏ                    3\n",
       "ﻗﺼﻴﺮ                   2\n",
       "ﺭﻋﺐ                    1\n",
       "Name: التصنيف, dtype: int64"
      ]
     },
     "execution_count": 398,
     "metadata": {},
     "output_type": "execute_result"
    }
   ],
   "source": [
    "movies_dataset['التصنيف'].value_counts()"
   ]
  },
  {
   "cell_type": "markdown",
   "metadata": {},
   "source": [
    "We reduce the number of labels by grouping similar genres into one label,\n",
    "* ﺩﺭاﻣﺎ/ﺗﺸﻮﻳﻖ ﻭﺇﺛﺎﺭﺓ/ﺣﺮﻛﺔ/ﺟﺮﻳﻤﺔ/ﻣﻐﺎﻣﺮاﺕ/ﻏﻤﻮﺽ = دراما\n",
    "* ﺧﻴﺎﻝ ﻋﻠﻤﻲ/ﺧﻴﺎﻝ = ﺧﻴﺎﻝ\n",
    "* ﻋﺎﺋﻠﻲ/ ﻛﻮﻣﻴﺪﻱ = ﻛﻮﻣﻴﺪﻱ\n",
    "\n",
    "While the rest of the labels remain unchanged.\n"
   ]
  },
  {
   "cell_type": "code",
   "execution_count": 399,
   "metadata": {
    "code_folding": [
     0
    ]
   },
   "outputs": [],
   "source": [
    "def reduce_genre_labels(ds):\n",
    "    \n",
    "    for row_index in range(ds.shape[0]):\n",
    "        \n",
    "        cell_value = ds.loc[row_index, 'التصنيف']\n",
    "        \n",
    "        if(cell_value == 'ﺗﺸﻮﻳﻖ ﻭﺇﺛﺎﺭﺓ'):\n",
    "            ds.loc[row_index, 'التصنيف'] = 'ﺩﺭاﻣﺎ'\n",
    "        if(cell_value == 'ﺟﺮﻳﻤﺔ'):\n",
    "            ds.loc[row_index, 'التصنيف'] = 'ﺩﺭاﻣﺎ'\n",
    "        if(cell_value == 'ﺣﺮﻛﺔ'):\n",
    "            ds.loc[row_index, 'التصنيف'] = 'ﺩﺭاﻣﺎ'\n",
    "        if(cell_value == 'ﻏﻤﻮﺽ'):\n",
    "            ds.loc[row_index, 'التصنيف'] = 'ﺩﺭاﻣﺎ'\n",
    "        if(cell_value == 'ﻣﻐﺎﻣﺮاﺕ'):\n",
    "            ds.loc[row_index, 'التصنيف'] = 'ﺩﺭاﻣﺎ'\n",
    "        if(cell_value == 'ﻋﺎﺋﻠﻲ'):\n",
    "            ds.loc[row_index, 'التصنيف'] = 'ﻛﻮﻣﻴﺪﻱ'\n",
    "        if(cell_value == 'ﺧﻴﺎﻝ ﻋﻠﻤﻲ'):\n",
    "            ds.loc[row_index, 'التصنيف'] = 'ﺧﻴﺎﻝ'\n",
    "\n",
    "    return ds\n",
    "        "
   ]
  },
  {
   "cell_type": "code",
   "execution_count": 400,
   "metadata": {},
   "outputs": [],
   "source": [
    "movies_dataset = reduce_genre_labels(movies_dataset)"
   ]
  },
  {
   "cell_type": "code",
   "execution_count": 401,
   "metadata": {
    "collapsed": true
   },
   "outputs": [
    {
     "data": {
      "text/plain": [
       "ﺩﺭاﻣﺎ                750\n",
       "ﻛﻮﻣﻴﺪﻱ               199\n",
       "ﺭﻭﻣﺎﻧﺴﻲ              129\n",
       "موسيقي / استعراضي     72\n",
       "تاريخي                14\n",
       "ﺧﻴﺎﻝ                  12\n",
       "ﺳﻴﺮﺓ ﺫاﺗﻴﺔ             7\n",
       "ﺣﺮﺏ                    3\n",
       "ﻗﺼﻴﺮ                   2\n",
       "ﺭﻋﺐ                    1\n",
       "Name: التصنيف, dtype: int64"
      ]
     },
     "execution_count": 401,
     "metadata": {},
     "output_type": "execute_result"
    }
   ],
   "source": [
    "movies_dataset['التصنيف'].value_counts()"
   ]
  },
  {
   "cell_type": "markdown",
   "metadata": {},
   "source": [
    "Short movies cannot be predicted contextually, therefore we assign the genre \"ﻗﺼﻴﺮ\" to movies with duration less than 45 minutes, and remove them from our yet to be trained dataset."
   ]
  },
  {
   "cell_type": "code",
   "execution_count": 402,
   "metadata": {
    "code_folding": [
     0
    ]
   },
   "outputs": [],
   "source": [
    "def set_short_movies_genre(ds):\n",
    "    for row_index in range(ds.shape[0]):\n",
    "        cell_value = ds.loc[row_index, 'المدة']\n",
    "        if(cell_value < float(45) and cell_value !=0):\n",
    "            ds.loc[row_index, 'التصنيف'] = \"ﻗﺼﻴﺮ\"\n",
    "            \n",
    "    return ds"
   ]
  },
  {
   "cell_type": "code",
   "execution_count": 403,
   "metadata": {},
   "outputs": [],
   "source": [
    "movies_dataset = set_short_movies_genre(movies_dataset)"
   ]
  },
  {
   "cell_type": "code",
   "execution_count": 404,
   "metadata": {
    "collapsed": true
   },
   "outputs": [
    {
     "data": {
      "text/plain": [
       "ﺩﺭاﻣﺎ                748\n",
       "ﻛﻮﻣﻴﺪﻱ               199\n",
       "ﺭﻭﻣﺎﻧﺴﻲ              129\n",
       "موسيقي / استعراضي     72\n",
       "تاريخي                14\n",
       "ﺧﻴﺎﻝ                  12\n",
       "ﺳﻴﺮﺓ ﺫاﺗﻴﺔ             7\n",
       "ﻗﺼﻴﺮ                   4\n",
       "ﺣﺮﺏ                    3\n",
       "ﺭﻋﺐ                    1\n",
       "Name: التصنيف, dtype: int64"
      ]
     },
     "execution_count": 404,
     "metadata": {},
     "output_type": "execute_result"
    }
   ],
   "source": [
    "movies_dataset['التصنيف'].value_counts()"
   ]
  },
  {
   "cell_type": "code",
   "execution_count": 406,
   "metadata": {},
   "outputs": [],
   "source": [
    "short_movies_indices = \\\n",
    "movies_dataset.loc[movies_dataset['التصنيف'] == 'ﻗﺼﻴﺮ'].index"
   ]
  },
  {
   "cell_type": "code",
   "execution_count": 407,
   "metadata": {},
   "outputs": [],
   "source": [
    "short_movies = movies_dataset.take(short_movies_indices)"
   ]
  },
  {
   "cell_type": "code",
   "execution_count": 408,
   "metadata": {},
   "outputs": [],
   "source": [
    "movies_dataset.drop(index = short_movies_indices,\\\n",
    "                                   inplace = True)"
   ]
  },
  {
   "cell_type": "code",
   "execution_count": 411,
   "metadata": {},
   "outputs": [],
   "source": [
    "movies_dataset = movies_dataset.reset_index(drop = True)"
   ]
  },
  {
   "cell_type": "markdown",
   "metadata": {},
   "source": [
    "#### Training and Testing \n",
    "Word2Vec Models used:\n",
    "* Distributed Bag of Words (DBOW): \n",
    "        We achieve vectors for each synopsis by training a neural network.\n",
    "        This neural network is tasked to predict the probability distribution\n",
    "        of words in a snyopsis.\n",
    "        \n",
    "* Distributed Memory (DM):\n",
    "        DM is a model that memorises what is missing from a synopsis context."
   ]
  },
  {
   "cell_type": "code",
   "execution_count": 422,
   "metadata": {
    "code_folding": []
   },
   "outputs": [],
   "source": [
    "def fetch_targets_regressors(model, tagged_docs):\n",
    "    sents = tagged_docs.values\n",
    "    targets, regressors = zip(*[(doc.tags, model.infer_vector(doc.words, steps=30)) for doc in sents])\n",
    "    return targets, regressors"
   ]
  },
  {
   "cell_type": "code",
   "execution_count": 412,
   "metadata": {},
   "outputs": [],
   "source": [
    "corpus = movies_dataset[['ملخص', 'التصنيف']]"
   ]
  },
  {
   "cell_type": "code",
   "execution_count": 414,
   "metadata": {},
   "outputs": [],
   "source": [
    "train, test = \\\n",
    "train_test_split(corpus, test_size=0.3, random_state=42)"
   ]
  },
  {
   "cell_type": "code",
   "execution_count": 416,
   "metadata": {
    "code_folding": [
     0
    ]
   },
   "outputs": [],
   "source": [
    "train_tagged = train.apply(\n",
    "    lambda row: TaggedDocument(words=row['ملخص'], tags=row['التصنيف']), axis=1)\n",
    "test_tagged = train.apply(\n",
    "    lambda row: TaggedDocument(words=row['ملخص'], tags=row['التصنيف']), axis=1)"
   ]
  },
  {
   "cell_type": "markdown",
   "metadata": {},
   "source": []
  },
  {
   "cell_type": "markdown",
   "metadata": {},
   "source": [
    "####  Training DBOW Model"
   ]
  },
  {
   "cell_type": "code",
   "execution_count": 419,
   "metadata": {},
   "outputs": [
    {
     "name": "stderr",
     "output_type": "stream",
     "text": [
      "100%|██████████| 829/829 [00:00<00:00, 718998.76it/s]\n"
     ]
    }
   ],
   "source": [
    "cores = multiprocessing.cpu_count()\n",
    "model_dbow = Doc2Vec(dm=0, vector_size=300, negative=5, hs=0, min_count=2, sample = 0, workers=cores)\n",
    "model_dbow.build_vocab([document for document in tqdm(train_tagged.values)])"
   ]
  },
  {
   "cell_type": "code",
   "execution_count": 429,
   "metadata": {
    "code_folding": [
     0
    ],
    "collapsed": true
   },
   "outputs": [
    {
     "name": "stderr",
     "output_type": "stream",
     "text": [
      "100%|██████████| 829/829 [00:00<00:00, 561271.67it/s]\n",
      "100%|██████████| 829/829 [00:00<00:00, 2006392.39it/s]\n",
      "100%|██████████| 829/829 [00:00<00:00, 2007550.82it/s]\n",
      "100%|██████████| 829/829 [00:00<00:00, 2062323.85it/s]\n",
      "100%|██████████| 829/829 [00:00<00:00, 2018037.15it/s]\n",
      "100%|██████████| 829/829 [00:00<00:00, 1867388.84it/s]\n",
      "100%|██████████| 829/829 [00:00<00:00, 2012197.93it/s]\n",
      "100%|██████████| 829/829 [00:00<00:00, 1654963.36it/s]\n",
      "100%|██████████| 829/829 [00:00<00:00, 2032190.54it/s]\n",
      "100%|██████████| 829/829 [00:00<00:00, 1626322.74it/s]\n",
      "100%|██████████| 829/829 [00:00<00:00, 1941417.09it/s]\n",
      "100%|██████████| 829/829 [00:00<00:00, 1941417.09it/s]\n",
      "100%|██████████| 829/829 [00:00<00:00, 1509148.44it/s]\n",
      "100%|██████████| 829/829 [00:00<00:00, 1954512.66it/s]\n",
      "100%|██████████| 829/829 [00:00<00:00, 1467121.53it/s]\n",
      "100%|██████████| 829/829 [00:00<00:00, 2115010.96it/s]\n",
      "100%|██████████| 829/829 [00:00<00:00, 1344057.99it/s]\n",
      "100%|██████████| 829/829 [00:00<00:00, 1789540.92it/s]\n",
      "100%|██████████| 829/829 [00:00<00:00, 2182723.17it/s]\n",
      "100%|██████████| 829/829 [00:00<00:00, 1978985.78it/s]\n",
      "100%|██████████| 829/829 [00:00<00:00, 1124540.11it/s]\n",
      "100%|██████████| 829/829 [00:00<00:00, 1281635.83it/s]\n",
      "100%|██████████| 829/829 [00:00<00:00, 1964450.86it/s]\n",
      "100%|██████████| 829/829 [00:00<00:00, 2066000.01it/s]\n",
      "100%|██████████| 829/829 [00:00<00:00, 1692008.77it/s]\n",
      "100%|██████████| 829/829 [00:00<00:00, 1774924.97it/s]\n",
      "100%|██████████| 829/829 [00:00<00:00, 1591340.05it/s]\n",
      "100%|██████████| 829/829 [00:00<00:00, 1000022.44it/s]\n",
      "100%|██████████| 829/829 [00:00<00:00, 1244480.32it/s]\n",
      "100%|██████████| 829/829 [00:00<00:00, 1417479.83it/s]\n"
     ]
    }
   ],
   "source": [
    "for epoch in range(30):\n",
    "    model_dbow.train(utils.shuffle([document for document in tqdm(train_tagged.values)]),\\\n",
    "                     total_examples=len(train_tagged.values), epochs=1)\n",
    "    model_dbow.alpha -= 0.002\n",
    "    model_dbow.min_alpha = model_dbow.alpha"
   ]
  },
  {
   "cell_type": "code",
   "execution_count": 433,
   "metadata": {
    "scrolled": false
   },
   "outputs": [
    {
     "name": "stdout",
     "output_type": "stream",
     "text": [
      "Testing accuracy 0.6164053075995175\n",
      "Testing F1 score: 0.47210099849058035\n"
     ]
    }
   ],
   "source": [
    "y_train, X_train = fetch_targets_regressors(model_dbow,\\\n",
    "                                            train_tagged)\n",
    "y_test, X_test = fetch_targets_regressors(model_dbow,\\\n",
    "                                          test_tagged)\n",
    "SGD_classifier = SGDClassifier(loss=\"hinge\", penalty=\"l2\", max_iter=100)\n",
    "SGD_classifier.fit(X_train, y_train)\n",
    "y_predict = SGD_classifier.predict(X_test)\n",
    "\n",
    "print('Testing accuracy %s' % accuracy_score(y_test, y_predict))\n",
    "print('Testing F1 score: {}'.format(f1_score(y_test, y_predict, average='weighted')))"
   ]
  },
  {
   "cell_type": "markdown",
   "metadata": {},
   "source": [
    "Which genres were never predicted?"
   ]
  },
  {
   "cell_type": "code",
   "execution_count": 434,
   "metadata": {},
   "outputs": [
    {
     "data": {
      "text/plain": [
       "{'تاريخي', 'موسيقي / استعراضي', 'ﺧﻴﺎﻝ', 'ﺭﻋﺐ', 'ﺭﻭﻣﺎﻧﺴﻲ', 'ﺳﻴﺮﺓ ﺫاﺗﻴﺔ'}"
      ]
     },
     "execution_count": 434,
     "metadata": {},
     "output_type": "execute_result"
    }
   ],
   "source": [
    "set(y_test) - set(y_predict)"
   ]
  },
  {
   "cell_type": "markdown",
   "metadata": {},
   "source": [
    "####  Training DM Model"
   ]
  },
  {
   "cell_type": "code",
   "execution_count": 435,
   "metadata": {},
   "outputs": [
    {
     "name": "stderr",
     "output_type": "stream",
     "text": [
      "100%|██████████| 829/829 [00:00<00:00, 927963.17it/s]\n"
     ]
    }
   ],
   "source": [
    "model_dm = Doc2Vec(dm=1, dm_mean=1, vector_size=300, window=10, negative=5, min_count=1, workers=5, alpha=0.065, min_alpha=0.065)\n",
    "model_dm.build_vocab([document for document in tqdm(train_tagged.values)])"
   ]
  },
  {
   "cell_type": "code",
   "execution_count": 436,
   "metadata": {
    "collapsed": true
   },
   "outputs": [
    {
     "name": "stderr",
     "output_type": "stream",
     "text": [
      "100%|██████████| 829/829 [00:00<00:00, 113437.23it/s]\n",
      "100%|██████████| 829/829 [00:00<00:00, 1320075.18it/s]\n",
      "100%|██████████| 829/829 [00:00<00:00, 1698621.40it/s]\n",
      "100%|██████████| 829/829 [00:00<00:00, 1288761.31it/s]\n",
      "100%|██████████| 829/829 [00:00<00:00, 2031003.51it/s]\n",
      "100%|██████████| 829/829 [00:00<00:00, 1830041.06it/s]\n",
      "100%|██████████| 829/829 [00:00<00:00, 2002925.12it/s]\n",
      "100%|██████████| 829/829 [00:00<00:00, 2051373.46it/s]\n",
      "100%|██████████| 829/829 [00:00<00:00, 2021556.99it/s]\n",
      "100%|██████████| 829/829 [00:00<00:00, 1123450.09it/s]\n",
      "100%|██████████| 829/829 [00:00<00:00, 810318.81it/s]\n",
      "100%|██████████| 829/829 [00:00<00:00, 1965561.34it/s]\n",
      "100%|██████████| 829/829 [00:00<00:00, 1265772.85it/s]\n",
      "100%|██████████| 829/829 [00:00<00:00, 2126653.22it/s]\n",
      "100%|██████████| 829/829 [00:00<00:00, 2109877.44it/s]\n",
      "100%|██████████| 829/829 [00:00<00:00, 2109877.44it/s]\n",
      "100%|██████████| 829/829 [00:00<00:00, 1814758.88it/s]\n",
      "100%|██████████| 829/829 [00:00<00:00, 1978985.78it/s]\n",
      "100%|██████████| 829/829 [00:00<00:00, 698348.67it/s]\n",
      "100%|██████████| 829/829 [00:00<00:00, 357026.19it/s]\n",
      "100%|██████████| 829/829 [00:00<00:00, 1241370.23it/s]\n",
      "100%|██████████| 829/829 [00:00<00:00, 1576906.13it/s]\n",
      "100%|██████████| 829/829 [00:00<00:00, 1658120.18it/s]\n",
      "100%|██████████| 829/829 [00:00<00:00, 925246.94it/s]\n",
      "100%|██████████| 829/829 [00:00<00:00, 1341465.28it/s]\n",
      "100%|██████████| 829/829 [00:00<00:00, 1513088.78it/s]\n",
      "100%|██████████| 829/829 [00:00<00:00, 764529.03it/s]\n",
      "100%|██████████| 829/829 [00:00<00:00, 1280691.72it/s]\n",
      "100%|██████████| 829/829 [00:00<00:00, 1924226.90it/s]\n",
      "100%|██████████| 829/829 [00:00<00:00, 2082082.64it/s]\n"
     ]
    },
    {
     "name": "stdout",
     "output_type": "stream",
     "text": [
      "CPU times: user 5.3 s, sys: 448 ms, total: 5.75 s\n",
      "Wall time: 3.88 s\n"
     ]
    }
   ],
   "source": [
    "%%time\n",
    "for epoch in range(30):\n",
    "    model_dm.train(utils.shuffle([document for document in \\\n",
    "                tqdm(train_tagged.values)]),\\\n",
    "                total_examples=len(train_tagged.values), epochs=1)\n",
    "    model_dm.alpha -= 0.002\n",
    "    model_dm.min_alpha = model_dm.alpha"
   ]
  },
  {
   "cell_type": "code",
   "execution_count": 439,
   "metadata": {},
   "outputs": [
    {
     "name": "stdout",
     "output_type": "stream",
     "text": [
      "Testing accuracy 0.985524728588661\n",
      "Testing F1 score: 0.9848792820181294\n"
     ]
    }
   ],
   "source": [
    "y_train, X_train = fetch_targets_regressors(model_dm, train_tagged)\n",
    "y_test, X_test = fetch_targets_regressors(model_dm, test_tagged)\n",
    "\n",
    "\n",
    "SGD_classifier = SGDClassifier(loss=\"hinge\", penalty=\"l2\", max_iter=50)\n",
    "SGD_classifier.fit(X_train, y_train)\n",
    "y_predict = SGD_classifier.predict(X_test)\n",
    "\n",
    "print('Testing accuracy %s' % accuracy_score(y_test, y_predict))\n",
    "print('Testing F1 score: {}'.format(f1_score(y_test, y_predict,\\\n",
    "                                             average='weighted')))"
   ]
  },
  {
   "cell_type": "markdown",
   "metadata": {},
   "source": [
    "Which genres were never predicted?"
   ]
  },
  {
   "cell_type": "code",
   "execution_count": 440,
   "metadata": {},
   "outputs": [
    {
     "data": {
      "text/plain": [
       "{'ﺭﻋﺐ'}"
      ]
     },
     "execution_count": 440,
     "metadata": {},
     "output_type": "execute_result"
    }
   ],
   "source": [
    "set(y_test) - set(y_predict)"
   ]
  },
  {
   "cell_type": "markdown",
   "metadata": {},
   "source": [
    "#### Predicting Missing Genres Using DM Model"
   ]
  },
  {
   "cell_type": "code",
   "execution_count": 450,
   "metadata": {},
   "outputs": [],
   "source": [
    "targets = targets.reset_index(drop = True)"
   ]
  },
  {
   "cell_type": "code",
   "execution_count": 451,
   "metadata": {},
   "outputs": [],
   "source": [
    "targets_docs = targets.apply(\n",
    "    lambda row: TaggedDocument(words=row['ملخص'], tags=row['التصنيف']), axis=1)"
   ]
  },
  {
   "cell_type": "code",
   "execution_count": 464,
   "metadata": {},
   "outputs": [],
   "source": [
    "genres, synopsis = \\\n",
    "    fetch_targets_regressors(model_dm, targets_docs)\n",
    "predicted_genres = \\\n",
    "SGD_classifier.predict(synopsis)"
   ]
  },
  {
   "cell_type": "code",
   "execution_count": 475,
   "metadata": {
    "code_folding": []
   },
   "outputs": [],
   "source": [
    "targets['التصنيف'] = predicted_genres"
   ]
  },
  {
   "cell_type": "markdown",
   "metadata": {},
   "source": [
    "#### ReMerge Divided Dataframes Again"
   ]
  },
  {
   "cell_type": "code",
   "execution_count": 483,
   "metadata": {},
   "outputs": [],
   "source": [
    "movies = pd.concat([targets, short_movies, movies_dataset])"
   ]
  },
  {
   "cell_type": "code",
   "execution_count": 487,
   "metadata": {
    "scrolled": true
   },
   "outputs": [
    {
     "name": "stdout",
     "output_type": "stream",
     "text": [
      ">> ‫اسم الفيلم: 0%\n",
      ">> ‫الشهر: 0%\n",
      ">> ‫السنة: 0%\n",
      ">> ‫التصنيف: 0%\n",
      ">> ‫التقييم: 0%\n",
      ">> ‫المدة: 0%\n",
      ">> ‫ملخص: 0%\n",
      ">> ‫ممثلات: 0%\n",
      ">> ‫ممثلون: 0%\n",
      ">> ‫تأليف: 3%\n",
      ">> ‫إخراج: 2%\n"
     ]
    }
   ],
   "source": [
    "get_null_percentage(movies)"
   ]
  },
  {
   "cell_type": "markdown",
   "metadata": {},
   "source": []
  },
  {
   "cell_type": "markdown",
   "metadata": {},
   "source": []
  },
  {
   "cell_type": "markdown",
   "metadata": {},
   "source": [
    "## Questions to Ask"
   ]
  },
  {
   "cell_type": "markdown",
   "metadata": {},
   "source": [
    "### Which movie genre dominated which decade?"
   ]
  },
  {
   "cell_type": "code",
   "execution_count": null,
   "metadata": {},
   "outputs": [],
   "source": [
    "genre_names= [genre_added_40s['التصنيف'].value_counts().idxmax()\\\n",
    "        ,genres_added_50s['التصنيف'].value_counts().idxmax()\n",
    "        ,genre_added_60s['التصنيف'].value_counts().idxmax()\n",
    "        ,genre_added_70s['التصنيف'].value_counts().idxmax()]\n",
    "\n",
    "genre_max_counts = [genre_added_40s['التصنيف'].value_counts()[0] \\\n",
    "        ,genres_added_50s['التصنيف'].value_counts().head()[0] \\\n",
    "        ,genre_added_60s['التصنيف'].value_counts().head()[0] \\\n",
    "        ,genre_added_70s['التصنيف'].value_counts().head()[0]]"
   ]
  },
  {
   "cell_type": "code",
   "execution_count": null,
   "metadata": {},
   "outputs": [],
   "source": [
    "print('40s: ' + genre_names[0] + ' with ' + str(genre_max_counts[0]) + '  movies')\n",
    "print('50s: ' + genre_names[1] + ' with ' + str(genre_max_counts[1]) +  ' movies')\n",
    "print('60s: ' + genre_names[2] + ' with ' + str(genre_max_counts[2]) + ' movies')\n",
    "print('70s: ' + genre_names[3] + ' with ' + str(genre_max_counts[3]) + ' movies')"
   ]
  },
  {
   "cell_type": "markdown",
   "metadata": {},
   "source": [
    "### Which movie genre had the least existence which decade?"
   ]
  },
  {
   "cell_type": "code",
   "execution_count": null,
   "metadata": {},
   "outputs": [],
   "source": [
    "genre_names= [genre_added_40s['التصنيف'].value_counts().idxmin()\\\n",
    "        ,genres_added_50s['التصنيف'].value_counts().idxmin()\n",
    "        ,genre_added_60s['التصنيف'].value_counts().idxmin()\n",
    "        ,genre_added_70s['التصنيف'].value_counts().idxmin()]\n",
    "\n",
    "genre_min_counts = [genre_added_40s['التصنيف'].value_counts().min() \\\n",
    "        ,genres_added_50s['التصنيف'].value_counts().min() \\\n",
    "        ,genre_added_60s['التصنيف'].value_counts().min() \\\n",
    "        ,genre_added_70s['التصنيف'].value_counts().min()]\n"
   ]
  },
  {
   "cell_type": "code",
   "execution_count": null,
   "metadata": {},
   "outputs": [],
   "source": [
    "print('40s: ' + genre_names[0] + ' with ' + str(genre_min_counts[0]) + '  movies')\n",
    "print('50s: ' + genre_names[1] + ' with ' + str(genre_min_counts[1]) +  ' movies')\n",
    "print('60s: ' + genre_names[2] + ' with ' + str(genre_min_counts[2]) + ' movies')\n",
    "print('70s: ' + genre_names[3] + ' with ' + str(genre_min_counts[3]) + ' movies')"
   ]
  },
  {
   "cell_type": "markdown",
   "metadata": {},
   "source": [
    "### Which is the highest rated films throughout the 4 decades?"
   ]
  },
  {
   "cell_type": "code",
   "execution_count": null,
   "metadata": {},
   "outputs": [],
   "source": [
    "highest_rated_movie = movies_df.loc[movies_df['التقييم'].idxmax()]\n",
    "print('Movie Name: ' + highest_rated_movie.values[0])\n",
    "print('Movie Rating: ' + str(highest_rated_movie.values[3]))\n",
    "print('Movie Year: ' + highest_rated_movie.values[2])\n",
    "print('Movie Genre: ' + highest_rated_movie.values[4])\n",
    "print('Movies Actors: ' + highest_rated_movie.values[8])\n",
    "print('Movies Authors:  ' + highest_rated_movie.values[7])"
   ]
  },
  {
   "cell_type": "markdown",
   "metadata": {},
   "source": [
    "### What is the average duration of each genre?"
   ]
  },
  {
   "cell_type": "code",
   "execution_count": null,
   "metadata": {},
   "outputs": [],
   "source": [
    "print('40s decade')\n",
    "print(ratings_added_50s.groupby(['التصنيف'])['المدة'].mean())\n",
    "print('-----------------')\n",
    "print('50s decade')\n",
    "print(ratings_added_60s.groupby(['التصنيف'])['المدة'].mean())\n",
    "print('-----------------')\n",
    "print('60s decade')\n",
    "print(ratings_added_60s.groupby(['التصنيف'])['المدة'].mean())\n",
    "print('70s decade')\n",
    "print('-----------------')\n",
    "print(ratings_added_70s.groupby(['التصنيف'])['المدة'].mean())"
   ]
  },
  {
   "cell_type": "markdown",
   "metadata": {},
   "source": [
    "### Which Director directed the most movies per decade?"
   ]
  },
  {
   "cell_type": "code",
   "execution_count": null,
   "metadata": {},
   "outputs": [],
   "source": [
    "print(movies_df['إخراج'].value_counts().head())"
   ]
  },
  {
   "cell_type": "code",
   "execution_count": null,
   "metadata": {},
   "outputs": [],
   "source": [
    "ratings_added_40s.groupby('التصنيف')['التقييم'].mean().plot.barh()\n"
   ]
  },
  {
   "cell_type": "markdown",
   "metadata": {},
   "source": [
    "### What are the average ratings with respect to genres?"
   ]
  },
  {
   "cell_type": "code",
   "execution_count": null,
   "metadata": {},
   "outputs": [],
   "source": [
    "print('40s decade')\n",
    "print(ratings_added_50s.groupby(['التصنيف'])['المدة'].mean())\n",
    "print('-----------------')\n",
    "print('50s decade')\n",
    "print(ratings_added_60s.groupby(['التصنيف'])['المدة'].mean())\n",
    "print('-----------------')\n",
    "print('60s decade')\n",
    "print(ratings_added_60s.groupby(['التصنيف'])['المدة'].mean())\n",
    "print('70s decade')\n",
    "print('-----------------')\n",
    "print(ratings_added_70s.groupby(['التصنيف'])['المدة'].mean())"
   ]
  }
 ],
 "metadata": {
  "kernelspec": {
   "display_name": "Python 3",
   "language": "python",
   "name": "python3"
  },
  "language_info": {
   "codemirror_mode": {
    "name": "ipython",
    "version": 3
   },
   "file_extension": ".py",
   "mimetype": "text/x-python",
   "name": "python",
   "nbconvert_exporter": "python",
   "pygments_lexer": "ipython3",
   "version": "3.7.3"
  },
  "toc": {
   "base_numbering": 1,
   "nav_menu": {
    "height": "213px",
    "width": "245px"
   },
   "number_sections": true,
   "sideBar": false,
   "skip_h1_title": false,
   "title_cell": "Table of Contents",
   "title_sidebar": "Contents",
   "toc_cell": false,
   "toc_position": {
    "height": "503px",
    "left": "826.40625px",
    "top": "75px",
    "width": "206.59375px"
   },
   "toc_section_display": true,
   "toc_window_display": true
  }
 },
 "nbformat": 4,
 "nbformat_minor": 2
}
