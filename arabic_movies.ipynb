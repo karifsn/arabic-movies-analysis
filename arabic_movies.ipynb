{
 "cells": [
  {
   "cell_type": "markdown",
   "metadata": {},
   "source": [
    "## Imports"
   ]
  },
  {
   "cell_type": "code",
   "execution_count": 2,
   "metadata": {},
   "outputs": [],
   "source": [
    "import numpy as np \n",
    "import pandas as pd\n",
    "import regex as re\n",
    "import unicodedata as ud\n",
    "import nltk\n",
    "from nltk.stem.isri import ISRIStemmer\n",
    "from nltk.tokenize import wordpunct_tokenize\n",
    "import gensim\n",
    "from gensim.models.doc2vec import Doc2Vec, TaggedDocument\n",
    "from sklearn.model_selection import train_test_split\n",
    "import multiprocessing\n",
    "from tqdm import tqdm\n",
    "from sklearn import utils\n",
    "from sklearn.metrics import accuracy_score, f1_score\n",
    "from sklearn.linear_model import LogisticRegression\n",
    "from sklearn.linear_model import SGDClassifier\n",
    "import numpy as np\n",
    "import arabic_reshaper as ar\n",
    "from bidi.algorithm import get_display\n",
    "import matplotlib.pyplot as plt"
   ]
  },
  {
   "cell_type": "markdown",
   "metadata": {},
   "source": [
    "## Movies Datasets"
   ]
  },
  {
   "cell_type": "code",
   "execution_count": 271,
   "metadata": {},
   "outputs": [],
   "source": [
    "forties_df = pd.read_csv('1940s_data/1940s_movies.csv')\n",
    "fifties_df = pd.read_csv('1950s_data/1950s_movies.csv')\n",
    "sixties_df = pd.read_csv('1960s_data/1960s_movies.csv')\n",
    "seventies_df = pd.read_csv('1970s_data/1970s_movies.csv')"
   ]
  },
  {
   "cell_type": "markdown",
   "metadata": {},
   "source": [
    "#### EDA functions"
   ]
  },
  {
   "cell_type": "code",
   "execution_count": 4,
   "metadata": {
    "code_folding": [
     0
    ]
   },
   "outputs": [],
   "source": [
    "def describe_dataframe(df):\n",
    "    \n",
    "    for column in df.columns:\n",
    "        \n",
    "        print('Column Name: ', u'\\u202B' + str(column) + u'\\u202C')\n",
    "        print(df[column].describe())\n",
    "        print('\\n'+'-'*20)"
   ]
  },
  {
   "cell_type": "markdown",
   "metadata": {},
   "source": [
    "#### Cleansing functions"
   ]
  },
  {
   "cell_type": "code",
   "execution_count": 5,
   "metadata": {
    "code_folding": [
     0
    ]
   },
   "outputs": [],
   "source": [
    "def change_empty_entries_to_None(df):\n",
    "    for column in df.columns:\n",
    "        for row_index in range(df.shape[0]):\n",
    "            if '??' in str(df.loc[row_index, column]) or \\\n",
    "            df.loc[row_index, column] == 'nan' or \\\n",
    "            df.loc[row_index, column] == '-' or \\\n",
    "            type(df.loc[row_index, column]) == float:\n",
    "                    df.loc[row_index, column] = None\n",
    "    return df"
   ]
  },
  {
   "cell_type": "code",
   "execution_count": 6,
   "metadata": {
    "code_folding": [
     0
    ]
   },
   "outputs": [],
   "source": [
    "def unify_date_format(df):\n",
    "    for row in range(df.shape[0]):\n",
    "        \n",
    "        release_day = df.iloc[row, 15]\n",
    "        if len(str(release_day)) == 4:\n",
    "            df.iloc[row,17] = release_day\n",
    "            df.iloc[row,16] = 'يناير'\n",
    "\n",
    "    return df"
   ]
  },
  {
   "cell_type": "code",
   "execution_count": 7,
   "metadata": {
    "code_folding": [
     0
    ]
   },
   "outputs": [],
   "source": [
    "def expand_release_date(df):\n",
    "    # line continuation operators  '\\' used for cleaner code\n",
    "    df[['اليوم', 'الشهر', 'السنة']] = \\\n",
    "    df['تاريخ العرض'].str.split(' ', expand = True)\n",
    "    \n",
    "    return df"
   ]
  },
  {
   "cell_type": "code",
   "execution_count": 8,
   "metadata": {
    "code_folding": [
     0
    ]
   },
   "outputs": [],
   "source": [
    "def parse_line(line_to_parse):\n",
    "    \n",
    "            parsed_values = line_to_parse.split('||')\n",
    "            movie_name_date = parsed_values[0].strip(')').split('(')\n",
    "            \n",
    "            name = movie_name_date[0]\n",
    "            year = movie_name_date[1]\n",
    "            df_feature = parsed_values[1]\n",
    "            \n",
    "            return name, year, df_feature"
   ]
  },
  {
   "cell_type": "code",
   "execution_count": 9,
   "metadata": {
    "code_folding": [
     0
    ]
   },
   "outputs": [],
   "source": [
    "def add_scraped_features(df, file_path, column_name):\n",
    "    \n",
    "    with open(file_path, 'r') as filehandle:\n",
    "        \n",
    "        for line in filehandle:\n",
    "            \n",
    "            current_line = line[:-1]\n",
    "            name, year, df_feature = parse_line(current_line)\n",
    "            if(not(df_feature == '') \\\n",
    "              or (str(df_feature) == 'nan')):\n",
    "                df.loc[(df['اسم الفيلم'] == name) \\\n",
    "                     & (df['السنة'] == year), column_name] = df_feature     \n",
    "    return df"
   ]
  },
  {
   "cell_type": "code",
   "execution_count": 10,
   "metadata": {
    "code_folding": [
     0
    ]
   },
   "outputs": [],
   "source": [
    "def filter_foregin_movies(df, file_path):\n",
    "    \n",
    "    with open(file_path, 'r') as filehandle:\n",
    "            \n",
    "        for line in filehandle:\n",
    "            \n",
    "            current_line = line[:-1]\n",
    "            name, year, country = parse_line(current_line)\n",
    "           \n",
    "            if(not(('مصر') in country)):   \n",
    "                movie_index = df.loc[(df['اسم الفيلم'] == name) \\\n",
    "                                     & (df['السنة'] == year)].index\n",
    "                df.drop(inplace = True, index = movie_index)\n",
    "    return df"
   ]
  },
  {
   "cell_type": "code",
   "execution_count": 12,
   "metadata": {
    "code_folding": [
     0
    ]
   },
   "outputs": [],
   "source": [
    "def get_null_percentage(df):\n",
    "    \n",
    "    total_count = df.shape[0]\n",
    "    for column in df.columns:\n",
    "    \n",
    "        missing_count = df[column].isna().sum()\n",
    "        missing_percentage = (missing_count/total_count)*100\n",
    "        print('>> ' + u'\\u202B' + column + ': '+ str(round(missing_percentage)) + '%')"
   ]
  },
  {
   "cell_type": "code",
   "execution_count": 13,
   "metadata": {},
   "outputs": [],
   "source": [
    "actor_gender_dictionary = pd.read_csv('actor_gender_dictionary.csv')"
   ]
  },
  {
   "cell_type": "code",
   "execution_count": 14,
   "metadata": {},
   "outputs": [
    {
     "data": {
      "text/html": [
       "<div>\n",
       "<style scoped>\n",
       "    .dataframe tbody tr th:only-of-type {\n",
       "        vertical-align: middle;\n",
       "    }\n",
       "\n",
       "    .dataframe tbody tr th {\n",
       "        vertical-align: top;\n",
       "    }\n",
       "\n",
       "    .dataframe thead th {\n",
       "        text-align: right;\n",
       "    }\n",
       "</style>\n",
       "<table border=\"1\" class=\"dataframe\">\n",
       "  <thead>\n",
       "    <tr style=\"text-align: right;\">\n",
       "      <th></th>\n",
       "      <th>Unnamed: 0</th>\n",
       "      <th>name</th>\n",
       "      <th>gender</th>\n",
       "    </tr>\n",
       "  </thead>\n",
       "  <tbody>\n",
       "    <tr>\n",
       "      <th>785</th>\n",
       "      <td>600</td>\n",
       "      <td>سهير الباروني</td>\n",
       "      <td>ذكر</td>\n",
       "    </tr>\n",
       "  </tbody>\n",
       "</table>\n",
       "</div>"
      ],
      "text/plain": [
       "     Unnamed: 0           name gender\n",
       "785         600  سهير الباروني    ذكر"
      ]
     },
     "execution_count": 14,
     "metadata": {},
     "output_type": "execute_result"
    }
   ],
   "source": [
    "actor_gender_dictionary.sample()"
   ]
  },
  {
   "cell_type": "code",
   "execution_count": 15,
   "metadata": {},
   "outputs": [],
   "source": [
    "actor_gender_dictionary.drop(columns = ['Unnamed: 0'], inplace= True)"
   ]
  },
  {
   "cell_type": "code",
   "execution_count": 16,
   "metadata": {},
   "outputs": [
    {
     "data": {
      "text/html": [
       "<div>\n",
       "<style scoped>\n",
       "    .dataframe tbody tr th:only-of-type {\n",
       "        vertical-align: middle;\n",
       "    }\n",
       "\n",
       "    .dataframe tbody tr th {\n",
       "        vertical-align: top;\n",
       "    }\n",
       "\n",
       "    .dataframe thead th {\n",
       "        text-align: right;\n",
       "    }\n",
       "</style>\n",
       "<table border=\"1\" class=\"dataframe\">\n",
       "  <thead>\n",
       "    <tr style=\"text-align: right;\">\n",
       "      <th></th>\n",
       "      <th>name</th>\n",
       "      <th>gender</th>\n",
       "    </tr>\n",
       "  </thead>\n",
       "  <tbody>\n",
       "    <tr>\n",
       "      <th>1323</th>\n",
       "      <td>خالد قرانوح</td>\n",
       "      <td>ذكر</td>\n",
       "    </tr>\n",
       "  </tbody>\n",
       "</table>\n",
       "</div>"
      ],
      "text/plain": [
       "             name gender\n",
       "1323  خالد قرانوح    ذكر"
      ]
     },
     "execution_count": 16,
     "metadata": {},
     "output_type": "execute_result"
    }
   ],
   "source": [
    "actor_gender_dictionary.sample()"
   ]
  },
  {
   "cell_type": "code",
   "execution_count": 310,
   "metadata": {
    "code_folding": [
     0
    ]
   },
   "outputs": [],
   "source": [
    "def seperate_cast_by_gender(movies_df, gender_df = actor_gender_dictionary):\n",
    "    \n",
    "    movies_df['ممثلات'] = None\n",
    "    movies_df['ممثلون'] = None\n",
    "    unassigned_rows = []\n",
    "    for row_index in range(movies_df.shape[0]):\n",
    "        \n",
    "        cast = movies_df.loc[row_index, 'تمثيل']\n",
    "        try:\n",
    "            actresses = []\n",
    "            actors = []\n",
    "            if( ',' in cast):\n",
    "                \n",
    "                cast = cast.split(',')\n",
    "                \n",
    "                for actor in cast:\n",
    "\n",
    "                    gender = gender_df.loc[gender_df['name'] == actor]['gender']\n",
    "\n",
    "                    if(gender.values == 'ذكر'):\n",
    "                        actors.append(actor)\n",
    "\n",
    "                    if(gender.values == 'أنثى'):\n",
    "                        actresses.append(actor)\n",
    "\n",
    "                movies_df.at[row_index, 'ممثلات'] = actresses\n",
    "                movies_df.at[row_index, 'ممثلون'] = actors\n",
    "                        \n",
    "        except:\n",
    "                unassigned_rows.append(row_index)\n",
    "                \n",
    "        finally:\n",
    "                movies_df.at[row_index, 'ممثلات'] = actresses\n",
    "                movies_df.at[row_index, 'ممثلون'] = actors\n",
    "    return movies_df, unassigned_rows "
   ]
  },
  {
   "cell_type": "code",
   "execution_count": 422,
   "metadata": {
    "code_folding": []
   },
   "outputs": [],
   "source": [
    "def split_string(string_to_split):\n",
    "    crew_names = []\n",
    "    try:\n",
    "        for word in string_to_split.split(','):\n",
    "            crew_names.append(word)\n",
    "    finally:\n",
    "        return crew_names"
   ]
  },
  {
   "cell_type": "code",
   "execution_count": 417,
   "metadata": {
    "code_folding": []
   },
   "outputs": [],
   "source": [
    "def seperate_authors_directors(movies_df):\n",
    "    \n",
    "    for row_index in range(movies_df.shape[0]):\n",
    "        authors = movies_df.loc[row_index, 'تأليف']\n",
    "        directors = movies_df.loc[row_index, 'إخراج']\n",
    "        \n",
    "        authors_list = split_string(authors)\n",
    "        directors_list = split_string(directors)\n",
    "        \n",
    "        movies_df.at[row_index, 'تأليف'] = authors_list\n",
    "        movies_df.at[row_index, 'إخراج'] = directors_list\n",
    "        \n",
    "    return movies_df"
   ]
  },
  {
   "cell_type": "markdown",
   "metadata": {},
   "source": [
    "### *_1940s Movies_*"
   ]
  },
  {
   "cell_type": "markdown",
   "metadata": {},
   "source": [
    "#### EDA"
   ]
  },
  {
   "cell_type": "code",
   "execution_count": 20,
   "metadata": {
    "collapsed": true
   },
   "outputs": [
    {
     "name": "stdout",
     "output_type": "stream",
     "text": [
      "Column Name:  ‫اسم الفيلم‬\n",
      "count             331\n",
      "unique            330\n",
      "top       خاتم سليمان\n",
      "freq                2\n",
      "Name: اسم الفيلم, dtype: object\n",
      "\n",
      "--------------------\n",
      "Column Name:  ‫تاريخ العرض‬\n",
      "count      331\n",
      "unique     216\n",
      "top       1946\n",
      "freq        24\n",
      "Name: تاريخ العرض, dtype: object\n",
      "\n",
      "--------------------\n",
      "Column Name:  ‫التصنيف‬\n",
      "count       127\n",
      "unique        9\n",
      "top       ??ا??\n",
      "freq         46\n",
      "Name: التصنيف, dtype: object\n",
      "\n",
      "--------------------\n",
      "Column Name:  ‫المدة‬\n",
      "count    331.000000\n",
      "mean     106.399698\n",
      "std       11.097976\n",
      "min       70.000000\n",
      "25%      100.000000\n",
      "50%      105.000000\n",
      "75%      110.000000\n",
      "max      152.000000\n",
      "Name: المدة, dtype: float64\n",
      "\n",
      "--------------------\n",
      "Column Name:  ‫ملخص‬\n",
      "count                                                   316\n",
      "unique                                                  316\n",
      "top       يقع وجدى فى حيرة من أمر البنات الثلاث التى يلت...\n",
      "freq                                                      1\n",
      "Name: ملخص, dtype: object\n",
      "\n",
      "--------------------\n",
      "Column Name:  ‫تأليف‬\n",
      "count           308\n",
      "unique          206\n",
      "top       يوسف وهبي\n",
      "freq             17\n",
      "Name: تأليف, dtype: object\n",
      "\n",
      "--------------------\n",
      "Column Name:  ‫تمثيل‬\n",
      "count                                                   329\n",
      "unique                                                  329\n",
      "top       تحية كاريوكا,بشارة واكيم,كمال الشناوي,محمود شك...\n",
      "freq                                                      1\n",
      "Name: تمثيل, dtype: object\n",
      "\n",
      "--------------------\n",
      "Column Name:  ‫إنتاج‬\n",
      "count            244\n",
      "unique           187\n",
      "top       نحّاس فيلم\n",
      "freq               8\n",
      "Name: إنتاج, dtype: object\n",
      "\n",
      "--------------------\n",
      "Column Name:  ‫تصوير‬\n",
      "count               282\n",
      "unique              153\n",
      "top       عبدالحليم نصر\n",
      "freq                 16\n",
      "Name: تصوير, dtype: object\n",
      "\n",
      "--------------------\n",
      "Column Name:  ‫مونتاج‬\n",
      "count            237\n",
      "unique            93\n",
      "top       جلال مصطفى\n",
      "freq              25\n",
      "Name: مونتاج, dtype: object\n",
      "\n",
      "--------------------\n",
      "Column Name:  ‫ديكور‬\n",
      "count                 202\n",
      "unique                121\n",
      "top       أنطوان بوليزويس\n",
      "freq                   12\n",
      "Name: ديكور, dtype: object\n",
      "\n",
      "--------------------\n",
      "Column Name:  ‫ملابس‬\n",
      "count            19\n",
      "unique           12\n",
      "top       قاسم وجدي\n",
      "freq              4\n",
      "Name: ملابس, dtype: object\n",
      "\n",
      "--------------------\n",
      "Column Name:  ‫موسيقى‬\n",
      "count                 216\n",
      "unique                187\n",
      "top       عبدالحليم نويرة\n",
      "freq                    7\n",
      "Name: موسيقى, dtype: object\n",
      "\n",
      "--------------------\n",
      "Column Name:  ‫إخراج‬\n",
      "count               311\n",
      "unique              178\n",
      "top       عبدالفتاح حسن\n",
      "freq                 11\n",
      "Name: إخراج, dtype: object\n",
      "\n",
      "--------------------\n",
      "Column Name:  ‫توزيع‬\n",
      "count                   170\n",
      "unique                   40\n",
      "top       منتخبات بهنا فيلم\n",
      "freq                     67\n",
      "Name: توزيع, dtype: object\n",
      "\n",
      "--------------------\n"
     ]
    }
   ],
   "source": [
    "describe_dataframe(forties_df)"
   ]
  },
  {
   "cell_type": "code",
   "execution_count": 21,
   "metadata": {
    "collapsed": true
   },
   "outputs": [
    {
     "data": {
      "text/html": [
       "<div>\n",
       "<style scoped>\n",
       "    .dataframe tbody tr th:only-of-type {\n",
       "        vertical-align: middle;\n",
       "    }\n",
       "\n",
       "    .dataframe tbody tr th {\n",
       "        vertical-align: top;\n",
       "    }\n",
       "\n",
       "    .dataframe thead th {\n",
       "        text-align: right;\n",
       "    }\n",
       "</style>\n",
       "<table border=\"1\" class=\"dataframe\">\n",
       "  <thead>\n",
       "    <tr style=\"text-align: right;\">\n",
       "      <th></th>\n",
       "      <th>اسم الفيلم</th>\n",
       "      <th>تاريخ العرض</th>\n",
       "      <th>التصنيف</th>\n",
       "      <th>المدة</th>\n",
       "      <th>ملخص</th>\n",
       "      <th>تأليف</th>\n",
       "      <th>تمثيل</th>\n",
       "      <th>إنتاج</th>\n",
       "      <th>تصوير</th>\n",
       "      <th>مونتاج</th>\n",
       "      <th>ديكور</th>\n",
       "      <th>ملابس</th>\n",
       "      <th>موسيقى</th>\n",
       "      <th>إخراج</th>\n",
       "      <th>توزيع</th>\n",
       "    </tr>\n",
       "  </thead>\n",
       "  <tbody>\n",
       "    <tr>\n",
       "      <th>174</th>\n",
       "      <td>خاتم سليمان</td>\n",
       "      <td>1946</td>\n",
       "      <td>NaN</td>\n",
       "      <td>103.2</td>\n",
       "      <td>NaN</td>\n",
       "      <td>أبو بثينة</td>\n",
       "      <td>أمينة شريف</td>\n",
       "      <td>أفلام حرب</td>\n",
       "      <td>NaN</td>\n",
       "      <td>NaN</td>\n",
       "      <td>NaN</td>\n",
       "      <td>NaN</td>\n",
       "      <td>NaN</td>\n",
       "      <td>فؤاد شبل</td>\n",
       "      <td>NaN</td>\n",
       "    </tr>\n",
       "    <tr>\n",
       "      <th>227</th>\n",
       "      <td>خاتم سليمان</td>\n",
       "      <td>1947</td>\n",
       "      <td>ا????ا??</td>\n",
       "      <td>117.0</td>\n",
       "      <td>تناول الفيلم في إطار من الخيال، قصة المعلم بيو...</td>\n",
       "      <td>حسن رمزي,السيد زيادة</td>\n",
       "      <td>ليلى مراد,يحيى شاهين,زكي رستم,نيللي مظلوم,ثريا...</td>\n",
       "      <td>أفلام النصر (محمد حسن رمزي وشركاه)</td>\n",
       "      <td>مصطفى حسن,وحيد فريد</td>\n",
       "      <td>ألبير نجيب,وفيقة أبو جبل</td>\n",
       "      <td>حبيب خوري</td>\n",
       "      <td>قاسم وجدي</td>\n",
       "      <td>حسين السيد,السيد زيادة,رياض السنباطي,محمد القص...</td>\n",
       "      <td>حسن رمزي,ألبير نجيب,عبدالرحمن شريف</td>\n",
       "      <td>NaN</td>\n",
       "    </tr>\n",
       "  </tbody>\n",
       "</table>\n",
       "</div>"
      ],
      "text/plain": [
       "      اسم الفيلم تاريخ العرض   التصنيف  المدة  \\\n",
       "174  خاتم سليمان        1946       NaN  103.2   \n",
       "227  خاتم سليمان        1947  ا????ا??  117.0   \n",
       "\n",
       "                                                  ملخص                 تأليف  \\\n",
       "174                                                NaN             أبو بثينة   \n",
       "227  تناول الفيلم في إطار من الخيال، قصة المعلم بيو...  حسن رمزي,السيد زيادة   \n",
       "\n",
       "                                                 تمثيل  \\\n",
       "174                                         أمينة شريف   \n",
       "227  ليلى مراد,يحيى شاهين,زكي رستم,نيللي مظلوم,ثريا...   \n",
       "\n",
       "                                  إنتاج                تصوير  \\\n",
       "174                           أفلام حرب                  NaN   \n",
       "227  أفلام النصر (محمد حسن رمزي وشركاه)  مصطفى حسن,وحيد فريد   \n",
       "\n",
       "                       مونتاج      ديكور      ملابس  \\\n",
       "174                       NaN        NaN        NaN   \n",
       "227  ألبير نجيب,وفيقة أبو جبل  حبيب خوري  قاسم وجدي   \n",
       "\n",
       "                                                موسيقى  \\\n",
       "174                                                NaN   \n",
       "227  حسين السيد,السيد زيادة,رياض السنباطي,محمد القص...   \n",
       "\n",
       "                                  إخراج توزيع  \n",
       "174                            فؤاد شبل   NaN  \n",
       "227  حسن رمزي,ألبير نجيب,عبدالرحمن شريف   NaN  "
      ]
     },
     "execution_count": 21,
     "metadata": {},
     "output_type": "execute_result"
    }
   ],
   "source": [
    "forties_df.loc[forties_df['اسم الفيلم'] == 'خاتم سليمان']"
   ]
  },
  {
   "cell_type": "code",
   "execution_count": 22,
   "metadata": {
    "collapsed": true
   },
   "outputs": [
    {
     "data": {
      "text/plain": [
       "اسم الفيلم      object\n",
       "تاريخ العرض     object\n",
       "التصنيف         object\n",
       "المدة          float64\n",
       "ملخص            object\n",
       "تأليف           object\n",
       "تمثيل           object\n",
       "إنتاج           object\n",
       "تصوير           object\n",
       "مونتاج          object\n",
       "ديكور           object\n",
       "ملابس           object\n",
       "موسيقى          object\n",
       "إخراج           object\n",
       "توزيع           object\n",
       "dtype: object"
      ]
     },
     "execution_count": 22,
     "metadata": {},
     "output_type": "execute_result"
    }
   ],
   "source": [
    "forties_df.dtypes"
   ]
  },
  {
   "cell_type": "code",
   "execution_count": 23,
   "metadata": {
    "collapsed": true
   },
   "outputs": [
    {
     "data": {
      "text/plain": [
       "??ا??       46\n",
       "???????     26\n",
       "??????      25\n",
       "ا????ا??    16\n",
       "?????        7\n",
       "?????ا?      2\n",
       "????         2\n",
       "تاريخي       2\n",
       "???          1\n",
       "Name: التصنيف, dtype: int64"
      ]
     },
     "execution_count": 23,
     "metadata": {},
     "output_type": "execute_result"
    }
   ],
   "source": [
    "forties_df['التصنيف'].value_counts()"
   ]
  },
  {
   "cell_type": "code",
   "execution_count": 24,
   "metadata": {
    "collapsed": true
   },
   "outputs": [
    {
     "name": "stdout",
     "output_type": "stream",
     "text": [
      ">> ‫اسم الفيلم: 0%\n",
      ">> ‫تاريخ العرض: 0%\n",
      ">> ‫التصنيف: 62%\n",
      ">> ‫المدة: 0%\n",
      ">> ‫ملخص: 5%\n",
      ">> ‫تأليف: 7%\n",
      ">> ‫تمثيل: 1%\n",
      ">> ‫إنتاج: 26%\n",
      ">> ‫تصوير: 15%\n",
      ">> ‫مونتاج: 28%\n",
      ">> ‫ديكور: 39%\n",
      ">> ‫ملابس: 94%\n",
      ">> ‫موسيقى: 35%\n",
      ">> ‫إخراج: 6%\n",
      ">> ‫توزيع: 49%\n"
     ]
    }
   ],
   "source": [
    "get_null_percentage(forties_df)"
   ]
  },
  {
   "cell_type": "markdown",
   "metadata": {},
   "source": [
    "#### Cleansing"
   ]
  },
  {
   "cell_type": "code",
   "execution_count": 25,
   "metadata": {},
   "outputs": [],
   "source": [
    "forties_df = change_empty_entries_to_None(forties_df)"
   ]
  },
  {
   "cell_type": "code",
   "execution_count": 26,
   "metadata": {},
   "outputs": [
    {
     "data": {
      "text/plain": [
       "تاريخي    2\n",
       "Name: التصنيف, dtype: int64"
      ]
     },
     "execution_count": 26,
     "metadata": {},
     "output_type": "execute_result"
    }
   ],
   "source": [
    "forties_df['التصنيف'].value_counts()"
   ]
  },
  {
   "cell_type": "code",
   "execution_count": 27,
   "metadata": {},
   "outputs": [],
   "source": [
    "expanded_date_40s = forties_df.copy(deep = True)"
   ]
  },
  {
   "cell_type": "code",
   "execution_count": 28,
   "metadata": {},
   "outputs": [],
   "source": [
    "expanded_date_40s = expand_release_date(forties_df)\n",
    "expanded_date_40s = unify_date_format(expanded_date_40s)"
   ]
  },
  {
   "cell_type": "code",
   "execution_count": 29,
   "metadata": {},
   "outputs": [],
   "source": [
    "expanded_date_40s = expanded_date_40s.drop(columns=['تاريخ العرض','اليوم'])\n",
    "expanded_date_40s['التقييم'] = None"
   ]
  },
  {
   "cell_type": "markdown",
   "metadata": {},
   "source": [
    "_**Filling Missing Values**_\n",
    "\n",
    "* **Add Webscraped Ratings**"
   ]
  },
  {
   "cell_type": "code",
   "execution_count": 30,
   "metadata": {},
   "outputs": [],
   "source": [
    "foreigns_filtered_40s  = expanded_date_40s.copy(deep = True)"
   ]
  },
  {
   "cell_type": "code",
   "execution_count": 31,
   "metadata": {},
   "outputs": [],
   "source": [
    "foreigns_filtered_40s = filter_foregin_movies(expanded_date_40s \\\n",
    "                                                , '1940s_data/countries_1940s.txt')"
   ]
  },
  {
   "cell_type": "code",
   "execution_count": 32,
   "metadata": {},
   "outputs": [],
   "source": [
    "genre_added_40s = foreigns_filtered_40s.copy(deep = True)"
   ]
  },
  {
   "cell_type": "code",
   "execution_count": 33,
   "metadata": {},
   "outputs": [],
   "source": [
    "genre_added_40s = add_scraped_features(foreigns_filtered_40s \\\n",
    "                                          , '1940s_data/1940s_genres.txt' \\\n",
    "                                         , 'التصنيف')"
   ]
  },
  {
   "cell_type": "code",
   "execution_count": 34,
   "metadata": {},
   "outputs": [
    {
     "data": {
      "text/plain": [
       "ﺩﺭاﻣﺎ                75\n",
       "ﻛﻮﻣﻴﺪﻱ               23\n",
       "موسيقي / استعراضي    13\n",
       "ﺭﻭﻣﺎﻧﺴﻲ              12\n",
       "ﻋﺎﺋﻠﻲ                 2\n",
       "ﺗﺸﻮﻳﻖ ﻭﺇﺛﺎﺭﺓ          2\n",
       "ﺟﺮﻳﻤﺔ                 2\n",
       "ﺣﺮﺏ                   1\n",
       "ﺧﻴﺎﻝ                  1\n",
       "ﻣﻐﺎﻣﺮاﺕ               1\n",
       "Name: التصنيف, dtype: int64"
      ]
     },
     "execution_count": 34,
     "metadata": {},
     "output_type": "execute_result"
    }
   ],
   "source": [
    "genre_added_40s['التصنيف'].value_counts()"
   ]
  },
  {
   "cell_type": "code",
   "execution_count": 35,
   "metadata": {},
   "outputs": [],
   "source": [
    "ratings_added_40s = genre_added_40s.copy(deep = True)"
   ]
  },
  {
   "cell_type": "code",
   "execution_count": 36,
   "metadata": {},
   "outputs": [],
   "source": [
    "ratings_added_40s = add_scraped_features(genre_added_40s \\\n",
    "                                          , '1940s_data/1940s_ratings.txt' \\\n",
    "                                         , 'التقييم')"
   ]
  },
  {
   "cell_type": "code",
   "execution_count": 37,
   "metadata": {},
   "outputs": [],
   "source": [
    "synopsis_added_40s = ratings_added_40s.copy(deep = True)"
   ]
  },
  {
   "cell_type": "code",
   "execution_count": 38,
   "metadata": {
    "scrolled": true
   },
   "outputs": [],
   "source": [
    "synopsis_added_40s = add_scraped_features(ratings_added_40s \\\n",
    "                                          , '1940s_data/1940s_synopses.txt' \\\n",
    "                                         , 'ملخص')"
   ]
  },
  {
   "cell_type": "code",
   "execution_count": 39,
   "metadata": {},
   "outputs": [],
   "source": [
    "synopsis_added_40s = synopsis_added_40s.reset_index(drop=True)"
   ]
  },
  {
   "cell_type": "code",
   "execution_count": 40,
   "metadata": {},
   "outputs": [
    {
     "data": {
      "text/html": [
       "<div>\n",
       "<style scoped>\n",
       "    .dataframe tbody tr th:only-of-type {\n",
       "        vertical-align: middle;\n",
       "    }\n",
       "\n",
       "    .dataframe tbody tr th {\n",
       "        vertical-align: top;\n",
       "    }\n",
       "\n",
       "    .dataframe thead th {\n",
       "        text-align: right;\n",
       "    }\n",
       "</style>\n",
       "<table border=\"1\" class=\"dataframe\">\n",
       "  <thead>\n",
       "    <tr style=\"text-align: right;\">\n",
       "      <th></th>\n",
       "      <th>اسم الفيلم</th>\n",
       "      <th>التصنيف</th>\n",
       "      <th>المدة</th>\n",
       "      <th>ملخص</th>\n",
       "      <th>تأليف</th>\n",
       "      <th>تمثيل</th>\n",
       "      <th>إنتاج</th>\n",
       "      <th>تصوير</th>\n",
       "      <th>مونتاج</th>\n",
       "      <th>ديكور</th>\n",
       "      <th>ملابس</th>\n",
       "      <th>موسيقى</th>\n",
       "      <th>إخراج</th>\n",
       "      <th>توزيع</th>\n",
       "      <th>الشهر</th>\n",
       "      <th>السنة</th>\n",
       "      <th>التقييم</th>\n",
       "    </tr>\n",
       "  </thead>\n",
       "  <tbody>\n",
       "    <tr>\n",
       "      <th>55</th>\n",
       "      <td>بنت الشيخ</td>\n",
       "      <td>ﻣﻐﺎﻣﺮاﺕ</td>\n",
       "      <td>110.0</td>\n",
       "      <td>يقرر الشاب التقدم للفتاة التي يحبها من القبيلة...</td>\n",
       "      <td>أحمد كامل مرسي</td>\n",
       "      <td>أمينة نور الدين,يحيى شاهين,هاجر حمدي,عباس فارس...</td>\n",
       "      <td>علي الجابري</td>\n",
       "      <td>أحمد خورشيد</td>\n",
       "      <td>جلال مصطفى</td>\n",
       "      <td>None</td>\n",
       "      <td>None</td>\n",
       "      <td>إبراهيم حجايج</td>\n",
       "      <td>أحمد كامل مرسي</td>\n",
       "      <td>None</td>\n",
       "      <td>يناير</td>\n",
       "      <td>1943</td>\n",
       "      <td>4.6</td>\n",
       "    </tr>\n",
       "  </tbody>\n",
       "</table>\n",
       "</div>"
      ],
      "text/plain": [
       "   اسم الفيلم  التصنيف  المدة  \\\n",
       "55  بنت الشيخ  ﻣﻐﺎﻣﺮاﺕ  110.0   \n",
       "\n",
       "                                                 ملخص           تأليف  \\\n",
       "55  يقرر الشاب التقدم للفتاة التي يحبها من القبيلة...  أحمد كامل مرسي   \n",
       "\n",
       "                                                تمثيل        إنتاج  \\\n",
       "55  أمينة نور الدين,يحيى شاهين,هاجر حمدي,عباس فارس...  علي الجابري   \n",
       "\n",
       "          تصوير      مونتاج ديكور ملابس         موسيقى           إخراج توزيع  \\\n",
       "55  أحمد خورشيد  جلال مصطفى  None  None  إبراهيم حجايج  أحمد كامل مرسي  None   \n",
       "\n",
       "    الشهر السنة التقييم  \n",
       "55  يناير  1943     4.6  "
      ]
     },
     "execution_count": 40,
     "metadata": {},
     "output_type": "execute_result"
    }
   ],
   "source": [
    "synopsis_added_40s.sample()"
   ]
  },
  {
   "cell_type": "code",
   "execution_count": 41,
   "metadata": {},
   "outputs": [
    {
     "name": "stdout",
     "output_type": "stream",
     "text": [
      ">> ‫اسم الفيلم: 0%\n",
      ">> ‫التصنيف: 60%\n",
      ">> ‫المدة: 0%\n",
      ">> ‫ملخص: 2%\n",
      ">> ‫تأليف: 7%\n",
      ">> ‫تمثيل: 1%\n",
      ">> ‫إنتاج: 26%\n",
      ">> ‫تصوير: 14%\n",
      ">> ‫مونتاج: 28%\n",
      ">> ‫ديكور: 39%\n",
      ">> ‫ملابس: 94%\n",
      ">> ‫موسيقى: 35%\n",
      ">> ‫إخراج: 6%\n",
      ">> ‫توزيع: 48%\n",
      ">> ‫الشهر: 0%\n",
      ">> ‫السنة: 0%\n",
      ">> ‫التقييم: 5%\n"
     ]
    }
   ],
   "source": [
    "get_null_percentage(synopsis_added_40s)"
   ]
  },
  {
   "cell_type": "code",
   "execution_count": 42,
   "metadata": {},
   "outputs": [],
   "source": [
    "synopsis_added_40s['التقييم'] = synopsis_added_40s['التقييم'].astype(float)"
   ]
  },
  {
   "cell_type": "code",
   "execution_count": 43,
   "metadata": {
    "collapsed": true
   },
   "outputs": [
    {
     "name": "stderr",
     "output_type": "stream",
     "text": [
      "/Users/karefsn/Development/anaconda3/lib/python3.7/site-packages/ipykernel_launcher.py:20: DeprecationWarning: The truth value of an empty array is ambiguous. Returning False, but in future this will result in an error. Use `array.size > 0` to check that an array is not empty.\n",
      "/Users/karefsn/Development/anaconda3/lib/python3.7/site-packages/ipykernel_launcher.py:23: DeprecationWarning: The truth value of an empty array is ambiguous. Returning False, but in future this will result in an error. Use `array.size > 0` to check that an array is not empty.\n"
     ]
    }
   ],
   "source": [
    "cast_seperated_40s,_ = seperate_cast_by_gender(synopsis_added_40s)"
   ]
  },
  {
   "cell_type": "code",
   "execution_count": 44,
   "metadata": {},
   "outputs": [],
   "source": [
    "cast_seperated_40s.drop(inplace = True, columns = ['تمثيل'])"
   ]
  },
  {
   "cell_type": "code",
   "execution_count": 45,
   "metadata": {
    "scrolled": true
   },
   "outputs": [
    {
     "data": {
      "text/html": [
       "<div>\n",
       "<style scoped>\n",
       "    .dataframe tbody tr th:only-of-type {\n",
       "        vertical-align: middle;\n",
       "    }\n",
       "\n",
       "    .dataframe tbody tr th {\n",
       "        vertical-align: top;\n",
       "    }\n",
       "\n",
       "    .dataframe thead th {\n",
       "        text-align: right;\n",
       "    }\n",
       "</style>\n",
       "<table border=\"1\" class=\"dataframe\">\n",
       "  <thead>\n",
       "    <tr style=\"text-align: right;\">\n",
       "      <th></th>\n",
       "      <th>اسم الفيلم</th>\n",
       "      <th>التصنيف</th>\n",
       "      <th>المدة</th>\n",
       "      <th>ملخص</th>\n",
       "      <th>تأليف</th>\n",
       "      <th>إنتاج</th>\n",
       "      <th>تصوير</th>\n",
       "      <th>مونتاج</th>\n",
       "      <th>ديكور</th>\n",
       "      <th>ملابس</th>\n",
       "      <th>موسيقى</th>\n",
       "      <th>إخراج</th>\n",
       "      <th>توزيع</th>\n",
       "      <th>الشهر</th>\n",
       "      <th>السنة</th>\n",
       "      <th>التقييم</th>\n",
       "      <th>ممثلات</th>\n",
       "      <th>ممثلون</th>\n",
       "    </tr>\n",
       "  </thead>\n",
       "  <tbody>\n",
       "    <tr>\n",
       "      <th>135</th>\n",
       "      <td>نجف</td>\n",
       "      <td>None</td>\n",
       "      <td>105.0</td>\n",
       "      <td>يعمل الشيخ عبدالمقصود على تربية حامد ابن أخيه ...</td>\n",
       "      <td>عبدالرحمن الخميسي,كامل الحفناوي</td>\n",
       "      <td>أفلام التعاون,فؤاد يوسف</td>\n",
       "      <td>يوسف حافظ,عبدالعزيز فهمي,فرانسوا فاراكاش</td>\n",
       "      <td>أحمد إسماعيل,سيد حسين,فيوليت</td>\n",
       "      <td>يحيى الشافعى,كامل الحفناوي,حسن الشوربجى</td>\n",
       "      <td>None</td>\n",
       "      <td>حسين السيد,جليل البنداري,محمد أمين</td>\n",
       "      <td>كامل الحفناوي,عبدالعليم خطاب</td>\n",
       "      <td>None</td>\n",
       "      <td>مايو</td>\n",
       "      <td>1946</td>\n",
       "      <td>5.0</td>\n",
       "      <td>[تحية كاريوكا, زوزو ماضي, لطيفة أمين, فتحية علي]</td>\n",
       "      <td>[محمد أمين, عبدالسروجى, محمد الديب, محمد إدريس...</td>\n",
       "    </tr>\n",
       "  </tbody>\n",
       "</table>\n",
       "</div>"
      ],
      "text/plain": [
       "    اسم الفيلم التصنيف  المدة  \\\n",
       "135        نجف    None  105.0   \n",
       "\n",
       "                                                  ملخص  \\\n",
       "135  يعمل الشيخ عبدالمقصود على تربية حامد ابن أخيه ...   \n",
       "\n",
       "                               تأليف                    إنتاج  \\\n",
       "135  عبدالرحمن الخميسي,كامل الحفناوي  أفلام التعاون,فؤاد يوسف   \n",
       "\n",
       "                                        تصوير                        مونتاج  \\\n",
       "135  يوسف حافظ,عبدالعزيز فهمي,فرانسوا فاراكاش  أحمد إسماعيل,سيد حسين,فيوليت   \n",
       "\n",
       "                                       ديكور ملابس  \\\n",
       "135  يحيى الشافعى,كامل الحفناوي,حسن الشوربجى  None   \n",
       "\n",
       "                                 موسيقى                         إخراج توزيع  \\\n",
       "135  حسين السيد,جليل البنداري,محمد أمين  كامل الحفناوي,عبدالعليم خطاب  None   \n",
       "\n",
       "    الشهر السنة  التقييم                                            ممثلات  \\\n",
       "135  مايو  1946      5.0  [تحية كاريوكا, زوزو ماضي, لطيفة أمين, فتحية علي]   \n",
       "\n",
       "                                                ممثلون  \n",
       "135  [محمد أمين, عبدالسروجى, محمد الديب, محمد إدريس...  "
      ]
     },
     "execution_count": 45,
     "metadata": {},
     "output_type": "execute_result"
    }
   ],
   "source": [
    "cast_seperated_40s.sample()"
   ]
  },
  {
   "cell_type": "code",
   "execution_count": 46,
   "metadata": {},
   "outputs": [],
   "source": [
    "cast_seperated_40s.drop(columns = ['توزيع', 'ملابس', 'ديكور', 'مونتاج', \\\n",
    "                         'تصوير', 'موسيقى', 'إنتاج'], inplace = True)"
   ]
  },
  {
   "cell_type": "code",
   "execution_count": 47,
   "metadata": {},
   "outputs": [],
   "source": [
    "movies_40s_df = cast_seperated_40s[['اسم الفيلم', 'الشهر', 'السنة', 'التصنيف',\\\n",
    "                                    'التقييم', 'المدة', 'ملخص', 'ممثلات', 'ممثلون',\n",
    "                                    'تأليف', 'إخراج']]"
   ]
  },
  {
   "cell_type": "code",
   "execution_count": 48,
   "metadata": {},
   "outputs": [
    {
     "data": {
      "text/html": [
       "<div>\n",
       "<style scoped>\n",
       "    .dataframe tbody tr th:only-of-type {\n",
       "        vertical-align: middle;\n",
       "    }\n",
       "\n",
       "    .dataframe tbody tr th {\n",
       "        vertical-align: top;\n",
       "    }\n",
       "\n",
       "    .dataframe thead th {\n",
       "        text-align: right;\n",
       "    }\n",
       "</style>\n",
       "<table border=\"1\" class=\"dataframe\">\n",
       "  <thead>\n",
       "    <tr style=\"text-align: right;\">\n",
       "      <th></th>\n",
       "      <th>اسم الفيلم</th>\n",
       "      <th>الشهر</th>\n",
       "      <th>السنة</th>\n",
       "      <th>التصنيف</th>\n",
       "      <th>التقييم</th>\n",
       "      <th>المدة</th>\n",
       "      <th>ملخص</th>\n",
       "      <th>ممثلات</th>\n",
       "      <th>ممثلون</th>\n",
       "      <th>تأليف</th>\n",
       "      <th>إخراج</th>\n",
       "    </tr>\n",
       "  </thead>\n",
       "  <tbody>\n",
       "    <tr>\n",
       "      <th>152</th>\n",
       "      <td>عدو المرأة</td>\n",
       "      <td>ديسمبر</td>\n",
       "      <td>1946</td>\n",
       "      <td>ﺩﺭاﻣﺎ</td>\n",
       "      <td>5.1</td>\n",
       "      <td>115.0</td>\n",
       "      <td>رؤوف كاتب مشهور كبير السن معروفٌ بمواقفه ضد ال...</td>\n",
       "      <td>[صباح, سامية فهمي, نبوية مصطفى, كوكب صادق]</td>\n",
       "      <td>[محمد فوزي, زكي رستم, رياض القصبجي, عبدالمجيد ...</td>\n",
       "      <td>محمد حسن كامل,بديع خيري</td>\n",
       "      <td>عبدالفتاح حسن,توفيق نبيه,أنور حمودة,عبدالرحمن ...</td>\n",
       "    </tr>\n",
       "  </tbody>\n",
       "</table>\n",
       "</div>"
      ],
      "text/plain": [
       "     اسم الفيلم   الشهر السنة التصنيف  التقييم  المدة  \\\n",
       "152  عدو المرأة  ديسمبر  1946   ﺩﺭاﻣﺎ      5.1  115.0   \n",
       "\n",
       "                                                  ملخص  \\\n",
       "152  رؤوف كاتب مشهور كبير السن معروفٌ بمواقفه ضد ال...   \n",
       "\n",
       "                                         ممثلات  \\\n",
       "152  [صباح, سامية فهمي, نبوية مصطفى, كوكب صادق]   \n",
       "\n",
       "                                                ممثلون  \\\n",
       "152  [محمد فوزي, زكي رستم, رياض القصبجي, عبدالمجيد ...   \n",
       "\n",
       "                       تأليف  \\\n",
       "152  محمد حسن كامل,بديع خيري   \n",
       "\n",
       "                                                 إخراج  \n",
       "152  عبدالفتاح حسن,توفيق نبيه,أنور حمودة,عبدالرحمن ...  "
      ]
     },
     "execution_count": 48,
     "metadata": {},
     "output_type": "execute_result"
    }
   ],
   "source": [
    "movies_40s_df.sample()"
   ]
  },
  {
   "cell_type": "markdown",
   "metadata": {},
   "source": [
    "### *_1950s Movies_*"
   ]
  },
  {
   "cell_type": "markdown",
   "metadata": {},
   "source": [
    "_**EDA**_"
   ]
  },
  {
   "cell_type": "code",
   "execution_count": 49,
   "metadata": {
    "scrolled": true
   },
   "outputs": [
    {
     "data": {
      "text/html": [
       "<div>\n",
       "<style scoped>\n",
       "    .dataframe tbody tr th:only-of-type {\n",
       "        vertical-align: middle;\n",
       "    }\n",
       "\n",
       "    .dataframe tbody tr th {\n",
       "        vertical-align: top;\n",
       "    }\n",
       "\n",
       "    .dataframe thead th {\n",
       "        text-align: right;\n",
       "    }\n",
       "</style>\n",
       "<table border=\"1\" class=\"dataframe\">\n",
       "  <thead>\n",
       "    <tr style=\"text-align: right;\">\n",
       "      <th></th>\n",
       "      <th>اسم الفيلم</th>\n",
       "      <th>تاريخ العرض</th>\n",
       "      <th>التصنيف</th>\n",
       "      <th>المدة</th>\n",
       "      <th>ملخص</th>\n",
       "      <th>تأليف</th>\n",
       "      <th>تمثيل</th>\n",
       "      <th>إنتاج</th>\n",
       "      <th>تصوير</th>\n",
       "      <th>مونتاج</th>\n",
       "      <th>ديكور</th>\n",
       "      <th>ملابس</th>\n",
       "      <th>موسيقى</th>\n",
       "      <th>إخراج</th>\n",
       "      <th>توزيع</th>\n",
       "    </tr>\n",
       "  </thead>\n",
       "  <tbody>\n",
       "    <tr>\n",
       "      <th>265</th>\n",
       "      <td>حدث ذات ليلة</td>\n",
       "      <td>18 اكتوبر 1954</td>\n",
       "      <td>??ا??</td>\n",
       "      <td>112.0</td>\n",
       "      <td>تتزوج فتاة فقيرة من شاب ثري ، وذلك رغم معارضة ...</td>\n",
       "      <td>فتحي أبو الفضل,هنري بركات</td>\n",
       "      <td>هدى سلطان,محسن سرحان,كمال الشناوي,عايدة كامل,ع...</td>\n",
       "      <td>إبراهيم مصطفى,أرمان بوهالوفيتش</td>\n",
       "      <td>كليليو (ك. ستشفللي),محمود بكر</td>\n",
       "      <td>فتحى قاسم,مارسيل صالح,فريدا</td>\n",
       "      <td>عباس حلمي,حسن الشوربجى,عبدالمنعم على</td>\n",
       "      <td>NaN</td>\n",
       "      <td>مأمون الشناوي,محمد القصبجي,أحمد صدقي,محمود الشريف</td>\n",
       "      <td>هنري بركات,ريمون نصور,أحمد فاروق</td>\n",
       "      <td>منتخبات بهنا فيلم</td>\n",
       "    </tr>\n",
       "    <tr>\n",
       "      <th>159</th>\n",
       "      <td>الحب بهدلة</td>\n",
       "      <td>1952</td>\n",
       "      <td>ا????ا??</td>\n",
       "      <td>111.1</td>\n",
       "      <td>ثلاث فتيات يعملن في أحد الملاهي الليلية، على ع...</td>\n",
       "      <td>صلاح أبو سيف,جمال حمدي (غصين محمود حمدي)</td>\n",
       "      <td>محمد أمين,هدى شمس الدين,إسماعيل يس,ثريا حلمي,ل...</td>\n",
       "      <td>NaN</td>\n",
       "      <td>NaN</td>\n",
       "      <td>NaN</td>\n",
       "      <td>NaN</td>\n",
       "      <td>NaN</td>\n",
       "      <td>NaN</td>\n",
       "      <td>صلاح أبو سيف</td>\n",
       "      <td>NaN</td>\n",
       "    </tr>\n",
       "    <tr>\n",
       "      <th>120</th>\n",
       "      <td>قليل البخت</td>\n",
       "      <td>12 مايو 1952</td>\n",
       "      <td>??ا??</td>\n",
       "      <td>110.0</td>\n",
       "      <td>تدور احداث القصة حول (حسين) ابن الشيخ (عبدالرح...</td>\n",
       "      <td>زهير بكير</td>\n",
       "      <td>شادية,كمال الشناوي,رضوان,زمردة,إسماعيل يس,محمو...</td>\n",
       "      <td>أفلام أميّة,ستوديو الأهرام (ستوديوهات الأهرام)...</td>\n",
       "      <td>فيرى فاركاش (فرانسوا فاركاش),زكريا منصور,ضياء ...</td>\n",
       "      <td>محمد عباس,مارسيل صالح</td>\n",
       "      <td>حبيب خوري,روبرت شارفنبرج,ستوديو الأهرام (ستودي...</td>\n",
       "      <td>NaN</td>\n",
       "      <td>إبراهيم حسين,عزت الجاهلي,إسماعيل نظمى,أحمد صبر...</td>\n",
       "      <td>محمد عبدالجواد,فهمي عبدالجواد</td>\n",
       "      <td>أفرا موسى</td>\n",
       "    </tr>\n",
       "    <tr>\n",
       "      <th>373</th>\n",
       "      <td>أين عمري</td>\n",
       "      <td>1956</td>\n",
       "      <td>??ا??</td>\n",
       "      <td>108.1</td>\n",
       "      <td>تدور قصة الفيلم حول التلميذة “علية” التي تسعي ...</td>\n",
       "      <td>NaN</td>\n",
       "      <td>ماجدة,زكي رستم,يحيى شاهين,ميمي شكيب,أحمد رمزي,...</td>\n",
       "      <td>ماجدة</td>\n",
       "      <td>NaN</td>\n",
       "      <td>NaN</td>\n",
       "      <td>NaN</td>\n",
       "      <td>NaN</td>\n",
       "      <td>NaN</td>\n",
       "      <td>أحمد ضياء الدين</td>\n",
       "      <td>NaN</td>\n",
       "    </tr>\n",
       "    <tr>\n",
       "      <th>61</th>\n",
       "      <td>حبيبتى سوسو</td>\n",
       "      <td>5 ابريل 1951</td>\n",
       "      <td>??????</td>\n",
       "      <td>110.0</td>\n",
       "      <td>سوسو مخطوبة لثرى لا تحبه وبالصدفة هناك مطربة ا...</td>\n",
       "      <td>أبو السعود الإبياري,نيازي مصطفى</td>\n",
       "      <td>ليلى فوزي,محسن سرحان,سليمان نجيب,ميمي شكيب,إسم...</td>\n",
       "      <td>نحّاس فيلم</td>\n",
       "      <td>محمود نصر</td>\n",
       "      <td>جلال مصطفى</td>\n",
       "      <td>NaN</td>\n",
       "      <td>NaN</td>\n",
       "      <td>زكريا أحمد,علي فراج,عالية,سوسن فؤاد</td>\n",
       "      <td>نيازي مصطفى</td>\n",
       "      <td>نحّاس فيلم</td>\n",
       "    </tr>\n",
       "    <tr>\n",
       "      <th>6</th>\n",
       "      <td>قمر 14</td>\n",
       "      <td>3 ابريل 1950</td>\n",
       "      <td>???????</td>\n",
       "      <td>88.0</td>\n",
       "      <td>تدور أحداث الفيلم حول محسن (محمود ذو الفقار) ا...</td>\n",
       "      <td>عبدالفتاح السيد</td>\n",
       "      <td>كاميليا,محمود ذو الفقار,حسن فايق,فردوس محمد,ال...</td>\n",
       "      <td>ستوديو مصر</td>\n",
       "      <td>كليليو (ك. ستشفللي)</td>\n",
       "      <td>جلال مصطفى</td>\n",
       "      <td>نجيب خوري,أنطوان بوليزويس</td>\n",
       "      <td>NaN</td>\n",
       "      <td>NaN</td>\n",
       "      <td>نيازي مصطفى,محمد جلال</td>\n",
       "      <td>ستوديو مصر</td>\n",
       "    </tr>\n",
       "    <tr>\n",
       "      <th>115</th>\n",
       "      <td>شمشون ولبلب (عنتر ولبلب)</td>\n",
       "      <td>17 ابريل 1952</td>\n",
       "      <td>??????</td>\n",
       "      <td>117.0</td>\n",
       "      <td>تدور أحداث القصة حول (لبلب)، الذي يعيش في هدوء...</td>\n",
       "      <td>بديع خيري,ريمون قربة,سيف الدين شوكت</td>\n",
       "      <td>سراج منير,محمود شكوكو,عبدالوارث عسر,سعاد أحمد,...</td>\n",
       "      <td>جبرائيل نحاس,رمسيس نجيب</td>\n",
       "      <td>محمد عز العرب</td>\n",
       "      <td>ريمون قربة</td>\n",
       "      <td>ستوديو نحاس (النيل)</td>\n",
       "      <td>NaN</td>\n",
       "      <td>فتحي قورة,محمد الكحلاوي</td>\n",
       "      <td>سيف الدين شوكت,لطفى نور الدين</td>\n",
       "      <td>نحّاس فيلم</td>\n",
       "    </tr>\n",
       "    <tr>\n",
       "      <th>318</th>\n",
       "      <td>ليالي الحب</td>\n",
       "      <td>15 اكتوبر 1955</td>\n",
       "      <td>ا????ا??</td>\n",
       "      <td>125.0</td>\n",
       "      <td>أحمد ممتاز موظف بسيط ابتكر نوعاً من القماش لا ...</td>\n",
       "      <td>إسماعيل الحبروك,أبو السعود الإبياري,حلمي رفلة,...</td>\n",
       "      <td>عبدالحليم حافظ,آمال فريد,عبدالسلام النابلسي,سر...</td>\n",
       "      <td>أفلام حلمى رفلة</td>\n",
       "      <td>محمود نصر,حسن البحيري,جودة عبدالجواد</td>\n",
       "      <td>حسن حلمي (حسنوف),زينب عويس</td>\n",
       "      <td>أنطوان بوليزويس,نجيب خوري</td>\n",
       "      <td>NaN</td>\n",
       "      <td>أندريا رايدر (أندريه رايدر),فتحي قورة,صالح جود...</td>\n",
       "      <td>حلمي رفلة,عدلي خليل,منير رفله</td>\n",
       "      <td>الشرق للتوزيع</td>\n",
       "    </tr>\n",
       "    <tr>\n",
       "      <th>313</th>\n",
       "      <td>رنة الخلخال</td>\n",
       "      <td>25 يوليو 1955</td>\n",
       "      <td>??ا??</td>\n",
       "      <td>120.0</td>\n",
       "      <td>فتاة ضالة لا ملجا لها ولا معين بعدوفاة ابيها. ...</td>\n",
       "      <td>أمين يوسف غراب,محمود ذو الفقار</td>\n",
       "      <td>مريم فخر الدين,شكري سرحان,نجمة إبراهيم,عبدالوا...</td>\n",
       "      <td>أفلام مريم فخر الدين,محمد حجاج,مريم فخر الدين</td>\n",
       "      <td>ضياء الدين المهدي,عبدالمنعم بهنسي,برونو سالفي</td>\n",
       "      <td>ألبير نجيب,كمال فهمي</td>\n",
       "      <td>عبدالمنعم على,عباس حلمي,ستوديو الأهرام (ستوديو...</td>\n",
       "      <td>محمد مرعى</td>\n",
       "      <td>سيد مصطفى,أحمد صبرة,عبدالحليم نويرة,فتحي قورة,...</td>\n",
       "      <td>محمود ذو الفقار,محمود فريد</td>\n",
       "      <td>NaN</td>\n",
       "    </tr>\n",
       "    <tr>\n",
       "      <th>353</th>\n",
       "      <td>شياطين الجو</td>\n",
       "      <td>2 ابريل 1956</td>\n",
       "      <td>NaN</td>\n",
       "      <td>100.0</td>\n",
       "      <td>فرغلى وعواد وأحمد ثلاثة جنود ، يتقابلون لأول م...</td>\n",
       "      <td>السيد بدير,عبدالحميد جودة السحار,وجيه أباظة,ني...</td>\n",
       "      <td>شكري سرحان,أحمد رمزي,آمال فريد,عبدالسلام الناب...</td>\n",
       "      <td>NaN</td>\n",
       "      <td>روبير طمبا</td>\n",
       "      <td>انجا وميلا</td>\n",
       "      <td>ستوديو الأهرام (ستوديوهات الأهرام),أنطوان بولي...</td>\n",
       "      <td>NaN</td>\n",
       "      <td>محمد فوزي</td>\n",
       "      <td>نيازي مصطفى,شريف حمودة</td>\n",
       "      <td>NaN</td>\n",
       "    </tr>\n",
       "  </tbody>\n",
       "</table>\n",
       "</div>"
      ],
      "text/plain": [
       "                   اسم الفيلم     تاريخ العرض   التصنيف  المدة  \\\n",
       "265              حدث ذات ليلة  18 اكتوبر 1954     ??ا??  112.0   \n",
       "159                الحب بهدلة            1952  ا????ا??  111.1   \n",
       "120                قليل البخت    12 مايو 1952     ??ا??  110.0   \n",
       "373                  أين عمري            1956     ??ا??  108.1   \n",
       "61                حبيبتى سوسو    5 ابريل 1951    ??????  110.0   \n",
       "6                      قمر 14    3 ابريل 1950   ???????   88.0   \n",
       "115  شمشون ولبلب (عنتر ولبلب)   17 ابريل 1952    ??????  117.0   \n",
       "318                ليالي الحب  15 اكتوبر 1955  ا????ا??  125.0   \n",
       "313               رنة الخلخال   25 يوليو 1955     ??ا??  120.0   \n",
       "353               شياطين الجو    2 ابريل 1956       NaN  100.0   \n",
       "\n",
       "                                                  ملخص  \\\n",
       "265  تتزوج فتاة فقيرة من شاب ثري ، وذلك رغم معارضة ...   \n",
       "159  ثلاث فتيات يعملن في أحد الملاهي الليلية، على ع...   \n",
       "120  تدور احداث القصة حول (حسين) ابن الشيخ (عبدالرح...   \n",
       "373  تدور قصة الفيلم حول التلميذة “علية” التي تسعي ...   \n",
       "61   سوسو مخطوبة لثرى لا تحبه وبالصدفة هناك مطربة ا...   \n",
       "6    تدور أحداث الفيلم حول محسن (محمود ذو الفقار) ا...   \n",
       "115  تدور أحداث القصة حول (لبلب)، الذي يعيش في هدوء...   \n",
       "318  أحمد ممتاز موظف بسيط ابتكر نوعاً من القماش لا ...   \n",
       "313  فتاة ضالة لا ملجا لها ولا معين بعدوفاة ابيها. ...   \n",
       "353  فرغلى وعواد وأحمد ثلاثة جنود ، يتقابلون لأول م...   \n",
       "\n",
       "                                                 تأليف  \\\n",
       "265                          فتحي أبو الفضل,هنري بركات   \n",
       "159           صلاح أبو سيف,جمال حمدي (غصين محمود حمدي)   \n",
       "120                                          زهير بكير   \n",
       "373                                                NaN   \n",
       "61                     أبو السعود الإبياري,نيازي مصطفى   \n",
       "6                                      عبدالفتاح السيد   \n",
       "115                بديع خيري,ريمون قربة,سيف الدين شوكت   \n",
       "318  إسماعيل الحبروك,أبو السعود الإبياري,حلمي رفلة,...   \n",
       "313                     أمين يوسف غراب,محمود ذو الفقار   \n",
       "353  السيد بدير,عبدالحميد جودة السحار,وجيه أباظة,ني...   \n",
       "\n",
       "                                                 تمثيل  \\\n",
       "265  هدى سلطان,محسن سرحان,كمال الشناوي,عايدة كامل,ع...   \n",
       "159  محمد أمين,هدى شمس الدين,إسماعيل يس,ثريا حلمي,ل...   \n",
       "120  شادية,كمال الشناوي,رضوان,زمردة,إسماعيل يس,محمو...   \n",
       "373  ماجدة,زكي رستم,يحيى شاهين,ميمي شكيب,أحمد رمزي,...   \n",
       "61   ليلى فوزي,محسن سرحان,سليمان نجيب,ميمي شكيب,إسم...   \n",
       "6    كاميليا,محمود ذو الفقار,حسن فايق,فردوس محمد,ال...   \n",
       "115  سراج منير,محمود شكوكو,عبدالوارث عسر,سعاد أحمد,...   \n",
       "318  عبدالحليم حافظ,آمال فريد,عبدالسلام النابلسي,سر...   \n",
       "313  مريم فخر الدين,شكري سرحان,نجمة إبراهيم,عبدالوا...   \n",
       "353  شكري سرحان,أحمد رمزي,آمال فريد,عبدالسلام الناب...   \n",
       "\n",
       "                                                 إنتاج  \\\n",
       "265                     إبراهيم مصطفى,أرمان بوهالوفيتش   \n",
       "159                                                NaN   \n",
       "120  أفلام أميّة,ستوديو الأهرام (ستوديوهات الأهرام)...   \n",
       "373                                              ماجدة   \n",
       "61                                          نحّاس فيلم   \n",
       "6                                           ستوديو مصر   \n",
       "115                            جبرائيل نحاس,رمسيس نجيب   \n",
       "318                                    أفلام حلمى رفلة   \n",
       "313      أفلام مريم فخر الدين,محمد حجاج,مريم فخر الدين   \n",
       "353                                                NaN   \n",
       "\n",
       "                                                 تصوير  \\\n",
       "265                      كليليو (ك. ستشفللي),محمود بكر   \n",
       "159                                                NaN   \n",
       "120  فيرى فاركاش (فرانسوا فاركاش),زكريا منصور,ضياء ...   \n",
       "373                                                NaN   \n",
       "61                                           محمود نصر   \n",
       "6                                  كليليو (ك. ستشفللي)   \n",
       "115                                      محمد عز العرب   \n",
       "318               محمود نصر,حسن البحيري,جودة عبدالجواد   \n",
       "313      ضياء الدين المهدي,عبدالمنعم بهنسي,برونو سالفي   \n",
       "353                                         روبير طمبا   \n",
       "\n",
       "                          مونتاج  \\\n",
       "265  فتحى قاسم,مارسيل صالح,فريدا   \n",
       "159                          NaN   \n",
       "120        محمد عباس,مارسيل صالح   \n",
       "373                          NaN   \n",
       "61                    جلال مصطفى   \n",
       "6                     جلال مصطفى   \n",
       "115                   ريمون قربة   \n",
       "318   حسن حلمي (حسنوف),زينب عويس   \n",
       "313         ألبير نجيب,كمال فهمي   \n",
       "353                   انجا وميلا   \n",
       "\n",
       "                                                 ديكور      ملابس  \\\n",
       "265               عباس حلمي,حسن الشوربجى,عبدالمنعم على        NaN   \n",
       "159                                                NaN        NaN   \n",
       "120  حبيب خوري,روبرت شارفنبرج,ستوديو الأهرام (ستودي...        NaN   \n",
       "373                                                NaN        NaN   \n",
       "61                                                 NaN        NaN   \n",
       "6                            نجيب خوري,أنطوان بوليزويس        NaN   \n",
       "115                                ستوديو نحاس (النيل)        NaN   \n",
       "318                          أنطوان بوليزويس,نجيب خوري        NaN   \n",
       "313  عبدالمنعم على,عباس حلمي,ستوديو الأهرام (ستوديو...  محمد مرعى   \n",
       "353  ستوديو الأهرام (ستوديوهات الأهرام),أنطوان بولي...        NaN   \n",
       "\n",
       "                                                موسيقى  \\\n",
       "265  مأمون الشناوي,محمد القصبجي,أحمد صدقي,محمود الشريف   \n",
       "159                                                NaN   \n",
       "120  إبراهيم حسين,عزت الجاهلي,إسماعيل نظمى,أحمد صبر...   \n",
       "373                                                NaN   \n",
       "61                 زكريا أحمد,علي فراج,عالية,سوسن فؤاد   \n",
       "6                                                  NaN   \n",
       "115                            فتحي قورة,محمد الكحلاوي   \n",
       "318  أندريا رايدر (أندريه رايدر),فتحي قورة,صالح جود...   \n",
       "313  سيد مصطفى,أحمد صبرة,عبدالحليم نويرة,فتحي قورة,...   \n",
       "353                                          محمد فوزي   \n",
       "\n",
       "                                إخراج              توزيع  \n",
       "265  هنري بركات,ريمون نصور,أحمد فاروق  منتخبات بهنا فيلم  \n",
       "159                      صلاح أبو سيف                NaN  \n",
       "120     محمد عبدالجواد,فهمي عبدالجواد          أفرا موسى  \n",
       "373                   أحمد ضياء الدين                NaN  \n",
       "61                        نيازي مصطفى         نحّاس فيلم  \n",
       "6               نيازي مصطفى,محمد جلال         ستوديو مصر  \n",
       "115     سيف الدين شوكت,لطفى نور الدين         نحّاس فيلم  \n",
       "318     حلمي رفلة,عدلي خليل,منير رفله      الشرق للتوزيع  \n",
       "313        محمود ذو الفقار,محمود فريد                NaN  \n",
       "353            نيازي مصطفى,شريف حمودة                NaN  "
      ]
     },
     "execution_count": 49,
     "metadata": {},
     "output_type": "execute_result"
    }
   ],
   "source": [
    "fifties_df.sample(10)"
   ]
  },
  {
   "cell_type": "code",
   "execution_count": 50,
   "metadata": {
    "scrolled": true
   },
   "outputs": [
    {
     "name": "stdout",
     "output_type": "stream",
     "text": [
      "Column Name:  ‫اسم الفيلم‬\n",
      "count              534\n",
      "unique             533\n",
      "top       هل أقتل زوجى\n",
      "freq                 2\n",
      "Name: اسم الفيلم, dtype: object\n",
      "\n",
      "--------------------\n",
      "Column Name:  ‫تاريخ العرض‬\n",
      "count      534\n",
      "unique     368\n",
      "top       1953\n",
      "freq        14\n",
      "Name: تاريخ العرض, dtype: object\n",
      "\n",
      "--------------------\n",
      "Column Name:  ‫التصنيف‬\n",
      "count       383\n",
      "unique       11\n",
      "top       ??ا??\n",
      "freq        138\n",
      "Name: التصنيف, dtype: object\n",
      "\n",
      "--------------------\n",
      "Column Name:  ‫المدة‬\n",
      "count    534.000000\n",
      "mean     108.119663\n",
      "std       13.207141\n",
      "min       53.000000\n",
      "25%      100.000000\n",
      "50%      108.350000\n",
      "75%      115.000000\n",
      "max      170.000000\n",
      "Name: المدة, dtype: float64\n",
      "\n",
      "--------------------\n",
      "Column Name:  ‫ملخص‬\n",
      "count                                                   522\n",
      "unique                                                  522\n",
      "top       تدور أحداث الفيلم حول ثلاث أشخاص، هم ضابط الشر...\n",
      "freq                                                      1\n",
      "Name: ملخص, dtype: object\n",
      "\n",
      "--------------------\n",
      "Column Name:  ‫تأليف‬\n",
      "count                     516\n",
      "unique                    341\n",
      "top       أبو السعود الإبياري\n",
      "freq                       28\n",
      "Name: تأليف, dtype: object\n",
      "\n",
      "--------------------\n",
      "Column Name:  ‫تمثيل‬\n",
      "count                                                   532\n",
      "unique                                                  532\n",
      "top       عقيلة راتب,محسن سرحان,حسين رياض,زوزو ماضي,لولا...\n",
      "freq                                                      1\n",
      "Name: تمثيل, dtype: object\n",
      "\n",
      "--------------------\n",
      "Column Name:  ‫إنتاج‬\n",
      "count                                            466\n",
      "unique                                           400\n",
      "top       نحّاس فيلم,رمسيس نجيب,أديب جابر,سليمان نجا\n",
      "freq                                               5\n",
      "Name: إنتاج, dtype: object\n",
      "\n",
      "--------------------\n",
      "Column Name:  ‫تصوير‬\n",
      "count             486\n",
      "unique            370\n",
      "top       برونو سالفي\n",
      "freq               12\n",
      "Name: تصوير, dtype: object\n",
      "\n",
      "--------------------\n",
      "Column Name:  ‫مونتاج‬\n",
      "count                465\n",
      "unique               295\n",
      "top       كمال أبو العلا\n",
      "freq                  15\n",
      "Name: مونتاج, dtype: object\n",
      "\n",
      "--------------------\n",
      "Column Name:  ‫ديكور‬\n",
      "count           458\n",
      "unique          270\n",
      "top       عباس حلمي\n",
      "freq             23\n",
      "Name: ديكور, dtype: object\n",
      "\n",
      "--------------------\n",
      "Column Name:  ‫ملابس‬\n",
      "count              85\n",
      "unique             44\n",
      "top       أحمد الكسار\n",
      "freq               14\n",
      "Name: ملابس, dtype: object\n",
      "\n",
      "--------------------\n",
      "Column Name:  ‫موسيقى‬\n",
      "count              372\n",
      "unique             304\n",
      "top       فؤاد الظاهري\n",
      "freq                19\n",
      "Name: موسيقى, dtype: object\n",
      "\n",
      "--------------------\n",
      "Column Name:  ‫إخراج‬\n",
      "count                     529\n",
      "unique                    374\n",
      "top       حلمي رفلة,عاطف سالم\n",
      "freq                       16\n",
      "Name: إخراج, dtype: object\n",
      "\n",
      "--------------------\n",
      "Column Name:  ‫توزيع‬\n",
      "count                   245\n",
      "unique                   59\n",
      "top       منتخبات بهنا فيلم\n",
      "freq                     57\n",
      "Name: توزيع, dtype: object\n",
      "\n",
      "--------------------\n"
     ]
    }
   ],
   "source": [
    "describe_dataframe(fifties_df)"
   ]
  },
  {
   "cell_type": "code",
   "execution_count": 51,
   "metadata": {},
   "outputs": [],
   "source": [
    "fifties_df = change_empty_entries_to_None(fifties_df)"
   ]
  },
  {
   "cell_type": "code",
   "execution_count": 52,
   "metadata": {},
   "outputs": [
    {
     "data": {
      "text/plain": [
       "تاريخي    10\n",
       "Name: التصنيف, dtype: int64"
      ]
     },
     "execution_count": 52,
     "metadata": {},
     "output_type": "execute_result"
    }
   ],
   "source": [
    "fifties_df['التصنيف'].value_counts()"
   ]
  },
  {
   "cell_type": "markdown",
   "metadata": {},
   "source": [
    "_**Cleansing**_"
   ]
  },
  {
   "cell_type": "code",
   "execution_count": 53,
   "metadata": {},
   "outputs": [
    {
     "data": {
      "text/html": [
       "<div>\n",
       "<style scoped>\n",
       "    .dataframe tbody tr th:only-of-type {\n",
       "        vertical-align: middle;\n",
       "    }\n",
       "\n",
       "    .dataframe tbody tr th {\n",
       "        vertical-align: top;\n",
       "    }\n",
       "\n",
       "    .dataframe thead th {\n",
       "        text-align: right;\n",
       "    }\n",
       "</style>\n",
       "<table border=\"1\" class=\"dataframe\">\n",
       "  <thead>\n",
       "    <tr style=\"text-align: right;\">\n",
       "      <th></th>\n",
       "      <th>اسم الفيلم</th>\n",
       "      <th>تاريخ العرض</th>\n",
       "      <th>التصنيف</th>\n",
       "      <th>المدة</th>\n",
       "      <th>ملخص</th>\n",
       "      <th>تأليف</th>\n",
       "      <th>تمثيل</th>\n",
       "      <th>إنتاج</th>\n",
       "      <th>تصوير</th>\n",
       "      <th>مونتاج</th>\n",
       "      <th>ديكور</th>\n",
       "      <th>ملابس</th>\n",
       "      <th>موسيقى</th>\n",
       "      <th>إخراج</th>\n",
       "      <th>توزيع</th>\n",
       "    </tr>\n",
       "  </thead>\n",
       "  <tbody>\n",
       "    <tr>\n",
       "      <th>441</th>\n",
       "      <td>هل أقتل زوجى</td>\n",
       "      <td>5 مايو 1958</td>\n",
       "      <td>None</td>\n",
       "      <td>87.0</td>\n",
       "      <td>تبدأ أحداث الفيلم بجو هادئ مرح فى أسرة مكونة م...</td>\n",
       "      <td>محمد كامل حسن المحامي</td>\n",
       "      <td>محسن سرحان,سميرة أحمد,توفيق الدقن,سهير البابلي...</td>\n",
       "      <td>وليم رزق,حسن موافى,فرغل البارودي,حسام الدين مصطفى</td>\n",
       "      <td>البير رياض,كليليو (ك. ستشفللي)</td>\n",
       "      <td>حسن حلمي (حسنوف)</td>\n",
       "      <td>أنطوان بوليزويس,عبدالمنعم على</td>\n",
       "      <td>None</td>\n",
       "      <td>None</td>\n",
       "      <td>حسام الدين مصطفى,سيمون صالح,مصطفى سمهان,إبراهي...</td>\n",
       "      <td>None</td>\n",
       "    </tr>\n",
       "  </tbody>\n",
       "</table>\n",
       "</div>"
      ],
      "text/plain": [
       "       اسم الفيلم  تاريخ العرض التصنيف  المدة  \\\n",
       "441  هل أقتل زوجى  5 مايو 1958    None   87.0   \n",
       "\n",
       "                                                  ملخص                  تأليف  \\\n",
       "441  تبدأ أحداث الفيلم بجو هادئ مرح فى أسرة مكونة م...  محمد كامل حسن المحامي   \n",
       "\n",
       "                                                 تمثيل  \\\n",
       "441  محسن سرحان,سميرة أحمد,توفيق الدقن,سهير البابلي...   \n",
       "\n",
       "                                                 إنتاج  \\\n",
       "441  وليم رزق,حسن موافى,فرغل البارودي,حسام الدين مصطفى   \n",
       "\n",
       "                              تصوير            مونتاج  \\\n",
       "441  البير رياض,كليليو (ك. ستشفللي)  حسن حلمي (حسنوف)   \n",
       "\n",
       "                             ديكور ملابس موسيقى  \\\n",
       "441  أنطوان بوليزويس,عبدالمنعم على  None   None   \n",
       "\n",
       "                                                 إخراج توزيع  \n",
       "441  حسام الدين مصطفى,سيمون صالح,مصطفى سمهان,إبراهي...  None  "
      ]
     },
     "execution_count": 53,
     "metadata": {},
     "output_type": "execute_result"
    }
   ],
   "source": [
    "fifties_df[fifties_df.duplicated(subset = ['اسم الفيلم'])]"
   ]
  },
  {
   "cell_type": "code",
   "execution_count": 54,
   "metadata": {},
   "outputs": [
    {
     "data": {
      "text/html": [
       "<div>\n",
       "<style scoped>\n",
       "    .dataframe tbody tr th:only-of-type {\n",
       "        vertical-align: middle;\n",
       "    }\n",
       "\n",
       "    .dataframe tbody tr th {\n",
       "        vertical-align: top;\n",
       "    }\n",
       "\n",
       "    .dataframe thead th {\n",
       "        text-align: right;\n",
       "    }\n",
       "</style>\n",
       "<table border=\"1\" class=\"dataframe\">\n",
       "  <thead>\n",
       "    <tr style=\"text-align: right;\">\n",
       "      <th></th>\n",
       "      <th>اسم الفيلم</th>\n",
       "      <th>تاريخ العرض</th>\n",
       "      <th>التصنيف</th>\n",
       "      <th>المدة</th>\n",
       "      <th>ملخص</th>\n",
       "      <th>تأليف</th>\n",
       "      <th>تمثيل</th>\n",
       "      <th>إنتاج</th>\n",
       "      <th>تصوير</th>\n",
       "      <th>مونتاج</th>\n",
       "      <th>ديكور</th>\n",
       "      <th>ملابس</th>\n",
       "      <th>موسيقى</th>\n",
       "      <th>إخراج</th>\n",
       "      <th>توزيع</th>\n",
       "    </tr>\n",
       "  </thead>\n",
       "  <tbody>\n",
       "    <tr>\n",
       "      <th>378</th>\n",
       "      <td>هل أقتل زوجى</td>\n",
       "      <td>1956</td>\n",
       "      <td>None</td>\n",
       "      <td>108.1</td>\n",
       "      <td>None</td>\n",
       "      <td>None</td>\n",
       "      <td>None</td>\n",
       "      <td>None</td>\n",
       "      <td>None</td>\n",
       "      <td>None</td>\n",
       "      <td>None</td>\n",
       "      <td>None</td>\n",
       "      <td>None</td>\n",
       "      <td>None</td>\n",
       "      <td>None</td>\n",
       "    </tr>\n",
       "    <tr>\n",
       "      <th>441</th>\n",
       "      <td>هل أقتل زوجى</td>\n",
       "      <td>5 مايو 1958</td>\n",
       "      <td>None</td>\n",
       "      <td>87.0</td>\n",
       "      <td>تبدأ أحداث الفيلم بجو هادئ مرح فى أسرة مكونة م...</td>\n",
       "      <td>محمد كامل حسن المحامي</td>\n",
       "      <td>محسن سرحان,سميرة أحمد,توفيق الدقن,سهير البابلي...</td>\n",
       "      <td>وليم رزق,حسن موافى,فرغل البارودي,حسام الدين مصطفى</td>\n",
       "      <td>البير رياض,كليليو (ك. ستشفللي)</td>\n",
       "      <td>حسن حلمي (حسنوف)</td>\n",
       "      <td>أنطوان بوليزويس,عبدالمنعم على</td>\n",
       "      <td>None</td>\n",
       "      <td>None</td>\n",
       "      <td>حسام الدين مصطفى,سيمون صالح,مصطفى سمهان,إبراهي...</td>\n",
       "      <td>None</td>\n",
       "    </tr>\n",
       "  </tbody>\n",
       "</table>\n",
       "</div>"
      ],
      "text/plain": [
       "       اسم الفيلم  تاريخ العرض التصنيف  المدة  \\\n",
       "378  هل أقتل زوجى         1956    None  108.1   \n",
       "441  هل أقتل زوجى  5 مايو 1958    None   87.0   \n",
       "\n",
       "                                                  ملخص                  تأليف  \\\n",
       "378                                               None                   None   \n",
       "441  تبدأ أحداث الفيلم بجو هادئ مرح فى أسرة مكونة م...  محمد كامل حسن المحامي   \n",
       "\n",
       "                                                 تمثيل  \\\n",
       "378                                               None   \n",
       "441  محسن سرحان,سميرة أحمد,توفيق الدقن,سهير البابلي...   \n",
       "\n",
       "                                                 إنتاج  \\\n",
       "378                                               None   \n",
       "441  وليم رزق,حسن موافى,فرغل البارودي,حسام الدين مصطفى   \n",
       "\n",
       "                              تصوير            مونتاج  \\\n",
       "378                            None              None   \n",
       "441  البير رياض,كليليو (ك. ستشفللي)  حسن حلمي (حسنوف)   \n",
       "\n",
       "                             ديكور ملابس موسيقى  \\\n",
       "378                           None  None   None   \n",
       "441  أنطوان بوليزويس,عبدالمنعم على  None   None   \n",
       "\n",
       "                                                 إخراج توزيع  \n",
       "378                                               None  None  \n",
       "441  حسام الدين مصطفى,سيمون صالح,مصطفى سمهان,إبراهي...  None  "
      ]
     },
     "execution_count": 54,
     "metadata": {},
     "output_type": "execute_result"
    }
   ],
   "source": [
    "fifties_df.loc[fifties_df['اسم الفيلم'] == 'هل أقتل زوجى']"
   ]
  },
  {
   "cell_type": "code",
   "execution_count": 55,
   "metadata": {},
   "outputs": [],
   "source": [
    "expanded_date_50s = fifties_df.copy(deep = True)"
   ]
  },
  {
   "cell_type": "code",
   "execution_count": 56,
   "metadata": {},
   "outputs": [],
   "source": [
    "expanded_date_50s = expand_release_date(fifties_df)\n",
    "expanded_date_50s = unify_date_format(expanded_date_50s)"
   ]
  },
  {
   "cell_type": "code",
   "execution_count": 57,
   "metadata": {},
   "outputs": [],
   "source": [
    "expanded_date_50s.drop(columns=['تاريخ العرض','اليوم'], inplace = True)\n",
    "expanded_date_50s['التقييم'] = None"
   ]
  },
  {
   "cell_type": "markdown",
   "metadata": {},
   "source": [
    "_**Filling Missing Values**_"
   ]
  },
  {
   "cell_type": "markdown",
   "metadata": {},
   "source": [
    "* **Add Webscraped Ratings**"
   ]
  },
  {
   "cell_type": "code",
   "execution_count": 58,
   "metadata": {},
   "outputs": [],
   "source": [
    "foreign_filtered_50s = expanded_date_50s.copy(deep = True)"
   ]
  },
  {
   "cell_type": "code",
   "execution_count": 59,
   "metadata": {
    "code_folding": [
     0
    ]
   },
   "outputs": [],
   "source": [
    "foreign_filtered_50s = filter_foregin_movies(expanded_date_50s\n",
    "                                               , '1950s_data/countries_1950s.txt')"
   ]
  },
  {
   "cell_type": "code",
   "execution_count": 60,
   "metadata": {},
   "outputs": [],
   "source": [
    "ratings_added_50s = foreign_filtered_50s.copy(deep = True)"
   ]
  },
  {
   "cell_type": "code",
   "execution_count": 61,
   "metadata": {
    "code_folding": [
     0
    ]
   },
   "outputs": [],
   "source": [
    "ratings_added_50s = add_scraped_features(foreign_filtered_50s \\\n",
    "                                           , '1950s_data/1950s_ratings.txt'\n",
    "                                           , 'التقييم')"
   ]
  },
  {
   "cell_type": "code",
   "execution_count": 62,
   "metadata": {},
   "outputs": [],
   "source": [
    "genres_added_50s = ratings_added_50s.copy(deep = True)"
   ]
  },
  {
   "cell_type": "code",
   "execution_count": 63,
   "metadata": {
    "code_folding": [
     0
    ]
   },
   "outputs": [],
   "source": [
    "genres_added_50s = add_scraped_features(ratings_added_50s \\\n",
    "                                           , '1950s_data/1950s_genres.txt'\n",
    "                                           , 'التصنيف')"
   ]
  },
  {
   "cell_type": "code",
   "execution_count": 64,
   "metadata": {},
   "outputs": [],
   "source": [
    "genres_added_50s.reset_index(drop = True, inplace = True)\n"
   ]
  },
  {
   "cell_type": "code",
   "execution_count": 65,
   "metadata": {},
   "outputs": [],
   "source": [
    "synopsis_added_50s = genres_added_50s.copy(deep = True)"
   ]
  },
  {
   "cell_type": "code",
   "execution_count": 66,
   "metadata": {
    "code_folding": [
     0
    ]
   },
   "outputs": [],
   "source": [
    "synopsis_added_50s = add_scraped_features(genres_added_50s \\\n",
    "                                          , '1950s_data/1950s_synopses.txt' \\\n",
    "                                         , 'ملخص')"
   ]
  },
  {
   "cell_type": "code",
   "execution_count": 68,
   "metadata": {},
   "outputs": [
    {
     "data": {
      "text/plain": [
       "ﺩﺭاﻣﺎ                192\n",
       "ﻛﻮﻣﻴﺪﻱ                60\n",
       "ﺭﻭﻣﺎﻧﺴﻲ               44\n",
       "موسيقي / استعراضي     31\n",
       "ﺗﺸﻮﻳﻖ ﻭﺇﺛﺎﺭﺓ          14\n",
       "تاريخي                 9\n",
       "ﺟﺮﻳﻤﺔ                  8\n",
       "ﺣﺮﻛﺔ                   6\n",
       "ﻋﺎﺋﻠﻲ                  3\n",
       "ﺧﻴﺎﻝ ﻋﻠﻤﻲ              3\n",
       "ﺣﺮﺏ                    2\n",
       "ﻏﻤﻮﺽ                   2\n",
       "ﺭﻋﺐ                    1\n",
       "ﺧﻴﺎﻝ                   1\n",
       "ﻣﻐﺎﻣﺮاﺕ                1\n",
       "Name: التصنيف, dtype: int64"
      ]
     },
     "execution_count": 68,
     "metadata": {},
     "output_type": "execute_result"
    }
   ],
   "source": [
    "synopsis_added_50s['التصنيف'].value_counts()"
   ]
  },
  {
   "cell_type": "markdown",
   "metadata": {},
   "source": [
    "* \"ﺧﻴﺎﻝ ﻋﻠﻤﻲ\" and \"ﺧﻴﺎﻝ\", same genre but named differently!"
   ]
  },
  {
   "cell_type": "code",
   "execution_count": 74,
   "metadata": {},
   "outputs": [],
   "source": [
    "synopsis_added_50s.loc[synopsis_added_50s['التصنيف'] == 'ﺧﻴﺎﻝ ﻋﻠﻤﻲ', 'التصنيف'] = 'ﺧﻴﺎﻝ'"
   ]
  },
  {
   "cell_type": "code",
   "execution_count": 75,
   "metadata": {},
   "outputs": [
    {
     "data": {
      "text/plain": [
       "ﺩﺭاﻣﺎ                192\n",
       "ﻛﻮﻣﻴﺪﻱ                60\n",
       "ﺭﻭﻣﺎﻧﺴﻲ               44\n",
       "موسيقي / استعراضي     31\n",
       "ﺗﺸﻮﻳﻖ ﻭﺇﺛﺎﺭﺓ          14\n",
       "تاريخي                 9\n",
       "ﺟﺮﻳﻤﺔ                  8\n",
       "ﺣﺮﻛﺔ                   6\n",
       "ﺧﻴﺎﻝ                   4\n",
       "ﻋﺎﺋﻠﻲ                  3\n",
       "ﺣﺮﺏ                    2\n",
       "ﻏﻤﻮﺽ                   2\n",
       "ﺭﻋﺐ                    1\n",
       "ﻣﻐﺎﻣﺮاﺕ                1\n",
       "Name: التصنيف, dtype: int64"
      ]
     },
     "execution_count": 75,
     "metadata": {},
     "output_type": "execute_result"
    }
   ],
   "source": [
    "synopsis_added_50s['التصنيف'].value_counts()"
   ]
  },
  {
   "cell_type": "code",
   "execution_count": 76,
   "metadata": {
    "scrolled": true
   },
   "outputs": [],
   "source": [
    "synopsis_added_50s = synopsis_added_50s.reset_index(drop=True)"
   ]
  },
  {
   "cell_type": "code",
   "execution_count": 77,
   "metadata": {},
   "outputs": [
    {
     "data": {
      "text/html": [
       "<div>\n",
       "<style scoped>\n",
       "    .dataframe tbody tr th:only-of-type {\n",
       "        vertical-align: middle;\n",
       "    }\n",
       "\n",
       "    .dataframe tbody tr th {\n",
       "        vertical-align: top;\n",
       "    }\n",
       "\n",
       "    .dataframe thead th {\n",
       "        text-align: right;\n",
       "    }\n",
       "</style>\n",
       "<table border=\"1\" class=\"dataframe\">\n",
       "  <thead>\n",
       "    <tr style=\"text-align: right;\">\n",
       "      <th></th>\n",
       "      <th>اسم الفيلم</th>\n",
       "      <th>التصنيف</th>\n",
       "      <th>المدة</th>\n",
       "      <th>ملخص</th>\n",
       "      <th>تأليف</th>\n",
       "      <th>تمثيل</th>\n",
       "      <th>إنتاج</th>\n",
       "      <th>تصوير</th>\n",
       "      <th>مونتاج</th>\n",
       "      <th>ديكور</th>\n",
       "      <th>ملابس</th>\n",
       "      <th>موسيقى</th>\n",
       "      <th>إخراج</th>\n",
       "      <th>توزيع</th>\n",
       "      <th>الشهر</th>\n",
       "      <th>السنة</th>\n",
       "      <th>التقييم</th>\n",
       "    </tr>\n",
       "  </thead>\n",
       "  <tbody>\n",
       "    <tr>\n",
       "      <th>108</th>\n",
       "      <td>غضب الوالدين</td>\n",
       "      <td>ﺩﺭاﻣﺎ</td>\n",
       "      <td>120.0</td>\n",
       "      <td>ينجح أحد الفراشين العاملين بإحدى الشركات في ال...</td>\n",
       "      <td>حسن الإمام,حسن عبدالوهاب,محمد مصطفى سامي</td>\n",
       "      <td>شادية,محسن سرحان,أمينة رزق,حسين رياض,سميحة توف...</td>\n",
       "      <td>إبراهيم مصطفى,أرمان بوهالوفيتش</td>\n",
       "      <td>محمود فهمي,ألفيزى اورفانيللى,جمال أحمد</td>\n",
       "      <td>إحسان فرغل,مارسيل صالح</td>\n",
       "      <td>عباس حلمي,عبدالمنعم على,عبدالمنعم شكري</td>\n",
       "      <td>None</td>\n",
       "      <td>محمود الشريف,فتحي قورة,إبراهيم حجايج</td>\n",
       "      <td>حسن الإمام,عبدالرحمن شريف,حسن نعمة الله</td>\n",
       "      <td>منتخبات بهنا فيلم,أفلام مصر العربية (واصف فايز)</td>\n",
       "      <td>مارس</td>\n",
       "      <td>1952</td>\n",
       "      <td>6.9</td>\n",
       "    </tr>\n",
       "  </tbody>\n",
       "</table>\n",
       "</div>"
      ],
      "text/plain": [
       "       اسم الفيلم التصنيف  المدة  \\\n",
       "108  غضب الوالدين   ﺩﺭاﻣﺎ  120.0   \n",
       "\n",
       "                                                  ملخص  \\\n",
       "108  ينجح أحد الفراشين العاملين بإحدى الشركات في ال...   \n",
       "\n",
       "                                        تأليف  \\\n",
       "108  حسن الإمام,حسن عبدالوهاب,محمد مصطفى سامي   \n",
       "\n",
       "                                                 تمثيل  \\\n",
       "108  شادية,محسن سرحان,أمينة رزق,حسين رياض,سميحة توف...   \n",
       "\n",
       "                              إنتاج                                   تصوير  \\\n",
       "108  إبراهيم مصطفى,أرمان بوهالوفيتش  محمود فهمي,ألفيزى اورفانيللى,جمال أحمد   \n",
       "\n",
       "                     مونتاج                                   ديكور ملابس  \\\n",
       "108  إحسان فرغل,مارسيل صالح  عباس حلمي,عبدالمنعم على,عبدالمنعم شكري  None   \n",
       "\n",
       "                                   موسيقى  \\\n",
       "108  محمود الشريف,فتحي قورة,إبراهيم حجايج   \n",
       "\n",
       "                                       إخراج  \\\n",
       "108  حسن الإمام,عبدالرحمن شريف,حسن نعمة الله   \n",
       "\n",
       "                                               توزيع الشهر السنة التقييم  \n",
       "108  منتخبات بهنا فيلم,أفلام مصر العربية (واصف فايز)  مارس  1952     6.9  "
      ]
     },
     "execution_count": 77,
     "metadata": {},
     "output_type": "execute_result"
    }
   ],
   "source": [
    "synopsis_added_50s.sample()"
   ]
  },
  {
   "cell_type": "code",
   "execution_count": 78,
   "metadata": {},
   "outputs": [
    {
     "name": "stdout",
     "output_type": "stream",
     "text": [
      ">> ‫اسم الفيلم: 0%\n",
      ">> ‫التصنيف: 29%\n",
      ">> ‫المدة: 0%\n",
      ">> ‫ملخص: 1%\n",
      ">> ‫تأليف: 3%\n",
      ">> ‫تمثيل: 0%\n",
      ">> ‫إنتاج: 12%\n",
      ">> ‫تصوير: 9%\n",
      ">> ‫مونتاج: 13%\n",
      ">> ‫ديكور: 14%\n",
      ">> ‫ملابس: 84%\n",
      ">> ‫موسيقى: 30%\n",
      ">> ‫إخراج: 1%\n",
      ">> ‫توزيع: 54%\n",
      ">> ‫الشهر: 0%\n",
      ">> ‫السنة: 0%\n",
      ">> ‫التقييم: 6%\n"
     ]
    }
   ],
   "source": [
    "get_null_percentage(synopsis_added_50s)"
   ]
  },
  {
   "cell_type": "code",
   "execution_count": 79,
   "metadata": {},
   "outputs": [],
   "source": [
    "synopsis_added_50s['التقييم'] = synopsis_added_50s['التقييم'].astype(float)"
   ]
  },
  {
   "cell_type": "code",
   "execution_count": 80,
   "metadata": {},
   "outputs": [],
   "source": [
    "synopsis_added_50s = synopsis_added_50s.reset_index(drop = True)"
   ]
  },
  {
   "cell_type": "code",
   "execution_count": 81,
   "metadata": {
    "collapsed": true
   },
   "outputs": [
    {
     "name": "stderr",
     "output_type": "stream",
     "text": [
      "/Users/karefsn/Development/anaconda3/lib/python3.7/site-packages/ipykernel_launcher.py:20: DeprecationWarning: The truth value of an empty array is ambiguous. Returning False, but in future this will result in an error. Use `array.size > 0` to check that an array is not empty.\n",
      "/Users/karefsn/Development/anaconda3/lib/python3.7/site-packages/ipykernel_launcher.py:23: DeprecationWarning: The truth value of an empty array is ambiguous. Returning False, but in future this will result in an error. Use `array.size > 0` to check that an array is not empty.\n"
     ]
    }
   ],
   "source": [
    "cast_seperated_50s,_ = seperate_cast_by_gender(synopsis_added_50s)"
   ]
  },
  {
   "cell_type": "code",
   "execution_count": 82,
   "metadata": {},
   "outputs": [],
   "source": [
    "cast_seperated_50s.drop(inplace = True, columns = ['تمثيل'])"
   ]
  },
  {
   "cell_type": "code",
   "execution_count": 83,
   "metadata": {},
   "outputs": [
    {
     "data": {
      "text/html": [
       "<div>\n",
       "<style scoped>\n",
       "    .dataframe tbody tr th:only-of-type {\n",
       "        vertical-align: middle;\n",
       "    }\n",
       "\n",
       "    .dataframe tbody tr th {\n",
       "        vertical-align: top;\n",
       "    }\n",
       "\n",
       "    .dataframe thead th {\n",
       "        text-align: right;\n",
       "    }\n",
       "</style>\n",
       "<table border=\"1\" class=\"dataframe\">\n",
       "  <thead>\n",
       "    <tr style=\"text-align: right;\">\n",
       "      <th></th>\n",
       "      <th>اسم الفيلم</th>\n",
       "      <th>التصنيف</th>\n",
       "      <th>المدة</th>\n",
       "      <th>ملخص</th>\n",
       "      <th>تأليف</th>\n",
       "      <th>إنتاج</th>\n",
       "      <th>تصوير</th>\n",
       "      <th>مونتاج</th>\n",
       "      <th>ديكور</th>\n",
       "      <th>ملابس</th>\n",
       "      <th>موسيقى</th>\n",
       "      <th>إخراج</th>\n",
       "      <th>توزيع</th>\n",
       "      <th>الشهر</th>\n",
       "      <th>السنة</th>\n",
       "      <th>التقييم</th>\n",
       "      <th>ممثلات</th>\n",
       "      <th>ممثلون</th>\n",
       "    </tr>\n",
       "  </thead>\n",
       "  <tbody>\n",
       "    <tr>\n",
       "      <th>280</th>\n",
       "      <td>الأستاذ شرف</td>\n",
       "      <td>None</td>\n",
       "      <td>110.5</td>\n",
       "      <td>ناظر مدرسة أهلية، ينجح التلاميذ بها طبقًا للما...</td>\n",
       "      <td>أبو السعود الإبياري,كامل التلمساني</td>\n",
       "      <td>None</td>\n",
       "      <td>كليليو (ك. ستشفللي)</td>\n",
       "      <td>None</td>\n",
       "      <td>None</td>\n",
       "      <td>None</td>\n",
       "      <td>None</td>\n",
       "      <td>كامل التلمساني</td>\n",
       "      <td>None</td>\n",
       "      <td>يناير</td>\n",
       "      <td>1954</td>\n",
       "      <td>4.7</td>\n",
       "      <td>[سميرة أحمد, جواهر, وداد حمدي]</td>\n",
       "      <td>[أنور وجدي, محمود المليجي, عبدالغني قمر, عبدال...</td>\n",
       "    </tr>\n",
       "  </tbody>\n",
       "</table>\n",
       "</div>"
      ],
      "text/plain": [
       "      اسم الفيلم التصنيف  المدة  \\\n",
       "280  الأستاذ شرف    None  110.5   \n",
       "\n",
       "                                                  ملخص  \\\n",
       "280  ناظر مدرسة أهلية، ينجح التلاميذ بها طبقًا للما...   \n",
       "\n",
       "                                  تأليف إنتاج                تصوير مونتاج  \\\n",
       "280  أبو السعود الإبياري,كامل التلمساني  None  كليليو (ك. ستشفللي)   None   \n",
       "\n",
       "    ديكور ملابس موسيقى           إخراج توزيع  الشهر السنة  التقييم  \\\n",
       "280  None  None   None  كامل التلمساني  None  يناير  1954      4.7   \n",
       "\n",
       "                             ممثلات  \\\n",
       "280  [سميرة أحمد, جواهر, وداد حمدي]   \n",
       "\n",
       "                                                ممثلون  \n",
       "280  [أنور وجدي, محمود المليجي, عبدالغني قمر, عبدال...  "
      ]
     },
     "execution_count": 83,
     "metadata": {},
     "output_type": "execute_result"
    }
   ],
   "source": [
    "cast_seperated_50s.sample()"
   ]
  },
  {
   "cell_type": "code",
   "execution_count": 84,
   "metadata": {},
   "outputs": [],
   "source": [
    "cast_seperated_50s.drop(columns = ['توزيع', 'ملابس', 'ديكور', 'مونتاج', \\\n",
    "                         'تصوير', 'موسيقى', 'إنتاج'], inplace = True)"
   ]
  },
  {
   "cell_type": "code",
   "execution_count": 85,
   "metadata": {},
   "outputs": [],
   "source": [
    "movies_50s_df = cast_seperated_50s[['اسم الفيلم', 'الشهر', 'السنة', 'التصنيف',\\\n",
    "                                    'التقييم', 'المدة', 'ملخص', 'ممثلات', 'ممثلون',\n",
    "                                    'تأليف', 'إخراج']]"
   ]
  },
  {
   "cell_type": "code",
   "execution_count": 86,
   "metadata": {},
   "outputs": [
    {
     "data": {
      "text/html": [
       "<div>\n",
       "<style scoped>\n",
       "    .dataframe tbody tr th:only-of-type {\n",
       "        vertical-align: middle;\n",
       "    }\n",
       "\n",
       "    .dataframe tbody tr th {\n",
       "        vertical-align: top;\n",
       "    }\n",
       "\n",
       "    .dataframe thead th {\n",
       "        text-align: right;\n",
       "    }\n",
       "</style>\n",
       "<table border=\"1\" class=\"dataframe\">\n",
       "  <thead>\n",
       "    <tr style=\"text-align: right;\">\n",
       "      <th></th>\n",
       "      <th>اسم الفيلم</th>\n",
       "      <th>الشهر</th>\n",
       "      <th>السنة</th>\n",
       "      <th>التصنيف</th>\n",
       "      <th>التقييم</th>\n",
       "      <th>المدة</th>\n",
       "      <th>ملخص</th>\n",
       "      <th>ممثلات</th>\n",
       "      <th>ممثلون</th>\n",
       "      <th>تأليف</th>\n",
       "      <th>إخراج</th>\n",
       "    </tr>\n",
       "  </thead>\n",
       "  <tbody>\n",
       "    <tr>\n",
       "      <th>468</th>\n",
       "      <td>الحب  الصامت</td>\n",
       "      <td>يناير</td>\n",
       "      <td>1958</td>\n",
       "      <td>None</td>\n",
       "      <td>4.7</td>\n",
       "      <td>109.4</td>\n",
       "      <td>(صفوت) مهندس يمتلك شركة مقاولات ومتزوج من (سمي...</td>\n",
       "      <td>[مريم فخر الدين, هند رستم, منيرة سنبل, فردوس م...</td>\n",
       "      <td>[يحيى شاهين, فاروق عجرمة, زكي إبراهيم, أحمد لو...</td>\n",
       "      <td>حسين حلمي المهندس</td>\n",
       "      <td>سيف الدين شوكت</td>\n",
       "    </tr>\n",
       "  </tbody>\n",
       "</table>\n",
       "</div>"
      ],
      "text/plain": [
       "       اسم الفيلم  الشهر السنة التصنيف  التقييم  المدة  \\\n",
       "468  الحب  الصامت  يناير  1958    None      4.7  109.4   \n",
       "\n",
       "                                                  ملخص  \\\n",
       "468  (صفوت) مهندس يمتلك شركة مقاولات ومتزوج من (سمي...   \n",
       "\n",
       "                                                ممثلات  \\\n",
       "468  [مريم فخر الدين, هند رستم, منيرة سنبل, فردوس م...   \n",
       "\n",
       "                                                ممثلون              تأليف  \\\n",
       "468  [يحيى شاهين, فاروق عجرمة, زكي إبراهيم, أحمد لو...  حسين حلمي المهندس   \n",
       "\n",
       "              إخراج  \n",
       "468  سيف الدين شوكت  "
      ]
     },
     "execution_count": 86,
     "metadata": {},
     "output_type": "execute_result"
    }
   ],
   "source": [
    "movies_50s_df.sample()"
   ]
  },
  {
   "cell_type": "markdown",
   "metadata": {},
   "source": [
    "### *_1960s Movies_*"
   ]
  },
  {
   "cell_type": "markdown",
   "metadata": {},
   "source": [
    "_**EDA**_"
   ]
  },
  {
   "cell_type": "code",
   "execution_count": 87,
   "metadata": {},
   "outputs": [
    {
     "data": {
      "text/html": [
       "<div>\n",
       "<style scoped>\n",
       "    .dataframe tbody tr th:only-of-type {\n",
       "        vertical-align: middle;\n",
       "    }\n",
       "\n",
       "    .dataframe tbody tr th {\n",
       "        vertical-align: top;\n",
       "    }\n",
       "\n",
       "    .dataframe thead th {\n",
       "        text-align: right;\n",
       "    }\n",
       "</style>\n",
       "<table border=\"1\" class=\"dataframe\">\n",
       "  <thead>\n",
       "    <tr style=\"text-align: right;\">\n",
       "      <th></th>\n",
       "      <th>اسم الفيلم</th>\n",
       "      <th>تاريخ العرض</th>\n",
       "      <th>التصنيف</th>\n",
       "      <th>المدة</th>\n",
       "      <th>ملخص</th>\n",
       "      <th>تأليف</th>\n",
       "      <th>تمثيل</th>\n",
       "      <th>إنتاج</th>\n",
       "      <th>تصوير</th>\n",
       "      <th>مونتاج</th>\n",
       "      <th>ديكور</th>\n",
       "      <th>ملابس</th>\n",
       "      <th>موسيقى</th>\n",
       "      <th>إخراج</th>\n",
       "      <th>توزيع</th>\n",
       "    </tr>\n",
       "  </thead>\n",
       "  <tbody>\n",
       "    <tr>\n",
       "      <th>150</th>\n",
       "      <td>الرجل الثعلب</td>\n",
       "      <td>14 مايو 1962</td>\n",
       "      <td>NaN</td>\n",
       "      <td>95.0</td>\n",
       "      <td>فريد ينتمى لعائلة كبيرة لكنه فشل فى دراسته وان...</td>\n",
       "      <td>إسماعيل القاضي,أنور قزمان</td>\n",
       "      <td>فريد شوقي,ريري,أمينة رزق,كريمان,فايزة فؤاد,محم...</td>\n",
       "      <td>دينار فيلم</td>\n",
       "      <td>على حسن</td>\n",
       "      <td>حسين عفيفي</td>\n",
       "      <td>الاستديوهات العربية الهرم,أنطوان بوليزويس,نجيب...</td>\n",
       "      <td>NaN</td>\n",
       "      <td>NaN</td>\n",
       "      <td>نجدي حافظ</td>\n",
       "      <td>NaN</td>\n",
       "    </tr>\n",
       "    <tr>\n",
       "      <th>266</th>\n",
       "      <td>العائلة الكريمة</td>\n",
       "      <td>21 فبراير 1964</td>\n",
       "      <td>NaN</td>\n",
       "      <td>85.0</td>\n",
       "      <td>(ست أبوها) فتاة تسكن مع أمها فى أحد الأحياء ال...</td>\n",
       "      <td>بديع خيري,نجيب الريحاني,عبدالحي أديب,بهجت قمر</td>\n",
       "      <td>هدى سلطان,فريد شوقي,ماري منيب,عادل أدهم,أحمد خ...</td>\n",
       "      <td>الشركة العامة للإنتاج السينمائي العربي,سعد شنب...</td>\n",
       "      <td>كمال كريم,صلاح كريم</td>\n",
       "      <td>حسين أحمد,محمد الزرقا,كمال فهمي</td>\n",
       "      <td>ماهر عبدالنور,ستوديو نحاس (النيل),حسين الشريف ...</td>\n",
       "      <td>NaN</td>\n",
       "      <td>ميشيل يوسف,محمد فوزي,فتحي قورة,هدى سلطان</td>\n",
       "      <td>فطين عبدالوهاب,صالح فوزي</td>\n",
       "      <td>دولار فيلم (إسماعيل الكردي وأولاده)</td>\n",
       "    </tr>\n",
       "    <tr>\n",
       "      <th>91</th>\n",
       "      <td>رجل في حياتي</td>\n",
       "      <td>21 يونيو 1961</td>\n",
       "      <td>NaN</td>\n",
       "      <td>105.0</td>\n",
       "      <td>يدخل الطالب (حمدي) في صراع مع أحد الصيادين بسب...</td>\n",
       "      <td>وجيه نجيب,عبدالرحمن الشرقاوي</td>\n",
       "      <td>سامي خالد,توفيق الدقن,إبراهيم نجم,سمير خليل,مح...</td>\n",
       "      <td>وجيه نجيب,افلام سميرة احمد</td>\n",
       "      <td>ألفيزى اورفانيللى,روبير سعد</td>\n",
       "      <td>اميل بحرى</td>\n",
       "      <td>ماهر عبدالنور</td>\n",
       "      <td>NaN</td>\n",
       "      <td>NaN</td>\n",
       "      <td>يوسف شاهين</td>\n",
       "      <td>الشرق للافلام</td>\n",
       "    </tr>\n",
       "    <tr>\n",
       "      <th>424</th>\n",
       "      <td>هو.. والنساء</td>\n",
       "      <td>31 اغسطس 1966</td>\n",
       "      <td>اﺳﺘﻌﺮاﺿﻲ</td>\n",
       "      <td>90.0</td>\n",
       "      <td>علوى مخرج مسرحى، يعيش حياة عائلية غير مستقرة، ...</td>\n",
       "      <td>حسن الإمام,محمد مصطفى سامي</td>\n",
       "      <td>هند رستم,رشدي أباظة,نجوى فؤاد,ناهد شريف,عبدالم...</td>\n",
       "      <td>رزق عبدالحميد,نجوى فؤاد,كمال الحفناوي</td>\n",
       "      <td>البير رياض,غنيم بهنسي,مصطفى حسن</td>\n",
       "      <td>رشيدة عبدالسلام,محمد الزرقا,محيي الدين أحمد,نا...</td>\n",
       "      <td>حلمي عزب,حسين الشريف (حسين شريف),عجمي عبدالرحم...</td>\n",
       "      <td>NaN</td>\n",
       "      <td>زكريا الحجاوي,خضره محمد خضر,علي إسماعيل</td>\n",
       "      <td>حسن الإمام,صبحى عبدالعزيز</td>\n",
       "      <td>دولار فيلم (إسماعيل الكردي وأولاده)</td>\n",
       "    </tr>\n",
       "    <tr>\n",
       "      <th>509</th>\n",
       "      <td>مختار</td>\n",
       "      <td>1968</td>\n",
       "      <td>NaN</td>\n",
       "      <td>109.0</td>\n",
       "      <td>مختار كاتب شاب مشهور، يكتب روايته حول فتاة صغي...</td>\n",
       "      <td>فريد بوغدير,الصادق بن عيشه</td>\n",
       "      <td>أنيسة لطفي,طارق بن ميلاد,نجاه مبعوج</td>\n",
       "      <td>مؤسسة الدولة للأفلام الثقافية</td>\n",
       "      <td>لطفى لابو تى,عبداللطيف بن عمار</td>\n",
       "      <td>الصادق بن عيشه,لطيفة بوجمعة</td>\n",
       "      <td>NaN</td>\n",
       "      <td>NaN</td>\n",
       "      <td>NaN</td>\n",
       "      <td>الصادق بن عيشه</td>\n",
       "      <td>NaN</td>\n",
       "    </tr>\n",
       "  </tbody>\n",
       "</table>\n",
       "</div>"
      ],
      "text/plain": [
       "          اسم الفيلم     تاريخ العرض   التصنيف  المدة  \\\n",
       "150     الرجل الثعلب    14 مايو 1962       NaN   95.0   \n",
       "266  العائلة الكريمة  21 فبراير 1964       NaN   85.0   \n",
       "91      رجل في حياتي   21 يونيو 1961       NaN  105.0   \n",
       "424     هو.. والنساء   31 اغسطس 1966  اﺳﺘﻌﺮاﺿﻲ   90.0   \n",
       "509            مختار            1968       NaN  109.0   \n",
       "\n",
       "                                                  ملخص  \\\n",
       "150  فريد ينتمى لعائلة كبيرة لكنه فشل فى دراسته وان...   \n",
       "266  (ست أبوها) فتاة تسكن مع أمها فى أحد الأحياء ال...   \n",
       "91   يدخل الطالب (حمدي) في صراع مع أحد الصيادين بسب...   \n",
       "424  علوى مخرج مسرحى، يعيش حياة عائلية غير مستقرة، ...   \n",
       "509  مختار كاتب شاب مشهور، يكتب روايته حول فتاة صغي...   \n",
       "\n",
       "                                             تأليف  \\\n",
       "150                      إسماعيل القاضي,أنور قزمان   \n",
       "266  بديع خيري,نجيب الريحاني,عبدالحي أديب,بهجت قمر   \n",
       "91                    وجيه نجيب,عبدالرحمن الشرقاوي   \n",
       "424                     حسن الإمام,محمد مصطفى سامي   \n",
       "509                     فريد بوغدير,الصادق بن عيشه   \n",
       "\n",
       "                                                 تمثيل  \\\n",
       "150  فريد شوقي,ريري,أمينة رزق,كريمان,فايزة فؤاد,محم...   \n",
       "266  هدى سلطان,فريد شوقي,ماري منيب,عادل أدهم,أحمد خ...   \n",
       "91   سامي خالد,توفيق الدقن,إبراهيم نجم,سمير خليل,مح...   \n",
       "424  هند رستم,رشدي أباظة,نجوى فؤاد,ناهد شريف,عبدالم...   \n",
       "509                أنيسة لطفي,طارق بن ميلاد,نجاه مبعوج   \n",
       "\n",
       "                                                 إنتاج  \\\n",
       "150                                         دينار فيلم   \n",
       "266  الشركة العامة للإنتاج السينمائي العربي,سعد شنب...   \n",
       "91                          وجيه نجيب,افلام سميرة احمد   \n",
       "424              رزق عبدالحميد,نجوى فؤاد,كمال الحفناوي   \n",
       "509                      مؤسسة الدولة للأفلام الثقافية   \n",
       "\n",
       "                               تصوير  \\\n",
       "150                          على حسن   \n",
       "266              كمال كريم,صلاح كريم   \n",
       "91       ألفيزى اورفانيللى,روبير سعد   \n",
       "424  البير رياض,غنيم بهنسي,مصطفى حسن   \n",
       "509   لطفى لابو تى,عبداللطيف بن عمار   \n",
       "\n",
       "                                                مونتاج  \\\n",
       "150                                         حسين عفيفي   \n",
       "266                    حسين أحمد,محمد الزرقا,كمال فهمي   \n",
       "91                                           اميل بحرى   \n",
       "424  رشيدة عبدالسلام,محمد الزرقا,محيي الدين أحمد,نا...   \n",
       "509                        الصادق بن عيشه,لطيفة بوجمعة   \n",
       "\n",
       "                                                 ديكور ملابس  \\\n",
       "150  الاستديوهات العربية الهرم,أنطوان بوليزويس,نجيب...   NaN   \n",
       "266  ماهر عبدالنور,ستوديو نحاس (النيل),حسين الشريف ...   NaN   \n",
       "91                                       ماهر عبدالنور   NaN   \n",
       "424  حلمي عزب,حسين الشريف (حسين شريف),عجمي عبدالرحم...   NaN   \n",
       "509                                                NaN   NaN   \n",
       "\n",
       "                                       موسيقى                      إخراج  \\\n",
       "150                                       NaN                  نجدي حافظ   \n",
       "266  ميشيل يوسف,محمد فوزي,فتحي قورة,هدى سلطان   فطين عبدالوهاب,صالح فوزي   \n",
       "91                                        NaN                 يوسف شاهين   \n",
       "424   زكريا الحجاوي,خضره محمد خضر,علي إسماعيل  حسن الإمام,صبحى عبدالعزيز   \n",
       "509                                       NaN             الصادق بن عيشه   \n",
       "\n",
       "                                   توزيع  \n",
       "150                                  NaN  \n",
       "266  دولار فيلم (إسماعيل الكردي وأولاده)  \n",
       "91                         الشرق للافلام  \n",
       "424  دولار فيلم (إسماعيل الكردي وأولاده)  \n",
       "509                                  NaN  "
      ]
     },
     "execution_count": 87,
     "metadata": {},
     "output_type": "execute_result"
    }
   ],
   "source": [
    "sixties_df.sample(5)"
   ]
  },
  {
   "cell_type": "code",
   "execution_count": 88,
   "metadata": {
    "collapsed": true
   },
   "outputs": [
    {
     "name": "stdout",
     "output_type": "stream",
     "text": [
      "Column Name:  ‫اسم الفيلم‬\n",
      "count         651\n",
      "unique        646\n",
      "top       المتمرد\n",
      "freq            4\n",
      "Name: اسم الفيلم, dtype: object\n",
      "\n",
      "--------------------\n",
      "Column Name:  ‫تاريخ العرض‬\n",
      "count      651\n",
      "unique     324\n",
      "top       1968\n",
      "freq        42\n",
      "Name: تاريخ العرض, dtype: object\n",
      "\n",
      "--------------------\n",
      "Column Name:  ‫التصنيف‬\n",
      "count       359\n",
      "unique       15\n",
      "top       ﺩﺭاﻣﺎ\n",
      "freq        115\n",
      "Name: التصنيف, dtype: object\n",
      "\n",
      "--------------------\n",
      "Column Name:  ‫المدة‬\n",
      "count    651.000000\n",
      "mean     102.518280\n",
      "std       13.958636\n",
      "min       30.000000\n",
      "25%       95.000000\n",
      "50%      101.000000\n",
      "75%      105.400000\n",
      "max      195.000000\n",
      "Name: المدة, dtype: float64\n",
      "\n",
      "--------------------\n",
      "Column Name:  ‫ملخص‬\n",
      "count                                                   560\n",
      "unique                                                  557\n",
      "top       عام 1867 فى تونس، فى حى المزاريق، ينهب رجال ال...\n",
      "freq                                                      4\n",
      "Name: ملخص, dtype: object\n",
      "\n",
      "--------------------\n",
      "Column Name:  ‫تأليف‬\n",
      "count            575\n",
      "unique           481\n",
      "top       محمد سلمان\n",
      "freq              10\n",
      "Name: تأليف, dtype: object\n",
      "\n",
      "--------------------\n",
      "Column Name:  ‫تمثيل‬\n",
      "count            632\n",
      "unique           616\n",
      "top       أحمد مشتهى\n",
      "freq              10\n",
      "Name: تمثيل, dtype: object\n",
      "\n",
      "--------------------\n",
      "Column Name:  ‫إنتاج‬\n",
      "count               490\n",
      "unique              448\n",
      "top       كامل الحفناوي\n",
      "freq                  5\n",
      "Name: إنتاج, dtype: object\n",
      "\n",
      "--------------------\n",
      "Column Name:  ‫تصوير‬\n",
      "count                     530\n",
      "unique                    356\n",
      "top       كمال كريم,صلاح كريم\n",
      "freq                       12\n",
      "Name: تصوير, dtype: object\n",
      "\n",
      "--------------------\n",
      "Column Name:  ‫مونتاج‬\n",
      "count                468\n",
      "unique               330\n",
      "top       عبدالعزيز فخري\n",
      "freq                  13\n",
      "Name: مونتاج, dtype: object\n",
      "\n",
      "--------------------\n",
      "Column Name:  ‫ديكور‬\n",
      "count                    398\n",
      "unique                   291\n",
      "top       حلمي عزب,نجيب خوري\n",
      "freq                      18\n",
      "Name: ديكور, dtype: object\n",
      "\n",
      "--------------------\n",
      "Column Name:  ‫ملابس‬\n",
      "count              82\n",
      "unique             45\n",
      "top       فوزية حجازي\n",
      "freq                9\n",
      "Name: ملابس, dtype: object\n",
      "\n",
      "--------------------\n",
      "Column Name:  ‫موسيقى‬\n",
      "count              335\n",
      "unique             218\n",
      "top       فؤاد الظاهري\n",
      "freq                32\n",
      "Name: موسيقى, dtype: object\n",
      "\n",
      "--------------------\n",
      "Column Name:  ‫إخراج‬\n",
      "count                      604\n",
      "unique                     452\n",
      "top       حسن الصيفي,جمال عمار\n",
      "freq                         9\n",
      "Name: إخراج, dtype: object\n",
      "\n",
      "--------------------\n",
      "Column Name:  ‫توزيع‬\n",
      "count                                     278\n",
      "unique                                    102\n",
      "top       دولار فيلم (إسماعيل الكردي وأولاده)\n",
      "freq                                       28\n",
      "Name: توزيع, dtype: object\n",
      "\n",
      "--------------------\n"
     ]
    }
   ],
   "source": [
    "describe_dataframe(sixties_df)"
   ]
  },
  {
   "cell_type": "code",
   "execution_count": 89,
   "metadata": {},
   "outputs": [
    {
     "data": {
      "text/plain": [
       "ﺩﺭاﻣﺎ           115\n",
       "ﺭﻭﻣﺎﻧﺴﻲ          87\n",
       "ﻛﻮﻣﻴﺪﻱ           76\n",
       "ﺟﺮﻳﻤﺔ            21\n",
       "اﺳﺘﻌﺮاﺿﻲ         18\n",
       "ﺣﺮﻛﺔ             11\n",
       "تاريخي            9\n",
       "ﺗﺸﻮﻳﻖ ﻭﺇﺛﺎﺭﺓ      6\n",
       "ﺳﻴﺮﺓ ﺫاﺗﻴﺔ        5\n",
       "ﻏﻤﻮﺽ              3\n",
       "ﻣﻐﺎﻣﺮاﺕ           3\n",
       "ﺧﻴﺎﻝ ﻋﻠﻤﻲ         2\n",
       "ﻗﺼﻴﺮ              1\n",
       "ﻋﺎﺋﻠﻲ             1\n",
       "ﻭﺛﺎﺋﻘﻲ            1\n",
       "Name: التصنيف, dtype: int64"
      ]
     },
     "execution_count": 89,
     "metadata": {},
     "output_type": "execute_result"
    }
   ],
   "source": [
    "sixties_df['التصنيف'].value_counts()"
   ]
  },
  {
   "cell_type": "code",
   "execution_count": 90,
   "metadata": {},
   "outputs": [
    {
     "data": {
      "text/plain": [
       "اسم الفيلم      object\n",
       "تاريخ العرض     object\n",
       "التصنيف         object\n",
       "المدة          float64\n",
       "ملخص            object\n",
       "تأليف           object\n",
       "تمثيل           object\n",
       "إنتاج           object\n",
       "تصوير           object\n",
       "مونتاج          object\n",
       "ديكور           object\n",
       "ملابس           object\n",
       "موسيقى          object\n",
       "إخراج           object\n",
       "توزيع           object\n",
       "dtype: object"
      ]
     },
     "execution_count": 90,
     "metadata": {},
     "output_type": "execute_result"
    }
   ],
   "source": [
    "sixties_df.dtypes"
   ]
  },
  {
   "cell_type": "code",
   "execution_count": 131,
   "metadata": {},
   "outputs": [
    {
     "data": {
      "text/html": [
       "<div>\n",
       "<style scoped>\n",
       "    .dataframe tbody tr th:only-of-type {\n",
       "        vertical-align: middle;\n",
       "    }\n",
       "\n",
       "    .dataframe tbody tr th {\n",
       "        vertical-align: top;\n",
       "    }\n",
       "\n",
       "    .dataframe thead th {\n",
       "        text-align: right;\n",
       "    }\n",
       "</style>\n",
       "<table border=\"1\" class=\"dataframe\">\n",
       "  <thead>\n",
       "    <tr style=\"text-align: right;\">\n",
       "      <th></th>\n",
       "      <th>اسم الفيلم</th>\n",
       "      <th>تاريخ العرض</th>\n",
       "      <th>التصنيف</th>\n",
       "      <th>المدة</th>\n",
       "      <th>ملخص</th>\n",
       "      <th>تأليف</th>\n",
       "      <th>تمثيل</th>\n",
       "      <th>إنتاج</th>\n",
       "      <th>تصوير</th>\n",
       "      <th>مونتاج</th>\n",
       "      <th>ديكور</th>\n",
       "      <th>ملابس</th>\n",
       "      <th>موسيقى</th>\n",
       "      <th>إخراج</th>\n",
       "      <th>توزيع</th>\n",
       "    </tr>\n",
       "  </thead>\n",
       "  <tbody>\n",
       "    <tr>\n",
       "      <th>518</th>\n",
       "      <td>المتمرد</td>\n",
       "      <td>1968</td>\n",
       "      <td>NaN</td>\n",
       "      <td>100.0</td>\n",
       "      <td>عام 1867 فى تونس، فى حى المزاريق، ينهب رجال ال...</td>\n",
       "      <td>محمد المرزوقى,عمار الخليفي</td>\n",
       "      <td>سميرة أحمد,طاهر وهب,حطاب الذيب,حسيبة رشدي,الطا...</td>\n",
       "      <td>تونس,عمار الخليفي</td>\n",
       "      <td>عز الدين بن عمار</td>\n",
       "      <td>فوزية طابع,عمار الخليفي</td>\n",
       "      <td>محمد السهيلى</td>\n",
       "      <td>NaN</td>\n",
       "      <td>NaN</td>\n",
       "      <td>مصطفى بن إبراهيم,عمار الخليفي</td>\n",
       "      <td>NaN</td>\n",
       "    </tr>\n",
       "    <tr>\n",
       "      <th>525</th>\n",
       "      <td>المتمرد</td>\n",
       "      <td>1968</td>\n",
       "      <td>NaN</td>\n",
       "      <td>100.0</td>\n",
       "      <td>عام 1867 فى تونس، فى حى المزاريق، ينهب رجال ال...</td>\n",
       "      <td>محمد المرزوقى,عمار الخليفي</td>\n",
       "      <td>سميرة أحمد,طاهر وهب,حطاب الذيب,حسيبة رشدي,الطا...</td>\n",
       "      <td>تونس,عمار الخليفي</td>\n",
       "      <td>عز الدين بن عمار</td>\n",
       "      <td>فوزية طابع,عمار الخليفي</td>\n",
       "      <td>محمد السهيلى</td>\n",
       "      <td>NaN</td>\n",
       "      <td>NaN</td>\n",
       "      <td>مصطفى بن إبراهيم,عمار الخليفي</td>\n",
       "      <td>NaN</td>\n",
       "    </tr>\n",
       "    <tr>\n",
       "      <th>532</th>\n",
       "      <td>المتمرد</td>\n",
       "      <td>1968</td>\n",
       "      <td>NaN</td>\n",
       "      <td>100.0</td>\n",
       "      <td>عام 1867 فى تونس، فى حى المزاريق، ينهب رجال ال...</td>\n",
       "      <td>محمد المرزوقى,عمار الخليفي</td>\n",
       "      <td>سميرة أحمد,طاهر وهب,حطاب الذيب,حسيبة رشدي,الطا...</td>\n",
       "      <td>تونس,عمار الخليفي</td>\n",
       "      <td>عز الدين بن عمار</td>\n",
       "      <td>فوزية طابع,عمار الخليفي</td>\n",
       "      <td>محمد السهيلى</td>\n",
       "      <td>NaN</td>\n",
       "      <td>NaN</td>\n",
       "      <td>مصطفى بن إبراهيم,عمار الخليفي</td>\n",
       "      <td>NaN</td>\n",
       "    </tr>\n",
       "  </tbody>\n",
       "</table>\n",
       "</div>"
      ],
      "text/plain": [
       "    اسم الفيلم تاريخ العرض التصنيف  المدة  \\\n",
       "518    المتمرد        1968     NaN  100.0   \n",
       "525    المتمرد        1968     NaN  100.0   \n",
       "532    المتمرد        1968     NaN  100.0   \n",
       "\n",
       "                                                  ملخص  \\\n",
       "518  عام 1867 فى تونس، فى حى المزاريق، ينهب رجال ال...   \n",
       "525  عام 1867 فى تونس، فى حى المزاريق، ينهب رجال ال...   \n",
       "532  عام 1867 فى تونس، فى حى المزاريق، ينهب رجال ال...   \n",
       "\n",
       "                          تأليف  \\\n",
       "518  محمد المرزوقى,عمار الخليفي   \n",
       "525  محمد المرزوقى,عمار الخليفي   \n",
       "532  محمد المرزوقى,عمار الخليفي   \n",
       "\n",
       "                                                 تمثيل              إنتاج  \\\n",
       "518  سميرة أحمد,طاهر وهب,حطاب الذيب,حسيبة رشدي,الطا...  تونس,عمار الخليفي   \n",
       "525  سميرة أحمد,طاهر وهب,حطاب الذيب,حسيبة رشدي,الطا...  تونس,عمار الخليفي   \n",
       "532  سميرة أحمد,طاهر وهب,حطاب الذيب,حسيبة رشدي,الطا...  تونس,عمار الخليفي   \n",
       "\n",
       "                تصوير                   مونتاج         ديكور ملابس موسيقى  \\\n",
       "518  عز الدين بن عمار  فوزية طابع,عمار الخليفي  محمد السهيلى   NaN    NaN   \n",
       "525  عز الدين بن عمار  فوزية طابع,عمار الخليفي  محمد السهيلى   NaN    NaN   \n",
       "532  عز الدين بن عمار  فوزية طابع,عمار الخليفي  محمد السهيلى   NaN    NaN   \n",
       "\n",
       "                             إخراج توزيع  \n",
       "518  مصطفى بن إبراهيم,عمار الخليفي   NaN  \n",
       "525  مصطفى بن إبراهيم,عمار الخليفي   NaN  \n",
       "532  مصطفى بن إبراهيم,عمار الخليفي   NaN  "
      ]
     },
     "execution_count": 131,
     "metadata": {},
     "output_type": "execute_result"
    }
   ],
   "source": [
    "sixties_df[sixties_df.duplicated(subset = ['اسم الفيلم', 'تمثيل'])]"
   ]
  },
  {
   "cell_type": "markdown",
   "metadata": {},
   "source": [
    "_**Cleansing**_"
   ]
  },
  {
   "cell_type": "code",
   "execution_count": 132,
   "metadata": {},
   "outputs": [],
   "source": [
    "sixties_df = change_empty_entries_to_None(sixties_df)"
   ]
  },
  {
   "cell_type": "code",
   "execution_count": 133,
   "metadata": {},
   "outputs": [],
   "source": [
    "sixties_df.drop_duplicates(subset = ['اسم الفيلم', 'تمثيل']\n",
    "                          , inplace= True, keep = 'last')"
   ]
  },
  {
   "cell_type": "code",
   "execution_count": 134,
   "metadata": {
    "scrolled": true
   },
   "outputs": [],
   "source": [
    "sixties_df.drop(inplace = True, index = \\\n",
    "               sixties_df.loc[sixties_df['التصنيف'] == 'ﻭﺛﺎﺋﻘﻲ'].index)"
   ]
  },
  {
   "cell_type": "code",
   "execution_count": 135,
   "metadata": {},
   "outputs": [],
   "source": [
    "sixties_df = sixties_df.reset_index(drop = True)"
   ]
  },
  {
   "cell_type": "code",
   "execution_count": 136,
   "metadata": {},
   "outputs": [],
   "source": [
    "date_expanded_60s = sixties_df.copy(deep = True)"
   ]
  },
  {
   "cell_type": "code",
   "execution_count": 137,
   "metadata": {},
   "outputs": [],
   "source": [
    "date_expanded_60s = expand_release_date(sixties_df)\n",
    "date_expanded_60s = unify_date_format(date_expanded_60s)"
   ]
  },
  {
   "cell_type": "code",
   "execution_count": 138,
   "metadata": {},
   "outputs": [],
   "source": [
    "date_expanded_60s.drop(columns=['تاريخ العرض', 'اليوم'], inplace= True)"
   ]
  },
  {
   "cell_type": "code",
   "execution_count": 139,
   "metadata": {},
   "outputs": [],
   "source": [
    "# sixties_df.to_csv('1960s_data/1960s_no_duplicates.csv')"
   ]
  },
  {
   "cell_type": "code",
   "execution_count": 140,
   "metadata": {},
   "outputs": [],
   "source": [
    "date_expanded_60s['التقييم'] = None"
   ]
  },
  {
   "cell_type": "code",
   "execution_count": 141,
   "metadata": {},
   "outputs": [],
   "source": [
    "# date_expanded_1960s_df.to_csv('1960s_data/date_expanded_1960s.csv')"
   ]
  },
  {
   "cell_type": "code",
   "execution_count": 142,
   "metadata": {},
   "outputs": [],
   "source": [
    "date_expanded_60s['التقييم'] = date_expanded_60s['التقييم'].astype(float)"
   ]
  },
  {
   "cell_type": "markdown",
   "metadata": {},
   "source": [
    "_**Filling Missing Values**_"
   ]
  },
  {
   "cell_type": "markdown",
   "metadata": {},
   "source": [
    "* **Add Webscraped Ratings**"
   ]
  },
  {
   "cell_type": "code",
   "execution_count": 143,
   "metadata": {},
   "outputs": [],
   "source": [
    "foreigns_filtered_60s = date_expanded_60s.copy(deep = True)"
   ]
  },
  {
   "cell_type": "code",
   "execution_count": 144,
   "metadata": {},
   "outputs": [],
   "source": [
    "foreigns_filtered_60s = filter_foregin_movies(date_expanded_60s \\\n",
    "                                                , '1960s_data/1960s_countries.txt')"
   ]
  },
  {
   "cell_type": "code",
   "execution_count": 145,
   "metadata": {},
   "outputs": [],
   "source": [
    "ratings_added_60s = foreigns_filtered_60s.copy(deep = True)"
   ]
  },
  {
   "cell_type": "code",
   "execution_count": 146,
   "metadata": {},
   "outputs": [],
   "source": [
    "ratings_added_60s = add_scraped_features(foreigns_filtered_60s \\\n",
    "                                    , '1960s_data/1960s_ratings.txt' \\\n",
    "                                    , 'التقييم')"
   ]
  },
  {
   "cell_type": "code",
   "execution_count": 147,
   "metadata": {},
   "outputs": [],
   "source": [
    "genre_added_60s = ratings_added_60s.copy(deep = True)"
   ]
  },
  {
   "cell_type": "code",
   "execution_count": 148,
   "metadata": {
    "scrolled": true
   },
   "outputs": [],
   "source": [
    "# ratings_added_60s_df.to_csv('1960s_data/ratings_added_df_60s.csv')"
   ]
  },
  {
   "cell_type": "code",
   "execution_count": 149,
   "metadata": {},
   "outputs": [],
   "source": [
    "genre_added_60s = add_scraped_features(ratings_added_60s \\\n",
    "                                          , '1960s_data/1960s_genres.txt' \\\n",
    "                                         , 'التصنيف')"
   ]
  },
  {
   "cell_type": "code",
   "execution_count": 150,
   "metadata": {},
   "outputs": [],
   "source": [
    "# genre_added_60s_df.to_csv('1960s_data/genre_added_60s_df.csv')"
   ]
  },
  {
   "cell_type": "code",
   "execution_count": 151,
   "metadata": {},
   "outputs": [
    {
     "data": {
      "text/plain": [
       "ﺩﺭاﻣﺎ                171\n",
       "ﻛﻮﻣﻴﺪﻱ                59\n",
       "ﺭﻭﻣﺎﻧﺴﻲ               46\n",
       "ﺗﺸﻮﻳﻖ ﻭﺇﺛﺎﺭﺓ          18\n",
       "موسيقي / استعراضي     13\n",
       "ﺟﺮﻳﻤﺔ                 12\n",
       "ﺣﺮﻛﺔ                   7\n",
       "ﺳﻴﺮﺓ ﺫاﺗﻴﺔ             4\n",
       "ﺧﻴﺎﻝ                   4\n",
       "ﻋﺎﺋﻠﻲ                  4\n",
       "ﻣﻐﺎﻣﺮاﺕ                4\n",
       "تاريخي                 2\n",
       "ﺧﻴﺎﻝ ﻋﻠﻤﻲ              2\n",
       "ﻏﻤﻮﺽ                   1\n",
       "ﻗﺼﻴﺮ                   1\n",
       "Name: التصنيف, dtype: int64"
      ]
     },
     "execution_count": 151,
     "metadata": {},
     "output_type": "execute_result"
    }
   ],
   "source": [
    "genre_added_60s['التصنيف'].value_counts()"
   ]
  },
  {
   "cell_type": "code",
   "execution_count": 169,
   "metadata": {},
   "outputs": [],
   "source": [
    "genre_added_60s.loc[genre_added_60s['التصنيف'] == 'ﺧﻴﺎﻝ ﻋﻠﻤﻲ', 'التصنيف'] = 'ﺧﻴﺎﻝ'"
   ]
  },
  {
   "cell_type": "code",
   "execution_count": 153,
   "metadata": {},
   "outputs": [
    {
     "data": {
      "text/plain": [
       "ﺩﺭاﻣﺎ                171\n",
       "ﻛﻮﻣﻴﺪﻱ                59\n",
       "ﺭﻭﻣﺎﻧﺴﻲ               46\n",
       "ﺗﺸﻮﻳﻖ ﻭﺇﺛﺎﺭﺓ          18\n",
       "موسيقي / استعراضي     13\n",
       "ﺟﺮﻳﻤﺔ                 12\n",
       "ﺣﺮﻛﺔ                   7\n",
       "ﺧﻴﺎﻝ                   6\n",
       "ﺳﻴﺮﺓ ﺫاﺗﻴﺔ             4\n",
       "ﻋﺎﺋﻠﻲ                  4\n",
       "ﻣﻐﺎﻣﺮاﺕ                4\n",
       "تاريخي                 2\n",
       "ﻏﻤﻮﺽ                   1\n",
       "ﻗﺼﻴﺮ                   1\n",
       "Name: التصنيف, dtype: int64"
      ]
     },
     "execution_count": 153,
     "metadata": {},
     "output_type": "execute_result"
    }
   ],
   "source": [
    "genre_added_60s['التصنيف'].value_counts()"
   ]
  },
  {
   "cell_type": "code",
   "execution_count": 154,
   "metadata": {},
   "outputs": [
    {
     "data": {
      "text/html": [
       "<div>\n",
       "<style scoped>\n",
       "    .dataframe tbody tr th:only-of-type {\n",
       "        vertical-align: middle;\n",
       "    }\n",
       "\n",
       "    .dataframe tbody tr th {\n",
       "        vertical-align: top;\n",
       "    }\n",
       "\n",
       "    .dataframe thead th {\n",
       "        text-align: right;\n",
       "    }\n",
       "</style>\n",
       "<table border=\"1\" class=\"dataframe\">\n",
       "  <thead>\n",
       "    <tr style=\"text-align: right;\">\n",
       "      <th></th>\n",
       "      <th>اسم الفيلم</th>\n",
       "      <th>التصنيف</th>\n",
       "      <th>المدة</th>\n",
       "      <th>ملخص</th>\n",
       "      <th>تأليف</th>\n",
       "      <th>تمثيل</th>\n",
       "      <th>إنتاج</th>\n",
       "      <th>تصوير</th>\n",
       "      <th>مونتاج</th>\n",
       "      <th>ديكور</th>\n",
       "      <th>ملابس</th>\n",
       "      <th>موسيقى</th>\n",
       "      <th>إخراج</th>\n",
       "      <th>توزيع</th>\n",
       "      <th>الشهر</th>\n",
       "      <th>السنة</th>\n",
       "      <th>التقييم</th>\n",
       "    </tr>\n",
       "  </thead>\n",
       "  <tbody>\n",
       "    <tr>\n",
       "      <th>159</th>\n",
       "      <td>من غير ميعاد</td>\n",
       "      <td>ﺭﻭﻣﺎﻧﺴﻲ</td>\n",
       "      <td>105.0</td>\n",
       "      <td>تقع سلوى  \"سعاد حسني\" في حب وحيد  \"محمد سلطان\"...</td>\n",
       "      <td>يوسف عيسى</td>\n",
       "      <td>محرم فؤاد,سعاد حسني,نادية لطفي,محمد سلطان,خيري...</td>\n",
       "      <td>يوسف عبيد,أفلام خليل دياب,خليل دياب,حمدى حسن</td>\n",
       "      <td>فيكتور أنطون,أحمد شاهين,علي خير الله</td>\n",
       "      <td>عاطف صبرى,حسين أحمد,مارسيل صالح</td>\n",
       "      <td>ماهر عبدالنور,نجيب خوري,مصطفى عبدالله</td>\n",
       "      <td>None</td>\n",
       "      <td>بليغ حمدي,عبدالوهاب محمد,محمد الموجي,فؤاد الظاهري</td>\n",
       "      <td>أحمد ضياء الدين,سيد طنطاوي</td>\n",
       "      <td>دولار فيلم (إسماعيل الكردي وأولاده)</td>\n",
       "      <td>ديسمبر</td>\n",
       "      <td>1962</td>\n",
       "      <td>6</td>\n",
       "    </tr>\n",
       "  </tbody>\n",
       "</table>\n",
       "</div>"
      ],
      "text/plain": [
       "       اسم الفيلم  التصنيف  المدة  \\\n",
       "159  من غير ميعاد  ﺭﻭﻣﺎﻧﺴﻲ  105.0   \n",
       "\n",
       "                                                  ملخص      تأليف  \\\n",
       "159  تقع سلوى  \"سعاد حسني\" في حب وحيد  \"محمد سلطان\"...  يوسف عيسى   \n",
       "\n",
       "                                                 تمثيل  \\\n",
       "159  محرم فؤاد,سعاد حسني,نادية لطفي,محمد سلطان,خيري...   \n",
       "\n",
       "                                            إنتاج  \\\n",
       "159  يوسف عبيد,أفلام خليل دياب,خليل دياب,حمدى حسن   \n",
       "\n",
       "                                    تصوير                           مونتاج  \\\n",
       "159  فيكتور أنطون,أحمد شاهين,علي خير الله  عاطف صبرى,حسين أحمد,مارسيل صالح   \n",
       "\n",
       "                                     ديكور ملابس  \\\n",
       "159  ماهر عبدالنور,نجيب خوري,مصطفى عبدالله  None   \n",
       "\n",
       "                                                موسيقى  \\\n",
       "159  بليغ حمدي,عبدالوهاب محمد,محمد الموجي,فؤاد الظاهري   \n",
       "\n",
       "                          إخراج                                توزيع   الشهر  \\\n",
       "159  أحمد ضياء الدين,سيد طنطاوي  دولار فيلم (إسماعيل الكردي وأولاده)  ديسمبر   \n",
       "\n",
       "    السنة التقييم  \n",
       "159  1962       6  "
      ]
     },
     "execution_count": 154,
     "metadata": {},
     "output_type": "execute_result"
    }
   ],
   "source": [
    " genre_added_60s.sample()"
   ]
  },
  {
   "cell_type": "code",
   "execution_count": 155,
   "metadata": {},
   "outputs": [],
   "source": [
    "synopsis_added_60s = genre_added_60s.copy(deep = True)"
   ]
  },
  {
   "cell_type": "code",
   "execution_count": 156,
   "metadata": {},
   "outputs": [],
   "source": [
    "synopsis_added_60s = add_scraped_features(genre_added_60s \\\n",
    "                                          , '1960s_data/1960s_synopses.txt' \\\n",
    "                                         , genre_added_60s.columns[3])"
   ]
  },
  {
   "cell_type": "code",
   "execution_count": 157,
   "metadata": {},
   "outputs": [],
   "source": [
    "synopsis_added_60s = synopsis_added_60s.reset_index(drop=True)"
   ]
  },
  {
   "cell_type": "code",
   "execution_count": 159,
   "metadata": {
    "collapsed": true
   },
   "outputs": [
    {
     "name": "stderr",
     "output_type": "stream",
     "text": [
      "/Users/karefsn/Development/anaconda3/lib/python3.7/site-packages/ipykernel_launcher.py:20: DeprecationWarning: The truth value of an empty array is ambiguous. Returning False, but in future this will result in an error. Use `array.size > 0` to check that an array is not empty.\n",
      "/Users/karefsn/Development/anaconda3/lib/python3.7/site-packages/ipykernel_launcher.py:23: DeprecationWarning: The truth value of an empty array is ambiguous. Returning False, but in future this will result in an error. Use `array.size > 0` to check that an array is not empty.\n"
     ]
    }
   ],
   "source": [
    "cast_seperated_60s,_ = seperate_cast_by_gender(synopsis_added_60s)\n",
    "cast_seperated_60s.drop(inplace = True, columns = ['تمثيل'])\n"
   ]
  },
  {
   "cell_type": "code",
   "execution_count": 160,
   "metadata": {},
   "outputs": [
    {
     "data": {
      "text/html": [
       "<div>\n",
       "<style scoped>\n",
       "    .dataframe tbody tr th:only-of-type {\n",
       "        vertical-align: middle;\n",
       "    }\n",
       "\n",
       "    .dataframe tbody tr th {\n",
       "        vertical-align: top;\n",
       "    }\n",
       "\n",
       "    .dataframe thead th {\n",
       "        text-align: right;\n",
       "    }\n",
       "</style>\n",
       "<table border=\"1\" class=\"dataframe\">\n",
       "  <thead>\n",
       "    <tr style=\"text-align: right;\">\n",
       "      <th></th>\n",
       "      <th>اسم الفيلم</th>\n",
       "      <th>التصنيف</th>\n",
       "      <th>المدة</th>\n",
       "      <th>ملخص</th>\n",
       "      <th>تأليف</th>\n",
       "      <th>إنتاج</th>\n",
       "      <th>تصوير</th>\n",
       "      <th>مونتاج</th>\n",
       "      <th>ديكور</th>\n",
       "      <th>ملابس</th>\n",
       "      <th>موسيقى</th>\n",
       "      <th>إخراج</th>\n",
       "      <th>توزيع</th>\n",
       "      <th>الشهر</th>\n",
       "      <th>السنة</th>\n",
       "      <th>التقييم</th>\n",
       "      <th>ممثلات</th>\n",
       "      <th>ممثلون</th>\n",
       "    </tr>\n",
       "  </thead>\n",
       "  <tbody>\n",
       "    <tr>\n",
       "      <th>367</th>\n",
       "      <td>ثورة اليمن</td>\n",
       "      <td>None</td>\n",
       "      <td>100.6</td>\n",
       "      <td>يعتبر فيلم من الافلام الدعائية التى خرجت من ثو...</td>\n",
       "      <td>صالح مرسي,علي عيسى    ,علي الزرقاني</td>\n",
       "      <td>فيلمنتاج</td>\n",
       "      <td>عبدالحليم نصر</td>\n",
       "      <td>None</td>\n",
       "      <td>None</td>\n",
       "      <td>None</td>\n",
       "      <td>None</td>\n",
       "      <td>عاطف سالم</td>\n",
       "      <td>None</td>\n",
       "      <td>يناير</td>\n",
       "      <td>1966</td>\n",
       "      <td>5.8</td>\n",
       "      <td>[ماجدة, ناهد سمير]</td>\n",
       "      <td>[حسن يوسف, عماد حمدي, صلاح قابيل, صلاح منصور, ...</td>\n",
       "    </tr>\n",
       "  </tbody>\n",
       "</table>\n",
       "</div>"
      ],
      "text/plain": [
       "     اسم الفيلم التصنيف  المدة  \\\n",
       "367  ثورة اليمن    None  100.6   \n",
       "\n",
       "                                                  ملخص  \\\n",
       "367  يعتبر فيلم من الافلام الدعائية التى خرجت من ثو...   \n",
       "\n",
       "                                   تأليف     إنتاج          تصوير مونتاج  \\\n",
       "367  صالح مرسي,علي عيسى    ,علي الزرقاني  فيلمنتاج  عبدالحليم نصر   None   \n",
       "\n",
       "    ديكور ملابس موسيقى      إخراج توزيع  الشهر السنة التقييم  \\\n",
       "367  None  None   None  عاطف سالم  None  يناير  1966     5.8   \n",
       "\n",
       "                 ممثلات                                             ممثلون  \n",
       "367  [ماجدة, ناهد سمير]  [حسن يوسف, عماد حمدي, صلاح قابيل, صلاح منصور, ...  "
      ]
     },
     "execution_count": 160,
     "metadata": {},
     "output_type": "execute_result"
    }
   ],
   "source": [
    "cast_seperated_60s.sample()"
   ]
  },
  {
   "cell_type": "code",
   "execution_count": 161,
   "metadata": {},
   "outputs": [
    {
     "name": "stdout",
     "output_type": "stream",
     "text": [
      ">> ‫اسم الفيلم: 0%\n",
      ">> ‫التصنيف: 35%\n",
      ">> ‫المدة: 0%\n",
      ">> ‫ملخص: 7%\n",
      ">> ‫تأليف: 9%\n",
      ">> ‫إنتاج: 21%\n",
      ">> ‫تصوير: 15%\n",
      ">> ‫مونتاج: 23%\n",
      ">> ‫ديكور: 30%\n",
      ">> ‫ملابس: 86%\n",
      ">> ‫موسيقى: 45%\n",
      ">> ‫إخراج: 6%\n",
      ">> ‫توزيع: 52%\n",
      ">> ‫الشهر: 0%\n",
      ">> ‫السنة: 0%\n",
      ">> ‫التقييم: 10%\n",
      ">> ‫ممثلات: 0%\n",
      ">> ‫ممثلون: 0%\n"
     ]
    }
   ],
   "source": [
    "get_null_percentage(cast_seperated_60s)"
   ]
  },
  {
   "cell_type": "code",
   "execution_count": 162,
   "metadata": {},
   "outputs": [],
   "source": [
    "cast_seperated_60s.drop(columns = ['توزيع', 'ملابس', 'ديكور', 'مونتاج', \\\n",
    "                         'تصوير', 'موسيقى', 'إنتاج'], inplace = True)"
   ]
  },
  {
   "cell_type": "code",
   "execution_count": 163,
   "metadata": {},
   "outputs": [],
   "source": [
    "movies_60s_df = cast_seperated_60s[['اسم الفيلم', 'الشهر', 'السنة', 'التصنيف',\\\n",
    "                                    'التقييم', 'المدة', 'ملخص', 'ممثلات', 'ممثلون',\n",
    "                                    'تأليف', 'إخراج']]"
   ]
  },
  {
   "cell_type": "code",
   "execution_count": 164,
   "metadata": {},
   "outputs": [
    {
     "data": {
      "text/html": [
       "<div>\n",
       "<style scoped>\n",
       "    .dataframe tbody tr th:only-of-type {\n",
       "        vertical-align: middle;\n",
       "    }\n",
       "\n",
       "    .dataframe tbody tr th {\n",
       "        vertical-align: top;\n",
       "    }\n",
       "\n",
       "    .dataframe thead th {\n",
       "        text-align: right;\n",
       "    }\n",
       "</style>\n",
       "<table border=\"1\" class=\"dataframe\">\n",
       "  <thead>\n",
       "    <tr style=\"text-align: right;\">\n",
       "      <th></th>\n",
       "      <th>اسم الفيلم</th>\n",
       "      <th>الشهر</th>\n",
       "      <th>السنة</th>\n",
       "      <th>التصنيف</th>\n",
       "      <th>التقييم</th>\n",
       "      <th>المدة</th>\n",
       "      <th>ملخص</th>\n",
       "      <th>ممثلات</th>\n",
       "      <th>ممثلون</th>\n",
       "      <th>تأليف</th>\n",
       "      <th>إخراج</th>\n",
       "    </tr>\n",
       "  </thead>\n",
       "  <tbody>\n",
       "    <tr>\n",
       "      <th>87</th>\n",
       "      <td>شاطئ الحب</td>\n",
       "      <td>يناير</td>\n",
       "      <td>1961</td>\n",
       "      <td>ﺭﻭﻣﺎﻧﺴﻲ</td>\n",
       "      <td>6.2</td>\n",
       "      <td>110.0</td>\n",
       "      <td>عاشت ليلى سنوات طويلة مع أبيها الدكتور إبراهيم...</td>\n",
       "      <td>[فريد الأطرش, سميرة أحمد, تحية كاريوكا, كريمان...</td>\n",
       "      <td>[فاخر فاخر, عبدالمنعم إسماعيل, عبدالمنعم بسيون...</td>\n",
       "      <td>هنري بركات,يوسف عيسى,عبدالعزيز سلام</td>\n",
       "      <td>هنري بركات,حسن إبراهيم,أحمد فاروق</td>\n",
       "    </tr>\n",
       "  </tbody>\n",
       "</table>\n",
       "</div>"
      ],
      "text/plain": [
       "   اسم الفيلم  الشهر السنة  التصنيف التقييم  المدة  \\\n",
       "87  شاطئ الحب  يناير  1961  ﺭﻭﻣﺎﻧﺴﻲ     6.2  110.0   \n",
       "\n",
       "                                                 ملخص  \\\n",
       "87  عاشت ليلى سنوات طويلة مع أبيها الدكتور إبراهيم...   \n",
       "\n",
       "                                               ممثلات  \\\n",
       "87  [فريد الأطرش, سميرة أحمد, تحية كاريوكا, كريمان...   \n",
       "\n",
       "                                               ممثلون  \\\n",
       "87  [فاخر فاخر, عبدالمنعم إسماعيل, عبدالمنعم بسيون...   \n",
       "\n",
       "                                  تأليف                              إخراج  \n",
       "87  هنري بركات,يوسف عيسى,عبدالعزيز سلام  هنري بركات,حسن إبراهيم,أحمد فاروق  "
      ]
     },
     "execution_count": 164,
     "metadata": {},
     "output_type": "execute_result"
    }
   ],
   "source": [
    "movies_60s_df.sample()"
   ]
  },
  {
   "cell_type": "markdown",
   "metadata": {},
   "source": [
    "### *_1970s Movies_*"
   ]
  },
  {
   "cell_type": "markdown",
   "metadata": {},
   "source": [
    "_**EDA**_"
   ]
  },
  {
   "cell_type": "code",
   "execution_count": 165,
   "metadata": {
    "scrolled": true
   },
   "outputs": [
    {
     "name": "stdout",
     "output_type": "stream",
     "text": [
      "Column Name:  ‫اسم الفيلم‬\n",
      "count                       793\n",
      "unique                      781\n",
      "top       الحسناء و قاهر الفضاء\n",
      "freq                          4\n",
      "Name: اسم الفيلم, dtype: object\n",
      "\n",
      "--------------------\n",
      "Column Name:  ‫تاريخ العرض‬\n",
      "count      793\n",
      "unique     285\n",
      "top       1972\n",
      "freq        53\n",
      "Name: تاريخ العرض, dtype: object\n",
      "\n",
      "--------------------\n",
      "Column Name:  ‫التصنيف‬\n",
      "count       341\n",
      "unique       18\n",
      "top       ﺩﺭاﻣﺎ\n",
      "freq        140\n",
      "Name: التصنيف, dtype: object\n",
      "\n",
      "--------------------\n",
      "Column Name:  ‫المدة‬\n",
      "count     793\n",
      "unique     89\n",
      "top       100\n",
      "freq       93\n",
      "Name: المدة, dtype: object\n",
      "\n",
      "--------------------\n",
      "Column Name:  ‫ملخص‬\n",
      "count                                                   649\n",
      "unique                                                  649\n",
      "top       صابر موثقًا بمصلحة الشهر العقارى، يعيش حالة رو...\n",
      "freq                                                      1\n",
      "Name: ملخص, dtype: object\n",
      "\n",
      "--------------------\n",
      "Column Name:  ‫تأليف‬\n",
      "count          684\n",
      "unique         491\n",
      "top       فيصل ندا\n",
      "freq            26\n",
      "Name: تأليف, dtype: object\n",
      "\n",
      "--------------------\n",
      "Column Name:  ‫تمثيل‬\n",
      "count            741\n",
      "unique           725\n",
      "top       عمر الشريف\n",
      "freq               7\n",
      "Name: تمثيل, dtype: object\n",
      "\n",
      "--------------------\n",
      "Column Name:  ‫إنتاج‬\n",
      "count                               614\n",
      "unique                              556\n",
      "top       المؤسسة العامة للسينما (دمشق)\n",
      "freq                                  8\n",
      "Name: إنتاج, dtype: object\n",
      "\n",
      "--------------------\n",
      "Column Name:  ‫تصوير‬\n",
      "count                        601\n",
      "unique                       371\n",
      "top       علي خير الله,عادل أسعد\n",
      "freq                          25\n",
      "Name: تصوير, dtype: object\n",
      "\n",
      "--------------------\n",
      "Column Name:  ‫مونتاج‬\n",
      "count             566\n",
      "unique            341\n",
      "top       مروان عكاوي\n",
      "freq               29\n",
      "Name: مونتاج, dtype: object\n",
      "\n",
      "--------------------\n",
      "Column Name:  ‫ديكور‬\n",
      "count           410\n",
      "unique          304\n",
      "top       نهاد بهجت\n",
      "freq             18\n",
      "Name: ديكور, dtype: object\n",
      "\n",
      "--------------------\n",
      "Column Name:  ‫ملابس‬\n",
      "count              90\n",
      "unique             64\n",
      "top       فوزية حجازي\n",
      "freq                6\n",
      "Name: ملابس, dtype: object\n",
      "\n",
      "--------------------\n",
      "Column Name:  ‫موسيقى‬\n",
      "count              469\n",
      "unique             262\n",
      "top       فؤاد الظاهري\n",
      "freq                51\n",
      "Name: موسيقى, dtype: object\n",
      "\n",
      "--------------------\n",
      "Column Name:  ‫إخراج‬\n",
      "count                                            717\n",
      "unique                                           530\n",
      "top       حسام الدين مصطفى,أحمد السبعاوي,نجيب إسكندر\n",
      "freq                                              16\n",
      "Name: إخراج, dtype: object\n",
      "\n",
      "--------------------\n",
      "Column Name:  ‫توزيع‬\n",
      "count                                                   421\n",
      "unique                                                  191\n",
      "top       المؤسسة المصرية العامة للسينما والتلفزيون (وال...\n",
      "freq                                                     70\n",
      "Name: توزيع, dtype: object\n",
      "\n",
      "--------------------\n"
     ]
    }
   ],
   "source": [
    "describe_dataframe(seventies_df)"
   ]
  },
  {
   "cell_type": "code",
   "execution_count": 203,
   "metadata": {},
   "outputs": [
    {
     "data": {
      "text/plain": [
       "144"
      ]
     },
     "execution_count": 203,
     "metadata": {},
     "output_type": "execute_result"
    }
   ],
   "source": [
    "seventies_df['ملخص'].isnull().sum()"
   ]
  },
  {
   "cell_type": "code",
   "execution_count": 204,
   "metadata": {},
   "outputs": [
    {
     "data": {
      "text/plain": [
       "ﺩﺭاﻣﺎ           140\n",
       "ﺭﻭﻣﺎﻧﺴﻲ          60\n",
       "ﻛﻮﻣﻴﺪﻱ           56\n",
       "ﺟﺮﻳﻤﺔ            22\n",
       "اﺳﺘﻌﺮاﺿﻲ         15\n",
       "تاريخي            8\n",
       "ﺣﺮﻛﺔ              8\n",
       "ﻗﺼﻴﺮ              5\n",
       "ﺗﺸﻮﻳﻖ ﻭﺇﺛﺎﺭﺓ      5\n",
       "ﻣﻐﺎﻣﺮاﺕ           4\n",
       "ﺳﻴﺮﺓ ﺫاﺗﻴﺔ        4\n",
       "ﻭﺛﺎﺋﻘﻲ            3\n",
       "ﻏﻤﻮﺽ              3\n",
       "ﺣﺮﺏ               3\n",
       "ﺭﻳﺎﺿﻲ             2\n",
       "ﺧﻴﺎﻝ ﻋﻠﻤﻲ         1\n",
       "ﻋﺎﺋﻠﻲ             1\n",
       "ﺭﺳﻮﻡ ﻣﺘﺤﺮﻛﺔ       1\n",
       "Name: التصنيف, dtype: int64"
      ]
     },
     "execution_count": 204,
     "metadata": {},
     "output_type": "execute_result"
    }
   ],
   "source": [
    "seventies_df['التصنيف'].value_counts()"
   ]
  },
  {
   "cell_type": "code",
   "execution_count": 205,
   "metadata": {
    "scrolled": true
   },
   "outputs": [
    {
     "data": {
      "text/html": [
       "<div>\n",
       "<style scoped>\n",
       "    .dataframe tbody tr th:only-of-type {\n",
       "        vertical-align: middle;\n",
       "    }\n",
       "\n",
       "    .dataframe tbody tr th {\n",
       "        vertical-align: top;\n",
       "    }\n",
       "\n",
       "    .dataframe thead th {\n",
       "        text-align: right;\n",
       "    }\n",
       "</style>\n",
       "<table border=\"1\" class=\"dataframe\">\n",
       "  <thead>\n",
       "    <tr style=\"text-align: right;\">\n",
       "      <th></th>\n",
       "      <th>اسم الفيلم</th>\n",
       "      <th>تاريخ العرض</th>\n",
       "      <th>التصنيف</th>\n",
       "      <th>المدة</th>\n",
       "      <th>ملخص</th>\n",
       "      <th>تأليف</th>\n",
       "      <th>تمثيل</th>\n",
       "      <th>إنتاج</th>\n",
       "      <th>تصوير</th>\n",
       "      <th>مونتاج</th>\n",
       "      <th>ديكور</th>\n",
       "      <th>ملابس</th>\n",
       "      <th>موسيقى</th>\n",
       "      <th>إخراج</th>\n",
       "      <th>توزيع</th>\n",
       "    </tr>\n",
       "  </thead>\n",
       "  <tbody>\n",
       "    <tr>\n",
       "      <th>154</th>\n",
       "      <td>فرح زهران</td>\n",
       "      <td>1972</td>\n",
       "      <td>NaN</td>\n",
       "      <td>100.5</td>\n",
       "      <td>NaN</td>\n",
       "      <td>محسن زايد</td>\n",
       "      <td>عبدالعزيز مخيون,إنعام الجريتلي,ممدوح زايد</td>\n",
       "      <td>NaN</td>\n",
       "      <td>NaN</td>\n",
       "      <td>NaN</td>\n",
       "      <td>NaN</td>\n",
       "      <td>NaN</td>\n",
       "      <td>NaN</td>\n",
       "      <td>محسن زايد</td>\n",
       "      <td>NaN</td>\n",
       "    </tr>\n",
       "    <tr>\n",
       "      <th>164</th>\n",
       "      <td>فرح زهران</td>\n",
       "      <td>1972</td>\n",
       "      <td>NaN</td>\n",
       "      <td>100.5</td>\n",
       "      <td>NaN</td>\n",
       "      <td>محسن زايد</td>\n",
       "      <td>عبدالعزيز مخيون,إنعام الجريتلي,ممدوح زايد</td>\n",
       "      <td>NaN</td>\n",
       "      <td>NaN</td>\n",
       "      <td>NaN</td>\n",
       "      <td>NaN</td>\n",
       "      <td>NaN</td>\n",
       "      <td>NaN</td>\n",
       "      <td>محسن زايد</td>\n",
       "      <td>NaN</td>\n",
       "    </tr>\n",
       "    <tr>\n",
       "      <th>172</th>\n",
       "      <td>فرح زهران</td>\n",
       "      <td>1972</td>\n",
       "      <td>NaN</td>\n",
       "      <td>100.5</td>\n",
       "      <td>NaN</td>\n",
       "      <td>محسن زايد</td>\n",
       "      <td>عبدالعزيز مخيون,إنعام الجريتلي,ممدوح زايد</td>\n",
       "      <td>NaN</td>\n",
       "      <td>NaN</td>\n",
       "      <td>NaN</td>\n",
       "      <td>NaN</td>\n",
       "      <td>NaN</td>\n",
       "      <td>NaN</td>\n",
       "      <td>محسن زايد</td>\n",
       "      <td>NaN</td>\n",
       "    </tr>\n",
       "    <tr>\n",
       "      <th>306</th>\n",
       "      <td>مخطوبتين بالوراثة</td>\n",
       "      <td>1974</td>\n",
       "      <td>NaN</td>\n",
       "      <td>108.3</td>\n",
       "      <td>NaN</td>\n",
       "      <td>NaN</td>\n",
       "      <td>NaN</td>\n",
       "      <td>NaN</td>\n",
       "      <td>NaN</td>\n",
       "      <td>NaN</td>\n",
       "      <td>NaN</td>\n",
       "      <td>NaN</td>\n",
       "      <td>NaN</td>\n",
       "      <td>NaN</td>\n",
       "      <td>NaN</td>\n",
       "    </tr>\n",
       "    <tr>\n",
       "      <th>403</th>\n",
       "      <td>الحسناء و قاهر الفضاء</td>\n",
       "      <td>1975</td>\n",
       "      <td>NaN</td>\n",
       "      <td>95</td>\n",
       "      <td>NaN</td>\n",
       "      <td>محمد جومر,سهيل كنعان</td>\n",
       "      <td>محمود جبر,إغراء,أديب قدورة,نجاح حفيظ,أنور البا...</td>\n",
       "      <td>سميراميس فيلم,دمشق</td>\n",
       "      <td>محمد الرواس</td>\n",
       "      <td>مروان عكاوي</td>\n",
       "      <td>NaN</td>\n",
       "      <td>NaN</td>\n",
       "      <td>هنري</td>\n",
       "      <td>سهيل كنعان</td>\n",
       "      <td>NaN</td>\n",
       "    </tr>\n",
       "    <tr>\n",
       "      <th>414</th>\n",
       "      <td>الحسناء و قاهر الفضاء</td>\n",
       "      <td>1975</td>\n",
       "      <td>NaN</td>\n",
       "      <td>95</td>\n",
       "      <td>NaN</td>\n",
       "      <td>محمد جومر,سهيل كنعان</td>\n",
       "      <td>محمود جبر,إغراء,أديب قدورة,نجاح حفيظ,أنور البا...</td>\n",
       "      <td>سميراميس فيلم,دمشق</td>\n",
       "      <td>محمد الرواس</td>\n",
       "      <td>مروان عكاوي</td>\n",
       "      <td>NaN</td>\n",
       "      <td>NaN</td>\n",
       "      <td>هنري</td>\n",
       "      <td>سهيل كنعان</td>\n",
       "      <td>NaN</td>\n",
       "    </tr>\n",
       "    <tr>\n",
       "      <th>421</th>\n",
       "      <td>الحسناء و قاهر الفضاء</td>\n",
       "      <td>1975</td>\n",
       "      <td>NaN</td>\n",
       "      <td>95</td>\n",
       "      <td>NaN</td>\n",
       "      <td>محمد جومر,سهيل كنعان</td>\n",
       "      <td>محمود جبر,إغراء,أديب قدورة,نجاح حفيظ,أنور البا...</td>\n",
       "      <td>سميراميس فيلم,دمشق</td>\n",
       "      <td>محمد الرواس</td>\n",
       "      <td>مروان عكاوي</td>\n",
       "      <td>NaN</td>\n",
       "      <td>NaN</td>\n",
       "      <td>هنري</td>\n",
       "      <td>سهيل كنعان</td>\n",
       "      <td>NaN</td>\n",
       "    </tr>\n",
       "  </tbody>\n",
       "</table>\n",
       "</div>"
      ],
      "text/plain": [
       "                اسم الفيلم تاريخ العرض التصنيف  المدة ملخص  \\\n",
       "154              فرح زهران        1972     NaN  100.5  NaN   \n",
       "164              فرح زهران        1972     NaN  100.5  NaN   \n",
       "172              فرح زهران        1972     NaN  100.5  NaN   \n",
       "306      مخطوبتين بالوراثة        1974     NaN  108.3  NaN   \n",
       "403  الحسناء و قاهر الفضاء        1975     NaN     95  NaN   \n",
       "414  الحسناء و قاهر الفضاء        1975     NaN     95  NaN   \n",
       "421  الحسناء و قاهر الفضاء        1975     NaN     95  NaN   \n",
       "\n",
       "                    تأليف                                              تمثيل  \\\n",
       "154             محسن زايد        عبدالعزيز مخيون,إنعام الجريتلي,ممدوح زايد     \n",
       "164             محسن زايد        عبدالعزيز مخيون,إنعام الجريتلي,ممدوح زايد     \n",
       "172             محسن زايد        عبدالعزيز مخيون,إنعام الجريتلي,ممدوح زايد     \n",
       "306                   NaN                                                NaN   \n",
       "403  محمد جومر,سهيل كنعان  محمود جبر,إغراء,أديب قدورة,نجاح حفيظ,أنور البا...   \n",
       "414  محمد جومر,سهيل كنعان  محمود جبر,إغراء,أديب قدورة,نجاح حفيظ,أنور البا...   \n",
       "421  محمد جومر,سهيل كنعان  محمود جبر,إغراء,أديب قدورة,نجاح حفيظ,أنور البا...   \n",
       "\n",
       "                  إنتاج        تصوير       مونتاج ديكور ملابس موسيقى  \\\n",
       "154                 NaN          NaN          NaN   NaN   NaN    NaN   \n",
       "164                 NaN          NaN          NaN   NaN   NaN    NaN   \n",
       "172                 NaN          NaN          NaN   NaN   NaN    NaN   \n",
       "306                 NaN          NaN          NaN   NaN   NaN    NaN   \n",
       "403  سميراميس فيلم,دمشق  محمد الرواس  مروان عكاوي   NaN   NaN   هنري   \n",
       "414  سميراميس فيلم,دمشق  محمد الرواس  مروان عكاوي   NaN   NaN   هنري   \n",
       "421  سميراميس فيلم,دمشق  محمد الرواس  مروان عكاوي   NaN   NaN   هنري   \n",
       "\n",
       "          إخراج توزيع  \n",
       "154   محسن زايد   NaN  \n",
       "164   محسن زايد   NaN  \n",
       "172   محسن زايد   NaN  \n",
       "306         NaN   NaN  \n",
       "403  سهيل كنعان   NaN  \n",
       "414  سهيل كنعان   NaN  \n",
       "421  سهيل كنعان   NaN  "
      ]
     },
     "execution_count": 205,
     "metadata": {},
     "output_type": "execute_result"
    }
   ],
   "source": [
    "seventies_df[seventies_df.duplicated(subset = ['اسم الفيلم', 'تمثيل'])]"
   ]
  },
  {
   "cell_type": "code",
   "execution_count": 272,
   "metadata": {
    "scrolled": true
   },
   "outputs": [],
   "source": [
    "seventies_df = change_empty_entries_to_None(seventies_df)"
   ]
  },
  {
   "cell_type": "markdown",
   "metadata": {},
   "source": [
    "_**Cleansing**_"
   ]
  },
  {
   "cell_type": "code",
   "execution_count": 273,
   "metadata": {},
   "outputs": [],
   "source": [
    "seventies_df.drop_duplicates(subset = ['اسم الفيلم', 'تمثيل'] \\\n",
    "                             , inplace= True, keep = 'last')"
   ]
  },
  {
   "cell_type": "code",
   "execution_count": 274,
   "metadata": {},
   "outputs": [],
   "source": [
    "seventies_df = seventies_df.reset_index(drop = True)"
   ]
  },
  {
   "cell_type": "markdown",
   "metadata": {},
   "source": [
    "_**Filling Missing Values**_"
   ]
  },
  {
   "cell_type": "markdown",
   "metadata": {},
   "source": [
    "* **Add Webscraped Ratings**"
   ]
  },
  {
   "cell_type": "code",
   "execution_count": 275,
   "metadata": {},
   "outputs": [],
   "source": [
    "date_expanded_70s = seventies_df.copy(deep = True)"
   ]
  },
  {
   "cell_type": "code",
   "execution_count": 276,
   "metadata": {},
   "outputs": [],
   "source": [
    "date_expanded_70s = expand_release_date(seventies_df)\n",
    "date_expanded_70s = unify_date_format(date_expanded_70s)"
   ]
  },
  {
   "cell_type": "code",
   "execution_count": 277,
   "metadata": {},
   "outputs": [],
   "source": [
    "date_expanded_70s = date_expanded_70s.drop(columns=['تاريخ العرض', 'اليوم'])\n",
    "date_expanded_70s['التقييم'] = None"
   ]
  },
  {
   "cell_type": "code",
   "execution_count": 278,
   "metadata": {},
   "outputs": [],
   "source": [
    "foreign_filtered_70s = date_expanded_70s.copy(deep = True)"
   ]
  },
  {
   "cell_type": "code",
   "execution_count": 279,
   "metadata": {},
   "outputs": [],
   "source": [
    "foreign_filtered_70s = \\\n",
    "    filter_foregin_movies(date_expanded_70s, '1970s_data/1970s_countries.txt')"
   ]
  },
  {
   "cell_type": "code",
   "execution_count": 280,
   "metadata": {},
   "outputs": [],
   "source": [
    "ratings_added_70s = foreign_filtered_70s.copy(deep = True)"
   ]
  },
  {
   "cell_type": "code",
   "execution_count": 281,
   "metadata": {},
   "outputs": [],
   "source": [
    "ratings_added_70s = add_scraped_features(foreign_filtered_70s \\\n",
    "                                    , '1970s_data/1970s_ratings.txt' \\\n",
    "                                    , 'التقييم')"
   ]
  },
  {
   "cell_type": "code",
   "execution_count": 282,
   "metadata": {},
   "outputs": [],
   "source": [
    "genre_added_70s = ratings_added_70s.copy(deep = True)"
   ]
  },
  {
   "cell_type": "code",
   "execution_count": 283,
   "metadata": {},
   "outputs": [],
   "source": [
    "genre_added_70s = add_scraped_features(ratings_added_70s \\\n",
    "                                          , '1970s_data/1970s_genres.txt'\n",
    "                                         ,'التصنيف')"
   ]
  },
  {
   "cell_type": "code",
   "execution_count": 284,
   "metadata": {},
   "outputs": [],
   "source": [
    "synopsis_added_70s = genre_added_70s.copy(deep = True)"
   ]
  },
  {
   "cell_type": "code",
   "execution_count": 285,
   "metadata": {},
   "outputs": [],
   "source": [
    "synopsis_added_70s = add_scraped_features(genre_added_70s \\\n",
    "                                          , '1970s_data/1970s_synopses.txt' \\\n",
    "                                         , 'ملخص')"
   ]
  },
  {
   "cell_type": "code",
   "execution_count": 286,
   "metadata": {},
   "outputs": [],
   "source": [
    "synopsis_added_70s = synopsis_added_70s.reset_index(drop=True)"
   ]
  },
  {
   "cell_type": "code",
   "execution_count": 336,
   "metadata": {},
   "outputs": [
    {
     "data": {
      "text/plain": [
       "ﺩﺭاﻣﺎ                192\n",
       "ﻛﻮﻣﻴﺪﻱ                47\n",
       "ﺭﻭﻣﺎﻧﺴﻲ               27\n",
       "ﺗﺸﻮﻳﻖ ﻭﺇﺛﺎﺭﺓ          21\n",
       "موسيقي / استعراضي     16\n",
       "ﺟﺮﻳﻤﺔ                 12\n",
       "ﺣﺮﻛﺔ                   6\n",
       "ﻣﻐﺎﻣﺮاﺕ                4\n",
       "ﻏﻤﻮﺽ                   3\n",
       "تاريخي                 3\n",
       "ﺳﻴﺮﺓ ﺫاﺗﻴﺔ             3\n",
       "ﻗﺼﻴﺮ                   2\n",
       "ﺧﻴﺎﻝ                   1\n",
       "ﻋﺎﺋﻠﻲ                  1\n",
       "Name: التصنيف, dtype: int64"
      ]
     },
     "execution_count": 336,
     "metadata": {},
     "output_type": "execute_result"
    }
   ],
   "source": [
    "synopsis_added_70s['التصنيف'].value_counts()"
   ]
  },
  {
   "cell_type": "code",
   "execution_count": 288,
   "metadata": {},
   "outputs": [],
   "source": [
    "synopsis_added_70s.drop(inplace = True, index = \\\n",
    "            synopsis_added_70s.loc[synopsis_added_70s['التصنيف'] == 'ﻭﺛﺎﺋﻘﻲ'].index)"
   ]
  },
  {
   "cell_type": "code",
   "execution_count": 289,
   "metadata": {},
   "outputs": [],
   "source": [
    "synopsis_added_70s = synopsis_added_70s.reset_index(drop =True)\n",
    "synopsis_added_70s  = change_empty_entries_to_None(synopsis_added_70s)"
   ]
  },
  {
   "cell_type": "code",
   "execution_count": 290,
   "metadata": {},
   "outputs": [],
   "source": [
    "synopsis_added_70s = synopsis_added_70s.reset_index(drop=True)"
   ]
  },
  {
   "cell_type": "code",
   "execution_count": 291,
   "metadata": {},
   "outputs": [
    {
     "data": {
      "text/html": [
       "<div>\n",
       "<style scoped>\n",
       "    .dataframe tbody tr th:only-of-type {\n",
       "        vertical-align: middle;\n",
       "    }\n",
       "\n",
       "    .dataframe tbody tr th {\n",
       "        vertical-align: top;\n",
       "    }\n",
       "\n",
       "    .dataframe thead th {\n",
       "        text-align: right;\n",
       "    }\n",
       "</style>\n",
       "<table border=\"1\" class=\"dataframe\">\n",
       "  <thead>\n",
       "    <tr style=\"text-align: right;\">\n",
       "      <th></th>\n",
       "      <th>اسم الفيلم</th>\n",
       "      <th>التصنيف</th>\n",
       "      <th>المدة</th>\n",
       "      <th>ملخص</th>\n",
       "      <th>تأليف</th>\n",
       "      <th>تمثيل</th>\n",
       "      <th>إنتاج</th>\n",
       "      <th>تصوير</th>\n",
       "      <th>مونتاج</th>\n",
       "      <th>ديكور</th>\n",
       "      <th>ملابس</th>\n",
       "      <th>موسيقى</th>\n",
       "      <th>إخراج</th>\n",
       "      <th>توزيع</th>\n",
       "      <th>الشهر</th>\n",
       "      <th>السنة</th>\n",
       "      <th>التقييم</th>\n",
       "    </tr>\n",
       "  </thead>\n",
       "  <tbody>\n",
       "    <tr>\n",
       "      <th>570</th>\n",
       "      <td>أقوى من الأيام</td>\n",
       "      <td>None</td>\n",
       "      <td>105</td>\n",
       "      <td>تتبادل هنية الحب مع إسماعيل، وترفض مرسي الذي ي...</td>\n",
       "      <td>جابر عبدالسلام,محمد مصطفى سامي</td>\n",
       "      <td>نجلاء فتحي,محمود عبدالعزيز,عادل أدهم,عبدالوارث...</td>\n",
       "      <td>أفلام جلال,ماري كويني,سيد علي,إبراهيم زكي</td>\n",
       "      <td>مصطفى إمام,يحيى عباس</td>\n",
       "      <td>صلاح عبدالرازق,مارسيل صالح,صلاح خليل</td>\n",
       "      <td>نهاد بهجت,جمال مرسي,محمد كامل,عباس صابر</td>\n",
       "      <td>None</td>\n",
       "      <td>فؤاد الظاهري</td>\n",
       "      <td>نادر جلال,أمالي بهنسي</td>\n",
       "      <td>أفلام جلال,المصرية اللبنانية للتجارة والسينما</td>\n",
       "      <td>يناير</td>\n",
       "      <td>1979</td>\n",
       "      <td>5.7</td>\n",
       "    </tr>\n",
       "  </tbody>\n",
       "</table>\n",
       "</div>"
      ],
      "text/plain": [
       "         اسم الفيلم التصنيف المدة  \\\n",
       "570  أقوى من الأيام    None   105   \n",
       "\n",
       "                                                  ملخص  \\\n",
       "570  تتبادل هنية الحب مع إسماعيل، وترفض مرسي الذي ي...   \n",
       "\n",
       "                              تأليف  \\\n",
       "570  جابر عبدالسلام,محمد مصطفى سامي   \n",
       "\n",
       "                                                 تمثيل  \\\n",
       "570  نجلاء فتحي,محمود عبدالعزيز,عادل أدهم,عبدالوارث...   \n",
       "\n",
       "                                         إنتاج                 تصوير  \\\n",
       "570  أفلام جلال,ماري كويني,سيد علي,إبراهيم زكي  مصطفى إمام,يحيى عباس   \n",
       "\n",
       "                                   مونتاج  \\\n",
       "570  صلاح عبدالرازق,مارسيل صالح,صلاح خليل   \n",
       "\n",
       "                                       ديكور ملابس        موسيقى  \\\n",
       "570  نهاد بهجت,جمال مرسي,محمد كامل,عباس صابر  None  فؤاد الظاهري   \n",
       "\n",
       "                     إخراج                                          توزيع  \\\n",
       "570  نادر جلال,أمالي بهنسي  أفلام جلال,المصرية اللبنانية للتجارة والسينما   \n",
       "\n",
       "     الشهر السنة التقييم  \n",
       "570  يناير  1979     5.7  "
      ]
     },
     "execution_count": 291,
     "metadata": {},
     "output_type": "execute_result"
    }
   ],
   "source": [
    "synopsis_added_70s.sample()"
   ]
  },
  {
   "cell_type": "code",
   "execution_count": 292,
   "metadata": {},
   "outputs": [],
   "source": [
    "synopsis_added_70s['التقييم'] = synopsis_added_70s['التقييم'].astype(float)"
   ]
  },
  {
   "cell_type": "code",
   "execution_count": 293,
   "metadata": {},
   "outputs": [],
   "source": [
    "synopsis_added_70s = change_empty_entries_to_None(synopsis_added_70s)"
   ]
  },
  {
   "cell_type": "code",
   "execution_count": 294,
   "metadata": {
    "collapsed": true
   },
   "outputs": [
    {
     "name": "stderr",
     "output_type": "stream",
     "text": [
      "/Users/karefsn/Development/anaconda3/lib/python3.7/site-packages/ipykernel_launcher.py:20: DeprecationWarning: The truth value of an empty array is ambiguous. Returning False, but in future this will result in an error. Use `array.size > 0` to check that an array is not empty.\n",
      "/Users/karefsn/Development/anaconda3/lib/python3.7/site-packages/ipykernel_launcher.py:23: DeprecationWarning: The truth value of an empty array is ambiguous. Returning False, but in future this will result in an error. Use `array.size > 0` to check that an array is not empty.\n"
     ]
    }
   ],
   "source": [
    "cast_seperated_70s,_ = seperate_cast_by_gender(synopsis_added_70s)"
   ]
  },
  {
   "cell_type": "code",
   "execution_count": 311,
   "metadata": {},
   "outputs": [
    {
     "data": {
      "text/html": [
       "<div>\n",
       "<style scoped>\n",
       "    .dataframe tbody tr th:only-of-type {\n",
       "        vertical-align: middle;\n",
       "    }\n",
       "\n",
       "    .dataframe tbody tr th {\n",
       "        vertical-align: top;\n",
       "    }\n",
       "\n",
       "    .dataframe thead th {\n",
       "        text-align: right;\n",
       "    }\n",
       "</style>\n",
       "<table border=\"1\" class=\"dataframe\">\n",
       "  <thead>\n",
       "    <tr style=\"text-align: right;\">\n",
       "      <th></th>\n",
       "      <th>اسم الفيلم</th>\n",
       "      <th>التصنيف</th>\n",
       "      <th>المدة</th>\n",
       "      <th>ملخص</th>\n",
       "      <th>تأليف</th>\n",
       "      <th>إنتاج</th>\n",
       "      <th>تصوير</th>\n",
       "      <th>مونتاج</th>\n",
       "      <th>ديكور</th>\n",
       "      <th>ملابس</th>\n",
       "      <th>موسيقى</th>\n",
       "      <th>إخراج</th>\n",
       "      <th>توزيع</th>\n",
       "      <th>الشهر</th>\n",
       "      <th>السنة</th>\n",
       "      <th>التقييم</th>\n",
       "      <th>ممثلات</th>\n",
       "      <th>ممثلون</th>\n",
       "    </tr>\n",
       "  </thead>\n",
       "  <tbody>\n",
       "    <tr>\n",
       "      <th>296</th>\n",
       "      <td>يوم الأحد الدامي</td>\n",
       "      <td>None</td>\n",
       "      <td>115</td>\n",
       "      <td>يهرب ثلاثة مساجين من السجن، (سلطان) و(حمادة) أ...</td>\n",
       "      <td>رؤوف حلمي,عبدالحي أديب</td>\n",
       "      <td>المتحدة للسينما (صبحي فرحات),صبحي فرحات,محمد ح...</td>\n",
       "      <td>رمسيس مرزوق,تحتمس صديق,إسماعيل جمال</td>\n",
       "      <td>جلال مصطفى,عادل شكري,صلاح خليل</td>\n",
       "      <td>ماهر عبدالنور,جيهان حلمى,نجيب خوري</td>\n",
       "      <td>بهيجه الحلبى</td>\n",
       "      <td>طارق شرارة</td>\n",
       "      <td>نيازي مصطفى,مصطفى جمال الدين,محمد الهواري</td>\n",
       "      <td>المتحدة للسينما (صبحي فرحات)</td>\n",
       "      <td>مايو</td>\n",
       "      <td>1975</td>\n",
       "      <td>5.6</td>\n",
       "      <td>[ميرفت أمين, زهرة العلا, ليلى صادق, دينا عبدال...</td>\n",
       "      <td>[رشدي أباظة, نور الشريف, عماد حمدي, علي الشريف...</td>\n",
       "    </tr>\n",
       "  </tbody>\n",
       "</table>\n",
       "</div>"
      ],
      "text/plain": [
       "           اسم الفيلم التصنيف المدة  \\\n",
       "296  يوم الأحد الدامي    None   115   \n",
       "\n",
       "                                                  ملخص  \\\n",
       "296  يهرب ثلاثة مساجين من السجن، (سلطان) و(حمادة) أ...   \n",
       "\n",
       "                      تأليف  \\\n",
       "296  رؤوف حلمي,عبدالحي أديب   \n",
       "\n",
       "                                                 إنتاج  \\\n",
       "296  المتحدة للسينما (صبحي فرحات),صبحي فرحات,محمد ح...   \n",
       "\n",
       "                                   تصوير                          مونتاج  \\\n",
       "296  رمسيس مرزوق,تحتمس صديق,إسماعيل جمال  جلال مصطفى,عادل شكري,صلاح خليل   \n",
       "\n",
       "                                  ديكور         ملابس      موسيقى  \\\n",
       "296  ماهر عبدالنور,جيهان حلمى,نجيب خوري  بهيجه الحلبى  طارق شرارة   \n",
       "\n",
       "                                         إخراج                         توزيع  \\\n",
       "296  نيازي مصطفى,مصطفى جمال الدين,محمد الهواري  المتحدة للسينما (صبحي فرحات)   \n",
       "\n",
       "    الشهر السنة  التقييم                                             ممثلات  \\\n",
       "296  مايو  1975      5.6  [ميرفت أمين, زهرة العلا, ليلى صادق, دينا عبدال...   \n",
       "\n",
       "                                                ممثلون  \n",
       "296  [رشدي أباظة, نور الشريف, عماد حمدي, علي الشريف...  "
      ]
     },
     "execution_count": 311,
     "metadata": {},
     "output_type": "execute_result"
    }
   ],
   "source": [
    "cast_seperated_70s.drop(inplace = True, columns = ['تمثيل'])\n",
    "cast_seperated_70s.sample()"
   ]
  },
  {
   "cell_type": "code",
   "execution_count": 312,
   "metadata": {
    "code_folding": [
     0
    ]
   },
   "outputs": [],
   "source": [
    "cast_seperated_70s.drop(columns = ['توزيع', 'ملابس', 'ديكور', 'مونتاج', \\\n",
    "                         'تصوير', 'موسيقى', 'إنتاج'], inplace = True)"
   ]
  },
  {
   "cell_type": "code",
   "execution_count": 313,
   "metadata": {},
   "outputs": [
    {
     "data": {
      "text/html": [
       "<div>\n",
       "<style scoped>\n",
       "    .dataframe tbody tr th:only-of-type {\n",
       "        vertical-align: middle;\n",
       "    }\n",
       "\n",
       "    .dataframe tbody tr th {\n",
       "        vertical-align: top;\n",
       "    }\n",
       "\n",
       "    .dataframe thead th {\n",
       "        text-align: right;\n",
       "    }\n",
       "</style>\n",
       "<table border=\"1\" class=\"dataframe\">\n",
       "  <thead>\n",
       "    <tr style=\"text-align: right;\">\n",
       "      <th></th>\n",
       "      <th>اسم الفيلم</th>\n",
       "      <th>التصنيف</th>\n",
       "      <th>المدة</th>\n",
       "      <th>ملخص</th>\n",
       "      <th>تأليف</th>\n",
       "      <th>إخراج</th>\n",
       "      <th>الشهر</th>\n",
       "      <th>السنة</th>\n",
       "      <th>التقييم</th>\n",
       "      <th>ممثلات</th>\n",
       "      <th>ممثلون</th>\n",
       "    </tr>\n",
       "  </thead>\n",
       "  <tbody>\n",
       "    <tr>\n",
       "      <th>577</th>\n",
       "      <td>أنقذوا هذه العائلة</td>\n",
       "      <td>ﺩﺭاﻣﺎ</td>\n",
       "      <td>100</td>\n",
       "      <td>تتعرف (ليلى) ابنة الثري (فؤاد) على (ممدوح) الش...</td>\n",
       "      <td>فاروق صبري</td>\n",
       "      <td>حسن إبراهيم,شريف يحيى,ماهر شفيق</td>\n",
       "      <td>يونيو</td>\n",
       "      <td>1979</td>\n",
       "      <td>5.4</td>\n",
       "      <td>[ميرفت أمين, كريمة مختار, هدى رمزي, نبيلة السي...</td>\n",
       "      <td>[فريد شوقي, حسين فهمي, أبو بكر عزت, محمود المل...</td>\n",
       "    </tr>\n",
       "  </tbody>\n",
       "</table>\n",
       "</div>"
      ],
      "text/plain": [
       "             اسم الفيلم التصنيف المدة  \\\n",
       "577  أنقذوا هذه العائلة   ﺩﺭاﻣﺎ   100   \n",
       "\n",
       "                                                  ملخص       تأليف  \\\n",
       "577  تتعرف (ليلى) ابنة الثري (فؤاد) على (ممدوح) الش...  فاروق صبري   \n",
       "\n",
       "                               إخراج  الشهر السنة  التقييم  \\\n",
       "577  حسن إبراهيم,شريف يحيى,ماهر شفيق  يونيو  1979      5.4   \n",
       "\n",
       "                                                ممثلات  \\\n",
       "577  [ميرفت أمين, كريمة مختار, هدى رمزي, نبيلة السي...   \n",
       "\n",
       "                                                ممثلون  \n",
       "577  [فريد شوقي, حسين فهمي, أبو بكر عزت, محمود المل...  "
      ]
     },
     "execution_count": 313,
     "metadata": {},
     "output_type": "execute_result"
    }
   ],
   "source": [
    "cast_seperated_70s.sample()"
   ]
  },
  {
   "cell_type": "code",
   "execution_count": 314,
   "metadata": {
    "code_folding": [
     0
    ]
   },
   "outputs": [],
   "source": [
    "movies_70s_df = cast_seperated_70s[['اسم الفيلم', 'الشهر', 'السنة', 'التصنيف',\\\n",
    "                                    'التقييم', 'المدة', 'ملخص', 'ممثلات', 'ممثلون',\n",
    "                                    'تأليف', 'إخراج']]"
   ]
  },
  {
   "cell_type": "code",
   "execution_count": 315,
   "metadata": {},
   "outputs": [
    {
     "data": {
      "text/html": [
       "<div>\n",
       "<style scoped>\n",
       "    .dataframe tbody tr th:only-of-type {\n",
       "        vertical-align: middle;\n",
       "    }\n",
       "\n",
       "    .dataframe tbody tr th {\n",
       "        vertical-align: top;\n",
       "    }\n",
       "\n",
       "    .dataframe thead th {\n",
       "        text-align: right;\n",
       "    }\n",
       "</style>\n",
       "<table border=\"1\" class=\"dataframe\">\n",
       "  <thead>\n",
       "    <tr style=\"text-align: right;\">\n",
       "      <th></th>\n",
       "      <th>اسم الفيلم</th>\n",
       "      <th>الشهر</th>\n",
       "      <th>السنة</th>\n",
       "      <th>التصنيف</th>\n",
       "      <th>التقييم</th>\n",
       "      <th>المدة</th>\n",
       "      <th>ملخص</th>\n",
       "      <th>ممثلات</th>\n",
       "      <th>ممثلون</th>\n",
       "      <th>تأليف</th>\n",
       "      <th>إخراج</th>\n",
       "    </tr>\n",
       "  </thead>\n",
       "  <tbody>\n",
       "    <tr>\n",
       "      <th>427</th>\n",
       "      <td>المرأة السامرية</td>\n",
       "      <td>يناير</td>\n",
       "      <td>1977</td>\n",
       "      <td>None</td>\n",
       "      <td>NaN</td>\n",
       "      <td>101.4</td>\n",
       "      <td>None</td>\n",
       "      <td>[]</td>\n",
       "      <td>[]</td>\n",
       "      <td>None</td>\n",
       "      <td>None</td>\n",
       "    </tr>\n",
       "  </tbody>\n",
       "</table>\n",
       "</div>"
      ],
      "text/plain": [
       "          اسم الفيلم  الشهر السنة التصنيف  التقييم  المدة  ملخص ممثلات ممثلون  \\\n",
       "427  المرأة السامرية  يناير  1977    None      NaN  101.4  None     []     []   \n",
       "\n",
       "    تأليف إخراج  \n",
       "427  None  None  "
      ]
     },
     "execution_count": 315,
     "metadata": {},
     "output_type": "execute_result"
    }
   ],
   "source": [
    "movies_70s_df.sample()"
   ]
  },
  {
   "cell_type": "markdown",
   "metadata": {},
   "source": [
    "### *_Merging  Datasets_*"
   ]
  },
  {
   "cell_type": "code",
   "execution_count": 316,
   "metadata": {},
   "outputs": [],
   "source": [
    "dataframes = [movies_40s_df \\\n",
    "              , movies_50s_df\\\n",
    "              , movies_60s_df\\\n",
    "              , movies_70s_df]"
   ]
  },
  {
   "cell_type": "code",
   "execution_count": 402,
   "metadata": {},
   "outputs": [],
   "source": [
    "movies_df = pd.concat(dataframes, sort = False)\n",
    "movies_df = movies_df.reset_index(drop = True)"
   ]
  },
  {
   "cell_type": "code",
   "execution_count": 403,
   "metadata": {},
   "outputs": [
    {
     "name": "stdout",
     "output_type": "stream",
     "text": [
      "Column Name:  ‫اسم الفيلم‬\n",
      "count              1980\n",
      "unique             1956\n",
      "top       شلة المشاغبين\n",
      "freq                  2\n",
      "Name: اسم الفيلم, dtype: object\n",
      "\n",
      "--------------------\n",
      "Column Name:  ‫الشهر‬\n",
      "count      1980\n",
      "unique       12\n",
      "top       يناير\n",
      "freq        710\n",
      "Name: الشهر, dtype: object\n",
      "\n",
      "--------------------\n",
      "Column Name:  ‫السنة‬\n",
      "count     1980\n",
      "unique      40\n",
      "top       1978\n",
      "freq        78\n",
      "Name: السنة, dtype: object\n",
      "\n",
      "--------------------\n",
      "Column Name:  ‫التصنيف‬\n",
      "count      1195\n",
      "unique       16\n",
      "top       ﺩﺭاﻣﺎ\n",
      "freq        630\n",
      "Name: التصنيف, dtype: object\n",
      "\n",
      "--------------------\n",
      "Column Name:  ‫التقييم‬\n",
      "count     1815.0\n",
      "unique     105.0\n",
      "top          0.0\n",
      "freq        99.0\n",
      "Name: التقييم, dtype: float64\n",
      "\n",
      "--------------------\n",
      "Column Name:  ‫المدة‬\n",
      "count     1971.0\n",
      "unique     179.0\n",
      "top        100.0\n",
      "freq       149.0\n",
      "Name: المدة, dtype: float64\n",
      "\n",
      "--------------------\n",
      "Column Name:  ‫ملخص‬\n",
      "count       1878\n",
      "unique      1871\n",
      "top             \n",
      "freq           3\n",
      "Name: ملخص, dtype: object\n",
      "\n",
      "--------------------\n",
      "Column Name:  ‫ممثلات‬\n",
      "count     1980\n",
      "unique    1877\n",
      "top         []\n",
      "freq        94\n",
      "Name: ممثلات, dtype: object\n",
      "\n",
      "--------------------\n",
      "Column Name:  ‫ممثلون‬\n",
      "count     1980\n",
      "unique    1891\n",
      "top         []\n",
      "freq        86\n",
      "Name: ممثلون, dtype: object\n",
      "\n",
      "--------------------\n",
      "Column Name:  ‫تأليف‬\n",
      "count                    1845\n",
      "unique                   1226\n",
      "top       أبو السعود الإبياري\n",
      "freq                       47\n",
      "Name: تأليف, dtype: object\n",
      "\n",
      "--------------------\n",
      "Column Name:  ‫إخراج‬\n",
      "count                    1885\n",
      "unique                   1221\n",
      "top       حلمي رفلة,عاطف سالم\n",
      "freq                       20\n",
      "Name: إخراج, dtype: object\n",
      "\n",
      "--------------------\n"
     ]
    }
   ],
   "source": [
    "describe_dataframe(movies_df)"
   ]
  },
  {
   "cell_type": "code",
   "execution_count": 404,
   "metadata": {},
   "outputs": [
    {
     "name": "stdout",
     "output_type": "stream",
     "text": [
      ">> ‫اسم الفيلم: 0%\n",
      ">> ‫الشهر: 0%\n",
      ">> ‫السنة: 0%\n",
      ">> ‫التصنيف: 40%\n",
      ">> ‫التقييم: 8%\n",
      ">> ‫المدة: 0%\n",
      ">> ‫ملخص: 5%\n",
      ">> ‫ممثلات: 0%\n",
      ">> ‫ممثلون: 0%\n",
      ">> ‫تأليف: 7%\n",
      ">> ‫إخراج: 5%\n"
     ]
    }
   ],
   "source": [
    "get_null_percentage(movies_df)"
   ]
  },
  {
   "cell_type": "code",
   "execution_count": 405,
   "metadata": {},
   "outputs": [
    {
     "data": {
      "text/plain": [
       "اسم الفيلم    object\n",
       "الشهر         object\n",
       "السنة         object\n",
       "التصنيف       object\n",
       "التقييم       object\n",
       "المدة         object\n",
       "ملخص          object\n",
       "ممثلات        object\n",
       "ممثلون        object\n",
       "تأليف         object\n",
       "إخراج         object\n",
       "dtype: object"
      ]
     },
     "execution_count": 405,
     "metadata": {},
     "output_type": "execute_result"
    }
   ],
   "source": [
    "movies_df.dtypes"
   ]
  },
  {
   "cell_type": "code",
   "execution_count": 406,
   "metadata": {},
   "outputs": [],
   "source": [
    "movies_df['المدة'] = movies_df['المدة'].astype(float)\n",
    "movies_df['التقييم'] = movies_df['التقييم'].astype(float)"
   ]
  },
  {
   "cell_type": "markdown",
   "metadata": {},
   "source": [
    "#### Further Cleansing"
   ]
  },
  {
   "cell_type": "code",
   "execution_count": 407,
   "metadata": {},
   "outputs": [],
   "source": [
    "movies_df['المدة'] = movies_df['المدة'].fillna(float(0))\n",
    "movies_df['التقييم'] = movies_df['التقييم'].fillna(float(0))"
   ]
  },
  {
   "cell_type": "code",
   "execution_count": 408,
   "metadata": {},
   "outputs": [],
   "source": [
    "movies_df = movies_df.dropna(axis=0, subset=['ملخص'])"
   ]
  },
  {
   "cell_type": "code",
   "execution_count": 409,
   "metadata": {},
   "outputs": [
    {
     "name": "stdout",
     "output_type": "stream",
     "text": [
      ">> ‫اسم الفيلم: 0%\n",
      ">> ‫الشهر: 0%\n",
      ">> ‫السنة: 0%\n",
      ">> ‫التصنيف: 37%\n",
      ">> ‫التقييم: 0%\n",
      ">> ‫المدة: 0%\n",
      ">> ‫ملخص: 0%\n",
      ">> ‫ممثلات: 0%\n",
      ">> ‫ممثلون: 0%\n",
      ">> ‫تأليف: 3%\n",
      ">> ‫إخراج: 2%\n"
     ]
    }
   ],
   "source": [
    "get_null_percentage(movies_df)"
   ]
  },
  {
   "cell_type": "markdown",
   "metadata": {},
   "source": [
    "## Doc2Vec on Synopsis  to Classify Movie Genre"
   ]
  },
  {
   "cell_type": "markdown",
   "metadata": {},
   "source": [
    "#### Doc2Vec Preprocessing Functions"
   ]
  },
  {
   "cell_type": "code",
   "execution_count": 324,
   "metadata": {
    "code_folding": [
     0
    ]
   },
   "outputs": [],
   "source": [
    "def remove_names(synopsis, actors, actresses):  \n",
    "    \n",
    "    if(type(actors) == list):\n",
    "        for actor in actors:\n",
    "            if(actor in synopsis):\n",
    "                synopsis = synopsis.replace(actor, '')\n",
    "    if(type(actresses) == list):\n",
    "        for actress in actresses:\n",
    "            if(actress in synopsis):\n",
    "                synopsis = synopsis.replace(actress, '')\n",
    "            \n",
    "    return synopsis"
   ]
  },
  {
   "cell_type": "code",
   "execution_count": 325,
   "metadata": {
    "code_folding": [
     0
    ]
   },
   "outputs": [],
   "source": [
    "def stem_synopsis(synopsis, stemmer):\n",
    "    stemmed_synopsis = ''\n",
    "    for word in synopsis.split():\n",
    "        stemmed_word = stemmer.stem(word)\n",
    "        if(stemmed_word != word):\n",
    "            stemmed_synopsis += stemmed_word + ' '\n",
    "        \n",
    "    return stemmed_synopsis          "
   ]
  },
  {
   "cell_type": "code",
   "execution_count": 326,
   "metadata": {
    "code_folding": [
     0
    ]
   },
   "outputs": [],
   "source": [
    "def remove_arabic_punctuation(synopsis):\n",
    "    \n",
    "    cleaned_synopsis = \\\n",
    "    ''.join(char for char in synopsis if not ud.category(char).startswith('P'))\n",
    "    \n",
    "    return cleaned_synopsis"
   ]
  },
  {
   "cell_type": "code",
   "execution_count": 327,
   "metadata": {
    "code_folding": [
     0
    ]
   },
   "outputs": [],
   "source": [
    "def remove_stop_words(synopsis, stop_words):  \n",
    "\n",
    "    for word in synopsis.split():\n",
    "        if word in stop_words:\n",
    "            synopsis = synopsis.replace(word, '')\n",
    "            \n",
    "    return synopsis"
   ]
  },
  {
   "cell_type": "code",
   "execution_count": 328,
   "metadata": {
    "code_folding": [
     0
    ]
   },
   "outputs": [],
   "source": [
    "def remove_non_words(synopsis):\n",
    "    synopsis = re.sub(r'(\\d+)|[^\\w\\s]','',synopsis)\n",
    "    synopsis = re.sub(r'\\([^)]*\\)', '', synopsis)\n",
    "    return synopsis"
   ]
  },
  {
   "cell_type": "code",
   "execution_count": 329,
   "metadata": {
    "code_folding": [
     0
    ]
   },
   "outputs": [],
   "source": [
    "def tokenize_synopsis(synopsis):\n",
    "    tokens = []\n",
    "    words = wordpunct_tokenize(synopsis)\n",
    "    tokens.extend(words)\n",
    "    return tokens"
   ]
  },
  {
   "cell_type": "code",
   "execution_count": 330,
   "metadata": {
    "code_folding": [
     0
    ]
   },
   "outputs": [],
   "source": [
    "def preprocess_synopses(dataset):\n",
    "    \n",
    "    stop_words = set(nltk.corpus.stopwords.words(\"arabic\"))\n",
    "    stop_words.add('على')\n",
    "    stop_words.add('ان')\n",
    "    \n",
    "    stemmer = ISRIStemmer()\n",
    "\n",
    "    for row_index in range(dataset.shape[0]):\n",
    "        \n",
    "        synopsis = dataset.loc[row_index, 'ملخص']\n",
    "        actors = dataset.loc[row_index, 'ممثلون']\n",
    "        actresses = dataset.loc[row_index, 'ممثلات']\n",
    "        synopsis = remove_names(synopsis, actors, actresses)\n",
    "        synopsis = remove_arabic_punctuation(synopsis)\n",
    "        synopsis = remove_non_words(synopsis)\n",
    "        synopsis = remove_stop_words(synopsis, stop_words)\n",
    "        stemmed_synopsis = stem_synopsis(synopsis, stemmer)\n",
    "        tokenized_synopsis = tokenize_synopsis(stemmed_synopsis)\n",
    "    \n",
    "        try:\n",
    "            dataset.at[row_index, 'ملخص'] = tokenized_synopsis\n",
    "        except:\n",
    "            print('error occured at row: ' + str(row_index))\n",
    "                  \n",
    "    return dataset"
   ]
  },
  {
   "cell_type": "markdown",
   "metadata": {},
   "source": [
    "#### Create & Preprocess Dataset"
   ]
  },
  {
   "cell_type": "code",
   "execution_count": 344,
   "metadata": {},
   "outputs": [],
   "source": [
    "movies_dataset = movies_df.copy(deep = True)\n",
    "movies_dataset = movies_dataset.reset_index(drop = True)"
   ]
  },
  {
   "cell_type": "code",
   "execution_count": 345,
   "metadata": {},
   "outputs": [],
   "source": [
    "movies_dataset = preprocess_synopses(movies_dataset)"
   ]
  },
  {
   "cell_type": "code",
   "execution_count": 346,
   "metadata": {},
   "outputs": [],
   "source": [
    "targets = movies_dataset.loc[movies_dataset['التصنيف'].isnull()]"
   ]
  },
  {
   "cell_type": "code",
   "execution_count": 347,
   "metadata": {},
   "outputs": [],
   "source": [
    "movies_dataset.dropna(subset=['التصنيف'], inplace=True)"
   ]
  },
  {
   "cell_type": "code",
   "execution_count": 348,
   "metadata": {},
   "outputs": [],
   "source": [
    "movies_dataset = movies_dataset.reset_index(drop = True)"
   ]
  },
  {
   "cell_type": "markdown",
   "metadata": {},
   "source": [
    "#### Reduce Genre Dimensionalites"
   ]
  },
  {
   "cell_type": "code",
   "execution_count": 410,
   "metadata": {},
   "outputs": [
    {
     "data": {
      "text/plain": [
       "ﺩﺭاﻣﺎ                746\n",
       "ﻛﻮﻣﻴﺪﻱ               199\n",
       "ﺭﻭﻣﺎﻧﺴﻲ              129\n",
       "موسيقي / استعراضي     71\n",
       "تاريخي                14\n",
       "ﺧﻴﺎﻝ                  12\n",
       "ﺳﻴﺮﺓ ﺫاﺗﻴﺔ             7\n",
       "ﺣﺮﺏ                    3\n",
       "ﺭﻋﺐ                    1\n",
       "Name: التصنيف, dtype: int64"
      ]
     },
     "execution_count": 410,
     "metadata": {},
     "output_type": "execute_result"
    }
   ],
   "source": [
    "movies_dataset['التصنيف'].value_counts()"
   ]
  },
  {
   "cell_type": "markdown",
   "metadata": {},
   "source": [
    "We reduce the number of labels by grouping similar genres into one label,\n",
    "* ﺩﺭاﻣﺎ/ﺗﺸﻮﻳﻖ ﻭﺇﺛﺎﺭﺓ/ﺣﺮﻛﺔ/ﺟﺮﻳﻤﺔ/ﻣﻐﺎﻣﺮاﺕ/ﻏﻤﻮﺽ = دراما\n",
    "* ﻋﺎﺋﻠﻲ/ ﻛﻮﻣﻴﺪﻱ = ﻛﻮﻣﻴﺪﻱ\n",
    "\n",
    "While the rest of the labels remain unchanged.\n"
   ]
  },
  {
   "cell_type": "code",
   "execution_count": 350,
   "metadata": {
    "code_folding": []
   },
   "outputs": [],
   "source": [
    "def reduce_genre_labels(ds):\n",
    "    \n",
    "    for row_index in range(ds.shape[0]):\n",
    "        \n",
    "        cell_value = ds.loc[row_index, 'التصنيف']\n",
    "        \n",
    "        if(cell_value == 'ﺗﺸﻮﻳﻖ ﻭﺇﺛﺎﺭﺓ'):\n",
    "            ds.loc[row_index, 'التصنيف'] = 'ﺩﺭاﻣﺎ'\n",
    "        if(cell_value == 'ﺟﺮﻳﻤﺔ'):\n",
    "            ds.loc[row_index, 'التصنيف'] = 'ﺩﺭاﻣﺎ'\n",
    "        if(cell_value == 'ﺣﺮﻛﺔ'):\n",
    "            ds.loc[row_index, 'التصنيف'] = 'ﺩﺭاﻣﺎ'\n",
    "        if(cell_value == 'ﻏﻤﻮﺽ'):\n",
    "            ds.loc[row_index, 'التصنيف'] = 'ﺩﺭاﻣﺎ'\n",
    "        if(cell_value == 'ﻣﻐﺎﻣﺮاﺕ'):\n",
    "            ds.loc[row_index, 'التصنيف'] = 'ﺩﺭاﻣﺎ'\n",
    "        if(cell_value == 'ﻋﺎﺋﻠﻲ'):\n",
    "            ds.loc[row_index, 'التصنيف'] = 'ﻛﻮﻣﻴﺪﻱ'\n",
    "\n",
    "    return ds      "
   ]
  },
  {
   "cell_type": "code",
   "execution_count": 351,
   "metadata": {},
   "outputs": [],
   "source": [
    "movies_dataset = reduce_genre_labels(movies_dataset)"
   ]
  },
  {
   "cell_type": "code",
   "execution_count": 352,
   "metadata": {},
   "outputs": [
    {
     "data": {
      "text/plain": [
       "ﺩﺭاﻣﺎ                750\n",
       "ﻛﻮﻣﻴﺪﻱ               199\n",
       "ﺭﻭﻣﺎﻧﺴﻲ              129\n",
       "موسيقي / استعراضي     72\n",
       "تاريخي                14\n",
       "ﺧﻴﺎﻝ                  12\n",
       "ﺳﻴﺮﺓ ﺫاﺗﻴﺔ             7\n",
       "ﺣﺮﺏ                    3\n",
       "ﻗﺼﻴﺮ                   2\n",
       "ﺭﻋﺐ                    1\n",
       "Name: التصنيف, dtype: int64"
      ]
     },
     "execution_count": 352,
     "metadata": {},
     "output_type": "execute_result"
    }
   ],
   "source": [
    "movies_dataset['التصنيف'].value_counts()"
   ]
  },
  {
   "cell_type": "markdown",
   "metadata": {},
   "source": [
    "Short movies cannot be predicted contextually, therefore we assign the genre \"ﻗﺼﻴﺮ\" to movies with duration less than 45 minutes, and remove them from our yet to be trained dataset."
   ]
  },
  {
   "cell_type": "code",
   "execution_count": 353,
   "metadata": {
    "code_folding": []
   },
   "outputs": [],
   "source": [
    "movies_dataset.loc[movies_dataset['المدة'] < float(45), 'التصنيف'] = 'ﻗﺼﻴﺮ'"
   ]
  },
  {
   "cell_type": "code",
   "execution_count": 354,
   "metadata": {},
   "outputs": [
    {
     "data": {
      "text/plain": [
       "ﺩﺭاﻣﺎ                746\n",
       "ﻛﻮﻣﻴﺪﻱ               199\n",
       "ﺭﻭﻣﺎﻧﺴﻲ              129\n",
       "موسيقي / استعراضي     71\n",
       "تاريخي                14\n",
       "ﺧﻴﺎﻝ                  12\n",
       "ﻗﺼﻴﺮ                   7\n",
       "ﺳﻴﺮﺓ ﺫاﺗﻴﺔ             7\n",
       "ﺣﺮﺏ                    3\n",
       "ﺭﻋﺐ                    1\n",
       "Name: التصنيف, dtype: int64"
      ]
     },
     "execution_count": 354,
     "metadata": {},
     "output_type": "execute_result"
    }
   ],
   "source": [
    "movies_dataset['التصنيف'].value_counts()"
   ]
  },
  {
   "cell_type": "code",
   "execution_count": 355,
   "metadata": {},
   "outputs": [],
   "source": [
    "short_movies_indices = \\\n",
    "movies_dataset.loc[movies_dataset['التصنيف'] == 'ﻗﺼﻴﺮ'].index"
   ]
  },
  {
   "cell_type": "code",
   "execution_count": 356,
   "metadata": {},
   "outputs": [],
   "source": [
    "short_movies = movies_dataset.take(short_movies_indices)"
   ]
  },
  {
   "cell_type": "code",
   "execution_count": 357,
   "metadata": {},
   "outputs": [],
   "source": [
    "short_movies = short_movies.reset_index(drop = True)"
   ]
  },
  {
   "cell_type": "code",
   "execution_count": 358,
   "metadata": {},
   "outputs": [],
   "source": [
    "movies_dataset.drop(index = short_movies_indices,\\\n",
    "                                   inplace = True)"
   ]
  },
  {
   "cell_type": "code",
   "execution_count": 359,
   "metadata": {},
   "outputs": [],
   "source": [
    "movies_dataset = movies_dataset.reset_index(drop = True)"
   ]
  },
  {
   "cell_type": "markdown",
   "metadata": {},
   "source": [
    "#### Training and Testing \n",
    "Word2Vec Models used:\n",
    "* Distributed Bag of Words (DBOW): \n",
    "        We achieve vectors for each synopsis by training a neural network.\n",
    "        This neural network is tasked to predict the probability distribution\n",
    "        of words in a snyopsis.\n",
    "        \n",
    "* Distributed Memory (DM):\n",
    "        DM is a model that memorises what is missing from a synopsis context."
   ]
  },
  {
   "cell_type": "code",
   "execution_count": 360,
   "metadata": {
    "code_folding": []
   },
   "outputs": [],
   "source": [
    "def fetch_targets_regressors(model, tagged_docs):\n",
    "    sents = tagged_docs.values\n",
    "    targets, regressors = zip(*[(doc.tags, model.infer_vector(doc.words, steps=30)) for doc in sents])\n",
    "    return targets, regressors"
   ]
  },
  {
   "cell_type": "code",
   "execution_count": 361,
   "metadata": {},
   "outputs": [],
   "source": [
    "corpus = movies_dataset[['ملخص', 'التصنيف']]"
   ]
  },
  {
   "cell_type": "code",
   "execution_count": 362,
   "metadata": {},
   "outputs": [],
   "source": [
    "train, test = \\\n",
    "train_test_split(corpus, test_size=0.3, random_state=42)"
   ]
  },
  {
   "cell_type": "code",
   "execution_count": 363,
   "metadata": {
    "code_folding": [
     0
    ]
   },
   "outputs": [],
   "source": [
    "train_tagged = train.apply(\n",
    "    lambda row: TaggedDocument(words=row['ملخص'], tags=row['التصنيف']), axis=1)\n",
    "test_tagged = train.apply(\n",
    "    lambda row: TaggedDocument(words=row['ملخص'], tags=row['التصنيف']), axis=1)"
   ]
  },
  {
   "cell_type": "markdown",
   "metadata": {},
   "source": [
    "####  Training DBOW Model"
   ]
  },
  {
   "cell_type": "code",
   "execution_count": 364,
   "metadata": {},
   "outputs": [
    {
     "name": "stderr",
     "output_type": "stream",
     "text": [
      "100%|██████████| 827/827 [00:00<00:00, 364434.69it/s]\n"
     ]
    }
   ],
   "source": [
    "cores = multiprocessing.cpu_count()\n",
    "model_dbow = Doc2Vec(dm=0, vector_size=300, negative=5, hs=0, min_count=2, sample = 0, workers=cores)\n",
    "model_dbow.build_vocab([document for document in tqdm(train_tagged.values)])"
   ]
  },
  {
   "cell_type": "code",
   "execution_count": 365,
   "metadata": {
    "code_folding": [
     0
    ]
   },
   "outputs": [
    {
     "name": "stderr",
     "output_type": "stream",
     "text": [
      "100%|██████████| 827/827 [00:00<00:00, 273297.31it/s]\n",
      "100%|██████████| 827/827 [00:00<00:00, 772880.88it/s]\n",
      "100%|██████████| 827/827 [00:00<00:00, 792119.07it/s]\n",
      "100%|██████████| 827/827 [00:00<00:00, 814055.25it/s]\n",
      "100%|██████████| 827/827 [00:00<00:00, 604090.81it/s]\n",
      "100%|██████████| 827/827 [00:00<00:00, 657696.13it/s]\n",
      "100%|██████████| 827/827 [00:00<00:00, 730558.01it/s]\n",
      "100%|██████████| 827/827 [00:00<00:00, 751774.90it/s]\n",
      "100%|██████████| 827/827 [00:00<00:00, 811579.18it/s]\n",
      "100%|██████████| 827/827 [00:00<00:00, 409574.85it/s]\n",
      "100%|██████████| 827/827 [00:00<00:00, 654222.82it/s]\n",
      "100%|██████████| 827/827 [00:00<00:00, 750473.69it/s]\n",
      "100%|██████████| 827/827 [00:00<00:00, 819633.60it/s]\n",
      "100%|██████████| 827/827 [00:00<00:00, 811579.18it/s]\n",
      "100%|██████████| 827/827 [00:00<00:00, 812529.73it/s]\n",
      "100%|██████████| 827/827 [00:00<00:00, 756035.18it/s]\n",
      "100%|██████████| 827/827 [00:00<00:00, 650663.93it/s]\n",
      "100%|██████████| 827/827 [00:00<00:00, 705018.17it/s]\n",
      "100%|██████████| 827/827 [00:00<00:00, 836231.78it/s]\n",
      "100%|██████████| 827/827 [00:00<00:00, 781588.42it/s]\n",
      "100%|██████████| 827/827 [00:00<00:00, 729175.83it/s]\n",
      "100%|██████████| 827/827 [00:00<00:00, 804240.53it/s]\n",
      "100%|██████████| 827/827 [00:00<00:00, 802194.59it/s]\n",
      "100%|██████████| 827/827 [00:00<00:00, 460465.87it/s]\n",
      "100%|██████████| 827/827 [00:00<00:00, 202444.81it/s]\n",
      "100%|██████████| 827/827 [00:00<00:00, 764365.23it/s]\n",
      "100%|██████████| 827/827 [00:00<00:00, 408609.90it/s]\n",
      "100%|██████████| 827/827 [00:00<00:00, 572296.55it/s]\n",
      "100%|██████████| 827/827 [00:00<00:00, 842937.89it/s]\n",
      "100%|██████████| 827/827 [00:00<00:00, 682141.48it/s]\n"
     ]
    }
   ],
   "source": [
    "for epoch in range(30):\n",
    "    model_dbow.train(utils.shuffle([document for document in tqdm(train_tagged.values)]),\\\n",
    "                     total_examples=len(train_tagged.values), epochs=1)\n",
    "    model_dbow.alpha -= 0.002\n",
    "    model_dbow.min_alpha = model_dbow.alpha"
   ]
  },
  {
   "cell_type": "code",
   "execution_count": 366,
   "metadata": {
    "code_folding": [
     0,
     2
    ]
   },
   "outputs": [
    {
     "name": "stdout",
     "output_type": "stream",
     "text": [
      "Testing accuracy 0.0471584038694075\n",
      "Testing F1 score: 0.04312890123089164\n"
     ]
    }
   ],
   "source": [
    "y_train, X_train = fetch_targets_regressors(model_dbow,\\\n",
    "                                            train_tagged)\n",
    "y_test, X_test = fetch_targets_regressors(model_dbow,\\\n",
    "                                          test_tagged)\n",
    "SGD_classifier = SGDClassifier(loss=\"hinge\", penalty=\"l2\", max_iter=100)\n",
    "SGD_classifier.fit(X_train, y_train)\n",
    "y_predict = SGD_classifier.predict(X_test)\n",
    "\n",
    "print('Testing accuracy %s' % accuracy_score(y_test, y_predict))\n",
    "print('Testing F1 score: {}'.format(f1_score(y_test, y_predict, average='weighted')))"
   ]
  },
  {
   "cell_type": "markdown",
   "metadata": {},
   "source": [
    "Which genres were never predicted?"
   ]
  },
  {
   "cell_type": "code",
   "execution_count": 367,
   "metadata": {},
   "outputs": [
    {
     "data": {
      "text/plain": [
       "{'تاريخي', 'ﺩﺭاﻣﺎ', 'ﺭﻋﺐ', 'ﺳﻴﺮﺓ ﺫاﺗﻴﺔ'}"
      ]
     },
     "execution_count": 367,
     "metadata": {},
     "output_type": "execute_result"
    }
   ],
   "source": [
    "set(y_test) - set(y_predict)"
   ]
  },
  {
   "cell_type": "markdown",
   "metadata": {},
   "source": [
    "####  Training DM Model"
   ]
  },
  {
   "cell_type": "code",
   "execution_count": 368,
   "metadata": {},
   "outputs": [
    {
     "name": "stderr",
     "output_type": "stream",
     "text": [
      "100%|██████████| 827/827 [00:00<00:00, 414122.42it/s]\n"
     ]
    }
   ],
   "source": [
    "model_dm = Doc2Vec(dm=1, dm_mean=1, vector_size=300, window=10, negative=5, min_count=1, workers=5, alpha=0.065, min_alpha=0.065)\n",
    "model_dm.build_vocab([document for document in tqdm(train_tagged.values)])"
   ]
  },
  {
   "cell_type": "code",
   "execution_count": 369,
   "metadata": {
    "code_folding": [],
    "collapsed": true
   },
   "outputs": [
    {
     "name": "stderr",
     "output_type": "stream",
     "text": [
      "100%|██████████| 827/827 [00:00<00:00, 460465.87it/s]\n",
      "100%|██████████| 827/827 [00:00<00:00, 722944.85it/s]\n",
      "100%|██████████| 827/827 [00:00<00:00, 733803.56it/s]\n",
      "100%|██████████| 827/827 [00:00<00:00, 397420.88it/s]\n",
      "100%|██████████| 827/827 [00:00<00:00, 773570.34it/s]\n",
      "100%|██████████| 827/827 [00:00<00:00, 662722.47it/s]\n",
      "100%|██████████| 827/827 [00:00<00:00, 506082.49it/s]\n",
      "100%|██████████| 827/827 [00:00<00:00, 843963.36it/s]\n",
      "100%|██████████| 827/827 [00:00<00:00, 506378.02it/s]\n",
      "100%|██████████| 827/827 [00:00<00:00, 732563.76it/s]\n",
      "100%|██████████| 827/827 [00:00<00:00, 531518.45it/s]\n",
      "100%|██████████| 827/827 [00:00<00:00, 612518.00it/s]\n",
      "100%|██████████| 827/827 [00:00<00:00, 510777.41it/s]\n",
      "100%|██████████| 827/827 [00:00<00:00, 661584.86it/s]\n",
      "100%|██████████| 827/827 [00:00<00:00, 358039.78it/s]\n",
      "100%|██████████| 827/827 [00:00<00:00, 795206.19it/s]\n",
      "100%|██████████| 827/827 [00:00<00:00, 753080.64it/s]\n",
      "100%|██████████| 827/827 [00:00<00:00, 573052.93it/s]\n",
      "100%|██████████| 827/827 [00:00<00:00, 693321.89it/s]\n",
      "100%|██████████| 827/827 [00:00<00:00, 559556.28it/s]\n",
      "100%|██████████| 827/827 [00:00<00:00, 782293.51it/s]\n",
      "100%|██████████| 827/827 [00:00<00:00, 226504.47it/s]\n",
      "100%|██████████| 827/827 [00:00<00:00, 657945.64it/s]\n",
      "100%|██████████| 827/827 [00:00<00:00, 744353.95it/s]\n",
      "100%|██████████| 827/827 [00:00<00:00, 779480.77it/s]\n",
      "100%|██████████| 827/827 [00:00<00:00, 623192.49it/s]\n",
      "100%|██████████| 827/827 [00:00<00:00, 649202.58it/s]\n",
      "100%|██████████| 827/827 [00:00<00:00, 613493.00it/s]\n",
      "100%|██████████| 827/827 [00:00<00:00, 529409.25it/s]\n",
      "100%|██████████| 827/827 [00:00<00:00, 466660.76it/s]\n"
     ]
    },
    {
     "name": "stdout",
     "output_type": "stream",
     "text": [
      "CPU times: user 11.4 s, sys: 1.03 s, total: 12.4 s\n",
      "Wall time: 7.12 s\n"
     ]
    }
   ],
   "source": [
    "%%time\n",
    "for epoch in range(30):\n",
    "    model_dm.train(utils.shuffle([document for document in \\\n",
    "                tqdm(train_tagged.values)]),\\\n",
    "                total_examples=len(train_tagged.values), epochs=1)\n",
    "    model_dm.alpha -= 0.002\n",
    "    model_dm.min_alpha = model_dm.alpha"
   ]
  },
  {
   "cell_type": "code",
   "execution_count": 370,
   "metadata": {},
   "outputs": [
    {
     "name": "stdout",
     "output_type": "stream",
     "text": [
      "Testing accuracy 0.9842805320435308\n",
      "Testing F1 score: 0.9835029393881811\n"
     ]
    }
   ],
   "source": [
    "y_train, X_train = fetch_targets_regressors(model_dm, train_tagged)\n",
    "y_test, X_test = fetch_targets_regressors(model_dm, test_tagged)\n",
    "\n",
    "\n",
    "SGD_classifier = SGDClassifier(loss=\"hinge\", penalty=\"l2\", max_iter=50)\n",
    "SGD_classifier.fit(X_train, y_train)\n",
    "y_predict = SGD_classifier.predict(X_test)\n",
    "\n",
    "print('Testing accuracy %s' % accuracy_score(y_test, y_predict))\n",
    "print('Testing F1 score: {}'.format(f1_score(y_test, y_predict,\\\n",
    "                                             average='weighted')))"
   ]
  },
  {
   "cell_type": "markdown",
   "metadata": {},
   "source": [
    "Which genres were never predicted?"
   ]
  },
  {
   "cell_type": "code",
   "execution_count": 371,
   "metadata": {},
   "outputs": [
    {
     "data": {
      "text/plain": [
       "{'ﺭﻋﺐ'}"
      ]
     },
     "execution_count": 371,
     "metadata": {},
     "output_type": "execute_result"
    }
   ],
   "source": [
    "set(y_test) - set(y_predict)"
   ]
  },
  {
   "cell_type": "markdown",
   "metadata": {},
   "source": [
    "#### Predicting Missing Genres Using DM Model"
   ]
  },
  {
   "cell_type": "code",
   "execution_count": 372,
   "metadata": {},
   "outputs": [],
   "source": [
    "targets = targets.reset_index(drop = True)"
   ]
  },
  {
   "cell_type": "code",
   "execution_count": 373,
   "metadata": {},
   "outputs": [],
   "source": [
    "targets_docs = targets.apply(\n",
    "    lambda row: TaggedDocument(words=row['ملخص'], tags=row['التصنيف']), axis=1)"
   ]
  },
  {
   "cell_type": "code",
   "execution_count": 374,
   "metadata": {},
   "outputs": [],
   "source": [
    "genres, synopsis = \\\n",
    "    fetch_targets_regressors(model_dm, targets_docs)\n",
    "predicted_genres = \\\n",
    "SGD_classifier.predict(synopsis)"
   ]
  },
  {
   "cell_type": "code",
   "execution_count": 375,
   "metadata": {
    "code_folding": []
   },
   "outputs": [],
   "source": [
    "targets['التصنيف'] = predicted_genres"
   ]
  },
  {
   "cell_type": "markdown",
   "metadata": {},
   "source": [
    "#### Fill Missing Genre Values"
   ]
  },
  {
   "cell_type": "code",
   "execution_count": 376,
   "metadata": {
    "code_folding": [
     0
    ]
   },
   "outputs": [],
   "source": [
    "def fill_null_genres(non_missing_genres_df, missing_genres_df):\n",
    "    \n",
    "    for row_index in range(non_missing_genres_df.shape[0]):\n",
    "        genre = non_missing_genres_df.loc[row_index, 'التصنيف']\n",
    "        name = non_missing_genres_df.loc[row_index, 'اسم الفيلم']\n",
    "        year =  non_missing_genres_df.loc[row_index, 'السنة']\n",
    "\n",
    "        missing_genres_df.loc[(missing_genres_df['اسم الفيلم'] == name) \\\n",
    "                    & (missing_genres_df['السنة'] == year), 'التصنيف'] = genre\n",
    "    return missing_genres_df"
   ]
  },
  {
   "cell_type": "code",
   "execution_count": 411,
   "metadata": {},
   "outputs": [],
   "source": [
    "movies_df = fill_null_genres(targets, movies_df)\n",
    "movies_df = fill_null_genres(short_movies, movies_df)\n",
    "movies_df = movies_df.reset_index(drop = True)"
   ]
  },
  {
   "cell_type": "code",
   "execution_count": 412,
   "metadata": {},
   "outputs": [
    {
     "name": "stdout",
     "output_type": "stream",
     "text": [
      ">> ‫اسم الفيلم: 0%\n",
      ">> ‫الشهر: 0%\n",
      ">> ‫السنة: 0%\n",
      ">> ‫التصنيف: 0%\n",
      ">> ‫التقييم: 0%\n",
      ">> ‫المدة: 0%\n",
      ">> ‫ملخص: 0%\n",
      ">> ‫ممثلات: 0%\n",
      ">> ‫ممثلون: 0%\n",
      ">> ‫تأليف: 3%\n",
      ">> ‫إخراج: 2%\n"
     ]
    }
   ],
   "source": [
    "get_null_percentage(movies_df)"
   ]
  },
  {
   "cell_type": "code",
   "execution_count": 413,
   "metadata": {},
   "outputs": [],
   "source": [
    "movies_df['السنة']  = movies_df['السنة'].astype(int)"
   ]
  },
  {
   "cell_type": "code",
   "execution_count": 423,
   "metadata": {},
   "outputs": [],
   "source": [
    "movies_df = seperate_authors_directors(movies_df)"
   ]
  },
  {
   "cell_type": "code",
   "execution_count": 424,
   "metadata": {
    "scrolled": false
   },
   "outputs": [
    {
     "data": {
      "text/html": [
       "<div>\n",
       "<style scoped>\n",
       "    .dataframe tbody tr th:only-of-type {\n",
       "        vertical-align: middle;\n",
       "    }\n",
       "\n",
       "    .dataframe tbody tr th {\n",
       "        vertical-align: top;\n",
       "    }\n",
       "\n",
       "    .dataframe thead th {\n",
       "        text-align: right;\n",
       "    }\n",
       "</style>\n",
       "<table border=\"1\" class=\"dataframe\">\n",
       "  <thead>\n",
       "    <tr style=\"text-align: right;\">\n",
       "      <th></th>\n",
       "      <th>اسم الفيلم</th>\n",
       "      <th>الشهر</th>\n",
       "      <th>السنة</th>\n",
       "      <th>التصنيف</th>\n",
       "      <th>التقييم</th>\n",
       "      <th>المدة</th>\n",
       "      <th>ملخص</th>\n",
       "      <th>ممثلات</th>\n",
       "      <th>ممثلون</th>\n",
       "      <th>تأليف</th>\n",
       "      <th>إخراج</th>\n",
       "    </tr>\n",
       "  </thead>\n",
       "  <tbody>\n",
       "    <tr>\n",
       "      <th>114</th>\n",
       "      <td>قصة غرام</td>\n",
       "      <td>ديسمبر</td>\n",
       "      <td>1945</td>\n",
       "      <td>ﺭﻭﻣﺎﻧﺴﻲ</td>\n",
       "      <td>6.3</td>\n",
       "      <td>88.0</td>\n",
       "      <td>يعيش (جلال) في كنف والد (هدى) ويرتبط الصغيران ...</td>\n",
       "      <td>[أميرة أمير, صفية حلمي, كوثر عبدالله, زينات صد...</td>\n",
       "      <td>[إبراهيم حمودة, بشارة واكيم, زكي رستم, محمود ا...</td>\n",
       "      <td>[كمال سليم]</td>\n",
       "      <td>[كمال سليم, محمد عبدالجواد, حسن حلمي, عز الدين...</td>\n",
       "    </tr>\n",
       "  </tbody>\n",
       "</table>\n",
       "</div>"
      ],
      "text/plain": [
       "    اسم الفيلم   الشهر  السنة  التصنيف  التقييم  المدة  \\\n",
       "114   قصة غرام  ديسمبر   1945  ﺭﻭﻣﺎﻧﺴﻲ      6.3   88.0   \n",
       "\n",
       "                                                  ملخص  \\\n",
       "114  يعيش (جلال) في كنف والد (هدى) ويرتبط الصغيران ...   \n",
       "\n",
       "                                                ممثلات  \\\n",
       "114  [أميرة أمير, صفية حلمي, كوثر عبدالله, زينات صد...   \n",
       "\n",
       "                                                ممثلون        تأليف  \\\n",
       "114  [إبراهيم حمودة, بشارة واكيم, زكي رستم, محمود ا...  [كمال سليم]   \n",
       "\n",
       "                                                 إخراج  \n",
       "114  [كمال سليم, محمد عبدالجواد, حسن حلمي, عز الدين...  "
      ]
     },
     "execution_count": 424,
     "metadata": {},
     "output_type": "execute_result"
    }
   ],
   "source": [
    "movies_df.sample()"
   ]
  },
  {
   "cell_type": "code",
   "execution_count": 425,
   "metadata": {},
   "outputs": [
    {
     "name": "stdout",
     "output_type": "stream",
     "text": [
      ">> ‫اسم الفيلم: 0%\n",
      ">> ‫الشهر: 0%\n",
      ">> ‫السنة: 0%\n",
      ">> ‫التصنيف: 0%\n",
      ">> ‫التقييم: 0%\n",
      ">> ‫المدة: 0%\n",
      ">> ‫ملخص: 0%\n",
      ">> ‫ممثلات: 0%\n",
      ">> ‫ممثلون: 0%\n",
      ">> ‫تأليف: 0%\n",
      ">> ‫إخراج: 0%\n"
     ]
    }
   ],
   "source": [
    "get_null_percentage(movies_df)"
   ]
  },
  {
   "cell_type": "code",
   "execution_count": 426,
   "metadata": {
    "code_folding": [
     0,
     2,
     4,
     6
    ]
   },
   "outputs": [],
   "source": [
    "movies_40s = movies_df.loc[movies_df['السنة'].between(1940, 1949,\\\n",
    "                                                      inclusive = True)]\n",
    "movies_40s = movies_40s.reset_index(drop = True)\n",
    "movies_50s = movies_df.loc[movies_df['السنة'].between(1950, 1959,\\\n",
    "                                                      inclusive = True)]\n",
    "movies_50s = movies_50s.reset_index(drop = True)\n",
    "movies_60s = movies_df.loc[movies_df['السنة'].between(1960, 1969,\\\n",
    "                                                      inclusive = True)]\n",
    "movies_60s = movies_60s.reset_index(drop = True)\n",
    "movies_70s = movies_df.loc[movies_df['السنة'].between(1970, 1979,\\\n",
    "                                                      inclusive = True)]\n",
    "movies_70s = movies_70s.reset_index(drop = True)"
   ]
  },
  {
   "cell_type": "markdown",
   "metadata": {},
   "source": [
    "## Questions to Ask"
   ]
  },
  {
   "cell_type": "markdown",
   "metadata": {},
   "source": [
    "#### Plotting Functions"
   ]
  },
  {
   "cell_type": "code",
   "execution_count": 427,
   "metadata": {
    "code_folding": [
     0
    ]
   },
   "outputs": [],
   "source": [
    "def adjust_labels(labels):\n",
    "     \n",
    "    adjusted_labels = []\n",
    "    \n",
    "    for label in labels:\n",
    "        reshaped_label = ar.reshape(label)\n",
    "        bidi_label = get_display(reshaped_label)\n",
    "        adjusted_labels.append(bidi_label)\n",
    "    \n",
    "    return adjusted_labels"
   ]
  },
  {
   "cell_type": "code",
   "execution_count": 428,
   "metadata": {},
   "outputs": [],
   "source": [
    "decades = ['40s', '50s', '60s', '70s']"
   ]
  },
  {
   "cell_type": "code",
   "execution_count": 429,
   "metadata": {
    "code_folding": [
     0
    ]
   },
   "outputs": [],
   "source": [
    "def get_genres_counts(df_40s, df_50s, df_60s, df_70s):\n",
    "    \n",
    "    genres_count_40s = movies_40s['التصنيف'].value_counts()\n",
    "    genres_count_50s = movies_50s['التصنيف'].value_counts()\n",
    "    genres_count_60s = movies_60s['التصنيف'].value_counts()\n",
    "    genres_count_70s = movies_70s['التصنيف'].value_counts()\n",
    "    \n",
    "    return genres_count_40s, genres_count_50s,\\\n",
    "            genres_count_60s, genres_count_70s"
   ]
  },
  {
   "cell_type": "code",
   "execution_count": 430,
   "metadata": {
    "code_folding": [
     0,
     6,
     10
    ]
   },
   "outputs": [],
   "source": [
    "def plot_genre_dominations(movies_40s, movies_50s,\\\n",
    "                                   movies_60s, movies_70s):\n",
    "    genres_count_40s, genres_count_50s,\\\n",
    "            genres_count_60s, genres_count_70s =\\\n",
    "    get_genres_counts(movies_40s, movies_50s,\\\n",
    "                                   movies_60s, movies_70s)\n",
    "    top_genres = [ genres_count_40s.idxmax(),\\\n",
    "                genres_count_50s.idxmax(),\\\n",
    "                genres_count_60s.idxmax(),\\\n",
    "                genres_count_70s.idxmax()]\n",
    "    top_genres_counts = [ genres_count_40s[0],\\\n",
    "            genres_count_60s[0],\\\n",
    "            genres_count_50s[0],\\\n",
    "            genres_count_70s[0]]\n",
    "    \n",
    "    figure, axes = plt.subplots()\n",
    "    axes.bar(decades, top_genres_counts, color= 'orange')\n",
    "    rects = axes.patches\n",
    "    axes.spines['top'].set_visible(False)\n",
    "    axes.spines['right'].set_visible(False)\n",
    "    axes.set_xlabel('Decades')\n",
    "    axes.set_ylabel('Genre Counts')\n",
    "    \n",
    "    top_genre_labels = adjust_labels(top_genres)\n",
    "    for rect, label, count in zip(rects, top_genre_labels, top_genres_counts):\n",
    "        height = rect.get_height()\n",
    "        label_text = str(count) + ' :' + label\n",
    "        axes.text(rect.get_x() + rect.get_width() / 2, height + 5, label_text,\n",
    "                ha='center', va='bottom')\n"
   ]
  },
  {
   "cell_type": "code",
   "execution_count": 431,
   "metadata": {
    "code_folding": [
     0
    ]
   },
   "outputs": [],
   "source": [
    "def plot_genre_dominations(movies_40s, movies_50s,\\\n",
    "                                   movies_60s, movies_70s):\n",
    "    genres_count_40s, genres_count_50s,\\\n",
    "            genres_count_60s, genres_count_70s =\\\n",
    "    get_genres_counts(movies_40s, movies_50s,\\\n",
    "                                   movies_60s, movies_70s)\n",
    "    top_genres = [ genres_count_40s.idxmax(),\\\n",
    "                genres_count_50s.idxmax(),\\\n",
    "                genres_count_60s.idxmax(),\\\n",
    "                genres_count_70s.idxmax()]\n",
    "    top_genres_counts = [ genres_count_40s[0],\\\n",
    "            genres_count_60s[0],\\\n",
    "            genres_count_50s[0],\\\n",
    "            genres_count_70s[0]]\n",
    "    \n",
    "    figure, axes = plt.subplots()\n",
    "    axes.bar(decades, top_genres_counts, color= 'orange')\n",
    "    rects = axes.patches\n",
    "    axes.spines['top'].set_visible(False)\n",
    "    axes.spines['right'].set_visible(False)\n",
    "    axes.set_xlabel('Decades')\n",
    "    axes.set_ylabel('Genre Counts')\n",
    "    \n",
    "    top_genre_labels = adjust_labels(top_genres)\n",
    "    for rect, label, count in zip(rects, top_genre_labels, top_genres_counts):\n",
    "        height = rect.get_height()\n",
    "        label_text = str(count) + ' :' + label\n",
    "        axes.text(rect.get_x() + rect.get_width() / 2, height + 5, label_text,\n",
    "                ha='center', va='bottom')\n"
   ]
  },
  {
   "cell_type": "code",
   "execution_count": 432,
   "metadata": {
    "code_folding": [
     0
    ]
   },
   "outputs": [],
   "source": [
    "def plot_least_existing_genres(genres_count_40s, genres_count_50s,\\\n",
    "                               genres_count_60s, genres_count_70s):\n",
    "    \n",
    "    bottom_genres_40s = genres_count_40s[genres_count_40s < 10]\n",
    "    bottom_genres_50s = genres_count_50s[genres_count_50s < 10]\n",
    "    bottom_genres_60s = genres_count_60s[genres_count_60s < 10]\n",
    "    bottom_genres_70s = genres_count_70s[genres_count_70s < 10]\n",
    "    \n",
    "    bottom_genres_40s_labels = list(bottom_genres_40s.keys())\n",
    "    adjusted_40s_labels = adjust_labels(bottom_genres_40s_labels)\n",
    "\n",
    "    bottom_genres_50s_labels = list(bottom_genres_50s.keys())\n",
    "    adjusted_50s_labels = adjust_labels(bottom_genres_50s_labels)\n",
    "\n",
    "    bottom_genres_60s_labels = list(bottom_genres_60s.keys())\n",
    "    adjusted_60s_labels = adjust_labels(bottom_genres_60s_labels)\n",
    "\n",
    "    bottom_genres_70s_labels = list(bottom_genres_70s.keys())\n",
    "    adjusted_70s_labels = adjust_labels(bottom_genres_70s_labels)\n",
    "    \n",
    "    figure, axes= plt.subplots(2,2, figsize=(10,10))\n",
    "    figure.subplots_adjust(wspace=0.4, hspace = 0.4)\n",
    "    axes[0, 0].barh(adjusted_40s_labels, bottom_genres_40s, color= 'red')\n",
    "    axes[0, 0].set_xlabel('Number of Movies')\n",
    "    axes[0, 0].set_title('40s Decade')\n",
    "    axes[0, 1].barh(adjusted_50s_labels, bottom_genres_50s, color= 'royalblue')\n",
    "    axes[0, 1].set_xlabel('Number of Movies')\n",
    "    axes[0, 1].set_title('50s Decade')\n",
    "    axes[1, 0].barh(adjusted_60s_labels, bottom_genres_60s, color= 'green')\n",
    "    axes[1, 0].set_xlabel('Number of Movies')\n",
    "    axes[1, 0].set_title('60s Decade')\n",
    "    axes[1, 1].barh(adjusted_70s_labels, bottom_genres_70s, color= 'yellow')\n",
    "    axes[1, 1].set_xlabel('Number of Movies')\n",
    "    axes[1, 1].set_title('70s Decade')\n",
    "\n",
    "    rects = axes[0,0].patches\n",
    "    for rect, count in zip(rects, bottom_genres_40s):\n",
    "        height = rect.get_height()\n",
    "\n",
    "        axes[0,0].text(rect.get_x() + rect.get_width() /2,\\\n",
    "                       rect.get_y() + 0.2, str(count))\n",
    "\n",
    "    rects = axes[0,1].patches\n",
    "    for rect, count in zip(rects, bottom_genres_50s):\n",
    "        height = rect.get_height()\n",
    "\n",
    "        axes[0,1].text(rect.get_x() + rect.get_width() /2,\\\n",
    "                       rect.get_y() + 0.2, str(count))\n",
    "\n",
    "    rects = axes[1,0].patches\n",
    "    for rect, count in zip(rects, bottom_genres_60s):\n",
    "        height = rect.get_height()\n",
    "\n",
    "        axes[1,0].text(rect.get_x() + rect.get_width() /2,\\\n",
    "                       rect.get_y() + 0.2, str(count))\n",
    "\n",
    "    rects = axes[1,1].patches\n",
    "    for rect, count in zip(rects, bottom_genres_70s):\n",
    "        height = rect.get_height()\n",
    "\n",
    "        axes[1,1].text(rect.get_x() + rect.get_width() /2,\\\n",
    "                       rect.get_y() + 0.2, str(count))"
   ]
  },
  {
   "cell_type": "code",
   "execution_count": 433,
   "metadata": {
    "code_folding": [
     0
    ]
   },
   "outputs": [],
   "source": [
    " def get_highest_rates(df_40s, df_50s, df_60s, df_70s): \n",
    "    highest_rated_40s = movies_40s.loc[movies_40s['التقييم'].idxmax()]\n",
    "    highest_rated_50s = movies_50s.loc[movies_50s['التقييم'].idxmax()]\n",
    "    highest_rated_60s = movies_60s.loc[movies_60s['التقييم'].idxmax()]\n",
    "    highest_rated_70s = movies_70s.loc[movies_70s['التقييم'].idxmax()]\n",
    "    \n",
    "    return highest_rated_40s, highest_rated_50s,\\\n",
    "highest_rated_60s, highest_rated_70s"
   ]
  },
  {
   "cell_type": "code",
   "execution_count": 434,
   "metadata": {
    "code_folding": [
     0,
     5
    ]
   },
   "outputs": [],
   "source": [
    "def plot_highest_rates(highest_rated_40s, highest_rated_50s,\\\n",
    "    highest_rated_60s, highest_rated_70s):\n",
    "    \n",
    "    figure, axes = plt.subplots(2,2, figsize=(10,10))\n",
    "    figure.subplots_adjust(wspace=0.8, hspace = 0.8)\n",
    "    movie_lists = [highest_rated_40s, highest_rated_50s,\\\n",
    "                   highest_rated_60s,highest_rated_70s]\n",
    "    axes = axes.flatten()\n",
    "\n",
    "    for ax, movie_list in zip(axes, movie_lists):\n",
    "\n",
    "        name = movie_list['اسم الفيلم']\n",
    "        genre = movie_list['التصنيف']\n",
    "        year = str(movie_list['السنة'])\n",
    "        rating = movie_list['التقييم']\n",
    "        actresses = movie_list['ممثلات']\n",
    "        actors = movie_list['ممثلون']\n",
    "        authors = movie_list['تأليف']\n",
    "        directors = movie_list['إخراج']\n",
    "        labels = adjust_labels(['التقييم', 'أعداد الممثلين', 'أعداد الممثلين'])\n",
    "        plottings = [rating, len(actors), len(actresses)]\n",
    "        ax.bar(labels, plottings,\n",
    "                       color= ['khaki', 'cornflowerblue', 'thistle'], width = 0.3)\n",
    "\n",
    "        ax.spines['right'].set_visible(False)\n",
    "        ax.spines['top'].set_visible(False)\n",
    "        ax.spines['left'].set_visible(False)\n",
    "        ax.get_yaxis().set_visible(False)\n",
    "        title_label = adjust_labels([name, genre, year])\n",
    "        ax.set_title(title_label[1] + ' ،'  + title_label[2] + ' '\\\n",
    "                     + title_label[0], fontsize= 18)\n",
    "        rects = ax.patches\n",
    "        plottings_text = adjust_labels(['ذكور', 'إناث'])\n",
    "        directors_label = adjust_labels(directors)\n",
    "        authors_label = adjust_labels(authors)\n",
    "        crew_labels = adjust_labels(['تأليف', 'إخراج'])\n",
    "        \n",
    "        authors_label = ' ،'.join(map(str, authors_label))\n",
    "        directors_label = ' ،'.join(map(str, directors_label))\n",
    "\n",
    "        for rect, count in zip(rects, plottings):\n",
    "            height = rect.get_height()\n",
    "\n",
    "            ax.text(rect.get_x() + (rect.get_width()/2) -0.04,\\\n",
    "                           rect.get_y() + height, str(count), fontsize = 12)\n",
    "\n",
    "        for rect, text in zip(rects[1:], plottings_text):\n",
    "            height = rect.get_height()\n",
    "            ax.text(rect.get_x() + (rect.get_width()/2) - 0.07 ,\\\n",
    "                           rect.get_y() + height - 1.11, str(text), fontsize = 12)\n",
    "\n",
    "            text_label = crew_labels[1] + '\\n' + directors_label \\\n",
    "                        +'\\n' + crew_labels[0] + '\\n' + authors_label\n",
    "\n",
    "        ax.text(0.5, -0.3, text_label,\n",
    "            verticalalignment='center', horizontalalignment='center',\n",
    "            transform=ax.transAxes,\n",
    "            color='dimgrey', fontsize=14)\n"
   ]
  },
  {
   "cell_type": "code",
   "execution_count": 435,
   "metadata": {
    "code_folding": [
     0,
     11
    ]
   },
   "outputs": [],
   "source": [
    "def get_actresses_count(df_40s, df_50s, df_60s, df_70s):\n",
    "    actress_40s = pd.Series(df_40s['ممثلات'].values).sum()\n",
    "    actress_50s = pd.Series(df_50s['ممثلات'].values).sum()\n",
    "    actress_60s = pd.Series(df_60s['ممثلات'].values).sum()\n",
    "    actress_70s = pd.Series(df_70s['ممثلات'].values).sum()\n",
    "\n",
    "    unique_actresses_40s = list(dict.fromkeys(actress_40s))\n",
    "    unique_actresses_50s = list(dict.fromkeys(actress_50s))\n",
    "    unique_actresses_60s = list(dict.fromkeys(actress_60s))\n",
    "    unique_actresses_70s = list(dict.fromkeys(actress_70s))\n",
    "\n",
    "    count_actresses = [len(unique_actresses_40s), len(unique_actresses_50s),\\\n",
    "                  len(unique_actresses_60s), len(unique_actresses_70s)]\n",
    "    return count_actresses"
   ]
  },
  {
   "cell_type": "code",
   "execution_count": 436,
   "metadata": {
    "code_folding": [
     0
    ]
   },
   "outputs": [],
   "source": [
    "def get_actors_count(df_40s, df_50s, df_60s, df_70s):\n",
    "    actors_40s = pd.Series(movies_40s['ممثلون'].values).sum()\n",
    "    actors_50s = pd.Series(movies_50s['ممثلون'].values).sum()\n",
    "    actors_60s = pd.Series(movies_60s['ممثلون'].values).sum()\n",
    "    actors_70s = pd.Series(movies_70s['ممثلون'].values).sum()\n",
    "\n",
    "    unique_actors_40s = list(dict.fromkeys(actors_40s))\n",
    "    unique_actors_50s = list(dict.fromkeys(actors_50s))\n",
    "    unique_actors_60s = list(dict.fromkeys(actors_60s))\n",
    "    unique_actors_70s = list(dict.fromkeys(actors_70s))\n",
    "\n",
    "    count_actors = [len(unique_actors_40s), len(unique_actors_50s),\\\n",
    "                  len(unique_actors_60s), len(unique_actors_70s)]\n",
    "    \n",
    "    return count_actors"
   ]
  },
  {
   "cell_type": "code",
   "execution_count": 437,
   "metadata": {
    "code_folding": [
     0
    ]
   },
   "outputs": [],
   "source": [
    "def male_to_female_ratio(df):\n",
    "    females = []\n",
    "    males = []\n",
    "    df.sort_values(by = ['السنة'], ascending = True, inplace = True)\n",
    "    for row_index in range(df.shape[0]):  \n",
    "        \n",
    "        count_actors = len(df.loc[row_index, 'ممثلون'])\n",
    "        count_actresses = len(df.loc[row_index, 'ممثلات'])\n",
    "        total_cast_count = count_actors + count_actresses\n",
    "        try:\n",
    "            female_ratio = count_actresses/total_cast_count\n",
    "            male_ratio = count_actors/total_cast_count\n",
    "        except:\n",
    "            print('Ratio not calculated for actresses count: ' +\\\n",
    "                  str(count_actresses) + ' and actors count: ' + \\\n",
    "                  str(count_actors))\n",
    "        else:\n",
    "            females.append(female_ratio)\n",
    "            males.append(male_ratio)\n",
    "\n",
    "    return females, males  "
   ]
  },
  {
   "cell_type": "code",
   "execution_count": 438,
   "metadata": {
    "code_folding": [
     0
    ]
   },
   "outputs": [],
   "source": [
    "def get_ratio(df_40s, df_50s, df_60s, df_70s):\n",
    "    females_40s, males_40s = male_to_female_ratio(movies_40s)\n",
    "    females_50s, males_50s = male_to_female_ratio(movies_50s)\n",
    "    females_60s, males_60s = male_to_female_ratio(movies_60s)\n",
    "    females_70s, males_70s = male_to_female_ratio(movies_70s)\n",
    "    return females_40s, males_40s, females_50s, males_50s,\\\n",
    "    females_60s, males_60s, females_70s, males_70s"
   ]
  },
  {
   "cell_type": "code",
   "execution_count": 439,
   "metadata": {
    "code_folding": [
     0
    ],
    "scrolled": true
   },
   "outputs": [],
   "source": [
    "def plot_ratios(females_40s, males_40s, females_50s, males_50s,\\\n",
    "    females_60s, males_60s, females_70s, males_70s):\n",
    "    \n",
    "    figure, axis = plt.subplots(figsize=(8,8))\n",
    "    axis.plot(males_40s,females_40s, 'r--', label = '40s')\n",
    "    axis.plot(males_50s,females_50s, 'b--', label = '50s')\n",
    "    axis.plot(males_60s,females_60s, 'y--', label = '60s')\n",
    "    axis.plot(males_70s,females_70s, 'g--', label = '70s')\n",
    "    axis.set_title('Actors to Actresses Ratio Over Four Decades')\n",
    "    axis.legend()\n",
    "    plt.show()"
   ]
  },
  {
   "cell_type": "code",
   "execution_count": 440,
   "metadata": {
    "code_folding": [
     0
    ]
   },
   "outputs": [],
   "source": [
    "def get_top_directors(df_40s, df_50s, df_60s, df_70s):\n",
    "    \n",
    "    directors_40s = df_40s['إخراج']\n",
    "    directors_50s = df_50s['إخراج']\n",
    "    directors_60s = df_60s['إخراج']\n",
    "    directors_70s = df_70s['إخراج']\n",
    "\n",
    "    directors_40s_count = pd.Series(pd.Series(directors_40s).sum())\n",
    "    directors_50s_count = pd.Series(pd.Series(directors_50s).sum())\n",
    "    directors_60s_count = pd.Series(pd.Series(directors_60s).sum())\n",
    "    directors_70s_count = pd.Series(pd.Series(directors_70s).sum())\n",
    "\n",
    "    top_directors_counts = [directors_40s_count.value_counts()[0],\\\n",
    "                     directors_50s_count.value_counts()[0],\\\n",
    "                     directors_60s_count.value_counts()[0],\\\n",
    "                     directors_70s_count.value_counts()[0]]\n",
    "\n",
    "    top_directors = [directors_40s_count.value_counts().idxmax(),\\\n",
    "                     directors_50s_count.value_counts().idxmax(),\\\n",
    "                     directors_60s_count.value_counts().idxmax(),\\\n",
    "                     directors_70s_count.value_counts().idxmax()]\n",
    "    \n",
    "    return top_directors, top_directors_counts"
   ]
  },
  {
   "cell_type": "code",
   "execution_count": 441,
   "metadata": {
    "code_folding": [
     0
    ]
   },
   "outputs": [],
   "source": [
    "def plot_top_directors(top_directors, top_directors_counts):\n",
    "    \n",
    "    figure, axes = plt.subplots()\n",
    "    top_genres = axes.bar(decades, top_directors_counts, color= 'darkseagreen')\n",
    "    rects = axes.patches\n",
    "    axes.spines['top'].set_visible(False)\n",
    "    axes.spines['right'].set_visible(False)\n",
    "    axes.spines['left'].set_visible(False)\n",
    "    axes.set_xlabel('Decades')\n",
    "    axes.set_yticks([])\n",
    "    word_label = adjust_labels(['فيلم'])\n",
    "    directors_label = adjust_labels(top_directors)\n",
    "    for rect, label, count in zip(rects, directors_label, top_directors_counts):\n",
    "        height = rect.get_height()\n",
    "        label_text = str(count)  + ' :' + label + '\\n' + word_label[0]\n",
    "        axes.text(rect.get_x() + rect.get_width() / 2, height + 5, label_text,\n",
    "                ha='center', va='bottom')"
   ]
  },
  {
   "cell_type": "code",
   "execution_count": 442,
   "metadata": {
    "code_folding": [
     0
    ]
   },
   "outputs": [],
   "source": [
    "def average_duration_per_genre(movies_df):\n",
    "    \n",
    "    average_time_per_genre = movies_df.groupby(['التصنيف'])['المدة'].mean()\n",
    "    average_time_per_genre = average_time_per_genre.sort_values()\n",
    "    figure, axis = plt.subplots(figsize=(23,8))\n",
    "    average_durations = list(average_time_per_genre.values)\n",
    "    genres = list(average_time_per_genre.keys())\n",
    "    genres_labels = adjust_labels(genres)\n",
    "    axis.bar(genres_labels, average_durations, color = 'teal', width = 0.5)\n",
    "    axis.spines['top'].set_visible(False)\n",
    "    axis.spines['right'].set_visible(False)\n",
    "    axis.spines['left'].set_visible(False)\n",
    "    axis.set_ylabel('Average Duration', fontsize= 14)\n",
    "    axis.set_xlabel('Genres', fontsize= 14)\n",
    "    axis.set_yticks([])\n",
    "    \n",
    "    rects = axis.patches\n",
    "    for rect, duration in zip(rects, average_durations):\n",
    "        height = rect.get_height()\n",
    "        \n",
    "        label_text = adjust_labels(['دقيقة'])\n",
    "        axis.text(rect.get_x() + rect.get_width() / 2, height + 6 , str(round(duration)),\n",
    "                ha='center', va='bottom', fontsize= 14)\n",
    "        axis.text(rect.get_x() + rect.get_width() / 2, height + 2, label_text[0],\n",
    "                ha='center', va='bottom', fontsize= 14)    "
   ]
  },
  {
   "cell_type": "markdown",
   "metadata": {},
   "source": [
    "### Which movie genre dominated which decade?"
   ]
  },
  {
   "cell_type": "code",
   "execution_count": 443,
   "metadata": {
    "code_folding": [
     0
    ]
   },
   "outputs": [
    {
     "data": {
      "image/png": "[encoded data removed]",
      "text/plain": [
       "<Figure size 432x288 with 1 Axes>"
      ]
     },
     "metadata": {
      "needs_background": "light"
     },
     "output_type": "display_data"
    }
   ],
   "source": [
    "plot_genre_dominations(movies_40s, movies_50s,\\\n",
    "                                   movies_60s, movies_70s)"
   ]
  },
  {
   "cell_type": "markdown",
   "metadata": {},
   "source": [
    "### Which movie genres had the least existence per decade?"
   ]
  },
  {
   "cell_type": "code",
   "execution_count": 445,
   "metadata": {
    "code_folding": [
     0,
     1,
     3
    ],
    "scrolled": false
   },
   "outputs": [
    {
     "data": {
      "image/png": "[encoded data removed]",
      "text/plain": [
       "<Figure size 720x720 with 4 Axes>"
      ]
     },
     "metadata": {
      "needs_background": "light"
     },
     "output_type": "display_data"
    }
   ],
   "source": [
    "genre_count_40s, genre_count_50s, genre_count_60s, genre_count_70s =\\\n",
    "            get_genres_counts(movies_40s, movies_50s,\\\n",
    "                                   movies_60s, movies_70s)\n",
    "plot_least_existing_genres(genre_count_40s, genre_count_50s,\\\n",
    "                           genre_count_60s, genre_count_70s)"
   ]
  },
  {
   "cell_type": "markdown",
   "metadata": {},
   "source": [
    "### Which is the highest rated film in each  decade?"
   ]
  },
  {
   "cell_type": "code",
   "execution_count": 446,
   "metadata": {
    "code_folding": [
     0,
     5
    ],
    "scrolled": false
   },
   "outputs": [
    {
     "data": {
      "image/png": "[encoded data removed]",
      "text/plain": [
       "<Figure size 720x720 with 4 Axes>"
      ]
     },
     "metadata": {
      "needs_background": "light"
     },
     "output_type": "display_data"
    }
   ],
   "source": [
    "highest_rated_40s, highest_rated_50s,\\\n",
    "    highest_rated_60s, highest_rated_70s \\\n",
    "        = get_highest_rates(movies_40s, movies_50s,\\\n",
    "                                   movies_60s, movies_70s)\n",
    "\n",
    "plot_highest_rates(highest_rated_40s, highest_rated_50s,\\\n",
    "    highest_rated_60s, highest_rated_70s)"
   ]
  },
  {
   "cell_type": "markdown",
   "metadata": {},
   "source": [
    "### Has the number of actresses increased over the decades?"
   ]
  },
  {
   "cell_type": "code",
   "execution_count": 447,
   "metadata": {
    "code_folding": [
     0,
     2
    ]
   },
   "outputs": [
    {
     "data": {
      "text/plain": [
       "Text(0.5, 1.0, 'Increase in Male and Female Presence in Movies')"
      ]
     },
     "execution_count": 447,
     "metadata": {},
     "output_type": "execute_result"
    },
    {
     "data": {
      "image/png": "[encoded data removed]",
      "text/plain": [
       "<Figure size 432x288 with 1 Axes>"
      ]
     },
     "metadata": {
      "needs_background": "light"
     },
     "output_type": "display_data"
    }
   ],
   "source": [
    "count_actors = get_actors_count(movies_40s, movies_50s,\\\n",
    "                                   movies_60s, movies_70s)\n",
    "count_actresses = get_actresses_count(movies_40s, movies_50s,\\\n",
    "                                   movies_60s, movies_70s)\n",
    "figure, axis = plt.subplots()\n",
    "axis.plot(decades, count_actresses, 'r--', label ='Actresses')\n",
    "axis.plot(decades, count_actors, 'b--', label = 'Actors')\n",
    "axis.legend()\n",
    "axis.set_title('Increase in Male and Female Presence in Movies')"
   ]
  },
  {
   "cell_type": "markdown",
   "metadata": {},
   "source": [
    "### Which director(s) directed the most movies per decade?"
   ]
  },
  {
   "cell_type": "code",
   "execution_count": 448,
   "metadata": {
    "code_folding": [
     0
    ]
   },
   "outputs": [
    {
     "data": {
      "image/png": "[encoded data removed]",
      "text/plain": [
       "<Figure size 432x288 with 1 Axes>"
      ]
     },
     "metadata": {
      "needs_background": "light"
     },
     "output_type": "display_data"
    }
   ],
   "source": [
    "top_directors, top_directors_counts = get_top_directors(movies_40s,\\\n",
    "                                                        movies_50s,\\\n",
    "                                                        movies_60s,\\\n",
    "                                                        movies_70s)\n",
    "plot_top_directors(top_directors, top_directors_counts)"
   ]
  },
  {
   "cell_type": "markdown",
   "metadata": {},
   "source": [
    "### What is the average duration of a movie with respect to each genre?"
   ]
  },
  {
   "cell_type": "code",
   "execution_count": 449,
   "metadata": {
    "scrolled": true
   },
   "outputs": [
    {
     "data": {
      "image/png": "[encoded data removed]",
      "text/plain": [
       "<Figure size 1656x576 with 1 Axes>"
      ]
     },
     "metadata": {
      "needs_background": "light"
     },
     "output_type": "display_data"
    }
   ],
   "source": [
    "average_duration_per_genre(movies_df)"
   ]
  },
  {
   "cell_type": "code",
   "execution_count": null,
   "metadata": {},
   "outputs": [],
   "source": []
  }
 ],
 "metadata": {
  "kernelspec": {
   "display_name": "Python 3",
   "language": "python",
   "name": "python3"
  },
  "language_info": {
   "codemirror_mode": {
    "name": "ipython",
    "version": 3
   },
   "file_extension": ".py",
   "mimetype": "text/x-python",
   "name": "python",
   "nbconvert_exporter": "python",
   "pygments_lexer": "ipython3",
   "version": "3.7.3"
  },
  "toc": {
   "base_numbering": 1,
   "nav_menu": {
    "height": "130px",
    "width": "191px"
   },
   "number_sections": true,
   "sideBar": false,
   "skip_h1_title": false,
   "title_cell": "Table of Contents",
   "title_sidebar": "Contents",
   "toc_cell": false,
   "toc_position": {
    "height": "574px",
    "left": "448px",
    "top": "52px",
    "width": "253px"
   },
   "toc_section_display": true,
   "toc_window_display": false
  }
 },
 "nbformat": 4,
 "nbformat_minor": 2
}
