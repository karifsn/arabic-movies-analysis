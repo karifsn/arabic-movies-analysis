{
 "cells": [
  {
   "cell_type": "code",
   "execution_count": 2,
   "metadata": {},
   "outputs": [],
   "source": [
    "import numpy as np \n",
    "import pandas as pd"
   ]
  },
  {
   "cell_type": "code",
   "execution_count": 77,
   "metadata": {},
   "outputs": [],
   "source": [
    "raw_dataset = pd.read_csv('1940s_movies.csv')"
   ]
  },
  {
   "cell_type": "markdown",
   "metadata": {},
   "source": [
    "## EDA"
   ]
  },
  {
   "cell_type": "code",
   "execution_count": 5,
   "metadata": {},
   "outputs": [
    {
     "data": {
      "text/html": [
       "<div>\n",
       "<style scoped>\n",
       "    .dataframe tbody tr th:only-of-type {\n",
       "        vertical-align: middle;\n",
       "    }\n",
       "\n",
       "    .dataframe tbody tr th {\n",
       "        vertical-align: top;\n",
       "    }\n",
       "\n",
       "    .dataframe thead th {\n",
       "        text-align: right;\n",
       "    }\n",
       "</style>\n",
       "<table border=\"1\" class=\"dataframe\">\n",
       "  <thead>\n",
       "    <tr style=\"text-align: right;\">\n",
       "      <th></th>\n",
       "      <th>اسم الفيلم</th>\n",
       "      <th>تاريخ العرض</th>\n",
       "      <th>تصنيف الفيلم</th>\n",
       "      <th>مدة الفيلم (دقيقة)</th>\n",
       "      <th>ملخص</th>\n",
       "      <th>تأليف</th>\n",
       "      <th>تمثيل</th>\n",
       "      <th>إنتاج</th>\n",
       "      <th>تصوير</th>\n",
       "      <th>مونتاج</th>\n",
       "      <th>ديكور</th>\n",
       "      <th>ملابس</th>\n",
       "      <th>موسيقى</th>\n",
       "      <th>إخراج</th>\n",
       "      <th>توزيع</th>\n",
       "    </tr>\n",
       "  </thead>\n",
       "  <tbody>\n",
       "    <tr>\n",
       "      <th>0</th>\n",
       "      <td>يوم سعيد</td>\n",
       "      <td>15 يناير 1940</td>\n",
       "      <td>???????</td>\n",
       "      <td>125.0</td>\n",
       "      <td>(محمد كمال) شاب بسيط يهوى الموسيقى والغناء، وي...</td>\n",
       "      <td>محمد كريم,عبدالوارث عسر,عباس علام</td>\n",
       "      <td>محمد عبدالوهاب,علوية جميل,فاطمة محجوب,فاتن حما...</td>\n",
       "      <td>أفلام عبدالوهاب</td>\n",
       "      <td>محمد عبدالعظيم,جورج بنوا,بريما فيرا,مصطفى حسن</td>\n",
       "      <td>محمد كريم</td>\n",
       "      <td>حسين رستم</td>\n",
       "      <td>NaN</td>\n",
       "      <td>محمد عبدالوهاب,أحمد رامي,عزت الهجين,بشارة الخو...</td>\n",
       "      <td>محمد كريم</td>\n",
       "      <td>NaN</td>\n",
       "    </tr>\n",
       "    <tr>\n",
       "      <th>1</th>\n",
       "      <td>الباشمقاول</td>\n",
       "      <td>18 يناير 1940</td>\n",
       "      <td>??????</td>\n",
       "      <td>85.0</td>\n",
       "      <td>تدور أحداث الفيلم حول المحامي \"ممتاز\" الذي يهو...</td>\n",
       "      <td>بديع خيري,توجو مزراحي (أحمد المشرقي)</td>\n",
       "      <td>فوزي الجزايرلي,ميمي شكيب,إحسان الجزايرلي,زوزو ...</td>\n",
       "      <td>توجو مزراحي (أحمد المشرقي),عبدالحميد زكي</td>\n",
       "      <td>محمود نصر,عبدالحليم نصر</td>\n",
       "      <td>NaN</td>\n",
       "      <td>NaN</td>\n",
       "      <td>NaN</td>\n",
       "      <td>فريد غصن</td>\n",
       "      <td>توجو مزراحي (أحمد المشرقي),إبراهيم حلمي</td>\n",
       "      <td>منتخبات بهنا فيلم</td>\n",
       "    </tr>\n",
       "    <tr>\n",
       "      <th>2</th>\n",
       "      <td>تحت السلاح</td>\n",
       "      <td>8 فبراير 1940</td>\n",
       "      <td>NaN</td>\n",
       "      <td>101.4</td>\n",
       "      <td>أمينة فتاة من أسرة عريقة، تقرر العائلة زواجها ...</td>\n",
       "      <td>NaN</td>\n",
       "      <td>أحمد علام,زوزو شكيب,عباس فارس,محمد الديب,زينات...</td>\n",
       "      <td>ألفيزى اورفانيللى</td>\n",
       "      <td>NaN</td>\n",
       "      <td>NaN</td>\n",
       "      <td>NaN</td>\n",
       "      <td>NaN</td>\n",
       "      <td>NaN</td>\n",
       "      <td>فؤاد الجزايرلي</td>\n",
       "      <td>NaN</td>\n",
       "    </tr>\n",
       "    <tr>\n",
       "      <th>3</th>\n",
       "      <td>قلب المرأة</td>\n",
       "      <td>6 مايو 1940</td>\n",
       "      <td>???????</td>\n",
       "      <td>87.0</td>\n",
       "      <td>تدور أحداث الفيلم حول (خيرية)، الفتاة الثرية ا...</td>\n",
       "      <td>توجو مزراحي (أحمد المشرقي)</td>\n",
       "      <td>سليمان نجيب,أمينة رزق,دولت أبيض,عقيلة راتب,سلو...</td>\n",
       "      <td>NaN</td>\n",
       "      <td>عبدالحليم نصر</td>\n",
       "      <td>NaN</td>\n",
       "      <td>NaN</td>\n",
       "      <td>NaN</td>\n",
       "      <td>NaN</td>\n",
       "      <td>توجو مزراحي (أحمد المشرقي)</td>\n",
       "      <td>منتخبات بهنا فيلم</td>\n",
       "    </tr>\n",
       "    <tr>\n",
       "      <th>4</th>\n",
       "      <td>فتاة متمردة</td>\n",
       "      <td>18 مايو 1940</td>\n",
       "      <td>NaN</td>\n",
       "      <td>110.0</td>\n",
       "      <td>درية طالبة فى مدرسة داخلية، تربطها علاقة حب بش...</td>\n",
       "      <td>أحمد جلال</td>\n",
       "      <td>ماري كويني,محسن سرحان,أنور وجدي,عباس فارس,بديع...</td>\n",
       "      <td>لوتس فيلم (آسيا وشركاها)</td>\n",
       "      <td>عبدالمنعم صبحى,توليو كيارينى</td>\n",
       "      <td>ماري كويني</td>\n",
       "      <td>NaN</td>\n",
       "      <td>NaN</td>\n",
       "      <td>يوسف صالح,عبدالعزيز سلام,فريد غصن,ماري كويني,ش...</td>\n",
       "      <td>أحمد جلال,محمد زكى محمود</td>\n",
       "      <td>منتخبات بهنا فيلم</td>\n",
       "    </tr>\n",
       "  </tbody>\n",
       "</table>\n",
       "</div>"
      ],
      "text/plain": [
       "    اسم الفيلم    تاريخ العرض  تصنيف الفيلم   مدة الفيلم (دقيقة)  \\\n",
       "0     يوم سعيد  15 يناير 1940       ???????                125.0   \n",
       "1   الباشمقاول  18 يناير 1940        ??????                 85.0   \n",
       "2   تحت السلاح  8 فبراير 1940           NaN                101.4   \n",
       "3   قلب المرأة    6 مايو 1940       ???????                 87.0   \n",
       "4  فتاة متمردة   18 مايو 1940           NaN                110.0   \n",
       "\n",
       "                                                ملخص  \\\n",
       "0  (محمد كمال) شاب بسيط يهوى الموسيقى والغناء، وي...   \n",
       "1  تدور أحداث الفيلم حول المحامي \"ممتاز\" الذي يهو...   \n",
       "2  أمينة فتاة من أسرة عريقة، تقرر العائلة زواجها ...   \n",
       "3  تدور أحداث الفيلم حول (خيرية)، الفتاة الثرية ا...   \n",
       "4  درية طالبة فى مدرسة داخلية، تربطها علاقة حب بش...   \n",
       "\n",
       "                                  تأليف  \\\n",
       "0     محمد كريم,عبدالوارث عسر,عباس علام   \n",
       "1  بديع خيري,توجو مزراحي (أحمد المشرقي)   \n",
       "2                                   NaN   \n",
       "3            توجو مزراحي (أحمد المشرقي)   \n",
       "4                             أحمد جلال   \n",
       "\n",
       "                                               تمثيل  \\\n",
       "0  محمد عبدالوهاب,علوية جميل,فاطمة محجوب,فاتن حما...   \n",
       "1  فوزي الجزايرلي,ميمي شكيب,إحسان الجزايرلي,زوزو ...   \n",
       "2  أحمد علام,زوزو شكيب,عباس فارس,محمد الديب,زينات...   \n",
       "3  سليمان نجيب,أمينة رزق,دولت أبيض,عقيلة راتب,سلو...   \n",
       "4  ماري كويني,محسن سرحان,أنور وجدي,عباس فارس,بديع...   \n",
       "\n",
       "                                      إنتاج  \\\n",
       "0                           أفلام عبدالوهاب   \n",
       "1  توجو مزراحي (أحمد المشرقي),عبدالحميد زكي   \n",
       "2                         ألفيزى اورفانيللى   \n",
       "3                                       NaN   \n",
       "4                  لوتس فيلم (آسيا وشركاها)   \n",
       "\n",
       "                                           تصوير      مونتاج      ديكور  \\\n",
       "0  محمد عبدالعظيم,جورج بنوا,بريما فيرا,مصطفى حسن   محمد كريم  حسين رستم   \n",
       "1                        محمود نصر,عبدالحليم نصر         NaN        NaN   \n",
       "2                                            NaN         NaN        NaN   \n",
       "3                                  عبدالحليم نصر         NaN        NaN   \n",
       "4                   عبدالمنعم صبحى,توليو كيارينى  ماري كويني        NaN   \n",
       "\n",
       "   ملابس                                             موسيقى  \\\n",
       "0    NaN  محمد عبدالوهاب,أحمد رامي,عزت الهجين,بشارة الخو...   \n",
       "1    NaN                                           فريد غصن   \n",
       "2    NaN                                                NaN   \n",
       "3    NaN                                                NaN   \n",
       "4    NaN  يوسف صالح,عبدالعزيز سلام,فريد غصن,ماري كويني,ش...   \n",
       "\n",
       "                                     إخراج              توزيع  \n",
       "0                                محمد كريم                NaN  \n",
       "1  توجو مزراحي (أحمد المشرقي),إبراهيم حلمي  منتخبات بهنا فيلم  \n",
       "2                           فؤاد الجزايرلي                NaN  \n",
       "3               توجو مزراحي (أحمد المشرقي)  منتخبات بهنا فيلم  \n",
       "4                 أحمد جلال,محمد زكى محمود  منتخبات بهنا فيلم  "
      ]
     },
     "execution_count": 5,
     "metadata": {},
     "output_type": "execute_result"
    }
   ],
   "source": [
    "raw_dataset.head()"
   ]
  },
  {
   "cell_type": "code",
   "execution_count": 6,
   "metadata": {},
   "outputs": [
    {
     "data": {
      "text/html": [
       "<div>\n",
       "<style scoped>\n",
       "    .dataframe tbody tr th:only-of-type {\n",
       "        vertical-align: middle;\n",
       "    }\n",
       "\n",
       "    .dataframe tbody tr th {\n",
       "        vertical-align: top;\n",
       "    }\n",
       "\n",
       "    .dataframe thead th {\n",
       "        text-align: right;\n",
       "    }\n",
       "</style>\n",
       "<table border=\"1\" class=\"dataframe\">\n",
       "  <thead>\n",
       "    <tr style=\"text-align: right;\">\n",
       "      <th></th>\n",
       "      <th>اسم الفيلم</th>\n",
       "      <th>تاريخ العرض</th>\n",
       "      <th>تصنيف الفيلم</th>\n",
       "      <th>مدة الفيلم (دقيقة)</th>\n",
       "      <th>ملخص</th>\n",
       "      <th>تأليف</th>\n",
       "      <th>تمثيل</th>\n",
       "      <th>إنتاج</th>\n",
       "      <th>تصوير</th>\n",
       "      <th>مونتاج</th>\n",
       "      <th>ديكور</th>\n",
       "      <th>ملابس</th>\n",
       "      <th>موسيقى</th>\n",
       "      <th>إخراج</th>\n",
       "      <th>توزيع</th>\n",
       "    </tr>\n",
       "  </thead>\n",
       "  <tbody>\n",
       "    <tr>\n",
       "      <th>326</th>\n",
       "      <td>منديل الحلو</td>\n",
       "      <td>1949</td>\n",
       "      <td>??????</td>\n",
       "      <td>103.3</td>\n",
       "      <td>سوء تفاهم يحدث من تشابه بين الراقصة قطر الندى ...</td>\n",
       "      <td>عباس كامل</td>\n",
       "      <td>تحية كاريوكا,ماري منيب,سعاد مكاوي,عبدالعزيز مح...</td>\n",
       "      <td>نحّاس فيلم,رمسيس نجيب,أديب جابر,سليمان نجا</td>\n",
       "      <td>على حسن,محمود نصر</td>\n",
       "      <td>عطية عبده,ريمون قربة</td>\n",
       "      <td>ولي الدين سامح,عبدالحميد السخاوي</td>\n",
       "      <td>NaN</td>\n",
       "      <td>عبدالعزيز محمود,فتحي قورة,عزيز صادق,حسن توفيق</td>\n",
       "      <td>عباس كامل,وجدي عنايت</td>\n",
       "      <td>NaN</td>\n",
       "    </tr>\n",
       "    <tr>\n",
       "      <th>327</th>\n",
       "      <td>ارواح هائمة</td>\n",
       "      <td>1949</td>\n",
       "      <td>NaN</td>\n",
       "      <td>85.0</td>\n",
       "      <td>أثناء حرب فلسطين يسافر صحفى شاب كمراسل لجرديته...</td>\n",
       "      <td>كمال بركات,سامى عزيز</td>\n",
       "      <td>سليمان عزيز,كاميليا,زوزو حمدي الحكيم,لولا صدقي...</td>\n",
       "      <td>NaN</td>\n",
       "      <td>عبد العزيز فهمي</td>\n",
       "      <td>كمال أبو العلا</td>\n",
       "      <td>هاجوب اصلانيان,فتحي قابيل</td>\n",
       "      <td>NaN</td>\n",
       "      <td>NaN</td>\n",
       "      <td>كمال بركات</td>\n",
       "      <td>NaN</td>\n",
       "    </tr>\n",
       "    <tr>\n",
       "      <th>328</th>\n",
       "      <td>هدى</td>\n",
       "      <td>1949</td>\n",
       "      <td>NaN</td>\n",
       "      <td>103.3</td>\n",
       "      <td>تعيش هدى الطالبه فى  الثانوية العامه فى  بور س...</td>\n",
       "      <td>نقولا بدران,حلمي رفلة</td>\n",
       "      <td>نور الهدى,كمال الشناوي,فريد شوقي,حسن فايق,زينا...</td>\n",
       "      <td>أفلام حلمى رفلة</td>\n",
       "      <td>كمال كريم,محمد عبدالعظيم</td>\n",
       "      <td>ألبير نجيب</td>\n",
       "      <td>هاجوب اصلانيان</td>\n",
       "      <td>NaN</td>\n",
       "      <td>رياض السنباطي,محمد فوزي,عبدالعزيز سلام,أبو الس...</td>\n",
       "      <td>حلمي رفلة,عاطف سالم</td>\n",
       "      <td>منتخبات بهنا فيلم</td>\n",
       "    </tr>\n",
       "    <tr>\n",
       "      <th>329</th>\n",
       "      <td>حلم ليلة</td>\n",
       "      <td>1949</td>\n",
       "      <td>NaN</td>\n",
       "      <td>103.3</td>\n",
       "      <td>شاب يهوى الموسيقى ويرغب في افتتاح معهد تدرس في...</td>\n",
       "      <td>صلاح بدرخان</td>\n",
       "      <td>منسى فهمي,بشارة واكيم,نور الصباح,وجية بدرخان</td>\n",
       "      <td>NaN</td>\n",
       "      <td>NaN</td>\n",
       "      <td>NaN</td>\n",
       "      <td>NaN</td>\n",
       "      <td>NaN</td>\n",
       "      <td>NaN</td>\n",
       "      <td>صلاح بدرخان</td>\n",
       "      <td>NaN</td>\n",
       "    </tr>\n",
       "    <tr>\n",
       "      <th>330</th>\n",
       "      <td>حدوة الحصان</td>\n",
       "      <td>1949</td>\n",
       "      <td>NaN</td>\n",
       "      <td>103.3</td>\n",
       "      <td>تدور أحداث الفيلم حول عصابة تصل إلى القاهرة بح...</td>\n",
       "      <td>عباس كامل</td>\n",
       "      <td>محمود شكوكو,سعاد مكاوي,عبدالفتاح القصري,محمود ...</td>\n",
       "      <td>مصطفى حسن,ستوديو نصيبيان,أفلام العالم الجديد (...</td>\n",
       "      <td>مصطفى حسن</td>\n",
       "      <td>جلال مصطفى</td>\n",
       "      <td>حسن حلمي</td>\n",
       "      <td>NaN</td>\n",
       "      <td>NaN</td>\n",
       "      <td>عباس كامل,حسن توفيق</td>\n",
       "      <td>أفلام القاهرة</td>\n",
       "    </tr>\n",
       "  </tbody>\n",
       "</table>\n",
       "</div>"
      ],
      "text/plain": [
       "      اسم الفيلم  تاريخ العرض  تصنيف الفيلم   مدة الفيلم (دقيقة)  \\\n",
       "326  منديل الحلو         1949        ??????                103.3   \n",
       "327  ارواح هائمة         1949           NaN                 85.0   \n",
       "328          هدى         1949           NaN                103.3   \n",
       "329     حلم ليلة         1949           NaN                103.3   \n",
       "330  حدوة الحصان         1949           NaN                103.3   \n",
       "\n",
       "                                                  ملخص                  تأليف  \\\n",
       "326  سوء تفاهم يحدث من تشابه بين الراقصة قطر الندى ...              عباس كامل   \n",
       "327  أثناء حرب فلسطين يسافر صحفى شاب كمراسل لجرديته...   كمال بركات,سامى عزيز   \n",
       "328  تعيش هدى الطالبه فى  الثانوية العامه فى  بور س...  نقولا بدران,حلمي رفلة   \n",
       "329  شاب يهوى الموسيقى ويرغب في افتتاح معهد تدرس في...            صلاح بدرخان   \n",
       "330  تدور أحداث الفيلم حول عصابة تصل إلى القاهرة بح...              عباس كامل   \n",
       "\n",
       "                                                 تمثيل  \\\n",
       "326  تحية كاريوكا,ماري منيب,سعاد مكاوي,عبدالعزيز مح...   \n",
       "327  سليمان عزيز,كاميليا,زوزو حمدي الحكيم,لولا صدقي...   \n",
       "328  نور الهدى,كمال الشناوي,فريد شوقي,حسن فايق,زينا...   \n",
       "329       منسى فهمي,بشارة واكيم,نور الصباح,وجية بدرخان   \n",
       "330  محمود شكوكو,سعاد مكاوي,عبدالفتاح القصري,محمود ...   \n",
       "\n",
       "                                                 إنتاج  \\\n",
       "326         نحّاس فيلم,رمسيس نجيب,أديب جابر,سليمان نجا   \n",
       "327                                                NaN   \n",
       "328                                    أفلام حلمى رفلة   \n",
       "329                                                NaN   \n",
       "330  مصطفى حسن,ستوديو نصيبيان,أفلام العالم الجديد (...   \n",
       "\n",
       "                        تصوير                مونتاج  \\\n",
       "326         على حسن,محمود نصر  عطية عبده,ريمون قربة   \n",
       "327           عبد العزيز فهمي        كمال أبو العلا   \n",
       "328  كمال كريم,محمد عبدالعظيم            ألبير نجيب   \n",
       "329                       NaN                   NaN   \n",
       "330                 مصطفى حسن            جلال مصطفى   \n",
       "\n",
       "                                ديكور  ملابس  \\\n",
       "326  ولي الدين سامح,عبدالحميد السخاوي    NaN   \n",
       "327         هاجوب اصلانيان,فتحي قابيل    NaN   \n",
       "328                    هاجوب اصلانيان    NaN   \n",
       "329                               NaN    NaN   \n",
       "330                          حسن حلمي    NaN   \n",
       "\n",
       "                                                موسيقى                 إخراج  \\\n",
       "326      عبدالعزيز محمود,فتحي قورة,عزيز صادق,حسن توفيق  عباس كامل,وجدي عنايت   \n",
       "327                                                NaN            كمال بركات   \n",
       "328  رياض السنباطي,محمد فوزي,عبدالعزيز سلام,أبو الس...   حلمي رفلة,عاطف سالم   \n",
       "329                                                NaN           صلاح بدرخان   \n",
       "330                                                NaN   عباس كامل,حسن توفيق   \n",
       "\n",
       "                 توزيع  \n",
       "326                NaN  \n",
       "327                NaN  \n",
       "328  منتخبات بهنا فيلم  \n",
       "329                NaN  \n",
       "330      أفلام القاهرة  "
      ]
     },
     "execution_count": 6,
     "metadata": {},
     "output_type": "execute_result"
    }
   ],
   "source": [
    "raw_dataset.tail()"
   ]
  },
  {
   "cell_type": "code",
   "execution_count": 78,
   "metadata": {
    "scrolled": true
   },
   "outputs": [
    {
     "name": "stdout",
     "output_type": "stream",
     "text": [
      "Column Name:  اسم الفيلم\n",
      "count             331\n",
      "unique            330\n",
      "top       خاتم سليمان\n",
      "freq                2\n",
      "Name: اسم الفيلم, dtype: object\n",
      "------------------------------\n",
      "Column Name:   تاريخ العرض\n",
      "count      331\n",
      "unique     216\n",
      "top       1946\n",
      "freq        24\n",
      "Name:  تاريخ العرض, dtype: object\n",
      "------------------------------\n",
      "Column Name:   تصنيف الفيلم\n",
      "count       127\n",
      "unique        9\n",
      "top       ??ا??\n",
      "freq         46\n",
      "Name:  تصنيف الفيلم, dtype: object\n",
      "------------------------------\n",
      "Column Name:   مدة الفيلم (دقيقة)\n",
      "count    331.000000\n",
      "mean     106.399698\n",
      "std       11.097976\n",
      "min       70.000000\n",
      "25%      100.000000\n",
      "50%      105.000000\n",
      "75%      110.000000\n",
      "max      152.000000\n",
      "Name:  مدة الفيلم (دقيقة), dtype: float64\n",
      "------------------------------\n",
      "Column Name:   ملخص\n",
      "count                                                   316\n",
      "unique                                                  316\n",
      "top       تفقد الأسرة الصغيرة المكونة من الأب والأم وصبى...\n",
      "freq                                                      1\n",
      "Name:  ملخص, dtype: object\n",
      "------------------------------\n",
      "Column Name:   تأليف\n",
      "count           308\n",
      "unique          206\n",
      "top       يوسف وهبي\n",
      "freq             17\n",
      "Name:  تأليف, dtype: object\n",
      "------------------------------\n",
      "Column Name:   تمثيل\n",
      "count                                                   329\n",
      "unique                                                  329\n",
      "top       فريد الأطرش,ببا عز الدين,ليلى فوزي,عباس فارس,ب...\n",
      "freq                                                      1\n",
      "Name:  تمثيل, dtype: object\n",
      "------------------------------\n",
      "Column Name:   إنتاج\n",
      "count            244\n",
      "unique           187\n",
      "top       نحّاس فيلم\n",
      "freq               8\n",
      "Name:  إنتاج, dtype: object\n",
      "------------------------------\n",
      "Column Name:   تصوير\n",
      "count               282\n",
      "unique              153\n",
      "top       عبدالحليم نصر\n",
      "freq                 16\n",
      "Name:  تصوير, dtype: object\n",
      "------------------------------\n",
      "Column Name:   مونتاج\n",
      "count            237\n",
      "unique            93\n",
      "top       جلال مصطفى\n",
      "freq              25\n",
      "Name:  مونتاج, dtype: object\n",
      "------------------------------\n",
      "Column Name:   ديكور\n",
      "count                 202\n",
      "unique                121\n",
      "top       أنطوان بوليزويس\n",
      "freq                   12\n",
      "Name:  ديكور, dtype: object\n",
      "------------------------------\n",
      "Column Name:   ملابس\n",
      "count            19\n",
      "unique           12\n",
      "top       قاسم وجدي\n",
      "freq              4\n",
      "Name:  ملابس, dtype: object\n",
      "------------------------------\n",
      "Column Name:   موسيقى\n",
      "count                 216\n",
      "unique                187\n",
      "top       عبدالحليم نويرة\n",
      "freq                    7\n",
      "Name:  موسيقى, dtype: object\n",
      "------------------------------\n",
      "Column Name:   إخراج\n",
      "count              311\n",
      "unique             178\n",
      "top       إبراهيم لاما\n",
      "freq                11\n",
      "Name:  إخراج, dtype: object\n",
      "------------------------------\n",
      "Column Name:   توزيع\n",
      "count                   170\n",
      "unique                   40\n",
      "top       منتخبات بهنا فيلم\n",
      "freq                     67\n",
      "Name:  توزيع, dtype: object\n",
      "------------------------------\n"
     ]
    }
   ],
   "source": [
    "for column in raw_dataset.columns:\n",
    "    print('Column Name: ', str(column))\n",
    "    print(raw_dataset[column].describe())\n",
    "    print('------------------------------')"
   ]
  },
  {
   "cell_type": "code",
   "execution_count": 58,
   "metadata": {},
   "outputs": [
    {
     "data": {
      "text/plain": [
       "اسم الفيلم              object\n",
       " تاريخ العرض            object\n",
       " تصنيف الفيلم           object\n",
       " مدة الفيلم (دقيقة)    float64\n",
       " ملخص                   object\n",
       " تأليف                  object\n",
       " تمثيل                  object\n",
       " إنتاج                  object\n",
       " تصوير                  object\n",
       " مونتاج                 object\n",
       " ديكور                  object\n",
       " ملابس                  object\n",
       " موسيقى                 object\n",
       " إخراج                  object\n",
       " توزيع                  object\n",
       "dtype: object"
      ]
     },
     "execution_count": 58,
     "metadata": {},
     "output_type": "execute_result"
    }
   ],
   "source": [
    "raw_dataset.dtypes"
   ]
  },
  {
   "cell_type": "code",
   "execution_count": 110,
   "metadata": {},
   "outputs": [],
   "source": [
    "for row_index in range(raw_dataset.shape[0]):\n",
    "    if '??' in str(raw_dataset.iloc[row_index, 2]) or \\\n",
    "    raw_dataset.iloc[row_index, 2] == 'nan':\n",
    "        raw_dataset.iat[row_index, 2] = np.NaN\n",
    "        "
   ]
  },
  {
   "cell_type": "markdown",
   "metadata": {},
   "source": [
    "#### Create a copy of raw_dataset to apply modifications"
   ]
  },
  {
   "cell_type": "markdown",
   "metadata": {},
   "source": [
    "#### Applying Data Modifications"
   ]
  },
  {
   "cell_type": "code",
   "execution_count": 108,
   "metadata": {},
   "outputs": [],
   "source": [
    "date_expanded_dataset = raw_dataset.copy(deep = 'True')"
   ]
  },
  {
   "cell_type": "markdown",
   "metadata": {},
   "source": [
    "####  Seperate Movie Release Data into Day, Month, Year\n",
    "    "
   ]
  },
  {
   "cell_type": "code",
   "execution_count": 89,
   "metadata": {},
   "outputs": [],
   "source": [
    "row_numbers = raw_dataset.shape[0]"
   ]
  },
  {
   "cell_type": "code",
   "execution_count": 109,
   "metadata": {},
   "outputs": [],
   "source": [
    "# line continuation operators  '\\' used for cleaner code\n",
    "date_expanded_dataset[['اليوم', 'الشهر', 'السنة']] = \\\n",
    "    date_expanded_dataset[' تاريخ العرض'].str.split(' ', expand = True)\n",
    "    "
   ]
  },
  {
   "cell_type": "code",
   "execution_count": 91,
   "metadata": {},
   "outputs": [],
   "source": [
    "date_expanded_dataset = date_expanded_dataset.drop(columns=[' تاريخ العرض'])"
   ]
  },
  {
   "cell_type": "code",
   "execution_count": 92,
   "metadata": {},
   "outputs": [],
   "source": [
    "for row in range(date_expanded_dataset.shape[0]):\n",
    "    release_day = date_expanded_dataset.iloc[row, 14]\n",
    "    if len(release_day) == 4:\n",
    "        date_expanded_dataset.iat[row,16] = release_day\n",
    "        date_expanded_dataset.iat[row,15] = 'يناير'\n",
    "        date_expanded_dataset.iat[row,14] = 1"
   ]
  },
  {
   "cell_type": "markdown",
   "metadata": {},
   "source": [
    "date_expanded_dataset.head()"
   ]
  },
  {
   "cell_type": "markdown",
   "metadata": {},
   "source": [
    "###### Save Date Adjusted Dataframe"
   ]
  },
  {
   "cell_type": "code",
   "execution_count": 98,
   "metadata": {},
   "outputs": [],
   "source": [
    "date_expanded_dataset.to_csv('1940s_movies_release_date_expanded.csv')"
   ]
  },
  {
   "cell_type": "markdown",
   "metadata": {},
   "source": [
    "###### Add Web-scraped genres to the dataset"
   ]
  },
  {
   "cell_type": "code",
   "execution_count": 99,
   "metadata": {},
   "outputs": [],
   "source": [
    "genres_added_dataset = date_expanded_dataset.copy(deep= True)"
   ]
  },
  {
   "cell_type": "code",
   "execution_count": 105,
   "metadata": {},
   "outputs": [],
   "source": [
    "with open('genres.txt', 'r') as filehandle:\n",
    "    \n",
    "    for line in filehandle:\n",
    "        \n",
    "        current_line = line[:-1]\n",
    "        line_content = current_line.split(':')\n",
    "        movie_name_date = line_content[0].strip(')').split('(')\n",
    "        \n",
    "        name = movie_name_date[0]\n",
    "        year = movie_name_date[1]\n",
    "        genre = line_content[1]\n",
    "        \n",
    "        # line continuation operators  '\\' used for cleaner code\n",
    "        genres_added_dataset[' تصنيف الفيلم']. \\\n",
    "         loc[(genres_added_dataset['اسم الفيلم'] == name) \\\n",
    "             & (genres_added_dataset['السنة'] == year)]=genre"
   ]
  },
  {
   "cell_type": "code",
   "execution_count": null,
   "metadata": {},
   "outputs": [],
   "source": [
    "###### Assert genre changes (compare number of NA values now and now)"
   ]
  },
  {
   "cell_type": "code",
   "execution_count": 122,
   "metadata": {},
   "outputs": [
    {
     "data": {
      "text/plain": [
       "329"
      ]
     },
     "execution_count": 122,
     "metadata": {},
     "output_type": "execute_result"
    }
   ],
   "source": [
    "raw_dataset[' تصنيف الفيلم'].isna().sum()"
   ]
  },
  {
   "cell_type": "code",
   "execution_count": 123,
   "metadata": {},
   "outputs": [
    {
     "data": {
      "text/plain": [
       "34"
      ]
     },
     "execution_count": 123,
     "metadata": {},
     "output_type": "execute_result"
    }
   ],
   "source": [
    "genres_added_dataset[' تصنيف الفيلم'].isna().sum()"
   ]
  },
  {
   "cell_type": "code",
   "execution_count": 20,
   "metadata": {},
   "outputs": [
    {
     "data": {
      "text/plain": [
       "'يصل لعزيز تلغراف كاذب بوفاة والده عبد الغفار باشا، وفي القطار يتقابل مع فكرية ابنة العدو اللدود لوالده ، يعرف حقيقة استدعائه للبلدة حتى يناصر والده في حملته العدائية لأبي المجد والد فكرية إلا أنه يحاول الصلح بين الطرفين، وفي نفس الوقت يحاول التقرب من فكرية وتتوالى الأحداث.'"
      ]
     },
     "execution_count": 20,
     "metadata": {},
     "output_type": "execute_result"
    }
   ],
   "source": [
    "df.iloc[26, 3]"
   ]
  },
  {
   "cell_type": "code",
   "execution_count": 21,
   "metadata": {},
   "outputs": [
    {
     "data": {
      "text/plain": [
       "'تدور قصة الفيلم حول سيدة متزوجة ولديها أبناء تكتشف خيانة زوجها لها، وكذلك يحدث الأمر مع زوجات أصدقاء زوجها، فتقررن جميعا هجر فراش الزوجية تأديبا لأزواجهن، ذلك الأمر الذي يجدي نفعا معهن حيث يعود كل زوج إلى زوجته مجددا بعد تركه للخيانة.'"
      ]
     },
     "execution_count": 21,
     "metadata": {},
     "output_type": "execute_result"
    }
   ],
   "source": [
    "df.iloc[25,3]"
   ]
  }
 ],
 "metadata": {
  "kernelspec": {
   "display_name": "Python 3",
   "language": "python",
   "name": "python3"
  },
  "language_info": {
   "codemirror_mode": {
    "name": "ipython",
    "version": 3
   },
   "file_extension": ".py",
   "mimetype": "text/x-python",
   "name": "python",
   "nbconvert_exporter": "python",
   "pygments_lexer": "ipython3",
   "version": "3.7.3"
  }
 },
 "nbformat": 4,
 "nbformat_minor": 2
}
