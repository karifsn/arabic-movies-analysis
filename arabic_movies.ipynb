{
 "cells": [
  {
   "cell_type": "code",
   "execution_count": 397,
   "metadata": {},
   "outputs": [],
   "source": [
    "import numpy as np \n",
    "import pandas as pd\n",
    "import regex as re\n",
    "import unicodedata as ud\n",
    "import nltk\n",
    "from nltk.stem.isri import ISRIStemmer\n",
    "from nltk.tokenize import wordpunct_tokenize\n",
    "import gensim\n",
    "from gensim.models.doc2vec import Doc2Vec, TaggedDocument\n",
    "from sklearn.model_selection import train_test_split\n",
    "import multiprocessing\n",
    "from tqdm import tqdm\n",
    "from sklearn import utils\n",
    "from sklearn.linear_model import LogisticRegression\n",
    "from sklearn.linear_model import SGDClassifier\n",
    "import matplotlib.pyplot as plt\n",
    "import numpy as np"
   ]
  },
  {
   "cell_type": "markdown",
   "metadata": {},
   "source": [
    "## Movies Datasets"
   ]
  },
  {
   "cell_type": "code",
   "execution_count": 434,
   "metadata": {},
   "outputs": [],
   "source": [
    "forties_df = pd.read_csv('1940s_data/1940s_movies.csv')\n",
    "fifties_df = pd.read_csv('1950s_data/1950s_movies.csv')\n",
    "sixties_df = pd.read_csv('1960s_data/1960s_movies.csv')\n",
    "seventies_df = pd.read_csv('1970s_data/1970s_movies.csv')"
   ]
  },
  {
   "cell_type": "markdown",
   "metadata": {},
   "source": [
    "#### EDA functions"
   ]
  },
  {
   "cell_type": "code",
   "execution_count": 3,
   "metadata": {},
   "outputs": [],
   "source": [
    "def describe_dataframe(df):\n",
    "    \n",
    "    for column in df.columns:\n",
    "        print('Column Name: ', u'\\u202B' + str(column) + u'\\u202C')\n",
    "        print(df[column].describe())\n",
    "        print('\\n'+'-'*20)"
   ]
  },
  {
   "cell_type": "markdown",
   "metadata": {},
   "source": [
    "#### Cleansing functions"
   ]
  },
  {
   "cell_type": "code",
   "execution_count": 4,
   "metadata": {},
   "outputs": [],
   "source": [
    "def change_empty_entries_to_None(df):\n",
    "    for column in df.columns:\n",
    "        for row_index in range(df.shape[0]):\n",
    "            if '??' in str(df.loc[row_index, column]) or \\\n",
    "            df.loc[row_index, column] == 'nan' or \\\n",
    "            df.loc[row_index, column] == '-' or \\\n",
    "            type(df.loc[row_index, column]) == float:\n",
    "                    df.loc[row_index, column] = None\n",
    "    return df\n",
    "    "
   ]
  },
  {
   "cell_type": "code",
   "execution_count": 5,
   "metadata": {},
   "outputs": [],
   "source": [
    "def fix_float_types(df):\n",
    "    for row in range(df.shape[0]):\n",
    "        if(df.loc[row, 'ملخص'] == 'nan' or ''):\n",
    "            df.loc[row]['ملخص'] = np.nan\n",
    "        if(df.loc[row, ' تصنيف الفيلم'] == 'nan' or ''):\n",
    "            df.loc[row]['تصنيف الفيلم'] = np.nan\n",
    "    return df"
   ]
  },
  {
   "cell_type": "code",
   "execution_count": 6,
   "metadata": {},
   "outputs": [],
   "source": [
    "def get_indices_to_drop(df, column_name):\n",
    "    indices = []\n",
    "    for row_index in range(df.shape[0]):\n",
    "        cell_content = df.loc[row_index,column_name]\n",
    "        if(type(cell_content)== float):\n",
    "            indices.append(row_index)\n",
    "    return indices"
   ]
  },
  {
   "cell_type": "code",
   "execution_count": 7,
   "metadata": {},
   "outputs": [],
   "source": [
    "def unify_date_format(df):\n",
    "    for row in range(df.shape[0]):\n",
    "        \n",
    "        release_day = df.iloc[row, 15]\n",
    "        if len(str(release_day)) == 4:\n",
    "            df.iloc[row,17] = release_day\n",
    "            df.iloc[row,16] = 'يناير'\n",
    "\n",
    "    return df"
   ]
  },
  {
   "cell_type": "code",
   "execution_count": 8,
   "metadata": {},
   "outputs": [],
   "source": [
    "def expand_release_date(df):\n",
    "    # line continuation operators  '\\' used for cleaner code\n",
    "    df[['اليوم', 'الشهر', 'السنة']] = \\\n",
    "    df[' تاريخ العرض'].str.split(' ', expand = True)\n",
    "    \n",
    "    return df\n",
    "    "
   ]
  },
  {
   "cell_type": "code",
   "execution_count": 9,
   "metadata": {},
   "outputs": [],
   "source": [
    "def find_movies_with_missing_synopses(df):\n",
    "    \n",
    "    missing_movies = []\n",
    "    for row_index in range(df.shape[0]):\n",
    "        if(type(df.iloc[row_index, 3]) == float):\n",
    "            missing_movies.append(df.iloc[row_index, 0])\n",
    "            \n",
    "    return missing_movies"
   ]
  },
  {
   "cell_type": "code",
   "execution_count": 10,
   "metadata": {},
   "outputs": [],
   "source": [
    "def parse_line(line_to_parse):\n",
    "    \n",
    "            parsed_values = line_to_parse.split('||')\n",
    "            movie_name_date = parsed_values[0].strip(')').split('(')\n",
    "            \n",
    "            name = movie_name_date[0]\n",
    "            year = movie_name_date[1]\n",
    "            df_feature = parsed_values[1]\n",
    "            \n",
    "            return name, year, df_feature"
   ]
  },
  {
   "cell_type": "code",
   "execution_count": 11,
   "metadata": {},
   "outputs": [],
   "source": [
    "def add_scraped_features(df, file_path, column_name):\n",
    "    \n",
    "    with open(file_path, 'r') as filehandle:\n",
    "        \n",
    "        for line in filehandle:\n",
    "            \n",
    "            current_line = line[:-1]\n",
    "            name, year, df_feature = parse_line(current_line)\n",
    "            if(not(df_feature == '')):\n",
    "                df.loc[(df['اسم الفيلم'] == name) \\\n",
    "                     & (df['السنة'] == year), column_name] = df_feature     \n",
    "    return df"
   ]
  },
  {
   "cell_type": "code",
   "execution_count": 12,
   "metadata": {},
   "outputs": [],
   "source": [
    "def filter_foregin_movies(df, file_path):\n",
    "    \n",
    "    with open(file_path, 'r') as filehandle:\n",
    "            \n",
    "        for line in filehandle:\n",
    "            \n",
    "            current_line = line[:-1]\n",
    "            name, year, country = parse_line(current_line)\n",
    "           \n",
    "            if(not(('مصر') in country)):   \n",
    "                movie_index = df.loc[(df['اسم الفيلم'] == name) \\\n",
    "                                     & (df['السنة'] == year)].index\n",
    "                df.drop(inplace = True, index = movie_index)\n",
    "    return df"
   ]
  },
  {
   "cell_type": "code",
   "execution_count": 13,
   "metadata": {},
   "outputs": [],
   "source": [
    "def get_avg_short_movie_time(df):\n",
    "    \n",
    "    short_movies_durations = df[' مدة الفيلم (دقيقة)'].loc[ \\\n",
    "                                    df[' تصنيف الفيلم'] == 'ﻗﺼﻴﺮ']\n",
    "    avg_duration = np.average(list(short_movies_durations))\n",
    "    \n",
    "    return avg_duration"
   ]
  },
  {
   "cell_type": "code",
   "execution_count": 14,
   "metadata": {},
   "outputs": [],
   "source": [
    "def get_missing_percentage(df):\n",
    "    \n",
    "    total_count = df.shape[0]\n",
    "    for column in df.columns:\n",
    "    \n",
    "        missing_count = movies_df[column].isna().sum()\n",
    "        missing_percentage = (missing_count/total_count)*100\n",
    "        print('>> ' + u'\\u202B' + column + ': '+ str(round(missing_percentage)) + '%')"
   ]
  },
  {
   "cell_type": "markdown",
   "metadata": {},
   "source": [
    "## *_1940s Movies_*"
   ]
  },
  {
   "cell_type": "markdown",
   "metadata": {},
   "source": [
    "### EDA"
   ]
  },
  {
   "cell_type": "code",
   "execution_count": 15,
   "metadata": {},
   "outputs": [
    {
     "name": "stdout",
     "output_type": "stream",
     "text": [
      "Column Name:  ‫اسم الفيلم‬\n",
      "count             331\n",
      "unique            330\n",
      "top       خاتم سليمان\n",
      "freq                2\n",
      "Name: اسم الفيلم, dtype: object\n",
      "\n",
      "--------------------\n",
      "Column Name:  ‫ تاريخ العرض‬\n",
      "count      331\n",
      "unique     216\n",
      "top       1946\n",
      "freq        24\n",
      "Name:  تاريخ العرض, dtype: object\n",
      "\n",
      "--------------------\n",
      "Column Name:  ‫التصنيف‬\n",
      "count       127\n",
      "unique        9\n",
      "top       ??ا??\n",
      "freq         46\n",
      "Name: التصنيف, dtype: object\n",
      "\n",
      "--------------------\n",
      "Column Name:  ‫المدة‬\n",
      "count    331.000000\n",
      "mean     106.399698\n",
      "std       11.097976\n",
      "min       70.000000\n",
      "25%      100.000000\n",
      "50%      105.000000\n",
      "75%      110.000000\n",
      "max      152.000000\n",
      "Name: المدة, dtype: float64\n",
      "\n",
      "--------------------\n",
      "Column Name:  ‫ملخص‬\n",
      "count                                                   316\n",
      "unique                                                  316\n",
      "top       يكافح وحيد الملحن الشاب (فريد الاطرش) مع أخته ...\n",
      "freq                                                      1\n",
      "Name: ملخص, dtype: object\n",
      "\n",
      "--------------------\n",
      "Column Name:  ‫تأليف‬\n",
      "count           308\n",
      "unique          206\n",
      "top       يوسف وهبي\n",
      "freq             17\n",
      "Name: تأليف, dtype: object\n",
      "\n",
      "--------------------\n",
      "Column Name:  ‫تمثيل‬\n",
      "count                                                   329\n",
      "unique                                                  329\n",
      "top       أحمد علام,محمد كمال المصري (شرفنطح),نبيل,نور ا...\n",
      "freq                                                      1\n",
      "Name: تمثيل, dtype: object\n",
      "\n",
      "--------------------\n",
      "Column Name:  ‫إنتاج‬\n",
      "count            244\n",
      "unique           187\n",
      "top       نحّاس فيلم\n",
      "freq               8\n",
      "Name: إنتاج, dtype: object\n",
      "\n",
      "--------------------\n",
      "Column Name:  ‫تصوير‬\n",
      "count               282\n",
      "unique              153\n",
      "top       عبدالحليم نصر\n",
      "freq                 16\n",
      "Name: تصوير, dtype: object\n",
      "\n",
      "--------------------\n",
      "Column Name:  ‫مونتاج‬\n",
      "count            237\n",
      "unique            93\n",
      "top       جلال مصطفى\n",
      "freq              25\n",
      "Name: مونتاج, dtype: object\n",
      "\n",
      "--------------------\n",
      "Column Name:  ‫ديكور‬\n",
      "count                 202\n",
      "unique                121\n",
      "top       أنطوان بوليزويس\n",
      "freq                   12\n",
      "Name: ديكور, dtype: object\n",
      "\n",
      "--------------------\n",
      "Column Name:  ‫ملابس‬\n",
      "count            19\n",
      "unique           12\n",
      "top       قاسم وجدي\n",
      "freq              4\n",
      "Name: ملابس, dtype: object\n",
      "\n",
      "--------------------\n",
      "Column Name:  ‫موسيقى‬\n",
      "count                 216\n",
      "unique                187\n",
      "top       عبدالحليم نويرة\n",
      "freq                    7\n",
      "Name: موسيقى, dtype: object\n",
      "\n",
      "--------------------\n",
      "Column Name:  ‫إخراج‬\n",
      "count              311\n",
      "unique             178\n",
      "top       إبراهيم لاما\n",
      "freq                11\n",
      "Name: إخراج, dtype: object\n",
      "\n",
      "--------------------\n",
      "Column Name:  ‫توزيع‬\n",
      "count                   170\n",
      "unique                   40\n",
      "top       منتخبات بهنا فيلم\n",
      "freq                     67\n",
      "Name: توزيع, dtype: object\n",
      "\n",
      "--------------------\n"
     ]
    }
   ],
   "source": [
    "describe_dataframe(forties_df)"
   ]
  },
  {
   "cell_type": "code",
   "execution_count": 16,
   "metadata": {},
   "outputs": [
    {
     "data": {
      "text/html": [
       "<div>\n",
       "<style scoped>\n",
       "    .dataframe tbody tr th:only-of-type {\n",
       "        vertical-align: middle;\n",
       "    }\n",
       "\n",
       "    .dataframe tbody tr th {\n",
       "        vertical-align: top;\n",
       "    }\n",
       "\n",
       "    .dataframe thead th {\n",
       "        text-align: right;\n",
       "    }\n",
       "</style>\n",
       "<table border=\"1\" class=\"dataframe\">\n",
       "  <thead>\n",
       "    <tr style=\"text-align: right;\">\n",
       "      <th></th>\n",
       "      <th>اسم الفيلم</th>\n",
       "      <th>تاريخ العرض</th>\n",
       "      <th>التصنيف</th>\n",
       "      <th>المدة</th>\n",
       "      <th>ملخص</th>\n",
       "      <th>تأليف</th>\n",
       "      <th>تمثيل</th>\n",
       "      <th>إنتاج</th>\n",
       "      <th>تصوير</th>\n",
       "      <th>مونتاج</th>\n",
       "      <th>ديكور</th>\n",
       "      <th>ملابس</th>\n",
       "      <th>موسيقى</th>\n",
       "      <th>إخراج</th>\n",
       "      <th>توزيع</th>\n",
       "    </tr>\n",
       "  </thead>\n",
       "  <tbody>\n",
       "    <tr>\n",
       "      <th>174</th>\n",
       "      <td>خاتم سليمان</td>\n",
       "      <td>1946</td>\n",
       "      <td>NaN</td>\n",
       "      <td>103.2</td>\n",
       "      <td>NaN</td>\n",
       "      <td>أبو بثينة</td>\n",
       "      <td>أمينة شريف</td>\n",
       "      <td>أفلام حرب</td>\n",
       "      <td>NaN</td>\n",
       "      <td>NaN</td>\n",
       "      <td>NaN</td>\n",
       "      <td>NaN</td>\n",
       "      <td>NaN</td>\n",
       "      <td>فؤاد شبل</td>\n",
       "      <td>NaN</td>\n",
       "    </tr>\n",
       "    <tr>\n",
       "      <th>227</th>\n",
       "      <td>خاتم سليمان</td>\n",
       "      <td>1947</td>\n",
       "      <td>ا????ا??</td>\n",
       "      <td>117.0</td>\n",
       "      <td>تناول الفيلم في إطار من الخيال، قصة المعلم بيو...</td>\n",
       "      <td>حسن رمزي,السيد زيادة</td>\n",
       "      <td>ليلى مراد,يحيى شاهين,زكي رستم,نيللي مظلوم,ثريا...</td>\n",
       "      <td>أفلام النصر (محمد حسن رمزي وشركاه)</td>\n",
       "      <td>مصطفى حسن,وحيد فريد</td>\n",
       "      <td>ألبير نجيب,وفيقة أبو جبل</td>\n",
       "      <td>حبيب خوري</td>\n",
       "      <td>قاسم وجدي</td>\n",
       "      <td>حسين السيد,السيد زيادة,رياض السنباطي,محمد القص...</td>\n",
       "      <td>حسن رمزي,ألبير نجيب,عبدالرحمن شريف</td>\n",
       "      <td>NaN</td>\n",
       "    </tr>\n",
       "  </tbody>\n",
       "</table>\n",
       "</div>"
      ],
      "text/plain": [
       "      اسم الفيلم  تاريخ العرض   التصنيف  المدة  \\\n",
       "174  خاتم سليمان         1946       NaN  103.2   \n",
       "227  خاتم سليمان         1947  ا????ا??  117.0   \n",
       "\n",
       "                                                  ملخص                 تأليف  \\\n",
       "174                                                NaN             أبو بثينة   \n",
       "227  تناول الفيلم في إطار من الخيال، قصة المعلم بيو...  حسن رمزي,السيد زيادة   \n",
       "\n",
       "                                                 تمثيل  \\\n",
       "174                                         أمينة شريف   \n",
       "227  ليلى مراد,يحيى شاهين,زكي رستم,نيللي مظلوم,ثريا...   \n",
       "\n",
       "                                  إنتاج                تصوير  \\\n",
       "174                           أفلام حرب                  NaN   \n",
       "227  أفلام النصر (محمد حسن رمزي وشركاه)  مصطفى حسن,وحيد فريد   \n",
       "\n",
       "                       مونتاج      ديكور      ملابس  \\\n",
       "174                       NaN        NaN        NaN   \n",
       "227  ألبير نجيب,وفيقة أبو جبل  حبيب خوري  قاسم وجدي   \n",
       "\n",
       "                                                موسيقى  \\\n",
       "174                                                NaN   \n",
       "227  حسين السيد,السيد زيادة,رياض السنباطي,محمد القص...   \n",
       "\n",
       "                                  إخراج توزيع  \n",
       "174                            فؤاد شبل   NaN  \n",
       "227  حسن رمزي,ألبير نجيب,عبدالرحمن شريف   NaN  "
      ]
     },
     "execution_count": 16,
     "metadata": {},
     "output_type": "execute_result"
    }
   ],
   "source": [
    "forties_df.loc[forties_df['اسم الفيلم'] == 'خاتم سليمان']"
   ]
  },
  {
   "cell_type": "code",
   "execution_count": 17,
   "metadata": {},
   "outputs": [
    {
     "data": {
      "text/plain": [
       "??ا??       46\n",
       "???????     26\n",
       "??????      25\n",
       "ا????ا??    16\n",
       "?????        7\n",
       "تاريخي       2\n",
       "?????ا?      2\n",
       "????         2\n",
       "???          1\n",
       "Name: التصنيف, dtype: int64"
      ]
     },
     "execution_count": 17,
     "metadata": {},
     "output_type": "execute_result"
    }
   ],
   "source": [
    "forties_df['التصنيف'].value_counts()"
   ]
  },
  {
   "cell_type": "markdown",
   "metadata": {},
   "source": [
    "### Cleansing"
   ]
  },
  {
   "cell_type": "code",
   "execution_count": 142,
   "metadata": {},
   "outputs": [],
   "source": [
    "forties_df = change_empty_entries_to_None(forties_df)"
   ]
  },
  {
   "cell_type": "code",
   "execution_count": 143,
   "metadata": {},
   "outputs": [
    {
     "data": {
      "text/plain": [
       "تاريخي    2\n",
       "Name: التصنيف, dtype: int64"
      ]
     },
     "execution_count": 143,
     "metadata": {},
     "output_type": "execute_result"
    }
   ],
   "source": [
    "forties_df['التصنيف'].value_counts()"
   ]
  },
  {
   "cell_type": "code",
   "execution_count": 144,
   "metadata": {},
   "outputs": [],
   "source": [
    "expanded_date_40s = forties_df.copy(deep = True)"
   ]
  },
  {
   "cell_type": "code",
   "execution_count": 145,
   "metadata": {},
   "outputs": [],
   "source": [
    "expanded_date_40s = expand_release_date(forties_df)\n",
    "expanded_date_40s = unify_date_format(expanded_date_40s)"
   ]
  },
  {
   "cell_type": "code",
   "execution_count": 146,
   "metadata": {},
   "outputs": [],
   "source": [
    "expanded_date_40s = expanded_date_40s.drop(columns=[' تاريخ العرض','اليوم'])\n",
    "expanded_date_40s['التقييم'] = None"
   ]
  },
  {
   "cell_type": "code",
   "execution_count": 147,
   "metadata": {},
   "outputs": [],
   "source": [
    "foreigns_filtered_40s  = expanded_date_40s.copy(deep = True)"
   ]
  },
  {
   "cell_type": "code",
   "execution_count": 148,
   "metadata": {},
   "outputs": [],
   "source": [
    "foreigns_filtered_40s = filter_foregin_movies(expanded_date_40s \\\n",
    "                                                , '1940s_data/countries_1940s.txt')"
   ]
  },
  {
   "cell_type": "code",
   "execution_count": 149,
   "metadata": {},
   "outputs": [],
   "source": [
    "genre_added_40s = foreigns_filtered_40s.copy(deep = True)"
   ]
  },
  {
   "cell_type": "code",
   "execution_count": 150,
   "metadata": {},
   "outputs": [],
   "source": [
    "genre_added_40s = add_scraped_features(foreigns_filtered_40s \\\n",
    "                                          , '1940s_data/1940s_genres.txt' \\\n",
    "                                         , 'التصنيف')"
   ]
  },
  {
   "cell_type": "code",
   "execution_count": 152,
   "metadata": {},
   "outputs": [
    {
     "data": {
      "text/plain": [
       "ﺩﺭاﻣﺎ                75\n",
       "ﻛﻮﻣﻴﺪﻱ               23\n",
       "موسيقي / استعراضي    13\n",
       "ﺭﻭﻣﺎﻧﺴﻲ              12\n",
       "ﺗﺸﻮﻳﻖ ﻭﺇﺛﺎﺭﺓ          2\n",
       "ﻋﺎﺋﻠﻲ                 2\n",
       "ﺟﺮﻳﻤﺔ                 2\n",
       "ﻣﻐﺎﻣﺮاﺕ               1\n",
       "ﺣﺮﺏ                   1\n",
       "ﺧﻴﺎﻝ                  1\n",
       "Name: التصنيف, dtype: int64"
      ]
     },
     "execution_count": 152,
     "metadata": {},
     "output_type": "execute_result"
    }
   ],
   "source": [
    "genre_added_40s['التصنيف'].value_counts()"
   ]
  },
  {
   "cell_type": "code",
   "execution_count": 153,
   "metadata": {},
   "outputs": [],
   "source": [
    "ratings_added_40s = genre_added_40s.copy(deep = True)"
   ]
  },
  {
   "cell_type": "code",
   "execution_count": 154,
   "metadata": {},
   "outputs": [],
   "source": [
    "ratings_added_40s = add_scraped_features(genre_added_40s \\\n",
    "                                          , '1940s_data/1940s_ratings.txt' \\\n",
    "                                         , 'التقييم')"
   ]
  },
  {
   "cell_type": "code",
   "execution_count": 155,
   "metadata": {},
   "outputs": [],
   "source": [
    "synopsis_added_40s = ratings_added_40s.copy(deep = True)"
   ]
  },
  {
   "cell_type": "code",
   "execution_count": 156,
   "metadata": {
    "scrolled": true
   },
   "outputs": [],
   "source": [
    "synopsis_added_40s = add_scraped_features(ratings_added_40s \\\n",
    "                                          , '1940s_data/1940s_synopses.txt' \\\n",
    "                                         , 'ملخص')"
   ]
  },
  {
   "cell_type": "code",
   "execution_count": 157,
   "metadata": {},
   "outputs": [],
   "source": [
    "synopsis_added_40s = synopsis_added_40s.reset_index(drop=True)"
   ]
  },
  {
   "cell_type": "code",
   "execution_count": 158,
   "metadata": {},
   "outputs": [
    {
     "data": {
      "text/html": [
       "<div>\n",
       "<style scoped>\n",
       "    .dataframe tbody tr th:only-of-type {\n",
       "        vertical-align: middle;\n",
       "    }\n",
       "\n",
       "    .dataframe tbody tr th {\n",
       "        vertical-align: top;\n",
       "    }\n",
       "\n",
       "    .dataframe thead th {\n",
       "        text-align: right;\n",
       "    }\n",
       "</style>\n",
       "<table border=\"1\" class=\"dataframe\">\n",
       "  <thead>\n",
       "    <tr style=\"text-align: right;\">\n",
       "      <th></th>\n",
       "      <th>اسم الفيلم</th>\n",
       "      <th>التصنيف</th>\n",
       "      <th>المدة</th>\n",
       "      <th>ملخص</th>\n",
       "      <th>تأليف</th>\n",
       "      <th>تمثيل</th>\n",
       "      <th>إنتاج</th>\n",
       "      <th>تصوير</th>\n",
       "      <th>مونتاج</th>\n",
       "      <th>ديكور</th>\n",
       "      <th>ملابس</th>\n",
       "      <th>موسيقى</th>\n",
       "      <th>إخراج</th>\n",
       "      <th>توزيع</th>\n",
       "      <th>الشهر</th>\n",
       "      <th>السنة</th>\n",
       "      <th>التقييم</th>\n",
       "    </tr>\n",
       "  </thead>\n",
       "  <tbody>\n",
       "    <tr>\n",
       "      <th>61</th>\n",
       "      <td>ابنتي</td>\n",
       "      <td>ﺩﺭاﻣﺎ</td>\n",
       "      <td>135.0</td>\n",
       "      <td>يبدد زوج ناهد أموال زوجته على عشيقته، وبعد أن ...</td>\n",
       "      <td>أحمد رامي,عزيزة أمير,محمود ذو الفقار</td>\n",
       "      <td>عزيزة أمير,محمود ذو الفقار,زكي طليمات,فردوس مح...</td>\n",
       "      <td>أفلام عزيزة أمير,رمسيس نجيب,ستوديو نصيبيان</td>\n",
       "      <td>مصطفى حسن,وحيد فريد,أرام ماراليان</td>\n",
       "      <td>جلال مصطفى</td>\n",
       "      <td>روبرت شارفنبرج,حبيب خوري,عباس حلمي,أبو العلا علي</td>\n",
       "      <td>None</td>\n",
       "      <td>محمد الكحلاوي,إبراهيم حسن,حامد طاهر,عبدالعزيز ...</td>\n",
       "      <td>نيازي مصطفى,محمد عبدالجواد,فهمي عبدالجواد</td>\n",
       "      <td>نحّاس فيلم</td>\n",
       "      <td>ابريل</td>\n",
       "      <td>1944</td>\n",
       "      <td>6.2</td>\n",
       "    </tr>\n",
       "  </tbody>\n",
       "</table>\n",
       "</div>"
      ],
      "text/plain": [
       "   اسم الفيلم التصنيف  المدة  \\\n",
       "61      ابنتي   ﺩﺭاﻣﺎ  135.0   \n",
       "\n",
       "                                                 ملخص  \\\n",
       "61  يبدد زوج ناهد أموال زوجته على عشيقته، وبعد أن ...   \n",
       "\n",
       "                                   تأليف  \\\n",
       "61  أحمد رامي,عزيزة أمير,محمود ذو الفقار   \n",
       "\n",
       "                                                تمثيل  \\\n",
       "61  عزيزة أمير,محمود ذو الفقار,زكي طليمات,فردوس مح...   \n",
       "\n",
       "                                         إنتاج  \\\n",
       "61  أفلام عزيزة أمير,رمسيس نجيب,ستوديو نصيبيان   \n",
       "\n",
       "                                تصوير      مونتاج  \\\n",
       "61  مصطفى حسن,وحيد فريد,أرام ماراليان  جلال مصطفى   \n",
       "\n",
       "                                               ديكور ملابس  \\\n",
       "61  روبرت شارفنبرج,حبيب خوري,عباس حلمي,أبو العلا علي  None   \n",
       "\n",
       "                                               موسيقى  \\\n",
       "61  محمد الكحلاوي,إبراهيم حسن,حامد طاهر,عبدالعزيز ...   \n",
       "\n",
       "                                        إخراج       توزيع  الشهر السنة التقييم  \n",
       "61  نيازي مصطفى,محمد عبدالجواد,فهمي عبدالجواد  نحّاس فيلم  ابريل  1944     6.2  "
      ]
     },
     "execution_count": 158,
     "metadata": {},
     "output_type": "execute_result"
    }
   ],
   "source": [
    "synopsis_added_40s.sample()"
   ]
  },
  {
   "cell_type": "markdown",
   "metadata": {},
   "source": [
    "## *_1950s Movies_*"
   ]
  },
  {
   "cell_type": "code",
   "execution_count": null,
   "metadata": {
    "scrolled": true
   },
   "outputs": [],
   "source": [
    "fifties_df.sample(10)"
   ]
  },
  {
   "cell_type": "code",
   "execution_count": 29,
   "metadata": {},
   "outputs": [
    {
     "name": "stdout",
     "output_type": "stream",
     "text": [
      "Column Name:  ‫اسم الفيلم‬\n",
      "count              534\n",
      "unique             533\n",
      "top       هل أقتل زوجى\n",
      "freq                 2\n",
      "Name: اسم الفيلم, dtype: object\n",
      "\n",
      "--------------------\n",
      "Column Name:  ‫ تاريخ العرض‬\n",
      "count      534\n",
      "unique     368\n",
      "top       1953\n",
      "freq        14\n",
      "Name:  تاريخ العرض, dtype: object\n",
      "\n",
      "--------------------\n",
      "Column Name:  ‫التصنيف‬\n",
      "count       383\n",
      "unique       11\n",
      "top       ??ا??\n",
      "freq        138\n",
      "Name: التصنيف, dtype: object\n",
      "\n",
      "--------------------\n",
      "Column Name:  ‫المدة‬\n",
      "count    534.000000\n",
      "mean     108.119663\n",
      "std       13.207141\n",
      "min       53.000000\n",
      "25%      100.000000\n",
      "50%      108.350000\n",
      "75%      115.000000\n",
      "max      170.000000\n",
      "Name: المدة, dtype: float64\n",
      "\n",
      "--------------------\n",
      "Column Name:  ‫ ملخص‬\n",
      "count                                                   522\n",
      "unique                                                  522\n",
      "top       تدور أحداث الفيلم حو حلاق في بغداد يحكي لزبائن...\n",
      "freq                                                      1\n",
      "Name:  ملخص, dtype: object\n",
      "\n",
      "--------------------\n",
      "Column Name:  ‫تأليف‬\n",
      "count                     516\n",
      "unique                    341\n",
      "top       أبو السعود الإبياري\n",
      "freq                       28\n",
      "Name: تأليف, dtype: object\n",
      "\n",
      "--------------------\n",
      "Column Name:  ‫تمثيل‬\n",
      "count                                                   532\n",
      "unique                                                  532\n",
      "top       إسماعيل يس,شكري سرحان,هاجر حمدي,محمود المليجي,...\n",
      "freq                                                      1\n",
      "Name: تمثيل, dtype: object\n",
      "\n",
      "--------------------\n",
      "Column Name:  ‫إنتاج‬\n",
      "count                                            466\n",
      "unique                                           400\n",
      "top       نحّاس فيلم,رمسيس نجيب,أديب جابر,سليمان نجا\n",
      "freq                                               5\n",
      "Name: إنتاج, dtype: object\n",
      "\n",
      "--------------------\n",
      "Column Name:  ‫تصوير‬\n",
      "count             486\n",
      "unique            370\n",
      "top       برونو سالفي\n",
      "freq               12\n",
      "Name: تصوير, dtype: object\n",
      "\n",
      "--------------------\n",
      "Column Name:  ‫مونتاج‬\n",
      "count                465\n",
      "unique               295\n",
      "top       كمال أبو العلا\n",
      "freq                  15\n",
      "Name: مونتاج, dtype: object\n",
      "\n",
      "--------------------\n",
      "Column Name:  ‫ديكور‬\n",
      "count           458\n",
      "unique          270\n",
      "top       عباس حلمي\n",
      "freq             23\n",
      "Name: ديكور, dtype: object\n",
      "\n",
      "--------------------\n",
      "Column Name:  ‫ملابس‬\n",
      "count              85\n",
      "unique             44\n",
      "top       أحمد الكسار\n",
      "freq               14\n",
      "Name: ملابس, dtype: object\n",
      "\n",
      "--------------------\n",
      "Column Name:  ‫موسيقى‬\n",
      "count              372\n",
      "unique             304\n",
      "top       فؤاد الظاهري\n",
      "freq                19\n",
      "Name: موسيقى, dtype: object\n",
      "\n",
      "--------------------\n",
      "Column Name:  ‫إخراج‬\n",
      "count                     529\n",
      "unique                    374\n",
      "top       حلمي رفلة,عاطف سالم\n",
      "freq                       16\n",
      "Name: إخراج, dtype: object\n",
      "\n",
      "--------------------\n",
      "Column Name:  ‫توزيع‬\n",
      "count                   245\n",
      "unique                   59\n",
      "top       منتخبات بهنا فيلم\n",
      "freq                     57\n",
      "Name: توزيع, dtype: object\n",
      "\n",
      "--------------------\n"
     ]
    }
   ],
   "source": [
    "describe_dataframe(fifties_df)"
   ]
  },
  {
   "cell_type": "code",
   "execution_count": 31,
   "metadata": {},
   "outputs": [
    {
     "data": {
      "text/plain": [
       "??ا??           138\n",
       "??????           85\n",
       "???????          80\n",
       "ا????ا??         34\n",
       "?????            17\n",
       "تاريخي           10\n",
       "????             10\n",
       "???               4\n",
       "???? ????         2\n",
       "?????ا?           2\n",
       "????? ??????      1\n",
       "Name: التصنيف, dtype: int64"
      ]
     },
     "execution_count": 31,
     "metadata": {},
     "output_type": "execute_result"
    }
   ],
   "source": [
    "fifties_df['التصنيف'].value_counts()"
   ]
  },
  {
   "cell_type": "code",
   "execution_count": 32,
   "metadata": {},
   "outputs": [
    {
     "data": {
      "text/html": [
       "<div>\n",
       "<style scoped>\n",
       "    .dataframe tbody tr th:only-of-type {\n",
       "        vertical-align: middle;\n",
       "    }\n",
       "\n",
       "    .dataframe tbody tr th {\n",
       "        vertical-align: top;\n",
       "    }\n",
       "\n",
       "    .dataframe thead th {\n",
       "        text-align: right;\n",
       "    }\n",
       "</style>\n",
       "<table border=\"1\" class=\"dataframe\">\n",
       "  <thead>\n",
       "    <tr style=\"text-align: right;\">\n",
       "      <th></th>\n",
       "      <th>اسم الفيلم</th>\n",
       "      <th>تاريخ العرض</th>\n",
       "      <th>التصنيف</th>\n",
       "      <th>المدة</th>\n",
       "      <th>ملخص</th>\n",
       "      <th>تأليف</th>\n",
       "      <th>تمثيل</th>\n",
       "      <th>إنتاج</th>\n",
       "      <th>تصوير</th>\n",
       "      <th>مونتاج</th>\n",
       "      <th>ديكور</th>\n",
       "      <th>ملابس</th>\n",
       "      <th>موسيقى</th>\n",
       "      <th>إخراج</th>\n",
       "      <th>توزيع</th>\n",
       "    </tr>\n",
       "  </thead>\n",
       "  <tbody>\n",
       "    <tr>\n",
       "      <th>441</th>\n",
       "      <td>هل أقتل زوجى</td>\n",
       "      <td>5 مايو 1958</td>\n",
       "      <td>NaN</td>\n",
       "      <td>87.0</td>\n",
       "      <td>تبدأ أحداث الفيلم بجو هادئ مرح فى أسرة مكونة م...</td>\n",
       "      <td>محمد كامل حسن المحامي</td>\n",
       "      <td>محسن سرحان,سميرة أحمد,توفيق الدقن,سهير البابلي...</td>\n",
       "      <td>وليم رزق,حسن موافى,فرغل البارودي,حسام الدين مصطفى</td>\n",
       "      <td>البير رياض,كليليو (ك. ستشفللي)</td>\n",
       "      <td>حسن حلمي (حسنوف)</td>\n",
       "      <td>أنطوان بوليزويس,عبدالمنعم على</td>\n",
       "      <td>NaN</td>\n",
       "      <td>NaN</td>\n",
       "      <td>حسام الدين مصطفى,سيمون صالح,مصطفى سمهان,إبراهي...</td>\n",
       "      <td>NaN</td>\n",
       "    </tr>\n",
       "  </tbody>\n",
       "</table>\n",
       "</div>"
      ],
      "text/plain": [
       "       اسم الفيلم  تاريخ العرض التصنيف  المدة  \\\n",
       "441  هل أقتل زوجى  5 مايو 1958     NaN   87.0   \n",
       "\n",
       "                                                  ملخص                  تأليف  \\\n",
       "441  تبدأ أحداث الفيلم بجو هادئ مرح فى أسرة مكونة م...  محمد كامل حسن المحامي   \n",
       "\n",
       "                                                 تمثيل  \\\n",
       "441  محسن سرحان,سميرة أحمد,توفيق الدقن,سهير البابلي...   \n",
       "\n",
       "                                                 إنتاج  \\\n",
       "441  وليم رزق,حسن موافى,فرغل البارودي,حسام الدين مصطفى   \n",
       "\n",
       "                              تصوير            مونتاج  \\\n",
       "441  البير رياض,كليليو (ك. ستشفللي)  حسن حلمي (حسنوف)   \n",
       "\n",
       "                             ديكور ملابس موسيقى  \\\n",
       "441  أنطوان بوليزويس,عبدالمنعم على   NaN    NaN   \n",
       "\n",
       "                                                 إخراج توزيع  \n",
       "441  حسام الدين مصطفى,سيمون صالح,مصطفى سمهان,إبراهي...   NaN  "
      ]
     },
     "execution_count": 32,
     "metadata": {},
     "output_type": "execute_result"
    }
   ],
   "source": [
    "fifties_df[fifties_df.duplicated(subset = ['اسم الفيلم'])]"
   ]
  },
  {
   "cell_type": "code",
   "execution_count": 33,
   "metadata": {},
   "outputs": [
    {
     "data": {
      "text/html": [
       "<div>\n",
       "<style scoped>\n",
       "    .dataframe tbody tr th:only-of-type {\n",
       "        vertical-align: middle;\n",
       "    }\n",
       "\n",
       "    .dataframe tbody tr th {\n",
       "        vertical-align: top;\n",
       "    }\n",
       "\n",
       "    .dataframe thead th {\n",
       "        text-align: right;\n",
       "    }\n",
       "</style>\n",
       "<table border=\"1\" class=\"dataframe\">\n",
       "  <thead>\n",
       "    <tr style=\"text-align: right;\">\n",
       "      <th></th>\n",
       "      <th>اسم الفيلم</th>\n",
       "      <th>تاريخ العرض</th>\n",
       "      <th>التصنيف</th>\n",
       "      <th>المدة</th>\n",
       "      <th>ملخص</th>\n",
       "      <th>تأليف</th>\n",
       "      <th>تمثيل</th>\n",
       "      <th>إنتاج</th>\n",
       "      <th>تصوير</th>\n",
       "      <th>مونتاج</th>\n",
       "      <th>ديكور</th>\n",
       "      <th>ملابس</th>\n",
       "      <th>موسيقى</th>\n",
       "      <th>إخراج</th>\n",
       "      <th>توزيع</th>\n",
       "    </tr>\n",
       "  </thead>\n",
       "  <tbody>\n",
       "  </tbody>\n",
       "</table>\n",
       "</div>"
      ],
      "text/plain": [
       "Empty DataFrame\n",
       "Columns: [اسم الفيلم,  تاريخ العرض, التصنيف, المدة,  ملخص, تأليف, تمثيل, إنتاج, تصوير, مونتاج, ديكور, ملابس, موسيقى, إخراج, توزيع]\n",
       "Index: []"
      ]
     },
     "execution_count": 33,
     "metadata": {},
     "output_type": "execute_result"
    }
   ],
   "source": [
    "fifties_df.loc[fifties_df['اسم الفيلم'] == 'غرام في إستانبول (غرام في إسطنبول)']"
   ]
  },
  {
   "cell_type": "code",
   "execution_count": 159,
   "metadata": {},
   "outputs": [],
   "source": [
    "fifties_df = change_empty_entries_to_None(fifties_df)"
   ]
  },
  {
   "cell_type": "code",
   "execution_count": 160,
   "metadata": {},
   "outputs": [],
   "source": [
    "expanded_date_50s = fifties_df.copy(deep = True)"
   ]
  },
  {
   "cell_type": "code",
   "execution_count": 161,
   "metadata": {},
   "outputs": [],
   "source": [
    "expanded_date_50s = expand_release_date(fifties_df)\n",
    "expanded_date_50s = unify_date_format(expanded_date_50s)"
   ]
  },
  {
   "cell_type": "code",
   "execution_count": 162,
   "metadata": {},
   "outputs": [],
   "source": [
    "expanded_date_50s.drop(columns=[' تاريخ العرض','اليوم'], inplace = True)\n",
    "expanded_date_50s['التقييم'] = None"
   ]
  },
  {
   "cell_type": "code",
   "execution_count": 163,
   "metadata": {},
   "outputs": [],
   "source": [
    "foreign_filtered_50s = expanded_date_50s.copy(deep = True)"
   ]
  },
  {
   "cell_type": "code",
   "execution_count": 164,
   "metadata": {},
   "outputs": [],
   "source": [
    "foreign_filtered_50s = filter_foregin_movies(expanded_date_50s\n",
    "                                               , '1950s_data/countries_1950s.txt')"
   ]
  },
  {
   "cell_type": "code",
   "execution_count": 165,
   "metadata": {},
   "outputs": [],
   "source": [
    "ratings_added_50s = foreign_filtered_50s.copy(deep = True)"
   ]
  },
  {
   "cell_type": "code",
   "execution_count": 166,
   "metadata": {},
   "outputs": [],
   "source": [
    "ratings_added_50s = add_scraped_features(foreign_filtered_50s \\\n",
    "                                           , '1950s_data/1950s_ratings.txt'\n",
    "                                           , 'التقييم')"
   ]
  },
  {
   "cell_type": "code",
   "execution_count": 167,
   "metadata": {},
   "outputs": [],
   "source": [
    "genres_added_50s = ratings_added_50s.copy(deep = True)"
   ]
  },
  {
   "cell_type": "code",
   "execution_count": 168,
   "metadata": {},
   "outputs": [],
   "source": [
    "genres_added_50s = add_scraped_features(ratings_added_50s \\\n",
    "                                           , '1950s_data/1950s_genres.txt'\n",
    "                                           , 'التصنيف')"
   ]
  },
  {
   "cell_type": "code",
   "execution_count": 169,
   "metadata": {},
   "outputs": [],
   "source": [
    "synopsis_added_50s = genres_added_50s.copy(deep = True)"
   ]
  },
  {
   "cell_type": "code",
   "execution_count": 170,
   "metadata": {},
   "outputs": [],
   "source": [
    "synopsis_added_50s = add_scraped_features(genres_added_50s \\\n",
    "                                          , '1950s_data/1950s_synopses.txt' \\\n",
    "                                         , 'ملخص')"
   ]
  },
  {
   "cell_type": "code",
   "execution_count": 41,
   "metadata": {},
   "outputs": [
    {
     "data": {
      "text/plain": [
       "ﺩﺭاﻣﺎ                192\n",
       "ﻛﻮﻣﻴﺪﻱ                60\n",
       "ﺭﻭﻣﺎﻧﺴﻲ               44\n",
       "موسيقي / استعراضي     31\n",
       "ﺗﺸﻮﻳﻖ ﻭﺇﺛﺎﺭﺓ          14\n",
       "تاريخي                 9\n",
       "ﺟﺮﻳﻤﺔ                  8\n",
       "ﺣﺮﻛﺔ                   6\n",
       "ﺧﻴﺎﻝ ﻋﻠﻤﻲ              3\n",
       "ﻋﺎﺋﻠﻲ                  3\n",
       "ﻏﻤﻮﺽ                   2\n",
       "ﺣﺮﺏ                    2\n",
       "ﺭﻋﺐ                    1\n",
       "ﺧﻴﺎﻝ                   1\n",
       "ﻣﻐﺎﻣﺮاﺕ                1\n",
       "Name: التصنيف, dtype: int64"
      ]
     },
     "execution_count": 41,
     "metadata": {},
     "output_type": "execute_result"
    }
   ],
   "source": [
    "synopsis_added_50s['التصنيف'].value_counts()"
   ]
  },
  {
   "cell_type": "code",
   "execution_count": 171,
   "metadata": {
    "scrolled": true
   },
   "outputs": [],
   "source": [
    "synopsis_added_50s = synopsis_added_50s.reset_index(drop=True)"
   ]
  },
  {
   "cell_type": "code",
   "execution_count": 172,
   "metadata": {},
   "outputs": [
    {
     "data": {
      "text/html": [
       "<div>\n",
       "<style scoped>\n",
       "    .dataframe tbody tr th:only-of-type {\n",
       "        vertical-align: middle;\n",
       "    }\n",
       "\n",
       "    .dataframe tbody tr th {\n",
       "        vertical-align: top;\n",
       "    }\n",
       "\n",
       "    .dataframe thead th {\n",
       "        text-align: right;\n",
       "    }\n",
       "</style>\n",
       "<table border=\"1\" class=\"dataframe\">\n",
       "  <thead>\n",
       "    <tr style=\"text-align: right;\">\n",
       "      <th></th>\n",
       "      <th>اسم الفيلم</th>\n",
       "      <th>التصنيف</th>\n",
       "      <th>المدة</th>\n",
       "      <th>ملخص</th>\n",
       "      <th>تأليف</th>\n",
       "      <th>تمثيل</th>\n",
       "      <th>إنتاج</th>\n",
       "      <th>تصوير</th>\n",
       "      <th>مونتاج</th>\n",
       "      <th>ديكور</th>\n",
       "      <th>ملابس</th>\n",
       "      <th>موسيقى</th>\n",
       "      <th>إخراج</th>\n",
       "      <th>توزيع</th>\n",
       "      <th>الشهر</th>\n",
       "      <th>السنة</th>\n",
       "      <th>التقييم</th>\n",
       "    </tr>\n",
       "  </thead>\n",
       "  <tbody>\n",
       "    <tr>\n",
       "      <th>5</th>\n",
       "      <td>فلفل</td>\n",
       "      <td>ﺩﺭاﻣﺎ</td>\n",
       "      <td>95.0</td>\n",
       "      <td>يجري دكتور تجارب على الأصوات وينشغل عن زوجته ا...</td>\n",
       "      <td>مصطفى العطار,حسن توفيق,سيف الدين شوكت</td>\n",
       "      <td>إسماعيل يس,حسن فايق,ماجدة,لولا صدقي,إلياس مؤدب...</td>\n",
       "      <td>معامل شبرا,محسن سابو</td>\n",
       "      <td>مسعود عيسى,فيكتور أنطون,ماركو</td>\n",
       "      <td>أحمد إسماعيل,فيرتشي أورفانللي</td>\n",
       "      <td>سليمان شاهين,ستوديوهات (حدائق) شبرا</td>\n",
       "      <td>None</td>\n",
       "      <td>حسن توفيق,حسن أبو زيد</td>\n",
       "      <td>سيف الدين شوكت,مصطفى العطار,أنيس نهرا,إلياس متى</td>\n",
       "      <td>None</td>\n",
       "      <td>مارس</td>\n",
       "      <td>1950</td>\n",
       "      <td>5</td>\n",
       "    </tr>\n",
       "  </tbody>\n",
       "</table>\n",
       "</div>"
      ],
      "text/plain": [
       "  اسم الفيلم التصنيف  المدة  \\\n",
       "5       فلفل   ﺩﺭاﻣﺎ   95.0   \n",
       "\n",
       "                                                ملخص  \\\n",
       "5  يجري دكتور تجارب على الأصوات وينشغل عن زوجته ا...   \n",
       "\n",
       "                                   تأليف  \\\n",
       "5  مصطفى العطار,حسن توفيق,سيف الدين شوكت   \n",
       "\n",
       "                                               تمثيل                  إنتاج  \\\n",
       "5  إسماعيل يس,حسن فايق,ماجدة,لولا صدقي,إلياس مؤدب...  معامل شبرا,محسن سابو    \n",
       "\n",
       "                           تصوير                         مونتاج  \\\n",
       "5  مسعود عيسى,فيكتور أنطون,ماركو  أحمد إسماعيل,فيرتشي أورفانللي   \n",
       "\n",
       "                                 ديكور ملابس                 موسيقى  \\\n",
       "5  سليمان شاهين,ستوديوهات (حدائق) شبرا  None  حسن توفيق,حسن أبو زيد   \n",
       "\n",
       "                                             إخراج توزيع الشهر السنة التقييم  \n",
       "5  سيف الدين شوكت,مصطفى العطار,أنيس نهرا,إلياس متى  None  مارس  1950       5  "
      ]
     },
     "execution_count": 172,
     "metadata": {},
     "output_type": "execute_result"
    }
   ],
   "source": [
    "synopsis_added_50s.sample()"
   ]
  },
  {
   "cell_type": "markdown",
   "metadata": {},
   "source": [
    "## *_1960s Movies_*"
   ]
  },
  {
   "cell_type": "code",
   "execution_count": 44,
   "metadata": {
    "scrolled": true
   },
   "outputs": [
    {
     "data": {
      "text/html": [
       "<div>\n",
       "<style scoped>\n",
       "    .dataframe tbody tr th:only-of-type {\n",
       "        vertical-align: middle;\n",
       "    }\n",
       "\n",
       "    .dataframe tbody tr th {\n",
       "        vertical-align: top;\n",
       "    }\n",
       "\n",
       "    .dataframe thead th {\n",
       "        text-align: right;\n",
       "    }\n",
       "</style>\n",
       "<table border=\"1\" class=\"dataframe\">\n",
       "  <thead>\n",
       "    <tr style=\"text-align: right;\">\n",
       "      <th></th>\n",
       "      <th>اسم الفيلم</th>\n",
       "      <th>تاريخ العرض</th>\n",
       "      <th>التصنيف</th>\n",
       "      <th>المدة</th>\n",
       "      <th>ملخص</th>\n",
       "      <th>تأليف</th>\n",
       "      <th>تمثيل</th>\n",
       "      <th>إنتاج</th>\n",
       "      <th>تصوير</th>\n",
       "      <th>مونتاج</th>\n",
       "      <th>ديكور</th>\n",
       "      <th>ملابس</th>\n",
       "      <th>موسيقى</th>\n",
       "      <th>إخراج</th>\n",
       "      <th>توزيع</th>\n",
       "    </tr>\n",
       "  </thead>\n",
       "  <tbody>\n",
       "    <tr>\n",
       "      <th>569</th>\n",
       "      <td>شنبو في المصيدة</td>\n",
       "      <td>2 سبتمبر 1968</td>\n",
       "      <td>ﻛﻮﻣﻴﺪﻱ</td>\n",
       "      <td>130.0</td>\n",
       "      <td>شنبو قصصى مرهف الحس يعمل موظفًا بسيطًا للحسابا...</td>\n",
       "      <td>أحمد رجب,صبري عزت</td>\n",
       "      <td>فؤاد المهندس,شويكار,يوسف وهبي,توفيق الدقن,سمير...</td>\n",
       "      <td>سامي شلبي,محمود هيمن</td>\n",
       "      <td>كليليو (ك. ستشفللي),غنيم بهنسي</td>\n",
       "      <td>فكري رستم,عادل شكري,زكي منسي</td>\n",
       "      <td>ستوديو نصيبيان,نهاد بهجت</td>\n",
       "      <td>NaN</td>\n",
       "      <td>NaN</td>\n",
       "      <td>حسام الدين مصطفى,أحمد السبعاوي</td>\n",
       "      <td>هيمن فيلم</td>\n",
       "    </tr>\n",
       "    <tr>\n",
       "      <th>540</th>\n",
       "      <td>المساجين الثلاثة</td>\n",
       "      <td>2 سبتمبر 1968</td>\n",
       "      <td>ﺟﺮﻳﻤﺔ</td>\n",
       "      <td>105.0</td>\n",
       "      <td>يهرب مساجين ثلاثة من السجن في محاولة كل واحد م...</td>\n",
       "      <td>فيصل ندا</td>\n",
       "      <td>رشدي أباظة,شمس البارودي,محمد عوض,نوال أبو الفت...</td>\n",
       "      <td>افلام الإتحاد (عباس حلمى),سامي شلبي,عبدالعزيز على</td>\n",
       "      <td>وحيد فريد,عصام فريد</td>\n",
       "      <td>حسين أحمد,مارسيل صالح,صلاح عبدالرازق</td>\n",
       "      <td>عباس حلمي,عبدالمنعم على</td>\n",
       "      <td>NaN</td>\n",
       "      <td>NaN</td>\n",
       "      <td>حسام الدين مصطفى,أحمد السبعاوي,نجيب إسكندر</td>\n",
       "      <td>افلام الإتحاد (عباس حلمى),أفلام السلام (حسن أم...</td>\n",
       "    </tr>\n",
       "    <tr>\n",
       "      <th>174</th>\n",
       "      <td>حلوة وكدابه</td>\n",
       "      <td>1962</td>\n",
       "      <td>NaN</td>\n",
       "      <td>104.0</td>\n",
       "      <td>تعمل (منى) الفتاة ذات الصوت الجميل التي تدمن ا...</td>\n",
       "      <td>حسين فوزي</td>\n",
       "      <td>حسن فايق,مها صبري,رشدي أباظة,نجوى فؤاد,عبدالسل...</td>\n",
       "      <td>NaN</td>\n",
       "      <td>NaN</td>\n",
       "      <td>NaN</td>\n",
       "      <td>NaN</td>\n",
       "      <td>NaN</td>\n",
       "      <td>NaN</td>\n",
       "      <td>حسين فوزي</td>\n",
       "      <td>NaN</td>\n",
       "    </tr>\n",
       "    <tr>\n",
       "      <th>424</th>\n",
       "      <td>هو.. والنساء</td>\n",
       "      <td>31 اغسطس 1966</td>\n",
       "      <td>اﺳﺘﻌﺮاﺿﻲ</td>\n",
       "      <td>90.0</td>\n",
       "      <td>علوى مخرج مسرحى، يعيش حياة عائلية غير مستقرة، ...</td>\n",
       "      <td>حسن الإمام,محمد مصطفى سامي</td>\n",
       "      <td>هند رستم,رشدي أباظة,نجوى فؤاد,ناهد شريف,عبدالم...</td>\n",
       "      <td>رزق عبدالحميد,نجوى فؤاد,كمال الحفناوي</td>\n",
       "      <td>البير رياض,غنيم بهنسي,مصطفى حسن</td>\n",
       "      <td>رشيدة عبدالسلام,محمد الزرقا,محيي الدين أحمد,نا...</td>\n",
       "      <td>حلمي عزب,حسين الشريف (حسين شريف),عجمي عبدالرحم...</td>\n",
       "      <td>NaN</td>\n",
       "      <td>زكريا الحجاوي,خضره محمد خضر,علي إسماعيل</td>\n",
       "      <td>حسن الإمام,صبحى عبدالعزيز</td>\n",
       "      <td>دولار فيلم (إسماعيل الكردي وأولاده)</td>\n",
       "    </tr>\n",
       "    <tr>\n",
       "      <th>135</th>\n",
       "      <td>معملش حسابها</td>\n",
       "      <td>1962</td>\n",
       "      <td>NaN</td>\n",
       "      <td>104.0</td>\n",
       "      <td>يقوم المهرب (الرشيدي) بالاحتيال على (أبو العز)...</td>\n",
       "      <td>إستيفان روستي,زكي صالح</td>\n",
       "      <td>إستيفان روستي,توفيق الدقن,فؤاد توفيق,ممدوح زاي...</td>\n",
       "      <td>NaN</td>\n",
       "      <td>NaN</td>\n",
       "      <td>NaN</td>\n",
       "      <td>NaN</td>\n",
       "      <td>NaN</td>\n",
       "      <td>NaN</td>\n",
       "      <td>محمود الصيفي</td>\n",
       "      <td>NaN</td>\n",
       "    </tr>\n",
       "    <tr>\n",
       "      <th>249</th>\n",
       "      <td>أم العروسة</td>\n",
       "      <td>23 ديسمبر 1963</td>\n",
       "      <td>ﻛﻮﻣﻴﺪﻱ</td>\n",
       "      <td>105.0</td>\n",
       "      <td>(حسين) رب أسرة مصرية كبيرة ، يعاني من مشاكل تد...</td>\n",
       "      <td>عبدالحميد جودة السحار,عبدالحي أديب</td>\n",
       "      <td>سميرة أحمد,تحية كاريوكا,عماد حمدي,حسن يوسف,يوس...</td>\n",
       "      <td>نجيب خوري,أديب جابر,فؤاد صلاح الدين,عادل فريد</td>\n",
       "      <td>مسعود عيسى,رمزي إبراهيم</td>\n",
       "      <td>حسين أحمد,محيي الدين عبدالجواد,سلوى</td>\n",
       "      <td>حبيب خوري,محمود المغربي,كوستا</td>\n",
       "      <td>NaN</td>\n",
       "      <td>NaN</td>\n",
       "      <td>عاطف سالم,أنور الشناوي,حسين عمر</td>\n",
       "      <td>صوت الفن</td>\n",
       "    </tr>\n",
       "    <tr>\n",
       "      <th>132</th>\n",
       "      <td>الأخوة الأصدقاء</td>\n",
       "      <td>1962</td>\n",
       "      <td>ﻗﺼﻴﺮ</td>\n",
       "      <td>30.0</td>\n",
       "      <td>من خلال دراما اجتماعية تدور أحداث الفلم التلفز...</td>\n",
       "      <td>عبدالقادر التلمساني,محمود توفيق</td>\n",
       "      <td>عبدالرحمن أبو زهرة, نادية أبو السعود,ملك الجمل...</td>\n",
       "      <td>NaN</td>\n",
       "      <td>جميل عبدالرحمن</td>\n",
       "      <td>فتحي داود,فتحى قاسم</td>\n",
       "      <td>NaN</td>\n",
       "      <td>NaN</td>\n",
       "      <td>أحمد صدقي</td>\n",
       "      <td>عبدالقادر التلمساني,جمال عمار</td>\n",
       "      <td>NaN</td>\n",
       "    </tr>\n",
       "    <tr>\n",
       "      <th>293</th>\n",
       "      <td>بنت الحته</td>\n",
       "      <td>21 ابريل 1964</td>\n",
       "      <td>ﻛﻮﻣﻴﺪﻱ</td>\n",
       "      <td>101.3</td>\n",
       "      <td>(إخلاص) طالبة الجامعة تحب (عمر) اللبان، ولكن ا...</td>\n",
       "      <td>محمود إسماعيل</td>\n",
       "      <td>محمود إسماعيل,شكري سرحان,زهرة العلا,توفيق الدق...</td>\n",
       "      <td>حسن الصيفي</td>\n",
       "      <td>محمد عمارة,جمال عبادة,مصطفى حسن</td>\n",
       "      <td>إبراهيم عرايس,فتحي داود,فكري رستم,مارسيل صالح</td>\n",
       "      <td>أنطوان بوليزويس,محمود حسنين الشيخ,نجيب خوري</td>\n",
       "      <td>NaN</td>\n",
       "      <td>NaN</td>\n",
       "      <td>حسن الصيفي,فوزي علي,محمود الصيفي</td>\n",
       "      <td>NaN</td>\n",
       "    </tr>\n",
       "    <tr>\n",
       "      <th>31</th>\n",
       "      <td>ابو الليل</td>\n",
       "      <td>26 ديسمبر 1960</td>\n",
       "      <td>ﺟﺮﻳﻤﺔ</td>\n",
       "      <td>95.0</td>\n",
       "      <td>\"أبو الليل\" شخص غامض يرتدي قناع على وجهه ولا أ...</td>\n",
       "      <td>عدلي المولد,كامل عبدالسلام</td>\n",
       "      <td>سامية جمال,أحمد رمزي,زيزي البدراوي,محمود الملي...</td>\n",
       "      <td>أفلام النجم الفضي,محمد أبو الفتوح,محمود المليجي</td>\n",
       "      <td>مصطفى حسن,البير رياض,غنيم بهنسي,محمد زقلط</td>\n",
       "      <td>ناهد مكاوي,حسين عفيفي,فكري رستم</td>\n",
       "      <td>عبدالحميد السخاوي,عبدالمنعم على</td>\n",
       "      <td>أحمد الكسار</td>\n",
       "      <td>علي إسماعيل</td>\n",
       "      <td>حسام الدين مصطفى,صبحى عبدالعزيز,عبدالشافي عبدا...</td>\n",
       "      <td>الشرق لتوزيع الأفلام</td>\n",
       "    </tr>\n",
       "    <tr>\n",
       "      <th>214</th>\n",
       "      <td>النشال</td>\n",
       "      <td>28 يناير 1963</td>\n",
       "      <td>ﺗﺸﻮﻳﻖ ﻭﺇﺛﺎﺭﺓ</td>\n",
       "      <td>85.0</td>\n",
       "      <td>قام كمال بنشل حافظة بها مبلغ كبير ورسالة تدل ع...</td>\n",
       "      <td>أحمد الملا,عبدالحي أديب,محمد أبو يوسف</td>\n",
       "      <td>سميحة محمد,طوسون معتمد,زيزي مصطفى,كامل أنور,سع...</td>\n",
       "      <td>عبدالرحيم يزدي</td>\n",
       "      <td>البير رياض,عمرو الدويني,مصطفى حسن</td>\n",
       "      <td>كمال فهمي,حسين أحمد,ليلى فهمي,محيي الدين عبدال...</td>\n",
       "      <td>مصطفى عبدالله,ماهر عبدالنور,نجيب خوري,ستوديوها...</td>\n",
       "      <td>NaN</td>\n",
       "      <td>NaN</td>\n",
       "      <td>محمود فريد,بندق,حسن إبراهيم</td>\n",
       "      <td>عبدالرحيم يزدي</td>\n",
       "    </tr>\n",
       "  </tbody>\n",
       "</table>\n",
       "</div>"
      ],
      "text/plain": [
       "           اسم الفيلم     تاريخ العرض       التصنيف  المدة  \\\n",
       "569   شنبو في المصيدة   2 سبتمبر 1968        ﻛﻮﻣﻴﺪﻱ  130.0   \n",
       "540  المساجين الثلاثة   2 سبتمبر 1968         ﺟﺮﻳﻤﺔ  105.0   \n",
       "174       حلوة وكدابه            1962           NaN  104.0   \n",
       "424      هو.. والنساء   31 اغسطس 1966      اﺳﺘﻌﺮاﺿﻲ   90.0   \n",
       "135      معملش حسابها            1962           NaN  104.0   \n",
       "249        أم العروسة  23 ديسمبر 1963        ﻛﻮﻣﻴﺪﻱ  105.0   \n",
       "132   الأخوة الأصدقاء            1962          ﻗﺼﻴﺮ   30.0   \n",
       "293         بنت الحته   21 ابريل 1964        ﻛﻮﻣﻴﺪﻱ  101.3   \n",
       "31          ابو الليل  26 ديسمبر 1960         ﺟﺮﻳﻤﺔ   95.0   \n",
       "214            النشال   28 يناير 1963  ﺗﺸﻮﻳﻖ ﻭﺇﺛﺎﺭﺓ   85.0   \n",
       "\n",
       "                                                  ملخص  \\\n",
       "569  شنبو قصصى مرهف الحس يعمل موظفًا بسيطًا للحسابا...   \n",
       "540  يهرب مساجين ثلاثة من السجن في محاولة كل واحد م...   \n",
       "174  تعمل (منى) الفتاة ذات الصوت الجميل التي تدمن ا...   \n",
       "424  علوى مخرج مسرحى، يعيش حياة عائلية غير مستقرة، ...   \n",
       "135  يقوم المهرب (الرشيدي) بالاحتيال على (أبو العز)...   \n",
       "249  (حسين) رب أسرة مصرية كبيرة ، يعاني من مشاكل تد...   \n",
       "132  من خلال دراما اجتماعية تدور أحداث الفلم التلفز...   \n",
       "293  (إخلاص) طالبة الجامعة تحب (عمر) اللبان، ولكن ا...   \n",
       "31   \"أبو الليل\" شخص غامض يرتدي قناع على وجهه ولا أ...   \n",
       "214  قام كمال بنشل حافظة بها مبلغ كبير ورسالة تدل ع...   \n",
       "\n",
       "                                     تأليف  \\\n",
       "569                      أحمد رجب,صبري عزت   \n",
       "540                               فيصل ندا   \n",
       "174                              حسين فوزي   \n",
       "424             حسن الإمام,محمد مصطفى سامي   \n",
       "135                 إستيفان روستي,زكي صالح   \n",
       "249     عبدالحميد جودة السحار,عبدالحي أديب   \n",
       "132        عبدالقادر التلمساني,محمود توفيق   \n",
       "293                          محمود إسماعيل   \n",
       "31              عدلي المولد,كامل عبدالسلام   \n",
       "214  أحمد الملا,عبدالحي أديب,محمد أبو يوسف   \n",
       "\n",
       "                                                 تمثيل  \\\n",
       "569  فؤاد المهندس,شويكار,يوسف وهبي,توفيق الدقن,سمير...   \n",
       "540  رشدي أباظة,شمس البارودي,محمد عوض,نوال أبو الفت...   \n",
       "174  حسن فايق,مها صبري,رشدي أباظة,نجوى فؤاد,عبدالسل...   \n",
       "424  هند رستم,رشدي أباظة,نجوى فؤاد,ناهد شريف,عبدالم...   \n",
       "135  إستيفان روستي,توفيق الدقن,فؤاد توفيق,ممدوح زاي...   \n",
       "249  سميرة أحمد,تحية كاريوكا,عماد حمدي,حسن يوسف,يوس...   \n",
       "132  عبدالرحمن أبو زهرة, نادية أبو السعود,ملك الجمل...   \n",
       "293  محمود إسماعيل,شكري سرحان,زهرة العلا,توفيق الدق...   \n",
       "31   سامية جمال,أحمد رمزي,زيزي البدراوي,محمود الملي...   \n",
       "214  سميحة محمد,طوسون معتمد,زيزي مصطفى,كامل أنور,سع...   \n",
       "\n",
       "                                                 إنتاج  \\\n",
       "569                               سامي شلبي,محمود هيمن   \n",
       "540  افلام الإتحاد (عباس حلمى),سامي شلبي,عبدالعزيز على   \n",
       "174                                                NaN   \n",
       "424              رزق عبدالحميد,نجوى فؤاد,كمال الحفناوي   \n",
       "135                                                NaN   \n",
       "249      نجيب خوري,أديب جابر,فؤاد صلاح الدين,عادل فريد   \n",
       "132                                                NaN   \n",
       "293                                         حسن الصيفي   \n",
       "31     أفلام النجم الفضي,محمد أبو الفتوح,محمود المليجي   \n",
       "214                                     عبدالرحيم يزدي   \n",
       "\n",
       "                                         تصوير  \\\n",
       "569             كليليو (ك. ستشفللي),غنيم بهنسي   \n",
       "540                        وحيد فريد,عصام فريد   \n",
       "174                                        NaN   \n",
       "424            البير رياض,غنيم بهنسي,مصطفى حسن   \n",
       "135                                        NaN   \n",
       "249                    مسعود عيسى,رمزي إبراهيم   \n",
       "132                             جميل عبدالرحمن   \n",
       "293            محمد عمارة,جمال عبادة,مصطفى حسن   \n",
       "31   مصطفى حسن,البير رياض,غنيم بهنسي,محمد زقلط   \n",
       "214          البير رياض,عمرو الدويني,مصطفى حسن   \n",
       "\n",
       "                                                مونتاج  \\\n",
       "569                       فكري رستم,عادل شكري,زكي منسي   \n",
       "540               حسين أحمد,مارسيل صالح,صلاح عبدالرازق   \n",
       "174                                                NaN   \n",
       "424  رشيدة عبدالسلام,محمد الزرقا,محيي الدين أحمد,نا...   \n",
       "135                                                NaN   \n",
       "249                حسين أحمد,محيي الدين عبدالجواد,سلوى   \n",
       "132                                فتحي داود,فتحى قاسم   \n",
       "293      إبراهيم عرايس,فتحي داود,فكري رستم,مارسيل صالح   \n",
       "31                     ناهد مكاوي,حسين عفيفي,فكري رستم   \n",
       "214  كمال فهمي,حسين أحمد,ليلى فهمي,محيي الدين عبدال...   \n",
       "\n",
       "                                                 ديكور        ملابس  \\\n",
       "569                           ستوديو نصيبيان,نهاد بهجت          NaN   \n",
       "540                            عباس حلمي,عبدالمنعم على          NaN   \n",
       "174                                                NaN          NaN   \n",
       "424  حلمي عزب,حسين الشريف (حسين شريف),عجمي عبدالرحم...          NaN   \n",
       "135                                                NaN          NaN   \n",
       "249                      حبيب خوري,محمود المغربي,كوستا          NaN   \n",
       "132                                                NaN          NaN   \n",
       "293        أنطوان بوليزويس,محمود حسنين الشيخ,نجيب خوري          NaN   \n",
       "31                     عبدالحميد السخاوي,عبدالمنعم على  أحمد الكسار   \n",
       "214  مصطفى عبدالله,ماهر عبدالنور,نجيب خوري,ستوديوها...          NaN   \n",
       "\n",
       "                                      موسيقى  \\\n",
       "569                                      NaN   \n",
       "540                                      NaN   \n",
       "174                                      NaN   \n",
       "424  زكريا الحجاوي,خضره محمد خضر,علي إسماعيل   \n",
       "135                                      NaN   \n",
       "249                                      NaN   \n",
       "132                                أحمد صدقي   \n",
       "293                                      NaN   \n",
       "31                               علي إسماعيل   \n",
       "214                                      NaN   \n",
       "\n",
       "                                                 إخراج  \\\n",
       "569                     حسام الدين مصطفى,أحمد السبعاوي   \n",
       "540         حسام الدين مصطفى,أحمد السبعاوي,نجيب إسكندر   \n",
       "174                                          حسين فوزي   \n",
       "424                          حسن الإمام,صبحى عبدالعزيز   \n",
       "135                                       محمود الصيفي   \n",
       "249                    عاطف سالم,أنور الشناوي,حسين عمر   \n",
       "132                      عبدالقادر التلمساني,جمال عمار   \n",
       "293                   حسن الصيفي,فوزي علي,محمود الصيفي   \n",
       "31   حسام الدين مصطفى,صبحى عبدالعزيز,عبدالشافي عبدا...   \n",
       "214                        محمود فريد,بندق,حسن إبراهيم   \n",
       "\n",
       "                                                 توزيع  \n",
       "569                                          هيمن فيلم  \n",
       "540  افلام الإتحاد (عباس حلمى),أفلام السلام (حسن أم...  \n",
       "174                                                NaN  \n",
       "424                دولار فيلم (إسماعيل الكردي وأولاده)  \n",
       "135                                                NaN  \n",
       "249                                           صوت الفن  \n",
       "132                                                NaN  \n",
       "293                                                NaN  \n",
       "31                                الشرق لتوزيع الأفلام  \n",
       "214                                     عبدالرحيم يزدي  "
      ]
     },
     "execution_count": 44,
     "metadata": {},
     "output_type": "execute_result"
    }
   ],
   "source": [
    "sixties_df.sample(10)"
   ]
  },
  {
   "cell_type": "code",
   "execution_count": 45,
   "metadata": {},
   "outputs": [
    {
     "name": "stdout",
     "output_type": "stream",
     "text": [
      "Column Name:  ‫اسم الفيلم‬\n",
      "count         651\n",
      "unique        646\n",
      "top       المتمرد\n",
      "freq            4\n",
      "Name: اسم الفيلم, dtype: object\n",
      "\n",
      "--------------------\n",
      "Column Name:  ‫ تاريخ العرض‬\n",
      "count      651\n",
      "unique     324\n",
      "top       1968\n",
      "freq        42\n",
      "Name:  تاريخ العرض, dtype: object\n",
      "\n",
      "--------------------\n",
      "Column Name:  ‫التصنيف‬\n",
      "count       359\n",
      "unique       15\n",
      "top       ﺩﺭاﻣﺎ\n",
      "freq        115\n",
      "Name: التصنيف, dtype: object\n",
      "\n",
      "--------------------\n",
      "Column Name:  ‫المدة‬\n",
      "count    651.000000\n",
      "mean     102.518280\n",
      "std       13.958636\n",
      "min       30.000000\n",
      "25%       95.000000\n",
      "50%      101.000000\n",
      "75%      105.400000\n",
      "max      195.000000\n",
      "Name: المدة, dtype: float64\n",
      "\n",
      "--------------------\n",
      "Column Name:  ‫ ملخص‬\n",
      "count                                                   560\n",
      "unique                                                  557\n",
      "top       عام 1867 فى تونس، فى حى المزاريق، ينهب رجال ال...\n",
      "freq                                                      4\n",
      "Name:  ملخص, dtype: object\n",
      "\n",
      "--------------------\n",
      "Column Name:  ‫تأليف‬\n",
      "count            575\n",
      "unique           481\n",
      "top       محمد سلمان\n",
      "freq              10\n",
      "Name: تأليف, dtype: object\n",
      "\n",
      "--------------------\n",
      "Column Name:  ‫تمثيل‬\n",
      "count            632\n",
      "unique           616\n",
      "top       أحمد مشتهى\n",
      "freq              10\n",
      "Name: تمثيل, dtype: object\n",
      "\n",
      "--------------------\n",
      "Column Name:  ‫إنتاج‬\n",
      "count               490\n",
      "unique              448\n",
      "top       كامل الحفناوي\n",
      "freq                  5\n",
      "Name: إنتاج, dtype: object\n",
      "\n",
      "--------------------\n",
      "Column Name:  ‫تصوير‬\n",
      "count             530\n",
      "unique            356\n",
      "top       برونو سالفي\n",
      "freq               12\n",
      "Name: تصوير, dtype: object\n",
      "\n",
      "--------------------\n",
      "Column Name:  ‫مونتاج‬\n",
      "count                468\n",
      "unique               330\n",
      "top       عبدالعزيز فخري\n",
      "freq                  13\n",
      "Name: مونتاج, dtype: object\n",
      "\n",
      "--------------------\n",
      "Column Name:  ‫ديكور‬\n",
      "count                    398\n",
      "unique                   291\n",
      "top       حلمي عزب,نجيب خوري\n",
      "freq                      18\n",
      "Name: ديكور, dtype: object\n",
      "\n",
      "--------------------\n",
      "Column Name:  ‫ملابس‬\n",
      "count              82\n",
      "unique             45\n",
      "top       فوزية حجازي\n",
      "freq                9\n",
      "Name: ملابس, dtype: object\n",
      "\n",
      "--------------------\n",
      "Column Name:  ‫موسيقى‬\n",
      "count              335\n",
      "unique             218\n",
      "top       فؤاد الظاهري\n",
      "freq                32\n",
      "Name: موسيقى, dtype: object\n",
      "\n",
      "--------------------\n",
      "Column Name:  ‫إخراج‬\n",
      "count                      604\n",
      "unique                     452\n",
      "top       حسن الصيفي,جمال عمار\n",
      "freq                         9\n",
      "Name: إخراج, dtype: object\n",
      "\n",
      "--------------------\n",
      "Column Name:  ‫توزيع‬\n",
      "count                                     278\n",
      "unique                                    102\n",
      "top       دولار فيلم (إسماعيل الكردي وأولاده)\n",
      "freq                                       28\n",
      "Name: توزيع, dtype: object\n",
      "\n",
      "--------------------\n"
     ]
    }
   ],
   "source": [
    "describe_dataframe(sixties_df)"
   ]
  },
  {
   "cell_type": "code",
   "execution_count": 46,
   "metadata": {},
   "outputs": [
    {
     "data": {
      "text/html": [
       "<div>\n",
       "<style scoped>\n",
       "    .dataframe tbody tr th:only-of-type {\n",
       "        vertical-align: middle;\n",
       "    }\n",
       "\n",
       "    .dataframe tbody tr th {\n",
       "        vertical-align: top;\n",
       "    }\n",
       "\n",
       "    .dataframe thead th {\n",
       "        text-align: right;\n",
       "    }\n",
       "</style>\n",
       "<table border=\"1\" class=\"dataframe\">\n",
       "  <thead>\n",
       "    <tr style=\"text-align: right;\">\n",
       "      <th></th>\n",
       "      <th>اسم الفيلم</th>\n",
       "      <th>تاريخ العرض</th>\n",
       "      <th>التصنيف</th>\n",
       "      <th>المدة</th>\n",
       "      <th>ملخص</th>\n",
       "      <th>تأليف</th>\n",
       "      <th>تمثيل</th>\n",
       "      <th>إنتاج</th>\n",
       "      <th>تصوير</th>\n",
       "      <th>مونتاج</th>\n",
       "      <th>ديكور</th>\n",
       "      <th>ملابس</th>\n",
       "      <th>موسيقى</th>\n",
       "      <th>إخراج</th>\n",
       "      <th>توزيع</th>\n",
       "    </tr>\n",
       "  </thead>\n",
       "  <tbody>\n",
       "    <tr>\n",
       "      <th>606</th>\n",
       "      <td>شايف خير</td>\n",
       "      <td>20 يناير 1969</td>\n",
       "      <td>NaN</td>\n",
       "      <td>90.0</td>\n",
       "      <td>NaN</td>\n",
       "      <td>طه سالم,محمد شكري جميل,جميل حمودى</td>\n",
       "      <td>محمد النفيس,فاروق  فياض,سامى  عبدالحميد,فخري ا...</td>\n",
       "      <td>مصلحة السينما والمسرح</td>\n",
       "      <td>جورج يوسف,عبداللطيف صالح</td>\n",
       "      <td>صبيح عبدالكريم</td>\n",
       "      <td>NaN</td>\n",
       "      <td>NaN</td>\n",
       "      <td>سالم حسين</td>\n",
       "      <td>محمد شكري جميل</td>\n",
       "      <td>NaN</td>\n",
       "    </tr>\n",
       "    <tr>\n",
       "      <th>621</th>\n",
       "      <td>شايف خير</td>\n",
       "      <td>1969</td>\n",
       "      <td>NaN</td>\n",
       "      <td>97.7</td>\n",
       "      <td>NaN</td>\n",
       "      <td>NaN</td>\n",
       "      <td>إبراهيم جلال</td>\n",
       "      <td>NaN</td>\n",
       "      <td>NaN</td>\n",
       "      <td>NaN</td>\n",
       "      <td>NaN</td>\n",
       "      <td>NaN</td>\n",
       "      <td>NaN</td>\n",
       "      <td>NaN</td>\n",
       "      <td>NaN</td>\n",
       "    </tr>\n",
       "  </tbody>\n",
       "</table>\n",
       "</div>"
      ],
      "text/plain": [
       "    اسم الفيلم    تاريخ العرض التصنيف  المدة  ملخص  \\\n",
       "606   شايف خير  20 يناير 1969     NaN   90.0   NaN   \n",
       "621   شايف خير           1969     NaN   97.7   NaN   \n",
       "\n",
       "                                 تأليف  \\\n",
       "606  طه سالم,محمد شكري جميل,جميل حمودى   \n",
       "621                                NaN   \n",
       "\n",
       "                                                 تمثيل                  إنتاج  \\\n",
       "606  محمد النفيس,فاروق  فياض,سامى  عبدالحميد,فخري ا...  مصلحة السينما والمسرح   \n",
       "621                                       إبراهيم جلال                    NaN   \n",
       "\n",
       "                        تصوير          مونتاج ديكور ملابس     موسيقى  \\\n",
       "606  جورج يوسف,عبداللطيف صالح  صبيح عبدالكريم   NaN   NaN  سالم حسين   \n",
       "621                       NaN             NaN   NaN   NaN        NaN   \n",
       "\n",
       "              إخراج توزيع  \n",
       "606  محمد شكري جميل   NaN  \n",
       "621             NaN   NaN  "
      ]
     },
     "execution_count": 46,
     "metadata": {},
     "output_type": "execute_result"
    }
   ],
   "source": [
    "sixties_df.loc[sixties_df['اسم الفيلم'] == 'شايف خير']"
   ]
  },
  {
   "cell_type": "code",
   "execution_count": 47,
   "metadata": {},
   "outputs": [
    {
     "data": {
      "text/plain": [
       "ﺩﺭاﻣﺎ           115\n",
       "ﺭﻭﻣﺎﻧﺴﻲ          87\n",
       "ﻛﻮﻣﻴﺪﻱ           76\n",
       "ﺟﺮﻳﻤﺔ            21\n",
       "اﺳﺘﻌﺮاﺿﻲ         18\n",
       "ﺣﺮﻛﺔ             11\n",
       "تاريخي            9\n",
       "ﺗﺸﻮﻳﻖ ﻭﺇﺛﺎﺭﺓ      6\n",
       "ﺳﻴﺮﺓ ﺫاﺗﻴﺔ        5\n",
       "ﻣﻐﺎﻣﺮاﺕ           3\n",
       "ﻏﻤﻮﺽ              3\n",
       "ﺧﻴﺎﻝ ﻋﻠﻤﻲ         2\n",
       "ﻗﺼﻴﺮ              1\n",
       "ﻭﺛﺎﺋﻘﻲ            1\n",
       "ﻋﺎﺋﻠﻲ             1\n",
       "Name: التصنيف, dtype: int64"
      ]
     },
     "execution_count": 47,
     "metadata": {},
     "output_type": "execute_result"
    }
   ],
   "source": [
    "sixties_df['التصنيف'].value_counts()"
   ]
  },
  {
   "cell_type": "code",
   "execution_count": 48,
   "metadata": {},
   "outputs": [
    {
     "data": {
      "text/plain": [
       "اسم الفيلم       object\n",
       " تاريخ العرض     object\n",
       "التصنيف          object\n",
       "المدة           float64\n",
       " ملخص            object\n",
       "تأليف            object\n",
       "تمثيل            object\n",
       "إنتاج            object\n",
       "تصوير            object\n",
       "مونتاج           object\n",
       "ديكور            object\n",
       "ملابس            object\n",
       "موسيقى           object\n",
       "إخراج            object\n",
       "توزيع            object\n",
       "dtype: object"
      ]
     },
     "execution_count": 48,
     "metadata": {},
     "output_type": "execute_result"
    }
   ],
   "source": [
    "sixties_df.dtypes"
   ]
  },
  {
   "cell_type": "code",
   "execution_count": 49,
   "metadata": {},
   "outputs": [
    {
     "data": {
      "text/html": [
       "<div>\n",
       "<style scoped>\n",
       "    .dataframe tbody tr th:only-of-type {\n",
       "        vertical-align: middle;\n",
       "    }\n",
       "\n",
       "    .dataframe tbody tr th {\n",
       "        vertical-align: top;\n",
       "    }\n",
       "\n",
       "    .dataframe thead th {\n",
       "        text-align: right;\n",
       "    }\n",
       "</style>\n",
       "<table border=\"1\" class=\"dataframe\">\n",
       "  <thead>\n",
       "    <tr style=\"text-align: right;\">\n",
       "      <th></th>\n",
       "      <th>اسم الفيلم</th>\n",
       "      <th>تاريخ العرض</th>\n",
       "      <th>التصنيف</th>\n",
       "      <th>المدة</th>\n",
       "      <th>ملخص</th>\n",
       "      <th>تأليف</th>\n",
       "      <th>تمثيل</th>\n",
       "      <th>إنتاج</th>\n",
       "      <th>تصوير</th>\n",
       "      <th>مونتاج</th>\n",
       "      <th>ديكور</th>\n",
       "      <th>ملابس</th>\n",
       "      <th>موسيقى</th>\n",
       "      <th>إخراج</th>\n",
       "      <th>توزيع</th>\n",
       "    </tr>\n",
       "  </thead>\n",
       "  <tbody>\n",
       "    <tr>\n",
       "      <th>518</th>\n",
       "      <td>المتمرد</td>\n",
       "      <td>1968</td>\n",
       "      <td>NaN</td>\n",
       "      <td>100.0</td>\n",
       "      <td>عام 1867 فى تونس، فى حى المزاريق، ينهب رجال ال...</td>\n",
       "      <td>محمد المرزوقى,عمار الخليفي</td>\n",
       "      <td>سميرة أحمد,طاهر وهب,حطاب الذيب,حسيبة رشدي,الطا...</td>\n",
       "      <td>تونس,عمار الخليفي</td>\n",
       "      <td>عز الدين بن عمار</td>\n",
       "      <td>فوزية طابع,عمار الخليفي</td>\n",
       "      <td>محمد السهيلى</td>\n",
       "      <td>NaN</td>\n",
       "      <td>NaN</td>\n",
       "      <td>مصطفى بن إبراهيم,عمار الخليفي</td>\n",
       "      <td>NaN</td>\n",
       "    </tr>\n",
       "    <tr>\n",
       "      <th>525</th>\n",
       "      <td>المتمرد</td>\n",
       "      <td>1968</td>\n",
       "      <td>NaN</td>\n",
       "      <td>100.0</td>\n",
       "      <td>عام 1867 فى تونس، فى حى المزاريق، ينهب رجال ال...</td>\n",
       "      <td>محمد المرزوقى,عمار الخليفي</td>\n",
       "      <td>سميرة أحمد,طاهر وهب,حطاب الذيب,حسيبة رشدي,الطا...</td>\n",
       "      <td>تونس,عمار الخليفي</td>\n",
       "      <td>عز الدين بن عمار</td>\n",
       "      <td>فوزية طابع,عمار الخليفي</td>\n",
       "      <td>محمد السهيلى</td>\n",
       "      <td>NaN</td>\n",
       "      <td>NaN</td>\n",
       "      <td>مصطفى بن إبراهيم,عمار الخليفي</td>\n",
       "      <td>NaN</td>\n",
       "    </tr>\n",
       "    <tr>\n",
       "      <th>532</th>\n",
       "      <td>المتمرد</td>\n",
       "      <td>1968</td>\n",
       "      <td>NaN</td>\n",
       "      <td>100.0</td>\n",
       "      <td>عام 1867 فى تونس، فى حى المزاريق، ينهب رجال ال...</td>\n",
       "      <td>محمد المرزوقى,عمار الخليفي</td>\n",
       "      <td>سميرة أحمد,طاهر وهب,حطاب الذيب,حسيبة رشدي,الطا...</td>\n",
       "      <td>تونس,عمار الخليفي</td>\n",
       "      <td>عز الدين بن عمار</td>\n",
       "      <td>فوزية طابع,عمار الخليفي</td>\n",
       "      <td>محمد السهيلى</td>\n",
       "      <td>NaN</td>\n",
       "      <td>NaN</td>\n",
       "      <td>مصطفى بن إبراهيم,عمار الخليفي</td>\n",
       "      <td>NaN</td>\n",
       "    </tr>\n",
       "  </tbody>\n",
       "</table>\n",
       "</div>"
      ],
      "text/plain": [
       "    اسم الفيلم  تاريخ العرض التصنيف  المدة  \\\n",
       "518    المتمرد         1968     NaN  100.0   \n",
       "525    المتمرد         1968     NaN  100.0   \n",
       "532    المتمرد         1968     NaN  100.0   \n",
       "\n",
       "                                                  ملخص  \\\n",
       "518  عام 1867 فى تونس، فى حى المزاريق، ينهب رجال ال...   \n",
       "525  عام 1867 فى تونس، فى حى المزاريق، ينهب رجال ال...   \n",
       "532  عام 1867 فى تونس، فى حى المزاريق، ينهب رجال ال...   \n",
       "\n",
       "                          تأليف  \\\n",
       "518  محمد المرزوقى,عمار الخليفي   \n",
       "525  محمد المرزوقى,عمار الخليفي   \n",
       "532  محمد المرزوقى,عمار الخليفي   \n",
       "\n",
       "                                                 تمثيل              إنتاج  \\\n",
       "518  سميرة أحمد,طاهر وهب,حطاب الذيب,حسيبة رشدي,الطا...  تونس,عمار الخليفي   \n",
       "525  سميرة أحمد,طاهر وهب,حطاب الذيب,حسيبة رشدي,الطا...  تونس,عمار الخليفي   \n",
       "532  سميرة أحمد,طاهر وهب,حطاب الذيب,حسيبة رشدي,الطا...  تونس,عمار الخليفي   \n",
       "\n",
       "                تصوير                   مونتاج         ديكور ملابس موسيقى  \\\n",
       "518  عز الدين بن عمار  فوزية طابع,عمار الخليفي  محمد السهيلى   NaN    NaN   \n",
       "525  عز الدين بن عمار  فوزية طابع,عمار الخليفي  محمد السهيلى   NaN    NaN   \n",
       "532  عز الدين بن عمار  فوزية طابع,عمار الخليفي  محمد السهيلى   NaN    NaN   \n",
       "\n",
       "                             إخراج توزيع  \n",
       "518  مصطفى بن إبراهيم,عمار الخليفي   NaN  \n",
       "525  مصطفى بن إبراهيم,عمار الخليفي   NaN  \n",
       "532  مصطفى بن إبراهيم,عمار الخليفي   NaN  "
      ]
     },
     "execution_count": 49,
     "metadata": {},
     "output_type": "execute_result"
    }
   ],
   "source": [
    "sixties_df[sixties_df.duplicated(subset = ['اسم الفيلم', 'تمثيل'])]"
   ]
  },
  {
   "cell_type": "markdown",
   "metadata": {},
   "source": [
    "_**Cleansing**_"
   ]
  },
  {
   "cell_type": "code",
   "execution_count": 173,
   "metadata": {},
   "outputs": [],
   "source": [
    "sixties_df = change_empty_entries_to_None(sixties_df)"
   ]
  },
  {
   "cell_type": "code",
   "execution_count": 174,
   "metadata": {},
   "outputs": [],
   "source": [
    "sixties_df.drop_duplicates(subset = ['اسم الفيلم', 'تمثيل']\n",
    "                          , inplace= True, keep = 'last')"
   ]
  },
  {
   "cell_type": "code",
   "execution_count": 175,
   "metadata": {
    "scrolled": true
   },
   "outputs": [],
   "source": [
    "sixties_df.drop(inplace = True, index = \\\n",
    "               sixties_df.loc[sixties_df['التصنيف'] == 'ﻭﺛﺎﺋﻘﻲ'].index)"
   ]
  },
  {
   "cell_type": "code",
   "execution_count": 176,
   "metadata": {},
   "outputs": [],
   "source": [
    "date_expanded_60s = sixties_df.copy(deep = True)"
   ]
  },
  {
   "cell_type": "code",
   "execution_count": 177,
   "metadata": {},
   "outputs": [],
   "source": [
    "date_expanded_60s = expand_release_date(sixties_df)\n",
    "date_expanded_60s = unify_date_format(date_expanded_60s)"
   ]
  },
  {
   "cell_type": "code",
   "execution_count": 178,
   "metadata": {},
   "outputs": [],
   "source": [
    "date_expanded_60s.drop(columns=[' تاريخ العرض', 'اليوم'], inplace= True)"
   ]
  },
  {
   "cell_type": "code",
   "execution_count": 54,
   "metadata": {},
   "outputs": [],
   "source": [
    "sixties_df.to_csv('1960s_data/1960s_no_duplicates.csv')"
   ]
  },
  {
   "cell_type": "code",
   "execution_count": 179,
   "metadata": {},
   "outputs": [],
   "source": [
    "date_expanded_60s['التقييم'] = None"
   ]
  },
  {
   "cell_type": "code",
   "execution_count": 59,
   "metadata": {},
   "outputs": [],
   "source": [
    "# date_expanded_1960s_df.to_csv('1960s_data/date_expanded_1960s.csv')"
   ]
  },
  {
   "cell_type": "markdown",
   "metadata": {},
   "source": [
    "_**Filling Missing Values**_"
   ]
  },
  {
   "cell_type": "markdown",
   "metadata": {},
   "source": [
    "* **Add Webscraped Ratings**"
   ]
  },
  {
   "cell_type": "code",
   "execution_count": 180,
   "metadata": {},
   "outputs": [],
   "source": [
    "foreigns_filtered_60s = date_expanded_60s.copy(deep = True)"
   ]
  },
  {
   "cell_type": "code",
   "execution_count": 181,
   "metadata": {},
   "outputs": [],
   "source": [
    "foreigns_filtered_60s = filter_foregin_movies(date_expanded_60s \\\n",
    "                                                , '1960s_data/1960s_countries.txt')"
   ]
  },
  {
   "cell_type": "code",
   "execution_count": 182,
   "metadata": {},
   "outputs": [],
   "source": [
    "ratings_added_60s = foreigns_filtered_60s.copy(deep = True)"
   ]
  },
  {
   "cell_type": "code",
   "execution_count": 183,
   "metadata": {},
   "outputs": [],
   "source": [
    "ratings_added_60s = add_scraped_features(foreigns_filtered_60s \\\n",
    "                                    , '1960s_data/1960s_ratings.txt' \\\n",
    "                                    , 'التقييم')"
   ]
  },
  {
   "cell_type": "code",
   "execution_count": 184,
   "metadata": {},
   "outputs": [],
   "source": [
    "genre_added_60s = ratings_added_60s.copy(deep = True)"
   ]
  },
  {
   "cell_type": "code",
   "execution_count": 63,
   "metadata": {
    "scrolled": true
   },
   "outputs": [],
   "source": [
    "# ratings_added_60s_df.to_csv('1960s_data/ratings_added_df_60s.csv')"
   ]
  },
  {
   "cell_type": "code",
   "execution_count": 185,
   "metadata": {},
   "outputs": [],
   "source": [
    "genre_added_60s = add_scraped_features(ratings_added_60s \\\n",
    "                                          , '1960s_data/1960s_genres.txt' \\\n",
    "                                         , 'التصنيف')"
   ]
  },
  {
   "cell_type": "code",
   "execution_count": null,
   "metadata": {},
   "outputs": [],
   "source": [
    "genre_added_60s_df.to_csv('1960s_data/genre_added_60s_df.csv')"
   ]
  },
  {
   "cell_type": "code",
   "execution_count": 65,
   "metadata": {},
   "outputs": [
    {
     "data": {
      "text/plain": [
       "ﺩﺭاﻣﺎ                171\n",
       "ﻛﻮﻣﻴﺪﻱ                59\n",
       "ﺭﻭﻣﺎﻧﺴﻲ               46\n",
       "ﺗﺸﻮﻳﻖ ﻭﺇﺛﺎﺭﺓ          18\n",
       "موسيقي / استعراضي     13\n",
       "ﺟﺮﻳﻤﺔ                 12\n",
       "ﺣﺮﻛﺔ                   7\n",
       "ﺧﻴﺎﻝ                   4\n",
       "ﺳﻴﺮﺓ ﺫاﺗﻴﺔ             4\n",
       "ﻣﻐﺎﻣﺮاﺕ                4\n",
       "ﻋﺎﺋﻠﻲ                  4\n",
       "تاريخي                 2\n",
       "ﺧﻴﺎﻝ ﻋﻠﻤﻲ              2\n",
       "ﻏﻤﻮﺽ                   1\n",
       "ﻗﺼﻴﺮ                   1\n",
       "Name: التصنيف, dtype: int64"
      ]
     },
     "execution_count": 65,
     "metadata": {},
     "output_type": "execute_result"
    }
   ],
   "source": [
    "genre_added_60s['التصنيف'].value_counts()"
   ]
  },
  {
   "cell_type": "code",
   "execution_count": 187,
   "metadata": {},
   "outputs": [
    {
     "data": {
      "text/plain": [
       "54"
      ]
     },
     "execution_count": 187,
     "metadata": {},
     "output_type": "execute_result"
    }
   ],
   "source": [
    "genre_added_60s['ملخص'].isnull().sum()"
   ]
  },
  {
   "cell_type": "code",
   "execution_count": 188,
   "metadata": {},
   "outputs": [],
   "source": [
    "synopsis_added_60s = genre_added_60s.copy(deep = True)"
   ]
  },
  {
   "cell_type": "code",
   "execution_count": 189,
   "metadata": {},
   "outputs": [],
   "source": [
    "synopsis_added_60s = add_scraped_features(genre_added_60s \\\n",
    "                                          , '1960s_data/1960s_synopses.txt' \\\n",
    "                                         , genre_added_60s.columns[3])"
   ]
  },
  {
   "cell_type": "code",
   "execution_count": 190,
   "metadata": {},
   "outputs": [],
   "source": [
    "synopsis_added_60s = synopsis_added_60s.reset_index(drop=True)"
   ]
  },
  {
   "cell_type": "code",
   "execution_count": 191,
   "metadata": {},
   "outputs": [
    {
     "data": {
      "text/plain": [
       "38"
      ]
     },
     "execution_count": 191,
     "metadata": {},
     "output_type": "execute_result"
    }
   ],
   "source": [
    "synopsis_added_60s['ملخص'].isnull().sum()"
   ]
  },
  {
   "cell_type": "markdown",
   "metadata": {},
   "source": [
    "## *_1970s Movies_*"
   ]
  },
  {
   "cell_type": "markdown",
   "metadata": {},
   "source": [
    "_**EDA**_"
   ]
  },
  {
   "cell_type": "code",
   "execution_count": 435,
   "metadata": {
    "scrolled": true
   },
   "outputs": [
    {
     "name": "stdout",
     "output_type": "stream",
     "text": [
      "Column Name:  ‫اسم الفيلم‬\n",
      "count                       793\n",
      "unique                      781\n",
      "top       الحسناء و قاهر الفضاء\n",
      "freq                          4\n",
      "Name: اسم الفيلم, dtype: object\n",
      "\n",
      "--------------------\n",
      "Column Name:  ‫ تاريخ العرض‬\n",
      "count      793\n",
      "unique     285\n",
      "top       1972\n",
      "freq        53\n",
      "Name:  تاريخ العرض, dtype: object\n",
      "\n",
      "--------------------\n",
      "Column Name:  ‫التصنيف‬\n",
      "count       341\n",
      "unique       18\n",
      "top       ﺩﺭاﻣﺎ\n",
      "freq        140\n",
      "Name: التصنيف, dtype: object\n",
      "\n",
      "--------------------\n",
      "Column Name:  ‫المدة‬\n",
      "count     793\n",
      "unique     89\n",
      "top       100\n",
      "freq       93\n",
      "Name: المدة, dtype: object\n",
      "\n",
      "--------------------\n",
      "Column Name:  ‫ملخص‬\n",
      "count                                                   649\n",
      "unique                                                  649\n",
      "top       تتمكن احدى العصابات من سرقة مجوهرات من احدى ال...\n",
      "freq                                                      1\n",
      "Name: ملخص, dtype: object\n",
      "\n",
      "--------------------\n",
      "Column Name:  ‫تأليف‬\n",
      "count          684\n",
      "unique         491\n",
      "top       فيصل ندا\n",
      "freq            26\n",
      "Name: تأليف, dtype: object\n",
      "\n",
      "--------------------\n",
      "Column Name:  ‫تمثيل‬\n",
      "count            741\n",
      "unique           725\n",
      "top       عمر الشريف\n",
      "freq               7\n",
      "Name: تمثيل, dtype: object\n",
      "\n",
      "--------------------\n",
      "Column Name:  ‫إنتاج‬\n",
      "count                               614\n",
      "unique                              556\n",
      "top       المؤسسة العامة للسينما (دمشق)\n",
      "freq                                  8\n",
      "Name: إنتاج, dtype: object\n",
      "\n",
      "--------------------\n",
      "Column Name:  ‫تصوير‬\n",
      "count                        601\n",
      "unique                       371\n",
      "top       علي خير الله,عادل أسعد\n",
      "freq                          25\n",
      "Name: تصوير, dtype: object\n",
      "\n",
      "--------------------\n",
      "Column Name:  ‫مونتاج‬\n",
      "count             566\n",
      "unique            341\n",
      "top       مروان عكاوي\n",
      "freq               29\n",
      "Name: مونتاج, dtype: object\n",
      "\n",
      "--------------------\n",
      "Column Name:  ‫ديكور‬\n",
      "count           410\n",
      "unique          304\n",
      "top       نهاد بهجت\n",
      "freq             18\n",
      "Name: ديكور, dtype: object\n",
      "\n",
      "--------------------\n",
      "Column Name:  ‫ملابس‬\n",
      "count              90\n",
      "unique             64\n",
      "top       فوزية حجازي\n",
      "freq                6\n",
      "Name: ملابس, dtype: object\n",
      "\n",
      "--------------------\n",
      "Column Name:  ‫موسيقى‬\n",
      "count              469\n",
      "unique             262\n",
      "top       فؤاد الظاهري\n",
      "freq                51\n",
      "Name: موسيقى, dtype: object\n",
      "\n",
      "--------------------\n",
      "Column Name:  ‫إخراج‬\n",
      "count                                            717\n",
      "unique                                           530\n",
      "top       حسام الدين مصطفى,أحمد السبعاوي,نجيب إسكندر\n",
      "freq                                              16\n",
      "Name: إخراج, dtype: object\n",
      "\n",
      "--------------------\n",
      "Column Name:  ‫توزيع‬\n",
      "count                                                   421\n",
      "unique                                                  191\n",
      "top       المؤسسة المصرية العامة للسينما والتلفزيون (وال...\n",
      "freq                                                     70\n",
      "Name: توزيع, dtype: object\n",
      "\n",
      "--------------------\n"
     ]
    }
   ],
   "source": [
    "describe_dataframe(seventies_df)"
   ]
  },
  {
   "cell_type": "code",
   "execution_count": 437,
   "metadata": {},
   "outputs": [
    {
     "data": {
      "text/plain": [
       "144"
      ]
     },
     "execution_count": 437,
     "metadata": {},
     "output_type": "execute_result"
    }
   ],
   "source": [
    "seventies_df['ملخص'].isnull().sum()"
   ]
  },
  {
   "cell_type": "code",
   "execution_count": 438,
   "metadata": {},
   "outputs": [
    {
     "data": {
      "text/plain": [
       "ﺩﺭاﻣﺎ           140\n",
       "ﺭﻭﻣﺎﻧﺴﻲ          60\n",
       "ﻛﻮﻣﻴﺪﻱ           56\n",
       "ﺟﺮﻳﻤﺔ            22\n",
       "اﺳﺘﻌﺮاﺿﻲ         15\n",
       "تاريخي            8\n",
       "ﺣﺮﻛﺔ              8\n",
       "ﺗﺸﻮﻳﻖ ﻭﺇﺛﺎﺭﺓ      5\n",
       "ﻗﺼﻴﺮ              5\n",
       "ﻣﻐﺎﻣﺮاﺕ           4\n",
       "ﺳﻴﺮﺓ ﺫاﺗﻴﺔ        4\n",
       "ﺣﺮﺏ               3\n",
       "ﻏﻤﻮﺽ              3\n",
       "ﻭﺛﺎﺋﻘﻲ            3\n",
       "ﺭﻳﺎﺿﻲ             2\n",
       "ﻋﺎﺋﻠﻲ             1\n",
       "ﺭﺳﻮﻡ ﻣﺘﺤﺮﻛﺔ       1\n",
       "ﺧﻴﺎﻝ ﻋﻠﻤﻲ         1\n",
       "Name: التصنيف, dtype: int64"
      ]
     },
     "execution_count": 438,
     "metadata": {},
     "output_type": "execute_result"
    }
   ],
   "source": [
    "seventies_df['التصنيف'].value_counts()"
   ]
  },
  {
   "cell_type": "code",
   "execution_count": 439,
   "metadata": {},
   "outputs": [
    {
     "data": {
      "text/plain": [
       "452"
      ]
     },
     "execution_count": 439,
     "metadata": {},
     "output_type": "execute_result"
    }
   ],
   "source": [
    "seventies_df['التصنيف'].isnull().sum()"
   ]
  },
  {
   "cell_type": "code",
   "execution_count": 440,
   "metadata": {
    "scrolled": true
   },
   "outputs": [
    {
     "data": {
      "text/html": [
       "<div>\n",
       "<style scoped>\n",
       "    .dataframe tbody tr th:only-of-type {\n",
       "        vertical-align: middle;\n",
       "    }\n",
       "\n",
       "    .dataframe tbody tr th {\n",
       "        vertical-align: top;\n",
       "    }\n",
       "\n",
       "    .dataframe thead th {\n",
       "        text-align: right;\n",
       "    }\n",
       "</style>\n",
       "<table border=\"1\" class=\"dataframe\">\n",
       "  <thead>\n",
       "    <tr style=\"text-align: right;\">\n",
       "      <th></th>\n",
       "      <th>اسم الفيلم</th>\n",
       "      <th>تاريخ العرض</th>\n",
       "      <th>التصنيف</th>\n",
       "      <th>المدة</th>\n",
       "      <th>ملخص</th>\n",
       "      <th>تأليف</th>\n",
       "      <th>تمثيل</th>\n",
       "      <th>إنتاج</th>\n",
       "      <th>تصوير</th>\n",
       "      <th>مونتاج</th>\n",
       "      <th>ديكور</th>\n",
       "      <th>ملابس</th>\n",
       "      <th>موسيقى</th>\n",
       "      <th>إخراج</th>\n",
       "      <th>توزيع</th>\n",
       "    </tr>\n",
       "  </thead>\n",
       "  <tbody>\n",
       "    <tr>\n",
       "      <th>154</th>\n",
       "      <td>فرح زهران</td>\n",
       "      <td>1972</td>\n",
       "      <td>NaN</td>\n",
       "      <td>100.5</td>\n",
       "      <td>NaN</td>\n",
       "      <td>محسن زايد</td>\n",
       "      <td>عبدالعزيز مخيون,إنعام الجريتلي,ممدوح زايد</td>\n",
       "      <td>NaN</td>\n",
       "      <td>NaN</td>\n",
       "      <td>NaN</td>\n",
       "      <td>NaN</td>\n",
       "      <td>NaN</td>\n",
       "      <td>NaN</td>\n",
       "      <td>محسن زايد</td>\n",
       "      <td>NaN</td>\n",
       "    </tr>\n",
       "    <tr>\n",
       "      <th>164</th>\n",
       "      <td>فرح زهران</td>\n",
       "      <td>1972</td>\n",
       "      <td>NaN</td>\n",
       "      <td>100.5</td>\n",
       "      <td>NaN</td>\n",
       "      <td>محسن زايد</td>\n",
       "      <td>عبدالعزيز مخيون,إنعام الجريتلي,ممدوح زايد</td>\n",
       "      <td>NaN</td>\n",
       "      <td>NaN</td>\n",
       "      <td>NaN</td>\n",
       "      <td>NaN</td>\n",
       "      <td>NaN</td>\n",
       "      <td>NaN</td>\n",
       "      <td>محسن زايد</td>\n",
       "      <td>NaN</td>\n",
       "    </tr>\n",
       "    <tr>\n",
       "      <th>172</th>\n",
       "      <td>فرح زهران</td>\n",
       "      <td>1972</td>\n",
       "      <td>NaN</td>\n",
       "      <td>100.5</td>\n",
       "      <td>NaN</td>\n",
       "      <td>محسن زايد</td>\n",
       "      <td>عبدالعزيز مخيون,إنعام الجريتلي,ممدوح زايد</td>\n",
       "      <td>NaN</td>\n",
       "      <td>NaN</td>\n",
       "      <td>NaN</td>\n",
       "      <td>NaN</td>\n",
       "      <td>NaN</td>\n",
       "      <td>NaN</td>\n",
       "      <td>محسن زايد</td>\n",
       "      <td>NaN</td>\n",
       "    </tr>\n",
       "    <tr>\n",
       "      <th>306</th>\n",
       "      <td>مخطوبتين بالوراثة</td>\n",
       "      <td>1974</td>\n",
       "      <td>NaN</td>\n",
       "      <td>108.3</td>\n",
       "      <td>NaN</td>\n",
       "      <td>NaN</td>\n",
       "      <td>NaN</td>\n",
       "      <td>NaN</td>\n",
       "      <td>NaN</td>\n",
       "      <td>NaN</td>\n",
       "      <td>NaN</td>\n",
       "      <td>NaN</td>\n",
       "      <td>NaN</td>\n",
       "      <td>NaN</td>\n",
       "      <td>NaN</td>\n",
       "    </tr>\n",
       "    <tr>\n",
       "      <th>403</th>\n",
       "      <td>الحسناء و قاهر الفضاء</td>\n",
       "      <td>1975</td>\n",
       "      <td>NaN</td>\n",
       "      <td>95</td>\n",
       "      <td>NaN</td>\n",
       "      <td>محمد جومر,سهيل كنعان</td>\n",
       "      <td>محمود جبر,إغراء,أديب قدورة,نجاح حفيظ,أنور البا...</td>\n",
       "      <td>سميراميس فيلم,دمشق</td>\n",
       "      <td>محمد الرواس</td>\n",
       "      <td>مروان عكاوي</td>\n",
       "      <td>NaN</td>\n",
       "      <td>NaN</td>\n",
       "      <td>هنري</td>\n",
       "      <td>سهيل كنعان</td>\n",
       "      <td>NaN</td>\n",
       "    </tr>\n",
       "    <tr>\n",
       "      <th>414</th>\n",
       "      <td>الحسناء و قاهر الفضاء</td>\n",
       "      <td>1975</td>\n",
       "      <td>NaN</td>\n",
       "      <td>95</td>\n",
       "      <td>NaN</td>\n",
       "      <td>محمد جومر,سهيل كنعان</td>\n",
       "      <td>محمود جبر,إغراء,أديب قدورة,نجاح حفيظ,أنور البا...</td>\n",
       "      <td>سميراميس فيلم,دمشق</td>\n",
       "      <td>محمد الرواس</td>\n",
       "      <td>مروان عكاوي</td>\n",
       "      <td>NaN</td>\n",
       "      <td>NaN</td>\n",
       "      <td>هنري</td>\n",
       "      <td>سهيل كنعان</td>\n",
       "      <td>NaN</td>\n",
       "    </tr>\n",
       "    <tr>\n",
       "      <th>421</th>\n",
       "      <td>الحسناء و قاهر الفضاء</td>\n",
       "      <td>1975</td>\n",
       "      <td>NaN</td>\n",
       "      <td>95</td>\n",
       "      <td>NaN</td>\n",
       "      <td>محمد جومر,سهيل كنعان</td>\n",
       "      <td>محمود جبر,إغراء,أديب قدورة,نجاح حفيظ,أنور البا...</td>\n",
       "      <td>سميراميس فيلم,دمشق</td>\n",
       "      <td>محمد الرواس</td>\n",
       "      <td>مروان عكاوي</td>\n",
       "      <td>NaN</td>\n",
       "      <td>NaN</td>\n",
       "      <td>هنري</td>\n",
       "      <td>سهيل كنعان</td>\n",
       "      <td>NaN</td>\n",
       "    </tr>\n",
       "  </tbody>\n",
       "</table>\n",
       "</div>"
      ],
      "text/plain": [
       "                اسم الفيلم  تاريخ العرض التصنيف  المدة ملخص  \\\n",
       "154              فرح زهران         1972     NaN  100.5  NaN   \n",
       "164              فرح زهران         1972     NaN  100.5  NaN   \n",
       "172              فرح زهران         1972     NaN  100.5  NaN   \n",
       "306      مخطوبتين بالوراثة         1974     NaN  108.3  NaN   \n",
       "403  الحسناء و قاهر الفضاء         1975     NaN     95  NaN   \n",
       "414  الحسناء و قاهر الفضاء         1975     NaN     95  NaN   \n",
       "421  الحسناء و قاهر الفضاء         1975     NaN     95  NaN   \n",
       "\n",
       "                    تأليف                                              تمثيل  \\\n",
       "154             محسن زايد        عبدالعزيز مخيون,إنعام الجريتلي,ممدوح زايد     \n",
       "164             محسن زايد        عبدالعزيز مخيون,إنعام الجريتلي,ممدوح زايد     \n",
       "172             محسن زايد        عبدالعزيز مخيون,إنعام الجريتلي,ممدوح زايد     \n",
       "306                   NaN                                                NaN   \n",
       "403  محمد جومر,سهيل كنعان  محمود جبر,إغراء,أديب قدورة,نجاح حفيظ,أنور البا...   \n",
       "414  محمد جومر,سهيل كنعان  محمود جبر,إغراء,أديب قدورة,نجاح حفيظ,أنور البا...   \n",
       "421  محمد جومر,سهيل كنعان  محمود جبر,إغراء,أديب قدورة,نجاح حفيظ,أنور البا...   \n",
       "\n",
       "                  إنتاج        تصوير       مونتاج ديكور ملابس موسيقى  \\\n",
       "154                 NaN          NaN          NaN   NaN   NaN    NaN   \n",
       "164                 NaN          NaN          NaN   NaN   NaN    NaN   \n",
       "172                 NaN          NaN          NaN   NaN   NaN    NaN   \n",
       "306                 NaN          NaN          NaN   NaN   NaN    NaN   \n",
       "403  سميراميس فيلم,دمشق  محمد الرواس  مروان عكاوي   NaN   NaN   هنري   \n",
       "414  سميراميس فيلم,دمشق  محمد الرواس  مروان عكاوي   NaN   NaN   هنري   \n",
       "421  سميراميس فيلم,دمشق  محمد الرواس  مروان عكاوي   NaN   NaN   هنري   \n",
       "\n",
       "          إخراج توزيع  \n",
       "154   محسن زايد   NaN  \n",
       "164   محسن زايد   NaN  \n",
       "172   محسن زايد   NaN  \n",
       "306         NaN   NaN  \n",
       "403  سهيل كنعان   NaN  \n",
       "414  سهيل كنعان   NaN  \n",
       "421  سهيل كنعان   NaN  "
      ]
     },
     "execution_count": 440,
     "metadata": {},
     "output_type": "execute_result"
    }
   ],
   "source": [
    "seventies_df[seventies_df.duplicated(subset = ['اسم الفيلم', 'تمثيل'])]"
   ]
  },
  {
   "cell_type": "markdown",
   "metadata": {},
   "source": [
    "_**Cleansing**_"
   ]
  },
  {
   "cell_type": "code",
   "execution_count": 441,
   "metadata": {},
   "outputs": [],
   "source": [
    "seventies_df = change_empty_entries_to_None(seventies_df)"
   ]
  },
  {
   "cell_type": "code",
   "execution_count": 442,
   "metadata": {},
   "outputs": [],
   "source": [
    "seventies_df.drop_duplicates(subset = ['اسم الفيلم', 'تمثيل'] \\\n",
    "                             , inplace= True, keep = 'last')"
   ]
  },
  {
   "cell_type": "markdown",
   "metadata": {},
   "source": [
    "_**Filling Missing Values**_"
   ]
  },
  {
   "cell_type": "markdown",
   "metadata": {},
   "source": [
    "* **Add Webscraped Ratings**"
   ]
  },
  {
   "cell_type": "code",
   "execution_count": 443,
   "metadata": {},
   "outputs": [],
   "source": [
    "date_expanded_70s = seventies_df.copy(deep = True)"
   ]
  },
  {
   "cell_type": "code",
   "execution_count": 444,
   "metadata": {},
   "outputs": [],
   "source": [
    "date_expanded_70s = expand_release_date(seventies_df)\n",
    "date_expanded_70s = unify_date_format(date_expanded_70s)"
   ]
  },
  {
   "cell_type": "code",
   "execution_count": 445,
   "metadata": {},
   "outputs": [],
   "source": [
    "date_expanded_70s = date_expanded_70s.drop(columns=[' تاريخ العرض', 'اليوم'])\n",
    "date_expanded_70s['التقييم'] = None"
   ]
  },
  {
   "cell_type": "code",
   "execution_count": 447,
   "metadata": {},
   "outputs": [],
   "source": [
    "foreign_filtered_70s = date_expanded_70s.copy(deep = True)"
   ]
  },
  {
   "cell_type": "code",
   "execution_count": 448,
   "metadata": {},
   "outputs": [],
   "source": [
    "foreign_filtered_70s = \\\n",
    "    filter_foregin_movies(date_expanded_70s, '1970s_data/1970s_countries.txt')"
   ]
  },
  {
   "cell_type": "code",
   "execution_count": 450,
   "metadata": {},
   "outputs": [],
   "source": [
    "ratings_added_70s = foreign_filtered_70s.copy(deep = True)"
   ]
  },
  {
   "cell_type": "code",
   "execution_count": 451,
   "metadata": {},
   "outputs": [],
   "source": [
    "ratings_added_70s = add_scraped_features(foreign_filtered_70s \\\n",
    "                                    , '1970s_data/1970s_ratings.txt' \\\n",
    "                                    , 'التقييم')"
   ]
  },
  {
   "cell_type": "code",
   "execution_count": 519,
   "metadata": {},
   "outputs": [],
   "source": [
    "ratings_added_70s.loc[(ratings_added_70s['اسم الفيلم'] == 'ليل ورغبة') \\\n",
    "                     , 'المدة'] = 1010"
   ]
  },
  {
   "cell_type": "code",
   "execution_count": 520,
   "metadata": {},
   "outputs": [
    {
     "data": {
      "text/html": [
       "<div>\n",
       "<style scoped>\n",
       "    .dataframe tbody tr th:only-of-type {\n",
       "        vertical-align: middle;\n",
       "    }\n",
       "\n",
       "    .dataframe tbody tr th {\n",
       "        vertical-align: top;\n",
       "    }\n",
       "\n",
       "    .dataframe thead th {\n",
       "        text-align: right;\n",
       "    }\n",
       "</style>\n",
       "<table border=\"1\" class=\"dataframe\">\n",
       "  <thead>\n",
       "    <tr style=\"text-align: right;\">\n",
       "      <th></th>\n",
       "      <th>اسم الفيلم</th>\n",
       "      <th>التصنيف</th>\n",
       "      <th>المدة</th>\n",
       "      <th>ملخص</th>\n",
       "      <th>تأليف</th>\n",
       "      <th>تمثيل</th>\n",
       "      <th>إنتاج</th>\n",
       "      <th>تصوير</th>\n",
       "      <th>مونتاج</th>\n",
       "      <th>ديكور</th>\n",
       "      <th>ملابس</th>\n",
       "      <th>موسيقى</th>\n",
       "      <th>إخراج</th>\n",
       "      <th>توزيع</th>\n",
       "      <th>الشهر</th>\n",
       "      <th>السنة</th>\n",
       "      <th>التقييم</th>\n",
       "    </tr>\n",
       "  </thead>\n",
       "  <tbody>\n",
       "    <tr>\n",
       "      <th>606</th>\n",
       "      <td>ليل ورغبة</td>\n",
       "      <td>None</td>\n",
       "      <td>1010</td>\n",
       "      <td>الأب القاسى حسين لا يتورع فى التفرقة بين ولديه...</td>\n",
       "      <td>سمير نوار</td>\n",
       "      <td>حسين فهمي,ميرفت أمين,حسين الشربيني,صلاح منصور,...</td>\n",
       "      <td>أفلام محمد يونس,خليل دياب</td>\n",
       "      <td>فيكتور أنطون,عمرو الدويني,حسن أحمد حسن</td>\n",
       "      <td>عبدالعزيز فخري,محمد الطباخ,ليلى فهمي</td>\n",
       "      <td>معامل مدينة السينما (مدينة السينما),عباس صابر,...</td>\n",
       "      <td>بهجه الحلبى,نظيرة كامل</td>\n",
       "      <td>None</td>\n",
       "      <td>يحيى العلمي,محمود السيسي,محمد مفتاح</td>\n",
       "      <td>أفلام إيهاب الليثي,المصرية اللبنانية للتجارة و...</td>\n",
       "      <td>سبتمبر</td>\n",
       "      <td>1977</td>\n",
       "      <td>5.2</td>\n",
       "    </tr>\n",
       "  </tbody>\n",
       "</table>\n",
       "</div>"
      ],
      "text/plain": [
       "    اسم الفيلم التصنيف المدة  \\\n",
       "606  ليل ورغبة    None  1010   \n",
       "\n",
       "                                                  ملخص      تأليف  \\\n",
       "606  الأب القاسى حسين لا يتورع فى التفرقة بين ولديه...  سمير نوار   \n",
       "\n",
       "                                                 تمثيل  \\\n",
       "606  حسين فهمي,ميرفت أمين,حسين الشربيني,صلاح منصور,...   \n",
       "\n",
       "                         إنتاج                                   تصوير  \\\n",
       "606  أفلام محمد يونس,خليل دياب  فيكتور أنطون,عمرو الدويني,حسن أحمد حسن   \n",
       "\n",
       "                                   مونتاج  \\\n",
       "606  عبدالعزيز فخري,محمد الطباخ,ليلى فهمي   \n",
       "\n",
       "                                                 ديكور  \\\n",
       "606  معامل مدينة السينما (مدينة السينما),عباس صابر,...   \n",
       "\n",
       "                      ملابس موسيقى                                إخراج  \\\n",
       "606  بهجه الحلبى,نظيرة كامل   None  يحيى العلمي,محمود السيسي,محمد مفتاح   \n",
       "\n",
       "                                                 توزيع   الشهر السنة  التقييم  \n",
       "606  أفلام إيهاب الليثي,المصرية اللبنانية للتجارة و...  سبتمبر  1977      5.2  "
      ]
     },
     "execution_count": 520,
     "metadata": {},
     "output_type": "execute_result"
    }
   ],
   "source": [
    "ratings_added_70s.loc[ratings_added_70s['اسم الفيلم'] == 'ليل ورغبة']"
   ]
  },
  {
   "cell_type": "code",
   "execution_count": null,
   "metadata": {},
   "outputs": [],
   "source": [
    "genre_added_70s = ratings_added_70s.copy(deep = True)"
   ]
  },
  {
   "cell_type": "code",
   "execution_count": null,
   "metadata": {},
   "outputs": [],
   "source": [
    "genre_added_70s = add_scraped_features(ratings_added_70s \\\n",
    "                                          , '1970s_data/1970s_genres.txt'\n",
    "                                         ,'التصنيف')"
   ]
  },
  {
   "cell_type": "code",
   "execution_count": 453,
   "metadata": {},
   "outputs": [],
   "source": [
    "synopsis_added_70s = genre_added_70s.copy(deep = True)"
   ]
  },
  {
   "cell_type": "code",
   "execution_count": 454,
   "metadata": {},
   "outputs": [],
   "source": [
    "synopsis_added_70s = add_scraped_features(genre_added_70s \\\n",
    "                                          , '1970s_data/1970s_synopses.txt' \\\n",
    "                                         , 'ملخص')"
   ]
  },
  {
   "cell_type": "code",
   "execution_count": null,
   "metadata": {},
   "outputs": [],
   "source": [
    "foreigns_filtered_df_70s.to_csv('1970s_data/foreigns_filtered_70s.csv')"
   ]
  },
  {
   "cell_type": "code",
   "execution_count": 455,
   "metadata": {},
   "outputs": [],
   "source": [
    "synopsis_added_70s = synopsis_added_70s.reset_index(drop=True)"
   ]
  },
  {
   "cell_type": "code",
   "execution_count": 456,
   "metadata": {},
   "outputs": [
    {
     "data": {
      "text/plain": [
       "ﺩﺭاﻣﺎ                192\n",
       "ﻛﻮﻣﻴﺪﻱ                47\n",
       "ﺭﻭﻣﺎﻧﺴﻲ               27\n",
       "ﺗﺸﻮﻳﻖ ﻭﺇﺛﺎﺭﺓ          21\n",
       "موسيقي / استعراضي     16\n",
       "ﺟﺮﻳﻤﺔ                 12\n",
       "ﺣﺮﻛﺔ                   6\n",
       "ﻣﻐﺎﻣﺮاﺕ                4\n",
       "تاريخي                 3\n",
       "ﻏﻤﻮﺽ                   3\n",
       "ﺳﻴﺮﺓ ﺫاﺗﻴﺔ             3\n",
       "ﻗﺼﻴﺮ                   2\n",
       "ﻭﺛﺎﺋﻘﻲ                 2\n",
       "ﺧﻴﺎﻝ                   1\n",
       "ﻋﺎﺋﻠﻲ                  1\n",
       "Name: التصنيف, dtype: int64"
      ]
     },
     "execution_count": 456,
     "metadata": {},
     "output_type": "execute_result"
    }
   ],
   "source": [
    "synopsis_added_70s['التصنيف'].value_counts()"
   ]
  },
  {
   "cell_type": "code",
   "execution_count": 457,
   "metadata": {},
   "outputs": [],
   "source": [
    "synopsis_added_70s.drop(inplace = True, index = \\\n",
    "            synopsis_added_70s.loc[synopsis_added_70s['التصنيف'] == 'ﻭﺛﺎﺋﻘﻲ'].index)"
   ]
  },
  {
   "cell_type": "code",
   "execution_count": 458,
   "metadata": {},
   "outputs": [],
   "source": [
    "synopsis_added_70s = synopsis_added_70s.reset_index(drop =True)\n",
    "synopsis_added_70s  = change_empty_entries_to_None(synopsis_added_70s)"
   ]
  },
  {
   "cell_type": "code",
   "execution_count": 511,
   "metadata": {},
   "outputs": [
    {
     "data": {
      "text/plain": [
       "52"
      ]
     },
     "execution_count": 511,
     "metadata": {},
     "output_type": "execute_result"
    }
   ],
   "source": [
    "synopsis_added_70s['ملخص'].isnull().sum()"
   ]
  },
  {
   "cell_type": "code",
   "execution_count": 512,
   "metadata": {},
   "outputs": [
    {
     "data": {
      "text/html": [
       "<div>\n",
       "<style scoped>\n",
       "    .dataframe tbody tr th:only-of-type {\n",
       "        vertical-align: middle;\n",
       "    }\n",
       "\n",
       "    .dataframe tbody tr th {\n",
       "        vertical-align: top;\n",
       "    }\n",
       "\n",
       "    .dataframe thead th {\n",
       "        text-align: right;\n",
       "    }\n",
       "</style>\n",
       "<table border=\"1\" class=\"dataframe\">\n",
       "  <thead>\n",
       "    <tr style=\"text-align: right;\">\n",
       "      <th></th>\n",
       "      <th>اسم الفيلم</th>\n",
       "      <th>التصنيف</th>\n",
       "      <th>المدة</th>\n",
       "      <th>ملخص</th>\n",
       "      <th>تأليف</th>\n",
       "      <th>تمثيل</th>\n",
       "      <th>إنتاج</th>\n",
       "      <th>تصوير</th>\n",
       "      <th>مونتاج</th>\n",
       "      <th>ديكور</th>\n",
       "      <th>ملابس</th>\n",
       "      <th>موسيقى</th>\n",
       "      <th>إخراج</th>\n",
       "      <th>توزيع</th>\n",
       "      <th>الشهر</th>\n",
       "      <th>السنة</th>\n",
       "      <th>التقييم</th>\n",
       "    </tr>\n",
       "  </thead>\n",
       "  <tbody>\n",
       "    <tr>\n",
       "      <th>139</th>\n",
       "      <td>القدر</td>\n",
       "      <td>ﻣﻐﺎﻣﺮاﺕ</td>\n",
       "      <td>100</td>\n",
       "      <td>يعثر فلاح فقير على جوهرة ضخمة مدفونة في الطين،...</td>\n",
       "      <td>بدوي,منير معاصري,محمد شامل</td>\n",
       "      <td>حبيبة (جلاديس),نادية جمال,سيلفانا بركات,منير م...</td>\n",
       "      <td>None</td>\n",
       "      <td>روبن مسكيان</td>\n",
       "      <td>None</td>\n",
       "      <td>None</td>\n",
       "      <td>None</td>\n",
       "      <td>None</td>\n",
       "      <td>منير معاصري</td>\n",
       "      <td>None</td>\n",
       "      <td>يناير</td>\n",
       "      <td>1972</td>\n",
       "      <td>5.7</td>\n",
       "    </tr>\n",
       "  </tbody>\n",
       "</table>\n",
       "</div>"
      ],
      "text/plain": [
       "    اسم الفيلم  التصنيف المدة  \\\n",
       "139      القدر  ﻣﻐﺎﻣﺮاﺕ   100   \n",
       "\n",
       "                                                  ملخص  \\\n",
       "139  يعثر فلاح فقير على جوهرة ضخمة مدفونة في الطين،...   \n",
       "\n",
       "                          تأليف  \\\n",
       "139  بدوي,منير معاصري,محمد شامل   \n",
       "\n",
       "                                                 تمثيل إنتاج        تصوير  \\\n",
       "139  حبيبة (جلاديس),نادية جمال,سيلفانا بركات,منير م...  None  روبن مسكيان   \n",
       "\n",
       "    مونتاج ديكور ملابس موسيقى        إخراج توزيع  الشهر السنة  التقييم  \n",
       "139   None  None  None   None  منير معاصري  None  يناير  1972      5.7  "
      ]
     },
     "execution_count": 512,
     "metadata": {},
     "output_type": "execute_result"
    }
   ],
   "source": [
    "synopsis_added_70s.sample()"
   ]
  },
  {
   "cell_type": "markdown",
   "metadata": {},
   "source": [
    "## Performing Doc2Vec on Synopsis  to Classify Movie Genre"
   ]
  },
  {
   "cell_type": "markdown",
   "metadata": {},
   "source": [
    "#### Doc2Vec Preprocessing Functions"
   ]
  },
  {
   "cell_type": "code",
   "execution_count": 594,
   "metadata": {},
   "outputs": [],
   "source": [
    "def check_synopsis_has_no_names(cast_list, synopsis):\n",
    "    for actor in cast_list:\n",
    "        if(synopsis != None):\n",
    "            if(actor in synopsis):\n",
    "                synopsis = synopsis.replace(actor, '')\n",
    "    return synopsis"
   ]
  },
  {
   "cell_type": "code",
   "execution_count": 571,
   "metadata": {},
   "outputs": [],
   "source": [
    "def stem_synopsis(partial_df):\n",
    "    \n",
    "    stemmer = ISRIStemmer()\n",
    "    for row_index in range(partial_df.shape[0]):\n",
    "        \n",
    "        synopsis = partial_df.loc[row_index, 'ملخص']\n",
    "        cleaned_synopsis = ''\n",
    "        for word in synopsis.split():\n",
    "            cleaned_synopsis += stemmer.stem(word) + ' '\n",
    "            \n",
    "        partial_df.loc[row_index, 'ملخص'] = cleaned_synopsis \n",
    "        \n",
    "    return partial_df"
   ]
  },
  {
   "cell_type": "code",
   "execution_count": 596,
   "metadata": {},
   "outputs": [],
   "source": [
    "def preprocess_synopses(original_df, partial_df):\n",
    "    for row_index in range(partial_df.shape[0]):\n",
    "        if(original_df.loc[row_index, 'تمثيل'] != None):\n",
    "            cast = str(original_df.loc[row_index, 'تمثيل'])\n",
    "            cast_list = list(cast.split('،'))\n",
    "            synopsis = original_df.loc[row_index, 'ملخص']\n",
    "            if(synopsis!= None):\n",
    "                cleaned_synopsis = \\\n",
    "                check_synopsis_has_no_names(cast_list,synopsis )\n",
    "                cleaned_synopsis = remove_arabic_characters(synopsis)\n",
    "\n",
    "                partial_df.loc[row_index, 'ملخص'] = cleaned_synopsis\n",
    "\n",
    "    return partial_df"
   ]
  },
  {
   "cell_type": "code",
   "execution_count": 573,
   "metadata": {},
   "outputs": [],
   "source": [
    "def remove_arabic_characters(synopsis):\n",
    "    if(synopsis)\n",
    "    cleaned_synopsis = \\\n",
    "    ''.join(char for char in synopsis if not ud.category(char).startswith('P'))\n",
    "    \n",
    "    return cleaned_synopsis"
   ]
  },
  {
   "cell_type": "code",
   "execution_count": 608,
   "metadata": {},
   "outputs": [],
   "source": [
    "def remove_stop_words(partial_df):\n",
    "    \n",
    "    stop_words = set(nltk.corpus.stopwords.words(\"arabic\"))\n",
    "    stop_words.add('على')\n",
    "    stop_words.add('ان')\n",
    "    for row_index in range(partial_df.shape[0]):\n",
    "        \n",
    "        synopsis = partial_df.loc[row_index, 'ملخص']\n",
    "        if(not(synopsis == (None))):\n",
    "            for word in synopsis.split():\n",
    "                if word in stop_words:\n",
    "                    synopsis = synopsis.replace(word, '')\n",
    "\n",
    "            partial_df.loc[row_index, 'ملخص'] = synopsis\n",
    "    return partial_df\n"
   ]
  },
  {
   "cell_type": "code",
   "execution_count": 601,
   "metadata": {},
   "outputs": [],
   "source": [
    "def remove_punctuation(partial_df):\n",
    "    for row_index in range(partial_df.shape[0]):\n",
    "        synopsis = partial_df.iloc[row_index, 2]\n",
    "        if((synopsis) != None):\n",
    "            synopsis = re.sub(r'\\([^)]*\\)', '', synopsis)\n",
    "            synopsis = re.sub('\".*?\"', '', synopsis)\n",
    "            synopsis = re.sub(r'[^\\w\\s]','',synopsis)\n",
    "            synopsis = re.sub(\" \\d+\", \" \", synopsis)\n",
    "\n",
    "            partial_df.iloc[row_index, 2] = synopsis\n",
    "    return partial_df"
   ]
  },
  {
   "cell_type": "code",
   "execution_count": 576,
   "metadata": {},
   "outputs": [],
   "source": [
    "def tokenize_synopsis(text):\n",
    "    tokens = []\n",
    "    words = wordpunct_tokenize(text)\n",
    "    tokens.extend(words)\n",
    "    return tokens"
   ]
  },
  {
   "cell_type": "code",
   "execution_count": 600,
   "metadata": {},
   "outputs": [],
   "source": [
    "def fetch_targets(ds):\n",
    "    ds['التصنيف'] = ds['التصنيف'].astype(str)\n",
    "    ds['ملخص'] = ds['ملخص'].astype(str)\n",
    "    partial_ds = ds.loc[(ds['التصنيف'] == 'nan')\\\n",
    "                     & (ds['ملخص'] != 'nan')\\\n",
    "                     & (ds['ملخص'] != '')\\\n",
    "                    & (ds['ملخص'] != None)]\n",
    "    partial_ds = partial_ds.reset_index(drop = True)\n",
    "    targets = partial_ds[[ 'اسم الفيلم', 'التصنيف', 'ملخص']]\n",
    "    targets  = preprocess_synopses(partial_ds, targets)\n",
    "    targets = remove_punctuation(targets)\n",
    "    targets = remove_stop_words(targets)\n",
    "    targets = stem_synopsis(targets)\n",
    "\n",
    "    return targets"
   ]
  },
  {
   "cell_type": "code",
   "execution_count": 578,
   "metadata": {},
   "outputs": [
    {
     "ename": "ValueError",
     "evalue": "a must be greater than 0 unless no samples are taken",
     "output_type": "error",
     "traceback": [
      "\u001b[0;31m---------------------------------------------------------------------------\u001b[0m",
      "\u001b[0;31mValueError\u001b[0m                                Traceback (most recent call last)",
      "\u001b[0;32m<ipython-input-578-25a8a0f70c0e>\u001b[0m in \u001b[0;36m<module>\u001b[0;34m\u001b[0m\n\u001b[1;32m      1\u001b[0m \u001b[0mt\u001b[0m \u001b[0;34m=\u001b[0m \u001b[0mfetch_targets\u001b[0m\u001b[0;34m(\u001b[0m\u001b[0mdataset\u001b[0m\u001b[0;34m)\u001b[0m\u001b[0;34m\u001b[0m\u001b[0;34m\u001b[0m\u001b[0m\n\u001b[0;32m----> 2\u001b[0;31m \u001b[0mt\u001b[0m\u001b[0;34m.\u001b[0m\u001b[0msample\u001b[0m\u001b[0;34m(\u001b[0m\u001b[0;34m)\u001b[0m\u001b[0;34m\u001b[0m\u001b[0;34m\u001b[0m\u001b[0m\n\u001b[0m",
      "\u001b[0;32m~/Development/anaconda3/lib/python3.7/site-packages/pandas/core/generic.py\u001b[0m in \u001b[0;36msample\u001b[0;34m(self, n, frac, replace, weights, random_state, axis)\u001b[0m\n\u001b[1;32m   4863\u001b[0m                              \"provide positive value.\")\n\u001b[1;32m   4864\u001b[0m \u001b[0;34m\u001b[0m\u001b[0m\n\u001b[0;32m-> 4865\u001b[0;31m         \u001b[0mlocs\u001b[0m \u001b[0;34m=\u001b[0m \u001b[0mrs\u001b[0m\u001b[0;34m.\u001b[0m\u001b[0mchoice\u001b[0m\u001b[0;34m(\u001b[0m\u001b[0maxis_length\u001b[0m\u001b[0;34m,\u001b[0m \u001b[0msize\u001b[0m\u001b[0;34m=\u001b[0m\u001b[0mn\u001b[0m\u001b[0;34m,\u001b[0m \u001b[0mreplace\u001b[0m\u001b[0;34m=\u001b[0m\u001b[0mreplace\u001b[0m\u001b[0;34m,\u001b[0m \u001b[0mp\u001b[0m\u001b[0;34m=\u001b[0m\u001b[0mweights\u001b[0m\u001b[0;34m)\u001b[0m\u001b[0;34m\u001b[0m\u001b[0;34m\u001b[0m\u001b[0m\n\u001b[0m\u001b[1;32m   4866\u001b[0m         \u001b[0;32mreturn\u001b[0m \u001b[0mself\u001b[0m\u001b[0;34m.\u001b[0m\u001b[0mtake\u001b[0m\u001b[0;34m(\u001b[0m\u001b[0mlocs\u001b[0m\u001b[0;34m,\u001b[0m \u001b[0maxis\u001b[0m\u001b[0;34m=\u001b[0m\u001b[0maxis\u001b[0m\u001b[0;34m,\u001b[0m \u001b[0mis_copy\u001b[0m\u001b[0;34m=\u001b[0m\u001b[0;32mFalse\u001b[0m\u001b[0;34m)\u001b[0m\u001b[0;34m\u001b[0m\u001b[0;34m\u001b[0m\u001b[0m\n\u001b[1;32m   4867\u001b[0m \u001b[0;34m\u001b[0m\u001b[0m\n",
      "\u001b[0;32mmtrand.pyx\u001b[0m in \u001b[0;36mnumpy.random.mtrand.RandomState.choice\u001b[0;34m()\u001b[0m\n",
      "\u001b[0;31mValueError\u001b[0m: a must be greater than 0 unless no samples are taken"
     ]
    }
   ],
   "source": [
    "t = fetch_targets(dataset)\n",
    "t.sample()"
   ]
  },
  {
   "cell_type": "code",
   "execution_count": 580,
   "metadata": {},
   "outputs": [],
   "source": [
    "def fetch_targets_regressors(model, tagged_docs):\n",
    "    sents = tagged_docs.values\n",
    "    targets, regressors = zip(*[(doc.tags, model.infer_vector(doc.words, steps=30)) for doc in sents])\n",
    "    return targets, regressors"
   ]
  },
  {
   "cell_type": "code",
   "execution_count": 581,
   "metadata": {},
   "outputs": [],
   "source": [
    "dataframes = [synopsis_added_40s \\\n",
    "              , synopsis_added_50s\\\n",
    "              , synopsis_added_60s\\\n",
    "              , synopsis_added_70s]"
   ]
  },
  {
   "cell_type": "code",
   "execution_count": 582,
   "metadata": {},
   "outputs": [],
   "source": [
    "dataset = pd.concat(dataframes)"
   ]
  },
  {
   "cell_type": "code",
   "execution_count": 583,
   "metadata": {},
   "outputs": [],
   "source": [
    "dataset = dataset.reset_index(drop = True)"
   ]
  },
  {
   "cell_type": "code",
   "execution_count": 584,
   "metadata": {},
   "outputs": [],
   "source": [
    "partial_ds = dataset[[ 'اسم الفيلم', 'التصنيف', 'ملخص']]"
   ]
  },
  {
   "cell_type": "code",
   "execution_count": 585,
   "metadata": {},
   "outputs": [],
   "source": [
    "partial_ds = partial_ds.reset_index(drop = True)"
   ]
  },
  {
   "cell_type": "code",
   "execution_count": 597,
   "metadata": {},
   "outputs": [],
   "source": [
    "partial_ds = preprocess_synopses(dataset, partial_ds)"
   ]
  },
  {
   "cell_type": "code",
   "execution_count": 598,
   "metadata": {},
   "outputs": [],
   "source": [
    "indices = partial_ds.loc[partial_ds['ملخص'] == 'nan'].index\n",
    "partial_ds.drop(inplace = True, index =indices)\n",
    "indices = partial_ds.loc[partial_ds['ملخص'] == ''].index\n",
    "partial_ds.drop(inplace = True, index =indices)\n",
    "partial_ds = partial_ds.reset_index(drop = True)\n",
    "indices = get_indices_to_drop(partial_ds, 'التصنيف')\n",
    "partial_ds.drop(inplace = True, index =indices)\n",
    "partial_ds = partial_ds.reset_index(drop = True)"
   ]
  },
  {
   "cell_type": "code",
   "execution_count": 611,
   "metadata": {},
   "outputs": [],
   "source": [
    "partial_ds = remove_punctuation(partial_ds)\n",
    "partial_ds = remove_stop_words(partial_ds)\n",
    "partial_ds = stem_synopsis(partial_ds)"
   ]
  },
  {
   "cell_type": "markdown",
   "metadata": {},
   "source": [
    "## Training and Testing \n",
    "### Word2Vec Models used:\n",
    "* Distributed Bag of Words (DBOW): \n",
    "        We achieve vectors for each synopsis by training a neural network.\n",
    "        This neural network is tasked to predict the probability distribution\n",
    "        of words in a snyopsis.\n",
    "        \n",
    "* Distributed Memory (DM):\n",
    "        DM is a model that memorises what is missing from a synopsis context."
   ]
  },
  {
   "cell_type": "code",
   "execution_count": null,
   "metadata": {},
   "outputs": [],
   "source": [
    "train, test = train_test_split(partial_ds, test_size=0.3, random_state=42)"
   ]
  },
  {
   "cell_type": "code",
   "execution_count": null,
   "metadata": {},
   "outputs": [],
   "source": [
    "train_tagged = train.apply(\n",
    "    lambda row: TaggedDocument(words=tokenize_synopsis(row[' ملخص']), tags=row[' تصنيف الفيلم']), axis=1)\n",
    "\n",
    "test_tagged = train.apply(\n",
    "    lambda row: TaggedDocument(words=tokenize_synopsis(row[' ملخص']), tags=row[' تصنيف الفيلم']), axis=1)"
   ]
  },
  {
   "cell_type": "code",
   "execution_count": null,
   "metadata": {},
   "outputs": [],
   "source": [
    "cores = multiprocessing.cpu_count()\n",
    "model_dbow = Doc2Vec(dm=0, vector_size=300, negative=5, hs=0, min_count=2, sample = 0, workers=cores)\n",
    "model_dbow.build_vocab([x for x in tqdm(train_tagged.values)])"
   ]
  },
  {
   "cell_type": "code",
   "execution_count": null,
   "metadata": {
    "scrolled": false
   },
   "outputs": [],
   "source": [
    "for epoch in range(30):\n",
    "    model_dbow.train(utils.shuffle([x for x in tqdm(train_tagged.values)]), total_examples=len(train_tagged.values), epochs=1)\n",
    "    model_dbow.alpha -= 0.002\n",
    "    model_dbow.min_alpha = model_dbow.alpha"
   ]
  },
  {
   "cell_type": "code",
   "execution_count": null,
   "metadata": {},
   "outputs": [],
   "source": [
    "y_train, X_train = vec_for_learning(model_dbow, train_tagged)\n",
    "y_test, X_test = vec_for_learning(model_dbow, test_tagged)\n",
    "logreg = LogisticRegression(n_jobs=1, C=1e5)\n",
    "logreg.fit(X_train, y_train)\n",
    "y_pred = logreg.predict(X_test)\n",
    "\n",
    "from sklearn.metrics import accuracy_score, f1_score\n",
    "\n",
    "print('Testing accuracy %s' % accuracy_score(y_test, y_pred))\n",
    "print('Testing F1 score: {}'.format(f1_score(y_test, y_pred, average='weighted')))"
   ]
  },
  {
   "cell_type": "markdown",
   "metadata": {},
   "source": [
    "##### Labels which have never been predicted:"
   ]
  },
  {
   "cell_type": "code",
   "execution_count": null,
   "metadata": {},
   "outputs": [],
   "source": [
    "set(y_test) - set(y_pred)"
   ]
  },
  {
   "cell_type": "code",
   "execution_count": null,
   "metadata": {},
   "outputs": [],
   "source": [
    "model_dmm = Doc2Vec(dm=1, dm_mean=1, vector_size=300, window=10, negative=5, min_count=1, workers=5, alpha=0.065, min_alpha=0.065)\n",
    "model_dmm.build_vocab([x for x in tqdm(train_tagged.values)])"
   ]
  },
  {
   "cell_type": "code",
   "execution_count": null,
   "metadata": {},
   "outputs": [],
   "source": [
    "%%time\n",
    "for epoch in range(30):\n",
    "    model_dmm.train(utils.shuffle([x for x in tqdm(train_tagged.values)]), total_examples=len(train_tagged.values), epochs=1)\n",
    "    model_dmm.alpha -= 0.002\n",
    "    model_dmm.min_alpha = model_dmm.alpha"
   ]
  },
  {
   "cell_type": "code",
   "execution_count": null,
   "metadata": {},
   "outputs": [],
   "source": [
    "y_train, X_train = vec_for_learning(model_dmm, train_tagged)\n",
    "y_test, X_test = vec_for_learning(model_dmm, test_tagged)\n",
    "\n",
    "logreg.fit(X_train, y_train)\n",
    "\n",
    "y_pred = logreg.predict(X_test)\n",
    "\n",
    "print('Testing accuracy %s' % accuracy_score(y_test, y_pred))\n",
    "print('Testing F1 score: {}'.format(f1_score(y_test, y_pred, average='weighted')))"
   ]
  },
  {
   "cell_type": "code",
   "execution_count": null,
   "metadata": {},
   "outputs": [],
   "source": [
    "from sklearn.preprocessing import StandardScaler\n",
    "from sklearn.pipeline import make_pipeline\n",
    "y_train, X_train = vec_for_learning(model_dbow, train_tagged)\n",
    "y_test, X_test = vec_for_learning(model_dbow, test_tagged)\n",
    "clf = make_pipeline(StandardScaler(), SGDClassifier(max_iter=1000, tol=1e-3))\n",
    "clf.fit(X_train, y_train) \n",
    "y_pred = clf.predict(X_test)\n",
    "\n",
    "from sklearn.metrics import accuracy_score, f1_score\n",
    "\n",
    "print('Testing accuracy %s' % accuracy_score(y_test, y_pred))\n",
    "print('Testing F1 score: {}'.format(f1_score(y_test, y_pred, average='weighted')))"
   ]
  },
  {
   "cell_type": "code",
   "execution_count": null,
   "metadata": {},
   "outputs": [],
   "source": [
    "targets = t.apply(\n",
    "    lambda row: TaggedDocument(words=tokenize_synopsis(row[' ملخص']), tags=row[' تصنيف الفيلم']), axis=1)"
   ]
  },
  {
   "cell_type": "code",
   "execution_count": null,
   "metadata": {},
   "outputs": [],
   "source": [
    "sentences = targets.values\n",
    "targets, regressors\\\n",
    "= zip(*[(doc.tags, model_dbow.infer_vector(doc.words, steps=30)) for doc in sentences])"
   ]
  },
  {
   "cell_type": "code",
   "execution_count": null,
   "metadata": {},
   "outputs": [],
   "source": [
    "predicted_values = clf.predict(regressors)"
   ]
  },
  {
   "cell_type": "code",
   "execution_count": 613,
   "metadata": {},
   "outputs": [],
   "source": [
    "t['التصنيف'] = predicted_values"
   ]
  },
  {
   "cell_type": "code",
   "execution_count": null,
   "metadata": {
    "scrolled": true
   },
   "outputs": [],
   "source": []
  },
  {
   "cell_type": "markdown",
   "metadata": {},
   "source": [
    "##### Merging Dataframes into one"
   ]
  },
  {
   "cell_type": "code",
   "execution_count": 478,
   "metadata": {},
   "outputs": [],
   "source": [
    "movies_df = pd.concat(dataframes, sort = False)"
   ]
  },
  {
   "cell_type": "code",
   "execution_count": 479,
   "metadata": {},
   "outputs": [],
   "source": [
    "movies_df = movies_df.reset_index(drop = True)"
   ]
  },
  {
   "cell_type": "code",
   "execution_count": 480,
   "metadata": {},
   "outputs": [
    {
     "name": "stdout",
     "output_type": "stream",
     "text": [
      "Column Name:  ‫اسم الفيلم‬\n",
      "count            1980\n",
      "unique           1956\n",
      "top       خاتم سليمان\n",
      "freq                2\n",
      "Name: اسم الفيلم, dtype: object\n",
      "\n",
      "--------------------\n",
      "Column Name:  ‫التصنيف‬\n",
      "count      1195\n",
      "unique       17\n",
      "top       ﺩﺭاﻣﺎ\n",
      "freq        630\n",
      "Name: التصنيف, dtype: object\n",
      "\n",
      "--------------------\n",
      "Column Name:  ‫المدة‬\n",
      "count     1971.0\n",
      "unique     179.0\n",
      "top        100.0\n",
      "freq       149.0\n",
      "Name: المدة, dtype: float64\n",
      "\n",
      "--------------------\n",
      "Column Name:  ‫ملخص‬\n",
      "count     1878\n",
      "unique    1871\n",
      "top           \n",
      "freq         3\n",
      "Name: ملخص, dtype: object\n",
      "\n",
      "--------------------\n",
      "Column Name:  ‫تأليف‬\n",
      "count                    1845\n",
      "unique                   1226\n",
      "top       أبو السعود الإبياري\n",
      "freq                       47\n",
      "Name: تأليف, dtype: object\n",
      "\n",
      "--------------------\n",
      "Column Name:  ‫تمثيل‬\n",
      "count           1939\n",
      "unique          1923\n",
      "top       أحمد مشتهى\n",
      "freq              10\n",
      "Name: تمثيل, dtype: object\n",
      "\n",
      "--------------------\n",
      "Column Name:  ‫إنتاج‬\n",
      "count           1623\n",
      "unique          1371\n",
      "top       ستوديو مصر\n",
      "freq              11\n",
      "Name: إنتاج, dtype: object\n",
      "\n",
      "--------------------\n",
      "Column Name:  ‫تصوير‬\n",
      "count              1699\n",
      "unique             1050\n",
      "top       عبدالحليم نصر\n",
      "freq                 35\n",
      "Name: تصوير, dtype: object\n",
      "\n",
      "--------------------\n",
      "Column Name:  ‫مونتاج‬\n",
      "count           1581\n",
      "unique           896\n",
      "top       جلال مصطفى\n",
      "freq              41\n",
      "Name: مونتاج, dtype: object\n",
      "\n",
      "--------------------\n",
      "Column Name:  ‫ديكور‬\n",
      "count          1415\n",
      "unique          862\n",
      "top       عباس حلمي\n",
      "freq             37\n",
      "Name: ديكور, dtype: object\n",
      "\n",
      "--------------------\n",
      "Column Name:  ‫ملابس‬\n",
      "count             261\n",
      "unique            136\n",
      "top       أحمد الكسار\n",
      "freq               25\n",
      "Name: ملابس, dtype: object\n",
      "\n",
      "--------------------\n",
      "Column Name:  ‫موسيقى‬\n",
      "count             1277\n",
      "unique             859\n",
      "top       فؤاد الظاهري\n",
      "freq               102\n",
      "Name: موسيقى, dtype: object\n",
      "\n",
      "--------------------\n",
      "Column Name:  ‫إخراج‬\n",
      "count                    1885\n",
      "unique                   1221\n",
      "top       حلمي رفلة,عاطف سالم\n",
      "freq                       20\n",
      "Name: إخراج, dtype: object\n",
      "\n",
      "--------------------\n",
      "Column Name:  ‫توزيع‬\n",
      "count                  1063\n",
      "unique                  313\n",
      "top       منتخبات بهنا فيلم\n",
      "freq                    133\n",
      "Name: توزيع, dtype: object\n",
      "\n",
      "--------------------\n",
      "Column Name:  ‫الشهر‬\n",
      "count      1980\n",
      "unique       12\n",
      "top       يناير\n",
      "freq        710\n",
      "Name: الشهر, dtype: object\n",
      "\n",
      "--------------------\n",
      "Column Name:  ‫السنة‬\n",
      "count     1980\n",
      "unique      40\n",
      "top       1978\n",
      "freq        78\n",
      "Name: السنة, dtype: object\n",
      "\n",
      "--------------------\n",
      "Column Name:  ‫التقييم‬\n",
      "count     1815\n",
      "unique     103\n",
      "top          0\n",
      "freq       108\n",
      "Name: التقييم, dtype: object\n",
      "\n",
      "--------------------\n"
     ]
    }
   ],
   "source": [
    "describe_dataframe(movies_df)"
   ]
  },
  {
   "cell_type": "code",
   "execution_count": 481,
   "metadata": {},
   "outputs": [
    {
     "data": {
      "text/html": [
       "<div>\n",
       "<style scoped>\n",
       "    .dataframe tbody tr th:only-of-type {\n",
       "        vertical-align: middle;\n",
       "    }\n",
       "\n",
       "    .dataframe tbody tr th {\n",
       "        vertical-align: top;\n",
       "    }\n",
       "\n",
       "    .dataframe thead th {\n",
       "        text-align: right;\n",
       "    }\n",
       "</style>\n",
       "<table border=\"1\" class=\"dataframe\">\n",
       "  <thead>\n",
       "    <tr style=\"text-align: right;\">\n",
       "      <th></th>\n",
       "      <th>اسم الفيلم</th>\n",
       "      <th>التصنيف</th>\n",
       "      <th>المدة</th>\n",
       "      <th>ملخص</th>\n",
       "      <th>تأليف</th>\n",
       "      <th>تمثيل</th>\n",
       "      <th>إنتاج</th>\n",
       "      <th>تصوير</th>\n",
       "      <th>مونتاج</th>\n",
       "      <th>ديكور</th>\n",
       "      <th>ملابس</th>\n",
       "      <th>موسيقى</th>\n",
       "      <th>إخراج</th>\n",
       "      <th>توزيع</th>\n",
       "      <th>الشهر</th>\n",
       "      <th>السنة</th>\n",
       "      <th>التقييم</th>\n",
       "    </tr>\n",
       "  </thead>\n",
       "  <tbody>\n",
       "  </tbody>\n",
       "</table>\n",
       "</div>"
      ],
      "text/plain": [
       "Empty DataFrame\n",
       "Columns: [اسم الفيلم, التصنيف, المدة, ملخص, تأليف, تمثيل, إنتاج, تصوير, مونتاج, ديكور, ملابس, موسيقى, إخراج, توزيع, الشهر, السنة, التقييم]\n",
       "Index: []"
      ]
     },
     "execution_count": 481,
     "metadata": {},
     "output_type": "execute_result"
    }
   ],
   "source": [
    "movies_df[movies_df.duplicated(subset=['اسم الفيلم', 'تمثيل'])]"
   ]
  },
  {
   "cell_type": "code",
   "execution_count": 482,
   "metadata": {},
   "outputs": [
    {
     "name": "stdout",
     "output_type": "stream",
     "text": [
      ">> ‫اسم الفيلم: 0%\n",
      ">> ‫التصنيف: 40%\n",
      ">> ‫المدة: 0%\n",
      ">> ‫ملخص: 5%\n",
      ">> ‫تأليف: 7%\n",
      ">> ‫تمثيل: 2%\n",
      ">> ‫إنتاج: 18%\n",
      ">> ‫تصوير: 14%\n",
      ">> ‫مونتاج: 20%\n",
      ">> ‫ديكور: 29%\n",
      ">> ‫ملابس: 87%\n",
      ">> ‫موسيقى: 36%\n",
      ">> ‫إخراج: 5%\n",
      ">> ‫توزيع: 46%\n",
      ">> ‫الشهر: 0%\n",
      ">> ‫السنة: 0%\n",
      ">> ‫التقييم: 8%\n"
     ]
    }
   ],
   "source": [
    "get_missing_percentage(movies_df)"
   ]
  },
  {
   "cell_type": "code",
   "execution_count": 483,
   "metadata": {},
   "outputs": [],
   "source": [
    "movies_df.drop(columns = ['توزيع', 'ملابس', 'ديكور'], inplace = True)"
   ]
  },
  {
   "cell_type": "code",
   "execution_count": 484,
   "metadata": {},
   "outputs": [],
   "source": [
    "cols = movies_df.columns.tolist()\n",
    "cols = cols[0:1] + cols[11:14] + cols[1:12]\n",
    "movies_df = movies_df[cols]"
   ]
  },
  {
   "cell_type": "code",
   "execution_count": 485,
   "metadata": {},
   "outputs": [
    {
     "data": {
      "text/html": [
       "<div>\n",
       "<style scoped>\n",
       "    .dataframe tbody tr th:only-of-type {\n",
       "        vertical-align: middle;\n",
       "    }\n",
       "\n",
       "    .dataframe tbody tr th {\n",
       "        vertical-align: top;\n",
       "    }\n",
       "\n",
       "    .dataframe thead th {\n",
       "        text-align: right;\n",
       "    }\n",
       "</style>\n",
       "<table border=\"1\" class=\"dataframe\">\n",
       "  <thead>\n",
       "    <tr style=\"text-align: right;\">\n",
       "      <th></th>\n",
       "      <th>اسم الفيلم</th>\n",
       "      <th>الشهر</th>\n",
       "      <th>السنة</th>\n",
       "      <th>التقييم</th>\n",
       "      <th>التصنيف</th>\n",
       "      <th>المدة</th>\n",
       "      <th>ملخص</th>\n",
       "      <th>تأليف</th>\n",
       "      <th>تمثيل</th>\n",
       "      <th>إنتاج</th>\n",
       "      <th>تصوير</th>\n",
       "      <th>مونتاج</th>\n",
       "      <th>موسيقى</th>\n",
       "      <th>إخراج</th>\n",
       "      <th>الشهر</th>\n",
       "    </tr>\n",
       "  </thead>\n",
       "  <tbody>\n",
       "    <tr>\n",
       "      <th>1489</th>\n",
       "      <td>زوجتي والكلب</td>\n",
       "      <td>نوفمبر</td>\n",
       "      <td>1971</td>\n",
       "      <td>8.3</td>\n",
       "      <td>ﺩﺭاﻣﺎ</td>\n",
       "      <td>95</td>\n",
       "      <td>الريس مرسي قّيم في إحدى الفنارات البعيدة، يتزو...</td>\n",
       "      <td>سعيد مرزوق</td>\n",
       "      <td>سعاد حسني,محمود مرسي,نور الشريف,عبدالمنعم أبو ...</td>\n",
       "      <td>المؤسسة المصرية العامة للسينما والتلفزيون (وال...</td>\n",
       "      <td>عبدالعزيز فهمي,ممدوح هلال,حنفي نجيب</td>\n",
       "      <td>عطية عبده,نبيل حسين,حسين عفيفي,هدى المهدية</td>\n",
       "      <td>إبراهيم حجاج</td>\n",
       "      <td>سعيد مرزوق,لبيب سواده,شعبان إبراهيم</td>\n",
       "      <td>نوفمبر</td>\n",
       "    </tr>\n",
       "  </tbody>\n",
       "</table>\n",
       "</div>"
      ],
      "text/plain": [
       "        اسم الفيلم   الشهر السنة التقييم التصنيف المدة  \\\n",
       "1489  زوجتي والكلب  نوفمبر  1971     8.3   ﺩﺭاﻣﺎ    95   \n",
       "\n",
       "                                                   ملخص       تأليف  \\\n",
       "1489  الريس مرسي قّيم في إحدى الفنارات البعيدة، يتزو...  سعيد مرزوق   \n",
       "\n",
       "                                                  تمثيل  \\\n",
       "1489  سعاد حسني,محمود مرسي,نور الشريف,عبدالمنعم أبو ...   \n",
       "\n",
       "                                                  إنتاج  \\\n",
       "1489  المؤسسة المصرية العامة للسينما والتلفزيون (وال...   \n",
       "\n",
       "                                    تصوير  \\\n",
       "1489  عبدالعزيز فهمي,ممدوح هلال,حنفي نجيب   \n",
       "\n",
       "                                          مونتاج        موسيقى  \\\n",
       "1489  عطية عبده,نبيل حسين,حسين عفيفي,هدى المهدية  إبراهيم حجاج   \n",
       "\n",
       "                                    إخراج   الشهر  \n",
       "1489  سعيد مرزوق,لبيب سواده,شعبان إبراهيم  نوفمبر  "
      ]
     },
     "execution_count": 485,
     "metadata": {},
     "output_type": "execute_result"
    }
   ],
   "source": [
    "movies_df.sample()"
   ]
  },
  {
   "cell_type": "code",
   "execution_count": 521,
   "metadata": {
    "scrolled": true
   },
   "outputs": [],
   "source": [
    "movies_df['التقييم'] = movies_df['التقييم'].astype(float)\n",
    "ratings_added_40s['التقييم'] = ratings_added_40s['التقييم'].astype(float)\n",
    "ratings_added_50s['التقييم'] = ratings_added_50s['التقييم'].astype(float)\n",
    "ratings_added_60s['التقييم'] = ratings_added_60s['التقييم'].astype(float)\n",
    "ratings_added_70s['التقييم'] = ratings_added_70s['التقييم'].astype(float)\n",
    "ratings_added_40s['المدة'] = ratings_added_40s['المدة'].astype(float)\n",
    "ratings_added_50s['المدة'] = ratings_added_50s['المدة'].astype(float)\n",
    "ratings_added_60s['المدة'] = ratings_added_60s['المدة'].astype(float)\n",
    "ratings_added_70s['المدة'] = ratings_added_70s['المدة'].astype(float)"
   ]
  },
  {
   "cell_type": "markdown",
   "metadata": {},
   "source": [
    "## Questions to Ask"
   ]
  },
  {
   "cell_type": "markdown",
   "metadata": {},
   "source": [
    "### Which movie genre dominated which decade?"
   ]
  },
  {
   "cell_type": "code",
   "execution_count": 490,
   "metadata": {},
   "outputs": [],
   "source": [
    "genre_names= [genre_added_40s['التصنيف'].value_counts().idxmax()\\\n",
    "        ,genres_added_50s['التصنيف'].value_counts().idxmax()\n",
    "        ,genre_added_60s['التصنيف'].value_counts().idxmax()\n",
    "        ,genre_added_70s['التصنيف'].value_counts().idxmax()]\n",
    "\n",
    "genre_max_counts = [genre_added_40s['التصنيف'].value_counts()[0] \\\n",
    "        ,genres_added_50s['التصنيف'].value_counts().head()[0] \\\n",
    "        ,genre_added_60s['التصنيف'].value_counts().head()[0] \\\n",
    "        ,genre_added_70s['التصنيف'].value_counts().head()[0]]"
   ]
  },
  {
   "cell_type": "code",
   "execution_count": 503,
   "metadata": {},
   "outputs": [
    {
     "name": "stdout",
     "output_type": "stream",
     "text": [
      "40s: ﺩﺭاﻣﺎ with 75  movies\n",
      "50s: ﺩﺭاﻣﺎ with 192 movies\n",
      "60s: ﺩﺭاﻣﺎ with 171 movies\n",
      "70s: ﺩﺭاﻣﺎ with 1 movies\n"
     ]
    }
   ],
   "source": [
    "print('40s: ' + genre_names[0] + ' with ' + str(genre_max_counts[0]) + '  movies')\n",
    "print('50s: ' + genre_names[1] + ' with ' + str(genre_max_counts[1]) +  ' movies')\n",
    "print('60s: ' + genre_names[2] + ' with ' + str(genre_max_counts[2]) + ' movies')\n",
    "print('70s: ' + genre_names[3] + ' with ' + str(genre_max_counts[3]) + ' movies')"
   ]
  },
  {
   "cell_type": "markdown",
   "metadata": {},
   "source": [
    "### Which movie genre had the least existence which decade?"
   ]
  },
  {
   "cell_type": "code",
   "execution_count": 508,
   "metadata": {},
   "outputs": [],
   "source": [
    "genre_names= [genre_added_40s['التصنيف'].value_counts().idxmin()\\\n",
    "        ,genres_added_50s['التصنيف'].value_counts().idxmin()\n",
    "        ,genre_added_60s['التصنيف'].value_counts().idxmin()\n",
    "        ,genre_added_70s['التصنيف'].value_counts().idxmin()]\n",
    "\n",
    "genre_min_counts = [genre_added_40s['التصنيف'].value_counts().min() \\\n",
    "        ,genres_added_50s['التصنيف'].value_counts().min() \\\n",
    "        ,genre_added_60s['التصنيف'].value_counts().min() \\\n",
    "        ,genre_added_70s['التصنيف'].value_counts().min()]\n"
   ]
  },
  {
   "cell_type": "code",
   "execution_count": 509,
   "metadata": {},
   "outputs": [
    {
     "name": "stdout",
     "output_type": "stream",
     "text": [
      "40s: ﻣﻐﺎﻣﺮاﺕ with 1  movies\n",
      "50s: ﺭﻋﺐ with 1 movies\n",
      "60s: ﻏﻤﻮﺽ with 1 movies\n",
      "70s: ﺧﻴﺎﻝ with 1 movies\n"
     ]
    }
   ],
   "source": [
    "print('40s: ' + genre_names[0] + ' with ' + str(genre_min_counts[0]) + '  movies')\n",
    "print('50s: ' + genre_names[1] + ' with ' + str(genre_min_counts[1]) +  ' movies')\n",
    "print('60s: ' + genre_names[2] + ' with ' + str(genre_min_counts[2]) + ' movies')\n",
    "print('70s: ' + genre_names[3] + ' with ' + str(genre_min_counts[3]) + ' movies')"
   ]
  },
  {
   "cell_type": "markdown",
   "metadata": {},
   "source": [
    "### Which is the highest rated films throughout the 4 decades?"
   ]
  },
  {
   "cell_type": "code",
   "execution_count": 331,
   "metadata": {},
   "outputs": [
    {
     "name": "stdout",
     "output_type": "stream",
     "text": [
      "Movie Name: الأرض\n",
      "Movie Rating: 9.1\n",
      "Movie Year: 1970\n",
      "Movie Genre: ﺩﺭاﻣﺎ\n",
      "Movies Actors: محمود المليجي,عزت العلايلي,نجوى إبراهيم,يحيى شاهين,حمدي أحمد,توفيق الدقن,صلاح السعدني,علي الشريف,عبدالوارث عسر,عبدالرحمن الخميسي,أشرف السلحدار,حسين إسماعيل,فاطمة عمارة,عبدالمحسن سليم,إبراهيم الشامي,حسين عسر,محمد عبدالمجيد,حلمي هلالي,محمد الطيب,محمد السقا,نبوية سعيد,نبيلة السيد,سهير رضا,علي المعاون,أبو الفتوح عمارة,محمود العراقي,طوسون معتمد,أحمد جمهورية,مطاوع عويس,فايزة عبدالجواد\n",
      "Movies Authors:  عبدالرحمن الشرقاوي,حسن فؤاد\n"
     ]
    }
   ],
   "source": [
    "highest_rated_movie = movies_df.loc[movies_df['التقييم'].idxmax()]\n",
    "print('Movie Name: ' + highest_rated_movie.values[0])\n",
    "print('Movie Rating: ' + str(highest_rated_movie.values[3]))\n",
    "print('Movie Year: ' + highest_rated_movie.values[2])\n",
    "print('Movie Genre: ' + highest_rated_movie.values[4])\n",
    "print('Movies Actors: ' + highest_rated_movie.values[8])\n",
    "print('Movies Authors:  ' + highest_rated_movie.values[7])"
   ]
  },
  {
   "cell_type": "markdown",
   "metadata": {},
   "source": [
    "### What is the average duration of each genre?"
   ]
  },
  {
   "cell_type": "code",
   "execution_count": 535,
   "metadata": {},
   "outputs": [
    {
     "name": "stdout",
     "output_type": "stream",
     "text": [
      "40s decade\n",
      "التصنيف\n",
      "تاريخي               106.500000\n",
      "موسيقي / استعراضي    111.477419\n",
      "ﺗﺸﻮﻳﻖ ﻭﺇﺛﺎﺭﺓ         105.828571\n",
      "ﺟﺮﻳﻤﺔ                113.900000\n",
      "ﺣﺮﺏ                  103.500000\n",
      "ﺣﺮﻛﺔ                 107.666667\n",
      "ﺧﻴﺎﻝ                  95.000000\n",
      "ﺧﻴﺎﻝ ﻋﻠﻤﻲ            104.333333\n",
      "ﺩﺭاﻣﺎ                109.020833\n",
      "ﺭﻋﺐ                  137.000000\n",
      "ﺭﻭﻣﺎﻧﺴﻲ              108.729545\n",
      "ﻋﺎﺋﻠﻲ                106.000000\n",
      "ﻏﻤﻮﺽ                 101.000000\n",
      "ﻛﻮﻣﻴﺪﻱ               107.620000\n",
      "ﻣﻐﺎﻣﺮاﺕ              142.000000\n",
      "Name: المدة, dtype: float64\n",
      "-----------------\n",
      "50s decade\n",
      "التصنيف\n",
      "تاريخي               118.500000\n",
      "موسيقي / استعراضي    104.800000\n",
      "ﺗﺸﻮﻳﻖ ﻭﺇﺛﺎﺭﺓ          99.761111\n",
      "ﺟﺮﻳﻤﺔ                106.508333\n",
      "ﺣﺮﻛﺔ                  96.428571\n",
      "ﺧﻴﺎﻝ                 107.000000\n",
      "ﺧﻴﺎﻝ ﻋﻠﻤﻲ            112.500000\n",
      "ﺩﺭاﻣﺎ                105.535088\n",
      "ﺭﻭﻣﺎﻧﺴﻲ              105.571739\n",
      "ﺳﻴﺮﺓ ﺫاﺗﻴﺔ           133.900000\n",
      "ﻋﺎﺋﻠﻲ                 96.250000\n",
      "ﻏﻤﻮﺽ                  95.000000\n",
      "ﻗﺼﻴﺮ                  30.000000\n",
      "ﻛﻮﻣﻴﺪﻱ               101.471186\n",
      "ﻣﻐﺎﻣﺮاﺕ              102.500000\n",
      "Name: المدة, dtype: float64\n",
      "-----------------\n",
      "60s decade\n",
      "التصنيف\n",
      "تاريخي               118.500000\n",
      "موسيقي / استعراضي    104.800000\n",
      "ﺗﺸﻮﻳﻖ ﻭﺇﺛﺎﺭﺓ          99.761111\n",
      "ﺟﺮﻳﻤﺔ                106.508333\n",
      "ﺣﺮﻛﺔ                  96.428571\n",
      "ﺧﻴﺎﻝ                 107.000000\n",
      "ﺧﻴﺎﻝ ﻋﻠﻤﻲ            112.500000\n",
      "ﺩﺭاﻣﺎ                105.535088\n",
      "ﺭﻭﻣﺎﻧﺴﻲ              105.571739\n",
      "ﺳﻴﺮﺓ ﺫاﺗﻴﺔ           133.900000\n",
      "ﻋﺎﺋﻠﻲ                 96.250000\n",
      "ﻏﻤﻮﺽ                  95.000000\n",
      "ﻗﺼﻴﺮ                  30.000000\n",
      "ﻛﻮﻣﻴﺪﻱ               101.471186\n",
      "ﻣﻐﺎﻣﺮاﺕ              102.500000\n",
      "Name: المدة, dtype: float64\n",
      "70s decade\n",
      "-----------------\n",
      "التصنيف\n",
      "اﺳﺘﻌﺮاﺿﻲ        111.692308\n",
      "تاريخي          120.500000\n",
      "ﺗﺸﻮﻳﻖ ﻭﺇﺛﺎﺭﺓ    103.775000\n",
      "ﺟﺮﻳﻤﺔ           108.475000\n",
      "ﺣﺮﺏ             102.333333\n",
      "ﺣﺮﻛﺔ            101.250000\n",
      "ﺩﺭاﻣﺎ           105.703101\n",
      "ﺭﻭﻣﺎﻧﺴﻲ         103.754545\n",
      "ﺭﻳﺎﺿﻲ           110.000000\n",
      "ﺳﻴﺮﺓ ﺫاﺗﻴﺔ      130.250000\n",
      "ﻏﻤﻮﺽ             98.000000\n",
      "ﻗﺼﻴﺮ             39.000000\n",
      "ﻛﻮﻣﻴﺪﻱ          121.810000\n",
      "ﻣﻐﺎﻣﺮاﺕ         124.000000\n",
      "ﻭﺛﺎﺋﻘﻲ           79.400000\n",
      "Name: المدة, dtype: float64\n"
     ]
    }
   ],
   "source": [
    "print('40s decade')\n",
    "print(ratings_added_50s.groupby(['التصنيف'])['المدة'].mean())\n",
    "print('-----------------')\n",
    "print('50s decade')\n",
    "print(ratings_added_60s.groupby(['التصنيف'])['المدة'].mean())\n",
    "print('-----------------')\n",
    "print('60s decade')\n",
    "print(ratings_added_60s.groupby(['التصنيف'])['المدة'].mean())\n",
    "print('70s decade')\n",
    "print('-----------------')\n",
    "print(ratings_added_70s.groupby(['التصنيف'])['المدة'].mean())"
   ]
  },
  {
   "cell_type": "markdown",
   "metadata": {},
   "source": [
    "### Which Director directed the most movies per decade?"
   ]
  },
  {
   "cell_type": "code",
   "execution_count": 545,
   "metadata": {},
   "outputs": [
    {
     "name": "stdout",
     "output_type": "stream",
     "text": [
      "حلمي رفلة,عاطف سالم                           20\n",
      "حسام الدين مصطفى,أحمد السبعاوي,نجيب إسكندر    17\n",
      "نيازي مصطفى                                   14\n",
      "حسن الإمام                                    13\n",
      "أحمد بدرخان,كامل مدكور                        13\n",
      "Name: إخراج, dtype: int64\n"
     ]
    }
   ],
   "source": [
    "print(movies_df['إخراج'].value_counts().head())"
   ]
  },
  {
   "cell_type": "code",
   "execution_count": 546,
   "metadata": {},
   "outputs": [
    {
     "data": {
      "text/plain": [
       "<matplotlib.axes._subplots.AxesSubplot at 0x7f85829fc278>"
      ]
     },
     "execution_count": 546,
     "metadata": {},
     "output_type": "execute_result"
    },
    {
     "data": {
      "image/png": "[encoded data removed]",
      "text/plain": [
       "<Figure size 432x288 with 1 Axes>"
      ]
     },
     "metadata": {
      "needs_background": "light"
     },
     "output_type": "display_data"
    }
   ],
   "source": [
    "ratings_added_40s.groupby('التصنيف')['التقييم'].mean().plot.barh()\n"
   ]
  },
  {
   "cell_type": "markdown",
   "metadata": {},
   "source": [
    "### What are the average ratings with respect to genres?"
   ]
  },
  {
   "cell_type": "code",
   "execution_count": 533,
   "metadata": {},
   "outputs": [
    {
     "name": "stdout",
     "output_type": "stream",
     "text": [
      "40s decade\n",
      "التصنيف\n",
      "تاريخي               106.500000\n",
      "موسيقي / استعراضي    111.477419\n",
      "ﺗﺸﻮﻳﻖ ﻭﺇﺛﺎﺭﺓ         105.828571\n",
      "ﺟﺮﻳﻤﺔ                113.900000\n",
      "ﺣﺮﺏ                  103.500000\n",
      "ﺣﺮﻛﺔ                 107.666667\n",
      "ﺧﻴﺎﻝ                  95.000000\n",
      "ﺧﻴﺎﻝ ﻋﻠﻤﻲ            104.333333\n",
      "ﺩﺭاﻣﺎ                109.020833\n",
      "ﺭﻋﺐ                  137.000000\n",
      "ﺭﻭﻣﺎﻧﺴﻲ              108.729545\n",
      "ﻋﺎﺋﻠﻲ                106.000000\n",
      "ﻏﻤﻮﺽ                 101.000000\n",
      "ﻛﻮﻣﻴﺪﻱ               107.620000\n",
      "ﻣﻐﺎﻣﺮاﺕ              142.000000\n",
      "Name: المدة, dtype: float64\n",
      "-----------------\n",
      "50s decade\n",
      "التصنيف\n",
      "تاريخي               118.500000\n",
      "موسيقي / استعراضي    104.800000\n",
      "ﺗﺸﻮﻳﻖ ﻭﺇﺛﺎﺭﺓ          99.761111\n",
      "ﺟﺮﻳﻤﺔ                106.508333\n",
      "ﺣﺮﻛﺔ                  96.428571\n",
      "ﺧﻴﺎﻝ                 107.000000\n",
      "ﺧﻴﺎﻝ ﻋﻠﻤﻲ            112.500000\n",
      "ﺩﺭاﻣﺎ                105.535088\n",
      "ﺭﻭﻣﺎﻧﺴﻲ              105.571739\n",
      "ﺳﻴﺮﺓ ﺫاﺗﻴﺔ           133.900000\n",
      "ﻋﺎﺋﻠﻲ                 96.250000\n",
      "ﻏﻤﻮﺽ                  95.000000\n",
      "ﻗﺼﻴﺮ                  30.000000\n",
      "ﻛﻮﻣﻴﺪﻱ               101.471186\n",
      "ﻣﻐﺎﻣﺮاﺕ              102.500000\n",
      "Name: المدة, dtype: float64\n",
      "-----------------\n",
      "60s decade\n",
      "التصنيف\n",
      "تاريخي               118.500000\n",
      "موسيقي / استعراضي    104.800000\n",
      "ﺗﺸﻮﻳﻖ ﻭﺇﺛﺎﺭﺓ          99.761111\n",
      "ﺟﺮﻳﻤﺔ                106.508333\n",
      "ﺣﺮﻛﺔ                  96.428571\n",
      "ﺧﻴﺎﻝ                 107.000000\n",
      "ﺧﻴﺎﻝ ﻋﻠﻤﻲ            112.500000\n",
      "ﺩﺭاﻣﺎ                105.535088\n",
      "ﺭﻭﻣﺎﻧﺴﻲ              105.571739\n",
      "ﺳﻴﺮﺓ ﺫاﺗﻴﺔ           133.900000\n",
      "ﻋﺎﺋﻠﻲ                 96.250000\n",
      "ﻏﻤﻮﺽ                  95.000000\n",
      "ﻗﺼﻴﺮ                  30.000000\n",
      "ﻛﻮﻣﻴﺪﻱ               101.471186\n",
      "ﻣﻐﺎﻣﺮاﺕ              102.500000\n",
      "Name: المدة, dtype: float64\n",
      "70s decade\n",
      "-----------------\n",
      "التصنيف\n",
      "اﺳﺘﻌﺮاﺿﻲ        111.692308\n",
      "تاريخي          120.500000\n",
      "ﺗﺸﻮﻳﻖ ﻭﺇﺛﺎﺭﺓ    103.775000\n",
      "ﺟﺮﻳﻤﺔ           108.475000\n",
      "ﺣﺮﺏ             102.333333\n",
      "ﺣﺮﻛﺔ            101.250000\n",
      "ﺩﺭاﻣﺎ           105.703101\n",
      "ﺭﻭﻣﺎﻧﺴﻲ         103.754545\n",
      "ﺭﻳﺎﺿﻲ           110.000000\n",
      "ﺳﻴﺮﺓ ﺫاﺗﻴﺔ      130.250000\n",
      "ﻏﻤﻮﺽ             98.000000\n",
      "ﻗﺼﻴﺮ             39.000000\n",
      "ﻛﻮﻣﻴﺪﻱ          121.810000\n",
      "ﻣﻐﺎﻣﺮاﺕ         124.000000\n",
      "ﻭﺛﺎﺋﻘﻲ           79.400000\n",
      "Name: المدة, dtype: float64\n"
     ]
    }
   ],
   "source": [
    "print('40s decade')\n",
    "print(ratings_added_50s.groupby(['التصنيف'])['المدة'].mean())\n",
    "print('-----------------')\n",
    "print('50s decade')\n",
    "print(ratings_added_60s.groupby(['التصنيف'])['المدة'].mean())\n",
    "print('-----------------')\n",
    "print('60s decade')\n",
    "print(ratings_added_60s.groupby(['التصنيف'])['المدة'].mean())\n",
    "print('70s decade')\n",
    "print('-----------------')\n",
    "print(ratings_added_70s.groupby(['التصنيف'])['المدة'].mean())"
   ]
  },
  {
   "cell_type": "markdown",
   "metadata": {},
   "source": [
    "### Who made movie music the most?"
   ]
  },
  {
   "cell_type": "code",
   "execution_count": 532,
   "metadata": {},
   "outputs": [
    {
     "name": "stdout",
     "output_type": "stream",
     "text": [
      "فؤاد الظاهري                   102\n",
      "أندريا رايدر (أندريه رايدر)     37\n",
      "علي إسماعيل                     31\n",
      "عمر خورشيد                      31\n",
      "جمال سلامة                      28\n",
      "Name: موسيقى, dtype: int64\n"
     ]
    }
   ],
   "source": [
    "print(movies_df['موسيقى'].value_counts().head())"
   ]
  },
  {
   "cell_type": "code",
   "execution_count": null,
   "metadata": {},
   "outputs": [],
   "source": []
  }
 ],
 "metadata": {
  "kernelspec": {
   "display_name": "Python 3",
   "language": "python",
   "name": "python3"
  },
  "language_info": {
   "codemirror_mode": {
    "name": "ipython",
    "version": 3
   },
   "file_extension": ".py",
   "mimetype": "text/x-python",
   "name": "python",
   "nbconvert_exporter": "python",
   "pygments_lexer": "ipython3",
   "version": "3.7.3"
  }
 },
 "nbformat": 4,
 "nbformat_minor": 2
}
