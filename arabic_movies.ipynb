{
 "cells": [
  {
   "cell_type": "code",
   "execution_count": null,
   "metadata": {},
   "outputs": [],
   "source": [
    "import numpy as np \n",
    "import pandas as pd\n",
    "import regex as re\n",
    "import unicodedata as ud\n",
    "import nltk\n",
    "from nltk.stem.isri import ISRIStemmer\n",
    "from nltk.tokenize import wordpunct_tokenize"
   ]
  },
  {
   "cell_type": "markdown",
   "metadata": {},
   "source": [
    "## Movies Datasets"
   ]
  },
  {
   "cell_type": "code",
   "execution_count": null,
   "metadata": {},
   "outputs": [],
   "source": [
    "forties_df = pd.read_csv('1940s_data/1940s_movies.csv')\n",
    "fifties_df = pd.read_csv('1950s_data/Movies_chronicled1950s.csv')\n",
    "sixties_df = pd.read_csv('1960s_data/1960s_movies.csv')\n",
    "seventies_df = pd.read_csv('1970s_data/1970s_movies.csv')"
   ]
  },
  {
   "cell_type": "markdown",
   "metadata": {},
   "source": [
    "#### EDA functions"
   ]
  },
  {
   "cell_type": "code",
   "execution_count": null,
   "metadata": {},
   "outputs": [],
   "source": [
    "def describe_dataframe(df):\n",
    "    \n",
    "    for column in df.columns:\n",
    "        print('Column Name: ', str(column))\n",
    "        print(df[column].describe())\n",
    "        print('------------------------------')"
   ]
  },
  {
   "cell_type": "markdown",
   "metadata": {},
   "source": [
    "#### Cleansing functions"
   ]
  },
  {
   "cell_type": "code",
   "execution_count": null,
   "metadata": {},
   "outputs": [],
   "source": [
    "def change_empty_entries_to_NaN(df, column_name):\n",
    "    \n",
    "    for row_index in range(df.shape[0]):\n",
    "        if '??' in str(df.loc[row_index, column_name]) or \\\n",
    "        df.loc[row_index, column_name] == 'nan':\n",
    "            df.loc[row_index, column_name] = np.NaN\n",
    "    return df\n",
    "    "
   ]
  },
  {
   "cell_type": "code",
   "execution_count": null,
   "metadata": {},
   "outputs": [],
   "source": [
    "def change_empty_synopses_type(df, column_name):\n",
    "    \n",
    "    for row_index in range(df.shape[0]):\n",
    "        cell_content = df.loc[row_index,column_name]\n",
    "        if(type(cell_content)== float):\n",
    "#             df.loc[row_index,column_name] = np.NaN\n",
    "            print(df.loc[row_index,column_name])\n",
    "#             print(type(df.loc[row_index,column_name]))\n",
    "    return df"
   ]
  },
  {
   "cell_type": "code",
   "execution_count": null,
   "metadata": {},
   "outputs": [],
   "source": [
    "def unify_date_format(df):\n",
    "    for row in range(df.shape[0]):\n",
    "        \n",
    "        release_day = df.iloc[row, 15]\n",
    "        if len(str(release_day)) == 4:\n",
    "            df.iloc[row,17] = release_day\n",
    "            df.iloc[row,16] = 'يناير'\n",
    "            df.iloc[row,15] = 1\n",
    "\n",
    "    return df"
   ]
  },
  {
   "cell_type": "code",
   "execution_count": null,
   "metadata": {},
   "outputs": [],
   "source": [
    "def expand_release_date(df):\n",
    "    # line continuation operators  '\\' used for cleaner code\n",
    "    df[['اليوم', 'الشهر', 'السنة']] = \\\n",
    "    df[' تاريخ العرض'].str.split(' ', expand = True)\n",
    "    \n",
    "    return df\n",
    "    "
   ]
  },
  {
   "cell_type": "code",
   "execution_count": null,
   "metadata": {},
   "outputs": [],
   "source": [
    "def find_movies_with_missing_synopses(df):\n",
    "    \n",
    "    missing_movies = []\n",
    "    for row_index in range(df.shape[0]):\n",
    "        if(type(df.iloc[row_index, 3]) == float):\n",
    "            missing_movies.append(df.iloc[row_index, 0])\n",
    "            \n",
    "    return missing_movies"
   ]
  },
  {
   "cell_type": "code",
   "execution_count": null,
   "metadata": {},
   "outputs": [],
   "source": [
    "def parse_line(line_to_parse):\n",
    "    \n",
    "            parsed_values = line_to_parse.split('||')\n",
    "            movie_name_date = parsed_values[0].strip(')').split('(')\n",
    "            \n",
    "            name = movie_name_date[0]\n",
    "            year = movie_name_date[1]\n",
    "            df_feature = parsed_values[1]\n",
    "            \n",
    "            return name, year, df_feature"
   ]
  },
  {
   "cell_type": "code",
   "execution_count": null,
   "metadata": {},
   "outputs": [],
   "source": [
    "def add_scraped_features(df, file_path, column_name):\n",
    "    \n",
    "    with open(file_path, 'r') as filehandle:\n",
    "        \n",
    "        for line in filehandle:\n",
    "            \n",
    "            current_line = line[:-1]\n",
    "            name, year, df_feature = parse_line(current_line)\n",
    "            if(column_name == ' ملخص'):\n",
    "               \n",
    "                synopses_cell = df[column_name].loc[(df['اسم الفيلم'] == name) \\\n",
    "                 & (df['السنة'] == year)]\n",
    "                \n",
    "                try:\n",
    "                    if(synopses_cell.values[0] == 'nan'):\n",
    "                        df.loc[(df['اسم الفيلم'] == name) \\\n",
    "                     & (df['السنة'] == year), column_name] = df_feature\n",
    "                except:\n",
    "                    print(name)\n",
    "            else:        \n",
    "\n",
    "                df.loc[(df['اسم الفيلم'] == name) \\\n",
    "                     & (df['السنة'] == year), column_name] = df_feature\n",
    "          \n",
    "    return df"
   ]
  },
  {
   "cell_type": "code",
   "execution_count": null,
   "metadata": {},
   "outputs": [],
   "source": [
    "def filter_foregin_movies(df, file_path):\n",
    "    \n",
    "    with open(file_path, 'r') as filehandle:\n",
    "            \n",
    "        for line in filehandle:\n",
    "            \n",
    "            current_line = line[:-1]\n",
    "            name, year, country = parse_line(current_line)\n",
    "           \n",
    "            if(not(('مصر') in country)):   \n",
    "                movie_index = df.loc[(df['اسم الفيلم'] == name) \\\n",
    "                                     & (df['السنة'] == year)].index\n",
    "                df.drop(inplace = True, index = movie_index)\n",
    "    return df"
   ]
  },
  {
   "cell_type": "code",
   "execution_count": null,
   "metadata": {},
   "outputs": [],
   "source": [
    "def get_avg_short_movie_time(df):\n",
    "    \n",
    "    short_movies_durations = df[' مدة الفيلم (دقيقة)'].loc[ \\\n",
    "                                    df[' تصنيف الفيلم'] == 'ﻗﺼﻴﺮ']\n",
    "    avg_duration = np.average(list(short_movies_durations))\n",
    "    \n",
    "    return avg_duration"
   ]
  },
  {
   "cell_type": "markdown",
   "metadata": {},
   "source": [
    "## *_1940s Movies_*"
   ]
  },
  {
   "cell_type": "markdown",
   "metadata": {},
   "source": [
    "### EDA"
   ]
  },
  {
   "cell_type": "code",
   "execution_count": null,
   "metadata": {
    "scrolled": true
   },
   "outputs": [],
   "source": [
    "forties_df.sample(10)"
   ]
  },
  {
   "cell_type": "code",
   "execution_count": null,
   "metadata": {},
   "outputs": [],
   "source": [
    "describe_dataframe(forties_df)"
   ]
  },
  {
   "cell_type": "code",
   "execution_count": null,
   "metadata": {},
   "outputs": [],
   "source": [
    "forties_df.loc[forties_df['اسم الفيلم'] == 'خاتم سليمان']"
   ]
  },
  {
   "cell_type": "code",
   "execution_count": null,
   "metadata": {},
   "outputs": [],
   "source": [
    "forties_df[' تصنيف الفيلم'].value_counts()"
   ]
  },
  {
   "cell_type": "markdown",
   "metadata": {},
   "source": [
    "### Cleansing"
   ]
  },
  {
   "cell_type": "code",
   "execution_count": null,
   "metadata": {},
   "outputs": [],
   "source": [
    "forties_df = change_empty_entries_to_NaN(forties_df, ' تصنيف الفيلم')"
   ]
  },
  {
   "cell_type": "code",
   "execution_count": null,
   "metadata": {},
   "outputs": [],
   "source": [
    "forties_df[' ملخص'] = forties_df[' ملخص'].astype(str)"
   ]
  },
  {
   "cell_type": "code",
   "execution_count": null,
   "metadata": {},
   "outputs": [],
   "source": [
    "date_expanded_df_40s = expand_release_date(forties_df)\n",
    "date_expanded_df_40s = unify_date_format(date_expanded_df_40s)"
   ]
  },
  {
   "cell_type": "code",
   "execution_count": null,
   "metadata": {},
   "outputs": [],
   "source": [
    "date_expanded_df_40s = date_expanded_df_40s.drop(columns=[' تاريخ العرض'])\n",
    "date_expanded_df_40s['التقييم'] = np.nan"
   ]
  },
  {
   "cell_type": "code",
   "execution_count": null,
   "metadata": {},
   "outputs": [],
   "source": [
    "foreigns_filtered_df_40s = filter_foregin_movies(date_expanded_df_40s \\\n",
    "                                                , '1940s_data/countries_1940s.txt')"
   ]
  },
  {
   "cell_type": "code",
   "execution_count": null,
   "metadata": {},
   "outputs": [],
   "source": [
    "genre_added_40s_df = add_scraped_features(foreigns_filtered_df_40s \\\n",
    "                                          , '1940s_data/1940s_genres.txt' \\\n",
    "                                         , ' تصنيف الفيلم')"
   ]
  },
  {
   "cell_type": "code",
   "execution_count": null,
   "metadata": {},
   "outputs": [],
   "source": [
    "genre_added_40s_df[' تصنيف الفيلم'].value_counts()"
   ]
  },
  {
   "cell_type": "code",
   "execution_count": null,
   "metadata": {},
   "outputs": [],
   "source": [
    "ratings_added_40s_df = add_scraped_features(genre_added_40s_df \\\n",
    "                                          , '1940s_data/1940s_ratings.txt' \\\n",
    "                                         , 'التقييم')"
   ]
  },
  {
   "cell_type": "code",
   "execution_count": null,
   "metadata": {
    "scrolled": true
   },
   "outputs": [],
   "source": [
    "synopses_added_40s_df = add_scraped_features(ratings_added_40s_df \\\n",
    "                                          , '1940s_data/1940s_synopses.txt' \\\n",
    "                                         , ' ملخص')"
   ]
  },
  {
   "cell_type": "code",
   "execution_count": null,
   "metadata": {},
   "outputs": [],
   "source": [
    "synopses_added_40s_df = synopses_added_40s_df.reset_index(drop=True)"
   ]
  },
  {
   "cell_type": "code",
   "execution_count": null,
   "metadata": {},
   "outputs": [],
   "source": [
    "def check_synopsis_has_no_names(cast_list, synopsis):\n",
    "    for actor in cast_list:\n",
    "        if(actor in synopsis):\n",
    "            synopsis = synopsis.replace(actor, '')\n",
    "    return synopsis"
   ]
  },
  {
   "cell_type": "code",
   "execution_count": null,
   "metadata": {},
   "outputs": [],
   "source": [
    "def stem_synopsis(partial_df):\n",
    "    \n",
    "    stemmer = ISRIStemmer()\n",
    "    for row_index in range(partial_df.shape[0]):\n",
    "        \n",
    "        synopsis = partial_df.loc[row_index, ' ملخص']\n",
    "        cleaned_synopsis = ''\n",
    "        for word in synopsis.split():\n",
    "            cleaned_synopsis += stemmer.stem(word) + ' '\n",
    "            \n",
    "        partial_df.loc[row_index, ' ملخص'] = cleaned_synopsis \n",
    "        \n",
    "    return partial_df"
   ]
  },
  {
   "cell_type": "code",
   "execution_count": null,
   "metadata": {},
   "outputs": [],
   "source": [
    "def preprocess_synopses(original_df, partial_df):\n",
    "    for row_index in range(partial_df.shape[0]):\n",
    "        \n",
    "        cast = str(original_df.loc[row_index, ' تمثيل'])\n",
    "        cast_list = list(cast.split('،'))\n",
    "        synopsis = original_df.loc[row_index, ' ملخص']\n",
    "        \n",
    "        cleaned_synopsis = \\\n",
    "        check_synopsis_has_no_names(cast_list,synopsis )\n",
    "        cleaned_synopsis = remove_arabic_characters(synopsis)\n",
    "        \n",
    "        partial_df.loc[row_index, ' ملخص'] = cleaned_synopsis\n",
    "    \n",
    "    return partial_df"
   ]
  },
  {
   "cell_type": "code",
   "execution_count": null,
   "metadata": {},
   "outputs": [],
   "source": [
    "def remove_arabic_characters(synopsis):\n",
    "    cleaned_synopsis = \\\n",
    "    ''.join(char for char in synopsis if not ud.category(char).startswith('P'))\n",
    "    \n",
    "    return cleaned_synopsis"
   ]
  },
  {
   "cell_type": "code",
   "execution_count": null,
   "metadata": {},
   "outputs": [],
   "source": [
    "def remove_stop_words(partial_df):\n",
    "    \n",
    "    stop_words = set(nltk.corpus.stopwords.words(\"arabic\"))\n",
    "    stop_words.add('على')\n",
    "    for row_index in range(partial_df.shape[0]):\n",
    "        \n",
    "        synopsis = partial_df.loc[row_index, ' ملخص']\n",
    "        \n",
    "        for word in synopsis.split():\n",
    "            if word in stop_words:\n",
    "                synopsis = synopsis.replace(word, '')\n",
    "                \n",
    "        partial_df.loc[row_index, ' ملخص'] = synopsis\n",
    "    return partial_df\n"
   ]
  },
  {
   "cell_type": "code",
   "execution_count": null,
   "metadata": {},
   "outputs": [],
   "source": [
    "def remove_punctuation(partial_df):\n",
    "    for row_index in range(partial_df.shape[0]):\n",
    "        synopsis = partial_df.iloc[row_index, 2]\n",
    "        if((synopsis) != 'nan'):\n",
    "            synopsis = re.sub(r'\\([^)]*\\)', '', synopsis)\n",
    "            synopsis = re.sub('\".*?\"', '', synopsis)\n",
    "            synopsis = re.sub(r'[^\\w\\s]','',synopsis)\n",
    "\n",
    "            partial_df.iloc[row_index, 2] = synopsis\n",
    "    return partial_df"
   ]
  },
  {
   "cell_type": "code",
   "execution_count": null,
   "metadata": {},
   "outputs": [],
   "source": [
    "def tokenize_synopsis(partial_df):\n",
    "    \n",
    "    for row_index in range(partial_df.shape[0]):\n",
    "        \n",
    "        synopsis = partial_df.loc[row_index, ' ملخص']\n",
    "        tokenized_synopsis = wordpunct_tokenize(synopsis)\n",
    "        partial_df.loc[row_index, ' ملخص'] = tokenized_synopsis\n",
    "    return partial_df\n",
    "    "
   ]
  },
  {
   "cell_type": "markdown",
   "metadata": {},
   "source": [
    "### Prepare Synopses for Doc2Vec"
   ]
  },
  {
   "cell_type": "code",
   "execution_count": null,
   "metadata": {},
   "outputs": [],
   "source": [
    "synopses_analysis_df_40s = \\\n",
    "synopses_added_40s_df[[ 'اسم الفيلم', ' تصنيف الفيلم', ' ملخص']]"
   ]
  },
  {
   "cell_type": "code",
   "execution_count": null,
   "metadata": {},
   "outputs": [],
   "source": [
    "synopses_analysis_df_40s = preprocess_synopses(synopses_added_40s_df \\\n",
    "                                              , synopses_analysis_df_40s)\n",
    "synopses_analysis_df_40s = remove_punctuation(synopses_analysis_df_40s)\n",
    "synopses_analysis_df_40s = remove_stop_words(synopses_analysis_df_40s)\n",
    "synopses_analysis_df_40s = stem_synopsis(synopses_analysis_df_40s)"
   ]
  },
  {
   "cell_type": "code",
   "execution_count": null,
   "metadata": {},
   "outputs": [],
   "source": [
    "synopses_analysis_df_40s = tokenize_synopsis(synopses_analysis_df_40s)"
   ]
  },
  {
   "cell_type": "code",
   "execution_count": null,
   "metadata": {},
   "outputs": [],
   "source": [
    "synopses_analysis_df_40s.to_csv('1940s_data/dataset_40s.csv')"
   ]
  },
  {
   "cell_type": "markdown",
   "metadata": {},
   "source": [
    "## *_1950s Movies_*"
   ]
  },
  {
   "cell_type": "code",
   "execution_count": null,
   "metadata": {
    "scrolled": true
   },
   "outputs": [],
   "source": [
    "fifties_df.sample(10)"
   ]
  },
  {
   "cell_type": "code",
   "execution_count": null,
   "metadata": {},
   "outputs": [],
   "source": [
    "describe_dataframe(fifties_df)"
   ]
  },
  {
   "cell_type": "code",
   "execution_count": null,
   "metadata": {},
   "outputs": [],
   "source": [
    "fifties_df[' تصنيف الفيلم'].value_counts()"
   ]
  },
  {
   "cell_type": "code",
   "execution_count": null,
   "metadata": {},
   "outputs": [],
   "source": [
    "fifties_df[fifties_df.duplicated(subset = ['اسم الفيلم'])]"
   ]
  },
  {
   "cell_type": "code",
   "execution_count": null,
   "metadata": {},
   "outputs": [],
   "source": [
    "fifties_df.loc[fifties_df['اسم الفيلم'] == 'غرام في إستانبول (غرام في إسطنبول)']"
   ]
  },
  {
   "cell_type": "code",
   "execution_count": null,
   "metadata": {},
   "outputs": [],
   "source": [
    "fifties_df = change_empty_entries_to_NaN(fifties_df, ' تصنيف الفيلم')\n",
    "fifties_df[' ملخص'] = fifties_df[' ملخص'].astype(str)"
   ]
  },
  {
   "cell_type": "code",
   "execution_count": null,
   "metadata": {},
   "outputs": [],
   "source": [
    "date_expanded_df_50s = expand_release_date(fifties_df)\n",
    "date_expanded_df_50s = unify_date_format(date_expanded_df_50s)"
   ]
  },
  {
   "cell_type": "code",
   "execution_count": null,
   "metadata": {},
   "outputs": [],
   "source": [
    "date_expanded_df_50s = date_expanded_df_50s.drop(columns=[' تاريخ العرض'])\n",
    "date_expanded_df_50s['التقييم'] = np.nan"
   ]
  },
  {
   "cell_type": "code",
   "execution_count": null,
   "metadata": {},
   "outputs": [],
   "source": [
    "foreign_filtered_df_50s = filter_foregin_movies(date_expanded_df_50s\n",
    "                                               , '1950s_data/countries_1950s.txt')"
   ]
  },
  {
   "cell_type": "code",
   "execution_count": null,
   "metadata": {},
   "outputs": [],
   "source": [
    "ratings_added_df_50s = add_scraped_features(foreign_filtered_df_50s \\\n",
    "                                           , '1950s_data/1950s_ratings.txt'\n",
    "                                           , 'التقييم')"
   ]
  },
  {
   "cell_type": "code",
   "execution_count": null,
   "metadata": {},
   "outputs": [],
   "source": [
    "genres_added_df_50s = add_scraped_features(ratings_added_df_50s \\\n",
    "                                           , '1950s_data/1950s_genres.txt'\n",
    "                                           , ' تصنيف الفيلم')"
   ]
  },
  {
   "cell_type": "code",
   "execution_count": null,
   "metadata": {},
   "outputs": [],
   "source": [
    "synopses_added_50s_df = add_scraped_features(ratings_added_df_50s \\\n",
    "                                          , '1950s_data/1950s_synopses.txt' \\\n",
    "                                         , ' ملخص')"
   ]
  },
  {
   "cell_type": "code",
   "execution_count": null,
   "metadata": {},
   "outputs": [],
   "source": []
  },
  {
   "cell_type": "code",
   "execution_count": null,
   "metadata": {},
   "outputs": [],
   "source": []
  },
  {
   "cell_type": "code",
   "execution_count": null,
   "metadata": {},
   "outputs": [],
   "source": []
  },
  {
   "cell_type": "markdown",
   "metadata": {},
   "source": [
    "## *_1960s Movies_*"
   ]
  },
  {
   "cell_type": "code",
   "execution_count": null,
   "metadata": {
    "scrolled": true
   },
   "outputs": [],
   "source": [
    "sixties_df.sample(10)"
   ]
  },
  {
   "cell_type": "code",
   "execution_count": null,
   "metadata": {},
   "outputs": [],
   "source": [
    "describe_dataframe(sixties_df)"
   ]
  },
  {
   "cell_type": "code",
   "execution_count": null,
   "metadata": {},
   "outputs": [],
   "source": [
    "sixties_df.loc[sixties_df['اسم الفيلم'] == 'شايف خير']"
   ]
  },
  {
   "cell_type": "code",
   "execution_count": null,
   "metadata": {},
   "outputs": [],
   "source": [
    "sixties_df[' تصنيف الفيلم'].value_counts()"
   ]
  },
  {
   "cell_type": "code",
   "execution_count": null,
   "metadata": {},
   "outputs": [],
   "source": []
  },
  {
   "cell_type": "code",
   "execution_count": null,
   "metadata": {},
   "outputs": [],
   "source": [
    "sixties_df.loc[sixties_df[' تصنيف الفيلم'] == 'ﻭﺛﺎﺋﻘﻲ']"
   ]
  },
  {
   "cell_type": "code",
   "execution_count": null,
   "metadata": {},
   "outputs": [],
   "source": [
    "sixties_df = change_empty_entries_to_NaN(sixties_df, ' تصنيف الفيلم')\n",
    "sixties_df[' ملخص'] = sixties_df[' ملخص'].astype(str)"
   ]
  },
  {
   "cell_type": "markdown",
   "metadata": {},
   "source": [
    "_**Cleansing**_"
   ]
  },
  {
   "cell_type": "code",
   "execution_count": null,
   "metadata": {
    "scrolled": true
   },
   "outputs": [],
   "source": [
    "# sixties_df.drop_duplicates(keep = 'first', inplace = True)\n",
    "sixties_df.drop(inplace = True, index = \\\n",
    "               sixties_df.loc[sixties_df[' تصنيف الفيلم'] == 'ﺳﻴﺮﺓ ﺫاﺗﻴﺔ']\n",
    "                .index)"
   ]
  },
  {
   "cell_type": "code",
   "execution_count": null,
   "metadata": {},
   "outputs": [],
   "source": [
    "sixties_df.loc[sixties_df['اسم الفيلم'] == 'الطريق']"
   ]
  },
  {
   "cell_type": "code",
   "execution_count": null,
   "metadata": {},
   "outputs": [],
   "source": [
    "sixties_df.dtypes"
   ]
  },
  {
   "cell_type": "code",
   "execution_count": null,
   "metadata": {},
   "outputs": [],
   "source": [
    "sixties_df.to_csv('1960s_data/1960s_no_duplicates.csv')"
   ]
  },
  {
   "cell_type": "code",
   "execution_count": null,
   "metadata": {},
   "outputs": [],
   "source": [
    "date_expanded_60s_df = expand_release_date(sixties_df)\n",
    "date_expanded_60s_df = unify_date_format(date_expanded_60s_df)"
   ]
  },
  {
   "cell_type": "code",
   "execution_count": null,
   "metadata": {},
   "outputs": [],
   "source": [
    "date_expanded_60s_df = date_expanded_60s_df.drop(columns=[' تاريخ العرض'])"
   ]
  },
  {
   "cell_type": "code",
   "execution_count": null,
   "metadata": {},
   "outputs": [],
   "source": [
    "date_expanded_60s_df['التقييم'] = np.nan"
   ]
  },
  {
   "cell_type": "code",
   "execution_count": null,
   "metadata": {},
   "outputs": [],
   "source": [
    "date_expanded_1960s_df.to_csv('1960s_data/date_expanded_1960s.csv')"
   ]
  },
  {
   "cell_type": "markdown",
   "metadata": {},
   "source": [
    "_**Add Webscraped Ratings**_"
   ]
  },
  {
   "cell_type": "code",
   "execution_count": null,
   "metadata": {},
   "outputs": [],
   "source": [
    "foreigns_filtered_df_60s = filter_foregin_movies(date_expanded_60s_df \\\n",
    "                                                , '1960s_data/1960s_countries.txt')"
   ]
  },
  {
   "cell_type": "code",
   "execution_count": null,
   "metadata": {},
   "outputs": [],
   "source": [
    "ratings_added_60s_df = add_scraped_features(date_expanded_60s_df \\\n",
    "                                    , '1960s_data/1960s_ratings.txt' \\\n",
    "                                    , 'التقييم')"
   ]
  },
  {
   "cell_type": "code",
   "execution_count": null,
   "metadata": {
    "scrolled": true
   },
   "outputs": [],
   "source": [
    "ratings_added_60s_df.to_csv('1960s_data/ratings_added_df_60s.csv')"
   ]
  },
  {
   "cell_type": "code",
   "execution_count": null,
   "metadata": {},
   "outputs": [],
   "source": [
    "genre_added_60s_df = add_scraped_features(ratings_added_60s_df \\\n",
    "                                          , '1960s_data/1960s_genres.txt' \\\n",
    "                                         , ' تصنيف الفيلم')"
   ]
  },
  {
   "cell_type": "code",
   "execution_count": null,
   "metadata": {},
   "outputs": [],
   "source": [
    "genre_added_60s_df.to_csv('1960s_data/genre_added_60s_df.csv')"
   ]
  },
  {
   "cell_type": "code",
   "execution_count": null,
   "metadata": {},
   "outputs": [],
   "source": [
    "sixties_df.loc[sixties_df['اسم الفيلم'] == 'ورود ملونة']"
   ]
  },
  {
   "cell_type": "code",
   "execution_count": null,
   "metadata": {},
   "outputs": [],
   "source": [
    "synopses_added_60s_df = add_scraped_features(genre_added_60s_df \\\n",
    "                                          , '1960s_data/1960s_synopses.txt' \\\n",
    "                                         , ' ملخص')"
   ]
  },
  {
   "cell_type": "code",
   "execution_count": null,
   "metadata": {},
   "outputs": [],
   "source": []
  },
  {
   "cell_type": "code",
   "execution_count": null,
   "metadata": {},
   "outputs": [],
   "source": []
  },
  {
   "cell_type": "code",
   "execution_count": null,
   "metadata": {},
   "outputs": [],
   "source": []
  },
  {
   "cell_type": "code",
   "execution_count": null,
   "metadata": {},
   "outputs": [],
   "source": []
  },
  {
   "cell_type": "markdown",
   "metadata": {},
   "source": [
    "## *_1970s Movies_*"
   ]
  },
  {
   "cell_type": "markdown",
   "metadata": {},
   "source": [
    "_**EDA**_"
   ]
  },
  {
   "cell_type": "code",
   "execution_count": null,
   "metadata": {
    "scrolled": true
   },
   "outputs": [],
   "source": [
    "describe_dataframe(seventies_df)"
   ]
  },
  {
   "cell_type": "code",
   "execution_count": null,
   "metadata": {},
   "outputs": [],
   "source": [
    "seventies_df[' ملخص'].isna().sum()"
   ]
  },
  {
   "cell_type": "code",
   "execution_count": null,
   "metadata": {},
   "outputs": [],
   "source": [
    "seventies_df[' تصنيف الفيلم'].value_counts()"
   ]
  },
  {
   "cell_type": "code",
   "execution_count": null,
   "metadata": {},
   "outputs": [],
   "source": []
  },
  {
   "cell_type": "markdown",
   "metadata": {},
   "source": [
    "_**Cleansing**_"
   ]
  },
  {
   "cell_type": "code",
   "execution_count": null,
   "metadata": {},
   "outputs": [],
   "source": [
    "seventies_df = change_empty_entries_to_NaN(seventies_df, ' تصنيف الفيلم')\n",
    "seventies_df[' ملخص'] = seventies_df[' ملخص'].astype(str)"
   ]
  },
  {
   "cell_type": "code",
   "execution_count": null,
   "metadata": {},
   "outputs": [],
   "source": [
    "seventies_df[seventies_df.duplicated(subset = ['اسم الفيلم'])]"
   ]
  },
  {
   "cell_type": "code",
   "execution_count": null,
   "metadata": {},
   "outputs": [],
   "source": [
    "seventies_df[seventies_df.duplicated(subset = ['اسم الفيلم', ' تمثيل'])]\n",
    "seventies_df.drop_duplicates(subset = ['اسم الفيلم', ' تمثيل'], inplace= True, keep = 'last')"
   ]
  },
  {
   "cell_type": "code",
   "execution_count": null,
   "metadata": {},
   "outputs": [],
   "source": [
    "seventies_df.drop(inplace = True, index = 306)\n",
    "seventies_df.drop(inplace = True, index = 156)\n",
    "seventies_df.drop(inplace = True, index = 256)\n",
    "seventies_df.drop(inplace = True, index = 389)\n",
    "seventies_df.drop(inplace = True, index = 259)\n",
    "seventies_df.drop(inplace = True, index = 433)\n",
    "seventies_df.drop(inplace = True, index = 2)\n",
    "seventies_df.drop(inplace = True \\\n",
    "                  , index = seventies_df.loc[ \\\n",
    "                                    seventies_df[' تصنيف الفيلم'] == 'ﺳﻴﺮﺓ ﺫاﺗﻴﺔ'].index)\n"
   ]
  },
  {
   "cell_type": "code",
   "execution_count": null,
   "metadata": {},
   "outputs": [],
   "source": [
    "seventies_df[seventies_df.duplicated(subset = ['اسم الفيلم'])]"
   ]
  },
  {
   "cell_type": "code",
   "execution_count": null,
   "metadata": {},
   "outputs": [],
   "source": [
    "seventies_df.loc[seventies_df[' تصنيف الفيلم'] == 'ﺧﻴﺎﻝ ﻋﻠﻤﻲ']"
   ]
  },
  {
   "cell_type": "code",
   "execution_count": null,
   "metadata": {},
   "outputs": [],
   "source": [
    "seventies_df.loc[seventies_df['اسم الفيلم'] == 'سيدتي الجميلة']"
   ]
  },
  {
   "cell_type": "code",
   "execution_count": null,
   "metadata": {},
   "outputs": [],
   "source": [
    "date_expanded_70s_df = expand_release_date(seventies_df)\n",
    "date_expanded_70s_df = unify_date_format(date_expanded_70s_df)"
   ]
  },
  {
   "cell_type": "code",
   "execution_count": null,
   "metadata": {},
   "outputs": [],
   "source": [
    "date_expanded_70s_df = date_expanded_70s_df.drop(columns=[' تاريخ العرض'])\n",
    "date_expanded_70s_df['التقييم'] = np.nan"
   ]
  },
  {
   "cell_type": "code",
   "execution_count": null,
   "metadata": {},
   "outputs": [],
   "source": [
    "date_expanded_70s_df.to_csv('1970s_data/date_expanded_1970s.csv')"
   ]
  },
  {
   "cell_type": "code",
   "execution_count": null,
   "metadata": {},
   "outputs": [],
   "source": [
    "foreign_filtered_df_70s = \\\n",
    "    filter_foregin_movies(date_expanded_70s_df, '1970s_data/1970s_countries.txt')"
   ]
  },
  {
   "cell_type": "code",
   "execution_count": null,
   "metadata": {},
   "outputs": [],
   "source": [
    "foreign_filtered_df_70s.to_csv('1970s_data/foreign_movies_filtered.csv')"
   ]
  },
  {
   "cell_type": "code",
   "execution_count": null,
   "metadata": {},
   "outputs": [],
   "source": [
    "ratings_added_1970s_df = add_scraped_features(foreign_filtered_df_70s \\\n",
    "                                    , '1970s_data/1970s_ratings.txt' \\\n",
    "                                    , 'التقييم')"
   ]
  },
  {
   "cell_type": "code",
   "execution_count": null,
   "metadata": {},
   "outputs": [],
   "source": [
    "ratings_added_1970s_df.to_csv('1970s_data/ratings_added_70s_df.csv')"
   ]
  },
  {
   "cell_type": "code",
   "execution_count": null,
   "metadata": {},
   "outputs": [],
   "source": [
    "genre_added_df_70s = add_scraped_features(ratings_added_1970s_df \\\n",
    "                                          , '1970s_data/1970s_genres.txt'\n",
    "                                         ,' تصنيف الفيلم')"
   ]
  },
  {
   "cell_type": "code",
   "execution_count": null,
   "metadata": {},
   "outputs": [],
   "source": [
    "synopses_added_70s_df = add_scraped_features(genre_added_df_70s \\\n",
    "                                          , '1970s_data/1970s_synopses.txt' \\\n",
    "                                         , ' ملخص')"
   ]
  },
  {
   "cell_type": "markdown",
   "metadata": {},
   "source": [
    "## So far, 1970s movies have their genres, ratings, and are filtered from foreign movies."
   ]
  },
  {
   "cell_type": "code",
   "execution_count": null,
   "metadata": {},
   "outputs": [],
   "source": [
    "foreigns_filtered_df_70s.to_csv('1970s_data/foreigns_filtered_df_70s.csv')"
   ]
  },
  {
   "cell_type": "code",
   "execution_count": null,
   "metadata": {},
   "outputs": [],
   "source": [
    "date_expanded_70s_df"
   ]
  },
  {
   "cell_type": "code",
   "execution_count": null,
   "metadata": {},
   "outputs": [],
   "source": [
    "date_expanded_70s_df.shape[0]"
   ]
  },
  {
   "cell_type": "code",
   "execution_count": null,
   "metadata": {
    "scrolled": false
   },
   "outputs": [],
   "source": []
  },
  {
   "cell_type": "code",
   "execution_count": null,
   "metadata": {},
   "outputs": [],
   "source": []
  },
  {
   "cell_type": "code",
   "execution_count": null,
   "metadata": {},
   "outputs": [],
   "source": []
  },
  {
   "cell_type": "code",
   "execution_count": null,
   "metadata": {},
   "outputs": [],
   "source": []
  }
 ],
 "metadata": {
  "kernelspec": {
   "display_name": "Python 3",
   "language": "python",
   "name": "python3"
  },
  "language_info": {
   "codemirror_mode": {
    "name": "ipython",
    "version": 3
   },
   "file_extension": ".py",
   "mimetype": "text/x-python",
   "name": "python",
   "nbconvert_exporter": "python",
   "pygments_lexer": "ipython3",
   "version": "3.7.3"
  }
 },
 "nbformat": 4,
 "nbformat_minor": 2
}
